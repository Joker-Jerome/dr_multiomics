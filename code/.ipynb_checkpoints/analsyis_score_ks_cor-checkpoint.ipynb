{
 "cells": [
  {
   "cell_type": "markdown",
   "metadata": {},
   "source": [
    "# anlaysis"
   ]
  },
  {
   "cell_type": "code",
   "execution_count": 2,
   "metadata": {},
   "outputs": [],
   "source": [
    "library(dplyr)\n",
    "library(data.table)"
   ]
  },
  {
   "cell_type": "code",
   "execution_count": 4,
   "metadata": {},
   "outputs": [],
   "source": [
    "source(\"ks_connectivity.R\")"
   ]
  },
  {
   "cell_type": "code",
   "execution_count": 4,
   "metadata": {},
   "outputs": [],
   "source": [
    "ln <- load(\"../../exp_res_ks_20191002.RData\")"
   ]
  },
  {
   "cell_type": "code",
   "execution_count": 6,
   "metadata": {},
   "outputs": [
    {
     "data": {
      "text/html": [
       "<ol class=list-inline>\n",
       "\t<li>'up_res_cc'</li>\n",
       "\t<li>'up_res_pair_ez'</li>\n",
       "\t<li>'down_res_cc'</li>\n",
       "\t<li>'down_res_pair_ez'</li>\n",
       "\t<li>'up_signature_df'</li>\n",
       "\t<li>'down_signature_df'</li>\n",
       "\t<li>'gene_rank_bing'</li>\n",
       "\t<li>'compound_name'</li>\n",
       "\t<li>'ks_score_df_cc'</li>\n",
       "\t<li>'ks_score_df_pair'</li>\n",
       "\t<li>'ks_score_df'</li>\n",
       "</ol>\n"
      ],
      "text/latex": [
       "\\begin{enumerate*}\n",
       "\\item 'up\\_res\\_cc'\n",
       "\\item 'up\\_res\\_pair\\_ez'\n",
       "\\item 'down\\_res\\_cc'\n",
       "\\item 'down\\_res\\_pair\\_ez'\n",
       "\\item 'up\\_signature\\_df'\n",
       "\\item 'down\\_signature\\_df'\n",
       "\\item 'gene\\_rank\\_bing'\n",
       "\\item 'compound\\_name'\n",
       "\\item 'ks\\_score\\_df\\_cc'\n",
       "\\item 'ks\\_score\\_df\\_pair'\n",
       "\\item 'ks\\_score\\_df'\n",
       "\\end{enumerate*}\n"
      ],
      "text/markdown": [
       "1. 'up_res_cc'\n",
       "2. 'up_res_pair_ez'\n",
       "3. 'down_res_cc'\n",
       "4. 'down_res_pair_ez'\n",
       "5. 'up_signature_df'\n",
       "6. 'down_signature_df'\n",
       "7. 'gene_rank_bing'\n",
       "8. 'compound_name'\n",
       "9. 'ks_score_df_cc'\n",
       "10. 'ks_score_df_pair'\n",
       "11. 'ks_score_df'\n",
       "\n",
       "\n"
      ],
      "text/plain": [
       " [1] \"up_res_cc\"         \"up_res_pair_ez\"    \"down_res_cc\"      \n",
       " [4] \"down_res_pair_ez\"  \"up_signature_df\"   \"down_signature_df\"\n",
       " [7] \"gene_rank_bing\"    \"compound_name\"     \"ks_score_df_cc\"   \n",
       "[10] \"ks_score_df_pair\"  \"ks_score_df\"      "
      ]
     },
     "metadata": {},
     "output_type": "display_data"
    }
   ],
   "source": [
    "ln\n"
   ]
  },
  {
   "cell_type": "code",
   "execution_count": 2,
   "metadata": {},
   "outputs": [],
   "source": [
    "# KS help function\n",
    ".ks <- function( V, n ) {\n",
    "  t <- length( V )\n",
    "  \n",
    "  if( t == 0 )  {\n",
    "    return( 0 )\n",
    "  } else {\n",
    "    \n",
    "    #if ( is.unsorted( V ) )\n",
    "    #  V <- sort( V )\n",
    "    d <- (1:t) / t - V / n\n",
    "    a <- max( d )\n",
    "    b <- -min( d ) + 1 / t\n",
    "    ifelse( a > b, a, -b )\n",
    "  }\n",
    "}\n",
    "\n",
    ".s <- function( V_up, V_down, n ) {\n",
    "  ks_up <- .ks( V_up, n )\n",
    "  ks_down <- .ks( V_down, n )\n",
    "  ifelse( sign( ks_up ) == sign( ks_down ), 0, ks_up - ks_down )\n",
    "}\n",
    "\n",
    ".S <- function( scores ) {\n",
    "  p <- max( scores )\n",
    "  q <- min( scores )\n",
    "  ifelse(\n",
    "         scores == 0,\n",
    "         0,\n",
    "         ifelse( scores > 0, scores / p, -scores / q )\n",
    "         )\n",
    "}"
   ]
  },
  {
   "cell_type": "code",
   "execution_count": 3,
   "metadata": {},
   "outputs": [],
   "source": [
    "ks_score <- function(up_signature, down_signature, rank_matrix, compound_name) {\n",
    "    n = 1\n",
    "    connectivity_score_vec <- c()\n",
    "    gene_rank_bing <- rank_matrix\n",
    "    for (i in 1:ncol(gene_rank_bing)) {\n",
    "        if (i %% 500 == 0)  { print(paste0(\"INFO: \", i, \" Instances.\"))}\n",
    "        pert_vec <- gene_rank_bing[, i]\n",
    "        up_signature <- up_signature[up_signature %in% pert_vec]   \n",
    "        down_signature <- down_signature[down_signature %in% pert_vec]\n",
    "        # get teh rank\n",
    "        up_v <- match(up_signature, pert_vec)\n",
    "        down_v <- match(down_signature, pert_vec)\n",
    "        tmp_s <- .s(up_v, down_v, nrow(gene_rank_bing))\n",
    "        connectivity_score_vec <- c(connectivity_score_vec, tmp_s)\n",
    "        \n",
    "    }\n",
    "    output_df <- data.frame(compound_name = compound_name, connectivity_score = connectivity_score_vec)\n",
    "    return(output_df)\n",
    "    \n",
    "}"
   ]
  },
  {
   "cell_type": "code",
   "execution_count": 5,
   "metadata": {},
   "outputs": [
    {
     "name": "stdout",
     "output_type": "stream",
     "text": [
      "[1] \"INFO: 500 Instances.\"\n",
      "[1] \"INFO: 1000 Instances.\"\n",
      "[1] \"INFO: 1500 Instances.\"\n",
      "[1] \"INFO: 2000 Instances.\"\n",
      "[1] \"INFO: 2500 Instances.\"\n",
      "[1] \"INFO: 3000 Instances.\"\n",
      "[1] \"INFO: 3500 Instances.\"\n",
      "[1] \"INFO: 4000 Instances.\"\n",
      "[1] \"INFO: 4500 Instances.\"\n",
      "[1] \"INFO: 5000 Instances.\"\n",
      "[1] \"INFO: 5500 Instances.\"\n"
     ]
    }
   ],
   "source": [
    "ks_score_vec <- ks_score(up_signature_df$entrezgene_id, down_signature_df$entrezgene_id, gene_rank_bing, compound_name)"
   ]
  },
  {
   "cell_type": "code",
   "execution_count": 25,
   "metadata": {},
   "outputs": [
    {
     "data": {
      "text/html": [
       "<table>\n",
       "<thead><tr><th scope=col>gene_id</th><th scope=col>log2FC</th><th scope=col>Paired_TTest.x</th><th scope=col>P_adjusted.x</th><th scope=col>entrezgene_id</th><th scope=col>ensembl_gene_id</th><th scope=col>nash_1</th><th scope=col>nash_3</th><th scope=col>nash_5</th><th scope=col>nash_6</th><th scope=col>⋯</th><th scope=col>nonash_11</th><th scope=col>nonash_13</th><th scope=col>nonash_14</th><th scope=col>nonash_15</th><th scope=col>nonash_16</th><th scope=col>nonash_19</th><th scope=col>nonash_20</th><th scope=col>logFC</th><th scope=col>Paired_TTest.y</th><th scope=col>P_adjusted.y</th></tr></thead>\n",
       "<tbody>\n",
       "\t<tr><td>IGFBP2              </td><td>2.0973080           </td><td>0.000202895105445194</td><td>0.012531722         </td><td>  3485              </td><td>ENSG00000115457     </td><td>5.52600986116163    </td><td>5.60623844775563    </td><td>5.80123838936584    </td><td>4.70580320806404    </td><td>⋯                   </td><td>7.60762971901251    </td><td>8.21710655454929    </td><td>6.05645424467979    </td><td>7.16480158201681    </td><td>6.88515902007004    </td><td>5.90900552371629    </td><td>5.92910472620911    </td><td>1.45374314504699    </td><td>0.000202895105445194</td><td>0.0125317222900259  </td></tr>\n",
       "\t<tr><td>CMYA5               </td><td>1.1595890           </td><td>0.000351286063494227</td><td>0.015516680         </td><td>202333              </td><td>ENSG00000164309     </td><td>5.10754545068052    </td><td>4.52639783134358    </td><td>5.06078860316949    </td><td>4.70682661957452    </td><td>⋯                   </td><td>5.44503180669064    </td><td>6.02702125102626    </td><td>4.41449391819054    </td><td>5.51407806636564    </td><td>5.69491675835204    </td><td>5.4191293368975     </td><td>5.32986323229981    </td><td>0.803765816041033   </td><td>0.000351286063494227</td><td>0.0155166800549362  </td></tr>\n",
       "\t<tr><td>CA14                </td><td>1.1577054           </td><td>7.21898619031281e-05</td><td>0.008572901         </td><td> 23632              </td><td>ENSG00000118298     </td><td>3.92695884103164    </td><td>4.52667728148627    </td><td>3.31228804446142    </td><td>3.7611840986548     </td><td>⋯                   </td><td>5.80102330076718    </td><td>5.28823434108233    </td><td>3.79072847009234    </td><td>4.65248678502784    </td><td>4.98535622245193    </td><td>4.64702533395229    </td><td>4.38276310543229    </td><td>0.802460236526014   </td><td>7.21898619031281e-05</td><td>0.0085729014070367  </td></tr>\n",
       "\t<tr><td>PPARA               </td><td>0.9425177           </td><td>3.8419130807681e-06 </td><td>0.003508627         </td><td>  5465              </td><td>ENSG00000186951     </td><td>7.09040716835301    </td><td>7.94337760121244    </td><td>7.06933213381294    </td><td>7.13154404430531    </td><td>⋯                   </td><td>7.8350016561528     </td><td>8.12317442534445    </td><td>7.90121126226443    </td><td>8.23448266748219    </td><td>7.70176370316113    </td><td>7.82085770678669    </td><td>7.71299357059367    </td><td>0.653303496229666   </td><td>3.8419130807681e-06 </td><td>0.00350862712101147 </td></tr>\n",
       "\t<tr><td>CYP1A2              </td><td>0.8565970           </td><td>0.00102640671975578 </td><td>0.026312026         </td><td>  1544              </td><td>ENSG00000140505     </td><td>9.34437946338902    </td><td>10.8478859370914    </td><td>11.040719491202     </td><td>10.1625169249533    </td><td>⋯                   </td><td>10.9719082267521    </td><td>11.5007525062132    </td><td>11.0083938173085    </td><td>10.5601374150956    </td><td>11.1931455636744    </td><td>10.9987028630248    </td><td>10.6536886036463    </td><td>0.593747788836952   </td><td>0.00102640671975578 </td><td>0.0263120262966165  </td></tr>\n",
       "\t<tr><td>CDH23               </td><td>0.8272671           </td><td>7.71817164972887e-05</td><td>0.008742475         </td><td> 64072              </td><td>ENSG00000107736     </td><td>5.23963135189243    </td><td>6.22435109678499    </td><td>5.37161154805623    </td><td>5.10531271851035    </td><td>⋯                   </td><td>5.99937447328316    </td><td>5.50561453595297    </td><td>5.26636501596013    </td><td>6.00836272358323    </td><td>6.1225297657928     </td><td>5.52887612781896    </td><td>5.65554151422607    </td><td>0.573417879203735   </td><td>7.71817164972887e-05</td><td>0.00874247473998747 </td></tr>\n",
       "</tbody>\n",
       "</table>\n"
      ],
      "text/latex": [
       "\\begin{tabular}{r|lllllllllllllllllllllllllllllllllllll}\n",
       " gene\\_id & log2FC & Paired\\_TTest.x & P\\_adjusted.x & entrezgene\\_id & ensembl\\_gene\\_id & nash\\_1 & nash\\_3 & nash\\_5 & nash\\_6 & ⋯ & nonash\\_11 & nonash\\_13 & nonash\\_14 & nonash\\_15 & nonash\\_16 & nonash\\_19 & nonash\\_20 & logFC & Paired\\_TTest.y & P\\_adjusted.y\\\\\n",
       "\\hline\n",
       "\t IGFBP2               & 2.0973080            & 0.000202895105445194 & 0.012531722          &   3485               & ENSG00000115457      & 5.52600986116163     & 5.60623844775563     & 5.80123838936584     & 4.70580320806404     & ⋯                    & 7.60762971901251     & 8.21710655454929     & 6.05645424467979     & 7.16480158201681     & 6.88515902007004     & 5.90900552371629     & 5.92910472620911     & 1.45374314504699     & 0.000202895105445194 & 0.0125317222900259  \\\\\n",
       "\t CMYA5                & 1.1595890            & 0.000351286063494227 & 0.015516680          & 202333               & ENSG00000164309      & 5.10754545068052     & 4.52639783134358     & 5.06078860316949     & 4.70682661957452     & ⋯                    & 5.44503180669064     & 6.02702125102626     & 4.41449391819054     & 5.51407806636564     & 5.69491675835204     & 5.4191293368975      & 5.32986323229981     & 0.803765816041033    & 0.000351286063494227 & 0.0155166800549362  \\\\\n",
       "\t CA14                 & 1.1577054            & 7.21898619031281e-05 & 0.008572901          &  23632               & ENSG00000118298      & 3.92695884103164     & 4.52667728148627     & 3.31228804446142     & 3.7611840986548      & ⋯                    & 5.80102330076718     & 5.28823434108233     & 3.79072847009234     & 4.65248678502784     & 4.98535622245193     & 4.64702533395229     & 4.38276310543229     & 0.802460236526014    & 7.21898619031281e-05 & 0.0085729014070367  \\\\\n",
       "\t PPARA                & 0.9425177            & 3.8419130807681e-06  & 0.003508627          &   5465               & ENSG00000186951      & 7.09040716835301     & 7.94337760121244     & 7.06933213381294     & 7.13154404430531     & ⋯                    & 7.8350016561528      & 8.12317442534445     & 7.90121126226443     & 8.23448266748219     & 7.70176370316113     & 7.82085770678669     & 7.71299357059367     & 0.653303496229666    & 3.8419130807681e-06  & 0.00350862712101147 \\\\\n",
       "\t CYP1A2               & 0.8565970            & 0.00102640671975578  & 0.026312026          &   1544               & ENSG00000140505      & 9.34437946338902     & 10.8478859370914     & 11.040719491202      & 10.1625169249533     & ⋯                    & 10.9719082267521     & 11.5007525062132     & 11.0083938173085     & 10.5601374150956     & 11.1931455636744     & 10.9987028630248     & 10.6536886036463     & 0.593747788836952    & 0.00102640671975578  & 0.0263120262966165  \\\\\n",
       "\t CDH23                & 0.8272671            & 7.71817164972887e-05 & 0.008742475          &  64072               & ENSG00000107736      & 5.23963135189243     & 6.22435109678499     & 5.37161154805623     & 5.10531271851035     & ⋯                    & 5.99937447328316     & 5.50561453595297     & 5.26636501596013     & 6.00836272358323     & 6.1225297657928      & 5.52887612781896     & 5.65554151422607     & 0.573417879203735    & 7.71817164972887e-05 & 0.00874247473998747 \\\\\n",
       "\\end{tabular}\n"
      ],
      "text/markdown": [
       "\n",
       "gene_id | log2FC | Paired_TTest.x | P_adjusted.x | entrezgene_id | ensembl_gene_id | nash_1 | nash_3 | nash_5 | nash_6 | ⋯ | nonash_11 | nonash_13 | nonash_14 | nonash_15 | nonash_16 | nonash_19 | nonash_20 | logFC | Paired_TTest.y | P_adjusted.y | \n",
       "|---|---|---|---|---|---|\n",
       "| IGFBP2               | 2.0973080            | 0.000202895105445194 | 0.012531722          |   3485               | ENSG00000115457      | 5.52600986116163     | 5.60623844775563     | 5.80123838936584     | 4.70580320806404     | ⋯                    | 7.60762971901251     | 8.21710655454929     | 6.05645424467979     | 7.16480158201681     | 6.88515902007004     | 5.90900552371629     | 5.92910472620911     | 1.45374314504699     | 0.000202895105445194 | 0.0125317222900259   | \n",
       "| CMYA5                | 1.1595890            | 0.000351286063494227 | 0.015516680          | 202333               | ENSG00000164309      | 5.10754545068052     | 4.52639783134358     | 5.06078860316949     | 4.70682661957452     | ⋯                    | 5.44503180669064     | 6.02702125102626     | 4.41449391819054     | 5.51407806636564     | 5.69491675835204     | 5.4191293368975      | 5.32986323229981     | 0.803765816041033    | 0.000351286063494227 | 0.0155166800549362   | \n",
       "| CA14                 | 1.1577054            | 7.21898619031281e-05 | 0.008572901          |  23632               | ENSG00000118298      | 3.92695884103164     | 4.52667728148627     | 3.31228804446142     | 3.7611840986548      | ⋯                    | 5.80102330076718     | 5.28823434108233     | 3.79072847009234     | 4.65248678502784     | 4.98535622245193     | 4.64702533395229     | 4.38276310543229     | 0.802460236526014    | 7.21898619031281e-05 | 0.0085729014070367   | \n",
       "| PPARA                | 0.9425177            | 3.8419130807681e-06  | 0.003508627          |   5465               | ENSG00000186951      | 7.09040716835301     | 7.94337760121244     | 7.06933213381294     | 7.13154404430531     | ⋯                    | 7.8350016561528      | 8.12317442534445     | 7.90121126226443     | 8.23448266748219     | 7.70176370316113     | 7.82085770678669     | 7.71299357059367     | 0.653303496229666    | 3.8419130807681e-06  | 0.00350862712101147  | \n",
       "| CYP1A2               | 0.8565970            | 0.00102640671975578  | 0.026312026          |   1544               | ENSG00000140505      | 9.34437946338902     | 10.8478859370914     | 11.040719491202      | 10.1625169249533     | ⋯                    | 10.9719082267521     | 11.5007525062132     | 11.0083938173085     | 10.5601374150956     | 11.1931455636744     | 10.9987028630248     | 10.6536886036463     | 0.593747788836952    | 0.00102640671975578  | 0.0263120262966165   | \n",
       "| CDH23                | 0.8272671            | 7.71817164972887e-05 | 0.008742475          |  64072               | ENSG00000107736      | 5.23963135189243     | 6.22435109678499     | 5.37161154805623     | 5.10531271851035     | ⋯                    | 5.99937447328316     | 5.50561453595297     | 5.26636501596013     | 6.00836272358323     | 6.1225297657928      | 5.52887612781896     | 5.65554151422607     | 0.573417879203735    | 7.71817164972887e-05 | 0.00874247473998747  | \n",
       "\n",
       "\n"
      ],
      "text/plain": [
       "  gene_id log2FC    Paired_TTest.x       P_adjusted.x entrezgene_id\n",
       "1 IGFBP2  2.0973080 0.000202895105445194 0.012531722    3485       \n",
       "2 CMYA5   1.1595890 0.000351286063494227 0.015516680  202333       \n",
       "3 CA14    1.1577054 7.21898619031281e-05 0.008572901   23632       \n",
       "4 PPARA   0.9425177 3.8419130807681e-06  0.003508627    5465       \n",
       "5 CYP1A2  0.8565970 0.00102640671975578  0.026312026    1544       \n",
       "6 CDH23   0.8272671 7.71817164972887e-05 0.008742475   64072       \n",
       "  ensembl_gene_id nash_1           nash_3           nash_5          \n",
       "1 ENSG00000115457 5.52600986116163 5.60623844775563 5.80123838936584\n",
       "2 ENSG00000164309 5.10754545068052 4.52639783134358 5.06078860316949\n",
       "3 ENSG00000118298 3.92695884103164 4.52667728148627 3.31228804446142\n",
       "4 ENSG00000186951 7.09040716835301 7.94337760121244 7.06933213381294\n",
       "5 ENSG00000140505 9.34437946338902 10.8478859370914 11.040719491202 \n",
       "6 ENSG00000107736 5.23963135189243 6.22435109678499 5.37161154805623\n",
       "  nash_6           ⋯ nonash_11        nonash_13        nonash_14       \n",
       "1 4.70580320806404 ⋯ 7.60762971901251 8.21710655454929 6.05645424467979\n",
       "2 4.70682661957452 ⋯ 5.44503180669064 6.02702125102626 4.41449391819054\n",
       "3 3.7611840986548  ⋯ 5.80102330076718 5.28823434108233 3.79072847009234\n",
       "4 7.13154404430531 ⋯ 7.8350016561528  8.12317442534445 7.90121126226443\n",
       "5 10.1625169249533 ⋯ 10.9719082267521 11.5007525062132 11.0083938173085\n",
       "6 5.10531271851035 ⋯ 5.99937447328316 5.50561453595297 5.26636501596013\n",
       "  nonash_15        nonash_16        nonash_19        nonash_20       \n",
       "1 7.16480158201681 6.88515902007004 5.90900552371629 5.92910472620911\n",
       "2 5.51407806636564 5.69491675835204 5.4191293368975  5.32986323229981\n",
       "3 4.65248678502784 4.98535622245193 4.64702533395229 4.38276310543229\n",
       "4 8.23448266748219 7.70176370316113 7.82085770678669 7.71299357059367\n",
       "5 10.5601374150956 11.1931455636744 10.9987028630248 10.6536886036463\n",
       "6 6.00836272358323 6.1225297657928  5.52887612781896 5.65554151422607\n",
       "  logFC             Paired_TTest.y       P_adjusted.y       \n",
       "1 1.45374314504699  0.000202895105445194 0.0125317222900259 \n",
       "2 0.803765816041033 0.000351286063494227 0.0155166800549362 \n",
       "3 0.802460236526014 7.21898619031281e-05 0.0085729014070367 \n",
       "4 0.653303496229666 3.8419130807681e-06  0.00350862712101147\n",
       "5 0.593747788836952 0.00102640671975578  0.0263120262966165 \n",
       "6 0.573417879203735 7.71817164972887e-05 0.00874247473998747"
      ]
     },
     "metadata": {},
     "output_type": "display_data"
    }
   ],
   "source": [
    "head(up_signature_df)"
   ]
  },
  {
   "cell_type": "code",
   "execution_count": null,
   "metadata": {},
   "outputs": [],
   "source": []
  },
  {
   "cell_type": "code",
   "execution_count": 6,
   "metadata": {},
   "outputs": [
    {
     "data": {
      "text/html": [
       "<table>\n",
       "<thead><tr><th scope=col>compound_name</th><th scope=col>connectivity_score</th></tr></thead>\n",
       "<tbody>\n",
       "\t<tr><td>rutin           </td><td> 1.885672       </td></tr>\n",
       "\t<tr><td>tyrphostin-AG-82</td><td> 0.000000       </td></tr>\n",
       "\t<tr><td>AG-957          </td><td> 0.000000       </td></tr>\n",
       "\t<tr><td>alaproclate     </td><td> 1.924409       </td></tr>\n",
       "\t<tr><td>albendazole     </td><td> 0.000000       </td></tr>\n",
       "\t<tr><td>alclometasone   </td><td>-1.766389       </td></tr>\n",
       "</tbody>\n",
       "</table>\n"
      ],
      "text/latex": [
       "\\begin{tabular}{r|ll}\n",
       " compound\\_name & connectivity\\_score\\\\\n",
       "\\hline\n",
       "\t rutin            &  1.885672       \\\\\n",
       "\t tyrphostin-AG-82 &  0.000000       \\\\\n",
       "\t AG-957           &  0.000000       \\\\\n",
       "\t alaproclate      &  1.924409       \\\\\n",
       "\t albendazole      &  0.000000       \\\\\n",
       "\t alclometasone    & -1.766389       \\\\\n",
       "\\end{tabular}\n"
      ],
      "text/markdown": [
       "\n",
       "compound_name | connectivity_score | \n",
       "|---|---|---|---|---|---|\n",
       "| rutin            |  1.885672        | \n",
       "| tyrphostin-AG-82 |  0.000000        | \n",
       "| AG-957           |  0.000000        | \n",
       "| alaproclate      |  1.924409        | \n",
       "| albendazole      |  0.000000        | \n",
       "| alclometasone    | -1.766389        | \n",
       "\n",
       "\n"
      ],
      "text/plain": [
       "  compound_name    connectivity_score\n",
       "1 rutin             1.885672         \n",
       "2 tyrphostin-AG-82  0.000000         \n",
       "3 AG-957            0.000000         \n",
       "4 alaproclate       1.924409         \n",
       "5 albendazole       0.000000         \n",
       "6 alclometasone    -1.766389         "
      ]
     },
     "metadata": {},
     "output_type": "display_data"
    }
   ],
   "source": [
    "head(ks_score_vec)"
   ]
  },
  {
   "cell_type": "code",
   "execution_count": 8,
   "metadata": {},
   "outputs": [
    {
     "data": {
      "text/html": [
       "<table>\n",
       "<thead><tr><th scope=col>compound_name</th><th scope=col>connectivity_score</th></tr></thead>\n",
       "<tbody>\n",
       "\t<tr><td>rutin           </td><td> 0.1765889      </td></tr>\n",
       "\t<tr><td>tyrphostin-AG-82</td><td> 0.1579521      </td></tr>\n",
       "\t<tr><td>AG-957          </td><td>-0.1862921      </td></tr>\n",
       "\t<tr><td>alaproclate     </td><td> 0.0000000      </td></tr>\n",
       "\t<tr><td>albendazole     </td><td>-0.3197563      </td></tr>\n",
       "\t<tr><td>alclometasone   </td><td> 0.0000000      </td></tr>\n",
       "</tbody>\n",
       "</table>\n"
      ],
      "text/latex": [
       "\\begin{tabular}{r|ll}\n",
       " compound\\_name & connectivity\\_score\\\\\n",
       "\\hline\n",
       "\t rutin            &  0.1765889      \\\\\n",
       "\t tyrphostin-AG-82 &  0.1579521      \\\\\n",
       "\t AG-957           & -0.1862921      \\\\\n",
       "\t alaproclate      &  0.0000000      \\\\\n",
       "\t albendazole      & -0.3197563      \\\\\n",
       "\t alclometasone    &  0.0000000      \\\\\n",
       "\\end{tabular}\n"
      ],
      "text/markdown": [
       "\n",
       "compound_name | connectivity_score | \n",
       "|---|---|---|---|---|---|\n",
       "| rutin            |  0.1765889       | \n",
       "| tyrphostin-AG-82 |  0.1579521       | \n",
       "| AG-957           | -0.1862921       | \n",
       "| alaproclate      |  0.0000000       | \n",
       "| albendazole      | -0.3197563       | \n",
       "| alclometasone    |  0.0000000       | \n",
       "\n",
       "\n"
      ],
      "text/plain": [
       "  compound_name    connectivity_score\n",
       "1 rutin             0.1765889        \n",
       "2 tyrphostin-AG-82  0.1579521        \n",
       "3 AG-957           -0.1862921        \n",
       "4 alaproclate       0.0000000        \n",
       "5 albendazole      -0.3197563        \n",
       "6 alclometasone     0.0000000        "
      ]
     },
     "metadata": {},
     "output_type": "display_data"
    }
   ],
   "source": [
    "head(ks_score_vec)"
   ]
  },
  {
   "cell_type": "code",
   "execution_count": 9,
   "metadata": {},
   "outputs": [
    {
     "data": {
      "text/html": [
       "<table>\n",
       "<thead><tr><th scope=col>compound_name</th><th scope=col>connectivity_score</th></tr></thead>\n",
       "<tbody>\n",
       "\t<tr><td>BRD-K02269790</td><td>0.5270061    </td></tr>\n",
       "\t<tr><td>PD-0325901   </td><td>0.5120179    </td></tr>\n",
       "\t<tr><td>BRD-K92981876</td><td>0.5014134    </td></tr>\n",
       "\t<tr><td>atorvastatin </td><td>0.4960147    </td></tr>\n",
       "\t<tr><td>domperidone  </td><td>0.4903424    </td></tr>\n",
       "\t<tr><td>tamoxifen    </td><td>0.4766998    </td></tr>\n",
       "</tbody>\n",
       "</table>\n"
      ],
      "text/latex": [
       "\\begin{tabular}{r|ll}\n",
       " compound\\_name & connectivity\\_score\\\\\n",
       "\\hline\n",
       "\t BRD-K02269790 & 0.5270061    \\\\\n",
       "\t PD-0325901    & 0.5120179    \\\\\n",
       "\t BRD-K92981876 & 0.5014134    \\\\\n",
       "\t atorvastatin  & 0.4960147    \\\\\n",
       "\t domperidone   & 0.4903424    \\\\\n",
       "\t tamoxifen     & 0.4766998    \\\\\n",
       "\\end{tabular}\n"
      ],
      "text/markdown": [
       "\n",
       "compound_name | connectivity_score | \n",
       "|---|---|---|---|---|---|\n",
       "| BRD-K02269790 | 0.5270061     | \n",
       "| PD-0325901    | 0.5120179     | \n",
       "| BRD-K92981876 | 0.5014134     | \n",
       "| atorvastatin  | 0.4960147     | \n",
       "| domperidone   | 0.4903424     | \n",
       "| tamoxifen     | 0.4766998     | \n",
       "\n",
       "\n"
      ],
      "text/plain": [
       "  compound_name connectivity_score\n",
       "1 BRD-K02269790 0.5270061         \n",
       "2 PD-0325901    0.5120179         \n",
       "3 BRD-K92981876 0.5014134         \n",
       "4 atorvastatin  0.4960147         \n",
       "5 domperidone   0.4903424         \n",
       "6 tamoxifen     0.4766998         "
      ]
     },
     "metadata": {},
     "output_type": "display_data"
    }
   ],
   "source": [
    "head(ks_score_df)"
   ]
  },
  {
   "cell_type": "code",
   "execution_count": 11,
   "metadata": {},
   "outputs": [
    {
     "data": {
      "text/html": [
       "<ol class=list-inline>\n",
       "\t<li>221</li>\n",
       "\t<li>2</li>\n",
       "</ol>\n"
      ],
      "text/latex": [
       "\\begin{enumerate*}\n",
       "\\item 221\n",
       "\\item 2\n",
       "\\end{enumerate*}\n"
      ],
      "text/markdown": [
       "1. 221\n",
       "2. 2\n",
       "\n",
       "\n"
      ],
      "text/plain": [
       "[1] 221   2"
      ]
     },
     "metadata": {},
     "output_type": "display_data"
    }
   ],
   "source": [
    "dim(ks_score_vec[which(ks_score_vec$connectivity_score > 1.9), ])"
   ]
  },
  {
   "cell_type": "code",
   "execution_count": 14,
   "metadata": {},
   "outputs": [
    {
     "data": {
      "text/html": [
       "<table>\n",
       "<thead><tr><th></th><th scope=col>compound_name</th><th scope=col>connectivity_score</th></tr></thead>\n",
       "<tbody>\n",
       "\t<tr><th scope=row>684</th><td>atorvastatin</td><td>1.700665    </td></tr>\n",
       "\t<tr><th scope=row>4602</th><td>atorvastatin</td><td>1.850435    </td></tr>\n",
       "\t<tr><th scope=row>4603</th><td>atorvastatin</td><td>1.938382    </td></tr>\n",
       "\t<tr><th scope=row>4866</th><td>atorvastatin</td><td>0.000000    </td></tr>\n",
       "\t<tr><th scope=row>4867</th><td>atorvastatin</td><td>1.878150    </td></tr>\n",
       "</tbody>\n",
       "</table>\n"
      ],
      "text/latex": [
       "\\begin{tabular}{r|ll}\n",
       "  & compound\\_name & connectivity\\_score\\\\\n",
       "\\hline\n",
       "\t684 & atorvastatin & 1.700665    \\\\\n",
       "\t4602 & atorvastatin & 1.850435    \\\\\n",
       "\t4603 & atorvastatin & 1.938382    \\\\\n",
       "\t4866 & atorvastatin & 0.000000    \\\\\n",
       "\t4867 & atorvastatin & 1.878150    \\\\\n",
       "\\end{tabular}\n"
      ],
      "text/markdown": [
       "\n",
       "| <!--/--> | compound_name | connectivity_score | \n",
       "|---|---|---|---|---|\n",
       "| 684 | atorvastatin | 1.700665     | \n",
       "| 4602 | atorvastatin | 1.850435     | \n",
       "| 4603 | atorvastatin | 1.938382     | \n",
       "| 4866 | atorvastatin | 0.000000     | \n",
       "| 4867 | atorvastatin | 1.878150     | \n",
       "\n",
       "\n"
      ],
      "text/plain": [
       "     compound_name connectivity_score\n",
       "684  atorvastatin  1.700665          \n",
       "4602 atorvastatin  1.850435          \n",
       "4603 atorvastatin  1.938382          \n",
       "4866 atorvastatin  0.000000          \n",
       "4867 atorvastatin  1.878150          "
      ]
     },
     "metadata": {},
     "output_type": "display_data"
    }
   ],
   "source": [
    "ks_score_vec[which(ks_score_vec$compound_name == \"atorvastatin\"), ]"
   ]
  },
  {
   "cell_type": "code",
   "execution_count": 17,
   "metadata": {},
   "outputs": [
    {
     "data": {
      "text/html": [
       "<ol class=list-inline>\n",
       "\t<li>649</li>\n",
       "\t<li>2</li>\n",
       "</ol>\n"
      ],
      "text/latex": [
       "\\begin{enumerate*}\n",
       "\\item 649\n",
       "\\item 2\n",
       "\\end{enumerate*}\n"
      ],
      "text/markdown": [
       "1. 649\n",
       "2. 2\n",
       "\n",
       "\n"
      ],
      "text/plain": [
       "[1] 649   2"
      ]
     },
     "metadata": {},
     "output_type": "display_data"
    }
   ],
   "source": [
    "dim(ks_score_vec[which(ks_score_vec$connectivity_score > 1.85), ])"
   ]
  },
  {
   "cell_type": "code",
   "execution_count": 11,
   "metadata": {},
   "outputs": [
    {
     "data": {
      "text/html": [
       "0"
      ],
      "text/latex": [
       "0"
      ],
      "text/markdown": [
       "0"
      ],
      "text/plain": [
       "[1] 0"
      ]
     },
     "metadata": {},
     "output_type": "display_data"
    }
   ],
   "source": [
    "#\n",
    "up_signature <- up_signature_df$entrezgene_id\n",
    "down_signature <- down_signature_df$entrezgene_id\n",
    "i = which(ks_score_vec == 0.4960147)\n",
    "pert_vec <- gene_rank_bing[, i]\n",
    "up_signature <- up_signature[up_signature %in% pert_vec]   \n",
    "down_signature <- down_signature[down_signature %in% pert_vec]\n",
    "# get teh rank\n",
    "up_v <- match(up_signature, pert_vec)\n",
    "down_v <- match(down_signature, pert_vec)\n",
    "tmp_s <- .s(up_v, down_v, nrow(gene_rank_bing))\n",
    "tmp_s\n",
    "        \n"
   ]
  },
  {
   "cell_type": "code",
   "execution_count": 23,
   "metadata": {},
   "outputs": [],
   "source": [
    "library(dplyr)\n",
    "check_overlap <- function(gsea_df, nash_drugs) {\n",
    "    gsea_df <- gsea_df %>% arrange(desc(connectivity_score))\n",
    "    lincs_drugs <- tolower(gsea_df$compound_name)\n",
    "\n",
    "    midx <- na.omit(match(nash_drugs, lincs_drugs))\n",
    "    overlapped_drugs <- lincs_drugs[midx]\n",
    "    sum_overlap <- ifelse(lincs_drugs %in% overlapped_drugs, 1, 0)\n",
    "    #sum_overlap_top5 <- ifelse(lincs_drugs[(5774-289+1):5774] %in% overlapped_drugs, 1, 0)\n",
    "    sum_overlap_top5 <- ifelse(lincs_drugs[1:289] %in% overlapped_drugs, 1, 0)\n",
    "    #sum_overlap_top10 <- ifelse(lincs_drugs[(5774-578+1):5774] %in% overlapped_drugs, 1, 0)\n",
    "    sum_overlap_top10 <- ifelse(lincs_drugs[1:578] %in% overlapped_drugs, 1, 0)\n",
    "    sum_overlap_top_all <- ifelse(lincs_drugs %in% overlapped_drugs, 1, 0)\n",
    "    return(c(sum(sum_overlap_top5), sum(sum_overlap_top10)))\n",
    "}\n",
    "\n",
    "drug_str <- \"ACARBOSE AMLODIPINE ATORVASTATIN BETAINE CAFFEINE CENICRIVIROC CHOLECALCIFEROL DABIGATRAN DAPAGLIFLOZIN EMRICASAN ERGOCALCIFEROL EXENATIDE EZETIMIBE FENOFIBRATE GLIMEPIRIDE INSULIN GLARGINE INSULIN HUMAN PRADIGASTAT K-877 PX-102 LIRAGLUTIDE QUINIDINE LOSARTAN ROFLUMILAST METFORMIN ROSIGLITAZONE METRELEPTIN ROSUVASTATIN MGL-3196 SELADELPAR MIDAZOLAM SELONSERTIB SEMAGLUTIDE MT-3995 MUROMONAB-CD3 SIMTUZUMAB NAMODENOSON SITAGUPTIN NIVOCASAN SPIRONOLACTONE OBETICHOLIC ACID TELMISARTAN PENTOXIFYLUNE TOFOGLIFLOZIN PERINDOPRIL URSODIOL PIOGLITAZONE\"\n",
    "\n",
    "nash_drugs <- tolower(unlist(stringr::str_split(drug_str, \" \")))"
   ]
  },
  {
   "cell_type": "code",
   "execution_count": 68,
   "metadata": {},
   "outputs": [
    {
     "data": {
      "text/html": [
       "<ol class=list-inline>\n",
       "\t<li>2</li>\n",
       "\t<li>4</li>\n",
       "</ol>\n"
      ],
      "text/latex": [
       "\\begin{enumerate*}\n",
       "\\item 2\n",
       "\\item 4\n",
       "\\end{enumerate*}\n"
      ],
      "text/markdown": [
       "1. 2\n",
       "2. 4\n",
       "\n",
       "\n"
      ],
      "text/plain": [
       "[1] 2 4"
      ]
     },
     "metadata": {},
     "output_type": "display_data"
    }
   ],
   "source": [
    "check_overlap(ks_score_vec, nash_drugs)"
   ]
  },
  {
   "cell_type": "code",
   "execution_count": 52,
   "metadata": {},
   "outputs": [
    {
     "data": {
      "text/html": [
       "<ol class=list-inline>\n",
       "\t<li>11</li>\n",
       "\t<li>12</li>\n",
       "</ol>\n"
      ],
      "text/latex": [
       "\\begin{enumerate*}\n",
       "\\item 11\n",
       "\\item 12\n",
       "\\end{enumerate*}\n"
      ],
      "text/markdown": [
       "1. 11\n",
       "2. 12\n",
       "\n",
       "\n"
      ],
      "text/plain": [
       "[1] 11 12"
      ]
     },
     "metadata": {},
     "output_type": "display_data"
    }
   ],
   "source": [
    "check_overlap(ks_score_df, nash_drugs)"
   ]
  },
  {
   "cell_type": "code",
   "execution_count": 65,
   "metadata": {},
   "outputs": [],
   "source": [
    "gsea_df <- ks_score_vec %>% arrange(desc(connectivity_score))\n",
    "lincs_drugs <- tolower(gsea_df$compound_name)\n",
    "midx <- na.omit(match(nash_drugs, lincs_drugs))\n",
    "overlapped_drugs <- lincs_drugs[midx]"
   ]
  },
  {
   "cell_type": "code",
   "execution_count": 66,
   "metadata": {},
   "outputs": [
    {
     "data": {
      "text/html": [
       "<ol class=list-inline>\n",
       "\t<li>'acarbose'</li>\n",
       "\t<li>'amlodipine'</li>\n",
       "\t<li>'atorvastatin'</li>\n",
       "\t<li>'caffeine'</li>\n",
       "\t<li>'ezetimibe'</li>\n",
       "\t<li>'fenofibrate'</li>\n",
       "\t<li>'glimepiride'</li>\n",
       "\t<li>'quinidine'</li>\n",
       "\t<li>'losartan'</li>\n",
       "\t<li>'rosiglitazone'</li>\n",
       "\t<li>'rosuvastatin'</li>\n",
       "\t<li>'spironolactone'</li>\n",
       "\t<li>'telmisartan'</li>\n",
       "\t<li>'perindopril'</li>\n",
       "\t<li>'pioglitazone'</li>\n",
       "</ol>\n"
      ],
      "text/latex": [
       "\\begin{enumerate*}\n",
       "\\item 'acarbose'\n",
       "\\item 'amlodipine'\n",
       "\\item 'atorvastatin'\n",
       "\\item 'caffeine'\n",
       "\\item 'ezetimibe'\n",
       "\\item 'fenofibrate'\n",
       "\\item 'glimepiride'\n",
       "\\item 'quinidine'\n",
       "\\item 'losartan'\n",
       "\\item 'rosiglitazone'\n",
       "\\item 'rosuvastatin'\n",
       "\\item 'spironolactone'\n",
       "\\item 'telmisartan'\n",
       "\\item 'perindopril'\n",
       "\\item 'pioglitazone'\n",
       "\\end{enumerate*}\n"
      ],
      "text/markdown": [
       "1. 'acarbose'\n",
       "2. 'amlodipine'\n",
       "3. 'atorvastatin'\n",
       "4. 'caffeine'\n",
       "5. 'ezetimibe'\n",
       "6. 'fenofibrate'\n",
       "7. 'glimepiride'\n",
       "8. 'quinidine'\n",
       "9. 'losartan'\n",
       "10. 'rosiglitazone'\n",
       "11. 'rosuvastatin'\n",
       "12. 'spironolactone'\n",
       "13. 'telmisartan'\n",
       "14. 'perindopril'\n",
       "15. 'pioglitazone'\n",
       "\n",
       "\n"
      ],
      "text/plain": [
       " [1] \"acarbose\"       \"amlodipine\"     \"atorvastatin\"   \"caffeine\"      \n",
       " [5] \"ezetimibe\"      \"fenofibrate\"    \"glimepiride\"    \"quinidine\"     \n",
       " [9] \"losartan\"       \"rosiglitazone\"  \"rosuvastatin\"   \"spironolactone\"\n",
       "[13] \"telmisartan\"    \"perindopril\"    \"pioglitazone\"  "
      ]
     },
     "metadata": {},
     "output_type": "display_data"
    }
   ],
   "source": [
    "overlapped_drugs"
   ]
  },
  {
   "cell_type": "code",
   "execution_count": 67,
   "metadata": {},
   "outputs": [
    {
     "data": {
      "text/html": [
       "2"
      ],
      "text/latex": [
       "2"
      ],
      "text/markdown": [
       "2"
      ],
      "text/plain": [
       "[1] 2"
      ]
     },
     "metadata": {},
     "output_type": "display_data"
    }
   ],
   "source": [
    "sum(ifelse(lincs_drugs[1:289] %in% overlapped_drugs, 1, 0))"
   ]
  },
  {
   "cell_type": "markdown",
   "metadata": {},
   "source": [
    "### Rank based on p adjusted "
   ]
  },
  {
   "cell_type": "code",
   "execution_count": null,
   "metadata": {},
   "outputs": [],
   "source": []
  },
  {
   "cell_type": "code",
   "execution_count": 26,
   "metadata": {},
   "outputs": [],
   "source": [
    "up_signature_df_pvalue <- up_signature_df %>% arrange(P_adjusted.x)\n",
    "down_signature_df_pvalue <- down_signature_df %>% arrange(P_adjusted.x)"
   ]
  },
  {
   "cell_type": "code",
   "execution_count": 28,
   "metadata": {},
   "outputs": [
    {
     "name": "stdout",
     "output_type": "stream",
     "text": [
      "[1] \"INFO: 500 Instances.\"\n",
      "[1] \"INFO: 1000 Instances.\"\n",
      "[1] \"INFO: 1500 Instances.\"\n",
      "[1] \"INFO: 2000 Instances.\"\n",
      "[1] \"INFO: 2500 Instances.\"\n",
      "[1] \"INFO: 3000 Instances.\"\n",
      "[1] \"INFO: 3500 Instances.\"\n",
      "[1] \"INFO: 4000 Instances.\"\n",
      "[1] \"INFO: 4500 Instances.\"\n",
      "[1] \"INFO: 5000 Instances.\"\n",
      "[1] \"INFO: 5500 Instances.\"\n"
     ]
    }
   ],
   "source": [
    "ks_score_vec_p <- ks_score(up_signature_df_pvalue$entrezgene_id, down_signature_df_pvalue$entrezgene_id, gene_rank_bing, compound_name)"
   ]
  },
  {
   "cell_type": "code",
   "execution_count": 33,
   "metadata": {},
   "outputs": [],
   "source": [
    "ks_score_vec_p <- ks_score_vec_p %>% arrange(desc(connectivity_score)) "
   ]
  },
  {
   "cell_type": "code",
   "execution_count": 34,
   "metadata": {},
   "outputs": [
    {
     "data": {
      "text/html": [
       "<ol class=list-inline>\n",
       "\t<li>1</li>\n",
       "\t<li>3</li>\n",
       "</ol>\n"
      ],
      "text/latex": [
       "\\begin{enumerate*}\n",
       "\\item 1\n",
       "\\item 3\n",
       "\\end{enumerate*}\n"
      ],
      "text/markdown": [
       "1. 1\n",
       "2. 3\n",
       "\n",
       "\n"
      ],
      "text/plain": [
       "[1] 1 3"
      ]
     },
     "metadata": {},
     "output_type": "display_data"
    }
   ],
   "source": [
    "check_overlap(ks_score_vec_p, nash_drugs)"
   ]
  },
  {
   "cell_type": "code",
   "execution_count": 39,
   "metadata": {},
   "outputs": [
    {
     "data": {
      "text/html": [
       "<table>\n",
       "<thead><tr><th></th><th scope=col>compound_name</th><th scope=col>connectivity_score</th></tr></thead>\n",
       "<tbody>\n",
       "\t<tr><th scope=row>592</th><td>atorvastatin</td><td>1.844126    </td></tr>\n",
       "\t<tr><th scope=row>1072</th><td>atorvastatin</td><td>1.784715    </td></tr>\n",
       "\t<tr><th scope=row>3813</th><td>atorvastatin</td><td>0.000000    </td></tr>\n",
       "\t<tr><th scope=row>3947</th><td>atorvastatin</td><td>0.000000    </td></tr>\n",
       "\t<tr><th scope=row>3948</th><td>atorvastatin</td><td>0.000000    </td></tr>\n",
       "</tbody>\n",
       "</table>\n"
      ],
      "text/latex": [
       "\\begin{tabular}{r|ll}\n",
       "  & compound\\_name & connectivity\\_score\\\\\n",
       "\\hline\n",
       "\t592 & atorvastatin & 1.844126    \\\\\n",
       "\t1072 & atorvastatin & 1.784715    \\\\\n",
       "\t3813 & atorvastatin & 0.000000    \\\\\n",
       "\t3947 & atorvastatin & 0.000000    \\\\\n",
       "\t3948 & atorvastatin & 0.000000    \\\\\n",
       "\\end{tabular}\n"
      ],
      "text/markdown": [
       "\n",
       "| <!--/--> | compound_name | connectivity_score | \n",
       "|---|---|---|---|---|\n",
       "| 592 | atorvastatin | 1.844126     | \n",
       "| 1072 | atorvastatin | 1.784715     | \n",
       "| 3813 | atorvastatin | 0.000000     | \n",
       "| 3947 | atorvastatin | 0.000000     | \n",
       "| 3948 | atorvastatin | 0.000000     | \n",
       "\n",
       "\n"
      ],
      "text/plain": [
       "     compound_name connectivity_score\n",
       "592  atorvastatin  1.844126          \n",
       "1072 atorvastatin  1.784715          \n",
       "3813 atorvastatin  0.000000          \n",
       "3947 atorvastatin  0.000000          \n",
       "3948 atorvastatin  0.000000          "
      ]
     },
     "metadata": {},
     "output_type": "display_data"
    }
   ],
   "source": [
    "ks_score_vec_p[which(ks_score_vec_p$compound_name == \"atorvastatin\"),]"
   ]
  },
  {
   "cell_type": "code",
   "execution_count": 40,
   "metadata": {},
   "outputs": [
    {
     "data": {
      "image/png": "[encoded data removed]",
      "text/plain": [
       "Plot with title “Histogram of ks_score_vec_p$connectivity_score”"
      ]
     },
     "metadata": {},
     "output_type": "display_data"
    }
   ],
   "source": [
    "hist(ks_score_vec_p$connectivity_score)"
   ]
  },
  {
   "cell_type": "code",
   "execution_count": null,
   "metadata": {},
   "outputs": [],
   "source": []
  },
  {
   "cell_type": "code",
   "execution_count": null,
   "metadata": {},
   "outputs": [],
   "source": []
  },
  {
   "cell_type": "code",
   "execution_count": null,
   "metadata": {},
   "outputs": [],
   "source": []
  },
  {
   "cell_type": "code",
   "execution_count": 23,
   "metadata": {},
   "outputs": [
    {
     "data": {
      "text/html": [
       "0.496014651843778"
      ],
      "text/latex": [
       "0.496014651843778"
      ],
      "text/markdown": [
       "0.496014651843778"
      ],
      "text/plain": [
       "[1] 0.4960147"
      ]
     },
     "metadata": {},
     "output_type": "display_data"
    }
   ],
   "source": [
    "#\n",
    "ks_detail <- function() {\n",
    "    up_signature <- up_signature_df$entrezgene_id\n",
    "    down_signature <- down_signature_df$entrezgene_id\n",
    "    i = high_score_idx[12]\n",
    "    pert_vec <- gene_rank_bing[, i]\n",
    "    up_signature <- up_signature[up_signature %in% pert_vec]   \n",
    "    down_signature <- down_signature[down_signature %in% pert_vec]\n",
    "    # get teh rank\n",
    "    up_v <- match(up_signature, pert_vec)\n",
    "    down_v <- match(down_signature, pert_vec)\n",
    "    tmp_s <- .s(up_v, down_v, nrow(gene_rank_bing))\n",
    "    tmp_s\n",
    "    up_detail <- .ks_detail(up_v, nrow(gene_rank_bing))\n",
    "    down_detail <- .ks_detail(down_v, nrow(gene_rank_bing))\n",
    "}\n",
    "        "
   ]
  },
  {
   "cell_type": "code",
   "execution_count": 25,
   "metadata": {},
   "outputs": [
    {
     "data": {
      "text/html": [
       "<pre class=language-r><code>function (V_up, V_down, n) \n",
       "{\n",
       "<span style=white-space:pre-wrap>    ks_up &lt;- .ks(V_up, n)</span>\n",
       "<span style=white-space:pre-wrap>    ks_down &lt;- .ks(V_down, n)</span>\n",
       "<span style=white-space:pre-wrap>    ifelse(sign(ks_up) == sign(ks_down), 0, ks_up - ks_down)</span>\n",
       "}</code></pre>"
      ],
      "text/latex": [
       "\\begin{minted}{r}\n",
       "function (V\\_up, V\\_down, n) \n",
       "\\{\n",
       "    ks\\_up <- .ks(V\\_up, n)\n",
       "    ks\\_down <- .ks(V\\_down, n)\n",
       "    ifelse(sign(ks\\_up) == sign(ks\\_down), 0, ks\\_up - ks\\_down)\n",
       "\\}\n",
       "\\end{minted}"
      ],
      "text/markdown": [
       "```r\n",
       "function (V_up, V_down, n) \n",
       "{\n",
       "    ks_up <- .ks(V_up, n)\n",
       "    ks_down <- .ks(V_down, n)\n",
       "    ifelse(sign(ks_up) == sign(ks_down), 0, ks_up - ks_down)\n",
       "}\n",
       "```"
      ],
      "text/plain": [
       "function (V_up, V_down, n) \n",
       "{\n",
       "    ks_up <- .ks(V_up, n)\n",
       "    ks_down <- .ks(V_down, n)\n",
       "    ifelse(sign(ks_up) == sign(ks_down), 0, ks_up - ks_down)\n",
       "}\n",
       "<bytecode: 0xad8fd80>"
      ]
     },
     "metadata": {},
     "output_type": "display_data"
    }
   ],
   "source": [
    ".s"
   ]
  },
  {
   "cell_type": "code",
   "execution_count": 28,
   "metadata": {},
   "outputs": [
    {
     "data": {
      "text/html": [
       "<pre class=language-r><code>function (V, n) \n",
       "{\n",
       "<span style=white-space:pre-wrap>    t &lt;- length(V)</span>\n",
       "<span style=white-space:pre-wrap>    if (t == 0) {</span>\n",
       "<span style=white-space:pre-wrap>        return(0)</span>\n",
       "<span style=white-space:pre-wrap>    }</span>\n",
       "<span style=white-space:pre-wrap>    else {</span>\n",
       "<span style=white-space:pre-wrap>        if (is.unsorted(V)) </span>\n",
       "<span style=white-space:pre-wrap>            V &lt;- sort(V)</span>\n",
       "<span style=white-space:pre-wrap>        d &lt;- (1:t)/t - V/n</span>\n",
       "<span style=white-space:pre-wrap>        a &lt;- max(d)</span>\n",
       "<span style=white-space:pre-wrap>        b &lt;- -min(d) + 1/t</span>\n",
       "<span style=white-space:pre-wrap>        ifelse(a &gt; b, a, -b)</span>\n",
       "<span style=white-space:pre-wrap>    }</span>\n",
       "}</code></pre>"
      ],
      "text/latex": [
       "\\begin{minted}{r}\n",
       "function (V, n) \n",
       "\\{\n",
       "    t <- length(V)\n",
       "    if (t == 0) \\{\n",
       "        return(0)\n",
       "    \\}\n",
       "    else \\{\n",
       "        if (is.unsorted(V)) \n",
       "            V <- sort(V)\n",
       "        d <- (1:t)/t - V/n\n",
       "        a <- max(d)\n",
       "        b <- -min(d) + 1/t\n",
       "        ifelse(a > b, a, -b)\n",
       "    \\}\n",
       "\\}\n",
       "\\end{minted}"
      ],
      "text/markdown": [
       "```r\n",
       "function (V, n) \n",
       "{\n",
       "    t <- length(V)\n",
       "    if (t == 0) {\n",
       "        return(0)\n",
       "    }\n",
       "    else {\n",
       "        if (is.unsorted(V)) \n",
       "            V <- sort(V)\n",
       "        d <- (1:t)/t - V/n\n",
       "        a <- max(d)\n",
       "        b <- -min(d) + 1/t\n",
       "        ifelse(a > b, a, -b)\n",
       "    }\n",
       "}\n",
       "```"
      ],
      "text/plain": [
       "function (V, n) \n",
       "{\n",
       "    t <- length(V)\n",
       "    if (t == 0) {\n",
       "        return(0)\n",
       "    }\n",
       "    else {\n",
       "        if (is.unsorted(V)) \n",
       "            V <- sort(V)\n",
       "        d <- (1:t)/t - V/n\n",
       "        a <- max(d)\n",
       "        b <- -min(d) + 1/t\n",
       "        ifelse(a > b, a, -b)\n",
       "    }\n",
       "}\n",
       "<bytecode: 0xadf268>"
      ]
     },
     "metadata": {},
     "output_type": "display_data"
    }
   ],
   "source": [
    ".ks"
   ]
  },
  {
   "cell_type": "code",
   "execution_count": 33,
   "metadata": {},
   "outputs": [],
   "source": [
    ".ks_detail <- function (V, n) \n",
    "{\n",
    "    t <- length(V)\n",
    "    if (t == 0) {\n",
    "        return(0)\n",
    "    }\n",
    "    else {\n",
    "        if (is.unsorted(V)) \n",
    "            V <- sort(V)\n",
    "        d <- (1:t)/t - V/n\n",
    "        a <- max(d)\n",
    "        b <- -min(d) + 1/t\n",
    "        #ifelse(a > b, a, -b)\n",
    "        return(d)\n",
    "    }\n",
    "}\n",
    "#\n",
    "ks_detail <- function() {\n",
    "    up_signature <- up_signature_df$entrezgene_id\n",
    "    down_signature <- down_signature_df$entrezgene_id\n",
    "    i = high_score_idx[12]\n",
    "    pert_vec <- gene_rank_bing[, i]\n",
    "    up_signature <- up_signature[up_signature %in% pert_vec]   \n",
    "    down_signature <- down_signature[down_signature %in% pert_vec]\n",
    "    # get teh rank\n",
    "    up_v <- match(up_signature, pert_vec)\n",
    "    down_v <- match(down_signature, pert_vec)\n",
    "    tmp_s <- .s(up_v, down_v, nrow(gene_rank_bing))\n",
    "    tmp_s\n",
    "    up_detail <- .ks_detail(up_v, nrow(gene_rank_bing))\n",
    "    down_detail <- .ks_detail(down_v, nrow(gene_rank_bing))\n",
    "}\n",
    "        \n",
    "ks_score <- function(up_signature, down_signature, rank_matrix, compound_name) {\n",
    "    n = 1\n",
    "    connectivity_score_vec <- c()\n",
    "    gene_rank_bing <- rank_matrix\n",
    "    up_signature <- up_signature[up_signature %in% pert_vec]   \n",
    "    down_signature <- down_signature[down_signature %in% pert_vec]\n",
    "    for (i in 1:ncol(gene_rank_bing)) {\n",
    "        if (i %% 500 == 0)  { print(paste0(\"INFO: \", i, \" Instances.\"))}\n",
    "        pert_vec <- gene_rank_bing[, i]\n",
    "        # get teh rank\n",
    "        up_v <- match(up_signature, pert_vec)\n",
    "        down_v <- match(down_signature, pert_vec)\n",
    "        tmp_s <- .s(up_v, down_v, nrow(gene_rank_bing))\n",
    "        connectivity_score_vec <- c(connectivity_score_vec, tmp_s)\n",
    "        \n",
    "    }\n",
    "    output_df <- data.frame(compound_name = compound_name, connectivity_score = connectivity_score_vec)\n",
    "    return(output_df)\n",
    "    \n",
    "}"
   ]
  },
  {
   "cell_type": "code",
   "execution_count": 26,
   "metadata": {},
   "outputs": [
    {
     "data": {
      "text/html": [
       "0.32333056982419"
      ],
      "text/latex": [
       "0.32333056982419"
      ],
      "text/markdown": [
       "0.32333056982419"
      ],
      "text/plain": [
       "[1] 0.3233306"
      ]
     },
     "metadata": {},
     "output_type": "display_data"
    }
   ],
   "source": [
    ".ks(up_v, nrow(gene_rank_bing))"
   ]
  },
  {
   "cell_type": "code",
   "execution_count": 27,
   "metadata": {},
   "outputs": [
    {
     "data": {
      "text/html": [
       "-0.172684082019588"
      ],
      "text/latex": [
       "-0.172684082019588"
      ],
      "text/markdown": [
       "-0.172684082019588"
      ],
      "text/plain": [
       "[1] -0.1726841"
      ]
     },
     "metadata": {},
     "output_type": "display_data"
    }
   ],
   "source": [
    ".ks(down_v, nrow(gene_rank_bing))"
   ]
  },
  {
   "cell_type": "code",
   "execution_count": 37,
   "metadata": {},
   "outputs": [],
   "source": [
    "up_detail <- .ks_detail(up_v, nrow(gene_rank_bing))"
   ]
  },
  {
   "cell_type": "code",
   "execution_count": 39,
   "metadata": {},
   "outputs": [],
   "source": [
    "down_detail <- .ks_detail(down_v, nrow(gene_rank_bing))"
   ]
  },
  {
   "cell_type": "code",
   "execution_count": 38,
   "metadata": {},
   "outputs": [
    {
     "data": {
      "text/html": [
       "<ol class=list-inline>\n",
       "\t<li>0.0113474813605582</li>\n",
       "\t<li>0.0190582416674501</li>\n",
       "\t<li>0.0285382176220716</li>\n",
       "\t<li>0.0410651760811161</li>\n",
       "\t<li>0.0503485725193232</li>\n",
       "\t<li>0.0554055093546209</li>\n",
       "\t<li>0.0616419232884049</li>\n",
       "\t<li>0.0621775312461717</li>\n",
       "\t<li>0.0760805463201169</li>\n",
       "\t<li>0.0861502608239816</li>\n",
       "\t<li>0.0962199753278462</li>\n",
       "\t<li>0.109926410885377</li>\n",
       "\t<li>0.119897835631034</li>\n",
       "\t<li>0.13203163505725</li>\n",
       "\t<li>0.135319356244818</li>\n",
       "\t<li>0.134675487104099</li>\n",
       "\t<li>0.147693894354179</li>\n",
       "\t<li>0.154225177562585</li>\n",
       "\t<li>0.158594086090432</li>\n",
       "\t<li>0.172791970438999</li>\n",
       "\t<li>0.182370236151828</li>\n",
       "\t<li>0.194405745819836</li>\n",
       "\t<li>0.202607954917764</li>\n",
       "\t<li>0.212579379663422</li>\n",
       "\t<li>0.221076458035971</li>\n",
       "\t<li>0.228590638826449</li>\n",
       "\t<li>0.231190331706567</li>\n",
       "\t<li>0.232610547488198</li>\n",
       "\t<li>0.193338803372051</li>\n",
       "\t<li>0.203899966666952</li>\n",
       "\t<li>0.216918373917032</li>\n",
       "\t<li>0.228757304068626</li>\n",
       "\t<li>0.241677421560499</li>\n",
       "\t<li>0.246930937912212</li>\n",
       "\t<li>0.2477614151446</li>\n",
       "\t<li>0.258814027230536</li>\n",
       "\t<li>0.258858186397267</li>\n",
       "\t<li>0.252218642005909</li>\n",
       "\t<li>0.262091776993359</li>\n",
       "\t<li>0.263413703016783</li>\n",
       "\t<li>0.276726979541485</li>\n",
       "\t<li>0.277360877257459</li>\n",
       "\t<li>0.285563086355387</li>\n",
       "\t<li>0.289931994883235</li>\n",
       "\t<li>0.303638430440765</li>\n",
       "\t<li>0.315968809383396</li>\n",
       "\t<li>0.309624134266659</li>\n",
       "\t<li>0.32333056982419</li>\n",
       "\t<li>0.3121696965553</li>\n",
       "\t<li>0.292064455289556</li>\n",
       "\t<li>0.300954692694934</li>\n",
       "\t<li>0.315054287285294</li>\n",
       "\t<li>0.304778021840269</li>\n",
       "\t<li>0.303740993666721</li>\n",
       "\t<li>0.284520360224841</li>\n",
       "\t<li>0.292525989806355</li>\n",
       "\t<li>0.279595900889736</li>\n",
       "\t<li>0.249661683803272</li>\n",
       "\t<li>0.260026267581759</li>\n",
       "\t<li>0.23166468662661</li>\n",
       "\t<li>0.238982287900673</li>\n",
       "\t<li>0.239616185616647</li>\n",
       "\t<li>0.244181673660909</li>\n",
       "\t<li>0.219751683034048</li>\n",
       "\t<li>0.226184676484247</li>\n",
       "\t<li>0.211681951436313</li>\n",
       "\t<li>0.202585163089774</li>\n",
       "\t<li>0.197321675313316</li>\n",
       "\t<li>0.209357184981325</li>\n",
       "</ol>\n"
      ],
      "text/latex": [
       "\\begin{enumerate*}\n",
       "\\item 0.0113474813605582\n",
       "\\item 0.0190582416674501\n",
       "\\item 0.0285382176220716\n",
       "\\item 0.0410651760811161\n",
       "\\item 0.0503485725193232\n",
       "\\item 0.0554055093546209\n",
       "\\item 0.0616419232884049\n",
       "\\item 0.0621775312461717\n",
       "\\item 0.0760805463201169\n",
       "\\item 0.0861502608239816\n",
       "\\item 0.0962199753278462\n",
       "\\item 0.109926410885377\n",
       "\\item 0.119897835631034\n",
       "\\item 0.13203163505725\n",
       "\\item 0.135319356244818\n",
       "\\item 0.134675487104099\n",
       "\\item 0.147693894354179\n",
       "\\item 0.154225177562585\n",
       "\\item 0.158594086090432\n",
       "\\item 0.172791970438999\n",
       "\\item 0.182370236151828\n",
       "\\item 0.194405745819836\n",
       "\\item 0.202607954917764\n",
       "\\item 0.212579379663422\n",
       "\\item 0.221076458035971\n",
       "\\item 0.228590638826449\n",
       "\\item 0.231190331706567\n",
       "\\item 0.232610547488198\n",
       "\\item 0.193338803372051\n",
       "\\item 0.203899966666952\n",
       "\\item 0.216918373917032\n",
       "\\item 0.228757304068626\n",
       "\\item 0.241677421560499\n",
       "\\item 0.246930937912212\n",
       "\\item 0.2477614151446\n",
       "\\item 0.258814027230536\n",
       "\\item 0.258858186397267\n",
       "\\item 0.252218642005909\n",
       "\\item 0.262091776993359\n",
       "\\item 0.263413703016783\n",
       "\\item 0.276726979541485\n",
       "\\item 0.277360877257459\n",
       "\\item 0.285563086355387\n",
       "\\item 0.289931994883235\n",
       "\\item 0.303638430440765\n",
       "\\item 0.315968809383396\n",
       "\\item 0.309624134266659\n",
       "\\item 0.32333056982419\n",
       "\\item 0.3121696965553\n",
       "\\item 0.292064455289556\n",
       "\\item 0.300954692694934\n",
       "\\item 0.315054287285294\n",
       "\\item 0.304778021840269\n",
       "\\item 0.303740993666721\n",
       "\\item 0.284520360224841\n",
       "\\item 0.292525989806355\n",
       "\\item 0.279595900889736\n",
       "\\item 0.249661683803272\n",
       "\\item 0.260026267581759\n",
       "\\item 0.23166468662661\n",
       "\\item 0.238982287900673\n",
       "\\item 0.239616185616647\n",
       "\\item 0.244181673660909\n",
       "\\item 0.219751683034048\n",
       "\\item 0.226184676484247\n",
       "\\item 0.211681951436313\n",
       "\\item 0.202585163089774\n",
       "\\item 0.197321675313316\n",
       "\\item 0.209357184981325\n",
       "\\end{enumerate*}\n"
      ],
      "text/markdown": [
       "1. 0.0113474813605582\n",
       "2. 0.0190582416674501\n",
       "3. 0.0285382176220716\n",
       "4. 0.0410651760811161\n",
       "5. 0.0503485725193232\n",
       "6. 0.0554055093546209\n",
       "7. 0.0616419232884049\n",
       "8. 0.0621775312461717\n",
       "9. 0.0760805463201169\n",
       "10. 0.0861502608239816\n",
       "11. 0.0962199753278462\n",
       "12. 0.109926410885377\n",
       "13. 0.119897835631034\n",
       "14. 0.13203163505725\n",
       "15. 0.135319356244818\n",
       "16. 0.134675487104099\n",
       "17. 0.147693894354179\n",
       "18. 0.154225177562585\n",
       "19. 0.158594086090432\n",
       "20. 0.172791970438999\n",
       "21. 0.182370236151828\n",
       "22. 0.194405745819836\n",
       "23. 0.202607954917764\n",
       "24. 0.212579379663422\n",
       "25. 0.221076458035971\n",
       "26. 0.228590638826449\n",
       "27. 0.231190331706567\n",
       "28. 0.232610547488198\n",
       "29. 0.193338803372051\n",
       "30. 0.203899966666952\n",
       "31. 0.216918373917032\n",
       "32. 0.228757304068626\n",
       "33. 0.241677421560499\n",
       "34. 0.246930937912212\n",
       "35. 0.2477614151446\n",
       "36. 0.258814027230536\n",
       "37. 0.258858186397267\n",
       "38. 0.252218642005909\n",
       "39. 0.262091776993359\n",
       "40. 0.263413703016783\n",
       "41. 0.276726979541485\n",
       "42. 0.277360877257459\n",
       "43. 0.285563086355387\n",
       "44. 0.289931994883235\n",
       "45. 0.303638430440765\n",
       "46. 0.315968809383396\n",
       "47. 0.309624134266659\n",
       "48. 0.32333056982419\n",
       "49. 0.3121696965553\n",
       "50. 0.292064455289556\n",
       "51. 0.300954692694934\n",
       "52. 0.315054287285294\n",
       "53. 0.304778021840269\n",
       "54. 0.303740993666721\n",
       "55. 0.284520360224841\n",
       "56. 0.292525989806355\n",
       "57. 0.279595900889736\n",
       "58. 0.249661683803272\n",
       "59. 0.260026267581759\n",
       "60. 0.23166468662661\n",
       "61. 0.238982287900673\n",
       "62. 0.239616185616647\n",
       "63. 0.244181673660909\n",
       "64. 0.219751683034048\n",
       "65. 0.226184676484247\n",
       "66. 0.211681951436313\n",
       "67. 0.202585163089774\n",
       "68. 0.197321675313316\n",
       "69. 0.209357184981325\n",
       "\n",
       "\n"
      ],
      "text/plain": [
       " [1] 0.01134748 0.01905824 0.02853822 0.04106518 0.05034857 0.05540551\n",
       " [7] 0.06164192 0.06217753 0.07608055 0.08615026 0.09621998 0.10992641\n",
       "[13] 0.11989784 0.13203164 0.13531936 0.13467549 0.14769389 0.15422518\n",
       "[19] 0.15859409 0.17279197 0.18237024 0.19440575 0.20260795 0.21257938\n",
       "[25] 0.22107646 0.22859064 0.23119033 0.23261055 0.19333880 0.20389997\n",
       "[31] 0.21691837 0.22875730 0.24167742 0.24693094 0.24776142 0.25881403\n",
       "[37] 0.25885819 0.25221864 0.26209178 0.26341370 0.27672698 0.27736088\n",
       "[43] 0.28556309 0.28993199 0.30363843 0.31596881 0.30962413 0.32333057\n",
       "[49] 0.31216970 0.29206446 0.30095469 0.31505429 0.30477802 0.30374099\n",
       "[55] 0.28452036 0.29252599 0.27959590 0.24966168 0.26002627 0.23166469\n",
       "[61] 0.23898229 0.23961619 0.24418167 0.21975168 0.22618468 0.21168195\n",
       "[67] 0.20258516 0.19732168 0.20935718"
      ]
     },
     "metadata": {},
     "output_type": "display_data"
    }
   ],
   "source": [
    "up_detail"
   ]
  },
  {
   "cell_type": "code",
   "execution_count": 40,
   "metadata": {},
   "outputs": [
    {
     "data": {
      "text/html": [
       "<ol class=list-inline>\n",
       "\t<li>0.00895263535969459</li>\n",
       "\t<li>0.0100420900628136</li>\n",
       "\t<li>0.00670850564660882</li>\n",
       "\t<li>0.0061270344602055</li>\n",
       "\t<li>0.0137036132049994</li>\n",
       "\t<li>0.0210836124333788</li>\n",
       "\t<li>0.0198141129395252</li>\n",
       "\t<li>0.0268009531350758</li>\n",
       "\t<li>0.00892048450420625</li>\n",
       "\t<li>-0.0235068683413282</li>\n",
       "\t<li>-0.0392249622916395</li>\n",
       "\t<li>-0.0828573475727941</li>\n",
       "\t<li>-0.0878618578785212</li>\n",
       "\t<li>-0.0822510742978713</li>\n",
       "\t<li>-0.0856829484722832</li>\n",
       "\t<li>-0.11663595494471</li>\n",
       "\t<li>-0.110730302089438</li>\n",
       "\t<li>-0.101875956487951</li>\n",
       "\t<li>-0.0945942470177785</li>\n",
       "\t<li>-0.0892783327117501</li>\n",
       "\t<li>-0.0881888780086311</li>\n",
       "\t<li>-0.0882789004039985</li>\n",
       "\t<li>-0.0796211343189255</li>\n",
       "\t<li>-0.072241135090546</li>\n",
       "\t<li>-0.074690111682886</li>\n",
       "\t<li>-0.0848056894153872</li>\n",
       "\t<li>-0.0808658317242596</li>\n",
       "\t<li>-0.0881310064687522</li>\n",
       "\t<li>-0.0806527174821655</li>\n",
       "\t<li>-0.0759265417253803</li>\n",
       "\t<li>-0.0705123376611447</li>\n",
       "\t<li>-0.0738459220773495</li>\n",
       "\t<li>-0.0752137113294103</li>\n",
       "\t<li>-0.0939787877841447</li>\n",
       "\t<li>-0.114021631095573</li>\n",
       "\t<li>-0.109590324613409</li>\n",
       "\t<li>-0.15125691473042</li>\n",
       "\t<li>-0.163338287627065</li>\n",
       "\t<li>-0.160086458243387</li>\n",
       "\t<li>-0.160176480638755</li>\n",
       "\t<li>-0.157121230771492</li>\n",
       "\t<li>-0.158489020023553</li>\n",
       "\t<li>-0.151010731036966</li>\n",
       "\t<li>-0.156604979891936</li>\n",
       "\t<li>-0.155024076397781</li>\n",
       "\t<li>-0.148626974751474</li>\n",
       "\t<li>-0.140067498424608</li>\n",
       "\t<li>-0.137307117831967</li>\n",
       "\t<li>-0.132777521591596</li>\n",
       "\t<li>-0.145645212553899</li>\n",
       "\t<li>-0.143376280752293</li>\n",
       "\t<li>-0.13471851466722</li>\n",
       "\t<li>-0.14208197916992</li>\n",
       "\t<li>-0.136078036556441</li>\n",
       "\t<li>-0.127321980713161</li>\n",
       "\t<li>-0.119843691726574</li>\n",
       "\t<li>-0.114626067178753</li>\n",
       "\t<li>-0.107344357708581</li>\n",
       "\t<li>-0.100062648238409</li>\n",
       "\t<li>-0.11509271388127</li>\n",
       "\t<li>-0.112528912805043</li>\n",
       "\t<li>-0.113110383991446</li>\n",
       "\t<li>-0.107303020894382</li>\n",
       "\t<li>-0.104935799334569</li>\n",
       "\t<li>-0.102666867532964</li>\n",
       "\t<li>-0.10383807726861</li>\n",
       "\t<li>-0.110218644189238</li>\n",
       "\t<li>-0.117385529175523</li>\n",
       "\t<li>-0.111381586562045</li>\n",
       "\t<li>-0.103903297575458</li>\n",
       "\t<li>-0.0976044856873578</li>\n",
       "\t<li>-0.0965150309842387</li>\n",
       "\t<li>-0.0911991166782103</li>\n",
       "\t<li>-0.0910925595571633</li>\n",
       "\t<li>-0.0857766452511349</li>\n",
       "\t<li>-0.08419574175698</li>\n",
       "\t<li>-0.0798627250330236</li>\n",
       "\t<li>-0.085555263646201</li>\n",
       "\t<li>-0.0814188264386589</li>\n",
       "\t<li>-0.0848507006130709</li>\n",
       "\t<li>-0.0844492742174022</li>\n",
       "\t<li>-0.0752017695830861</li>\n",
       "\t<li>-0.0692961167278145</li>\n",
       "\t<li>-0.0686981108157315</li>\n",
       "\t<li>-0.0766513138676744</li>\n",
       "\t<li>-0.0830318807883023</li>\n",
       "\t<li>-0.075258722527094</li>\n",
       "\t<li>-0.0665026666838138</li>\n",
       "\t<li>-0.0596141162464703</li>\n",
       "\t<li>-0.059900718158252</li>\n",
       "\t<li>-0.0506532135239358</li>\n",
       "\t<li>-0.04455098115225</li>\n",
       "\t<li>-0.0375641409566992</li>\n",
       "\t<li>-0.0352952091550939</li>\n",
       "\t<li>-0.0262442840371921</li>\n",
       "\t<li>-0.0331162997488559</li>\n",
       "\t<li>-0.0352704070665744</li>\n",
       "\t<li>-0.0320185776828971</li>\n",
       "\t<li>-0.0362367699229665</li>\n",
       "\t<li>-0.0269892652886504</li>\n",
       "\t<li>-0.029241662364576</li>\n",
       "\t<li>-0.024613776365998</li>\n",
       "\t<li>-0.0155628512480962</li>\n",
       "\t<li>-0.00857601105254557</li>\n",
       "\t<li>-0.0114181466777143</li>\n",
       "\t<li>-0.00305524986726291</li>\n",
       "\t<li>0.00452132887753098</li>\n",
       "</ol>\n"
      ],
      "text/latex": [
       "\\begin{enumerate*}\n",
       "\\item 0.00895263535969459\n",
       "\\item 0.0100420900628136\n",
       "\\item 0.00670850564660882\n",
       "\\item 0.0061270344602055\n",
       "\\item 0.0137036132049994\n",
       "\\item 0.0210836124333788\n",
       "\\item 0.0198141129395252\n",
       "\\item 0.0268009531350758\n",
       "\\item 0.00892048450420625\n",
       "\\item -0.0235068683413282\n",
       "\\item -0.0392249622916395\n",
       "\\item -0.0828573475727941\n",
       "\\item -0.0878618578785212\n",
       "\\item -0.0822510742978713\n",
       "\\item -0.0856829484722832\n",
       "\\item -0.11663595494471\n",
       "\\item -0.110730302089438\n",
       "\\item -0.101875956487951\n",
       "\\item -0.0945942470177785\n",
       "\\item -0.0892783327117501\n",
       "\\item -0.0881888780086311\n",
       "\\item -0.0882789004039985\n",
       "\\item -0.0796211343189255\n",
       "\\item -0.072241135090546\n",
       "\\item -0.074690111682886\n",
       "\\item -0.0848056894153872\n",
       "\\item -0.0808658317242596\n",
       "\\item -0.0881310064687522\n",
       "\\item -0.0806527174821655\n",
       "\\item -0.0759265417253803\n",
       "\\item -0.0705123376611447\n",
       "\\item -0.0738459220773495\n",
       "\\item -0.0752137113294103\n",
       "\\item -0.0939787877841447\n",
       "\\item -0.114021631095573\n",
       "\\item -0.109590324613409\n",
       "\\item -0.15125691473042\n",
       "\\item -0.163338287627065\n",
       "\\item -0.160086458243387\n",
       "\\item -0.160176480638755\n",
       "\\item -0.157121230771492\n",
       "\\item -0.158489020023553\n",
       "\\item -0.151010731036966\n",
       "\\item -0.156604979891936\n",
       "\\item -0.155024076397781\n",
       "\\item -0.148626974751474\n",
       "\\item -0.140067498424608\n",
       "\\item -0.137307117831967\n",
       "\\item -0.132777521591596\n",
       "\\item -0.145645212553899\n",
       "\\item -0.143376280752293\n",
       "\\item -0.13471851466722\n",
       "\\item -0.14208197916992\n",
       "\\item -0.136078036556441\n",
       "\\item -0.127321980713161\n",
       "\\item -0.119843691726574\n",
       "\\item -0.114626067178753\n",
       "\\item -0.107344357708581\n",
       "\\item -0.100062648238409\n",
       "\\item -0.11509271388127\n",
       "\\item -0.112528912805043\n",
       "\\item -0.113110383991446\n",
       "\\item -0.107303020894382\n",
       "\\item -0.104935799334569\n",
       "\\item -0.102666867532964\n",
       "\\item -0.10383807726861\n",
       "\\item -0.110218644189238\n",
       "\\item -0.117385529175523\n",
       "\\item -0.111381586562045\n",
       "\\item -0.103903297575458\n",
       "\\item -0.0976044856873578\n",
       "\\item -0.0965150309842387\n",
       "\\item -0.0911991166782103\n",
       "\\item -0.0910925595571633\n",
       "\\item -0.0857766452511349\n",
       "\\item -0.08419574175698\n",
       "\\item -0.0798627250330236\n",
       "\\item -0.085555263646201\n",
       "\\item -0.0814188264386589\n",
       "\\item -0.0848507006130709\n",
       "\\item -0.0844492742174022\n",
       "\\item -0.0752017695830861\n",
       "\\item -0.0692961167278145\n",
       "\\item -0.0686981108157315\n",
       "\\item -0.0766513138676744\n",
       "\\item -0.0830318807883023\n",
       "\\item -0.075258722527094\n",
       "\\item -0.0665026666838138\n",
       "\\item -0.0596141162464703\n",
       "\\item -0.059900718158252\n",
       "\\item -0.0506532135239358\n",
       "\\item -0.04455098115225\n",
       "\\item -0.0375641409566992\n",
       "\\item -0.0352952091550939\n",
       "\\item -0.0262442840371921\n",
       "\\item -0.0331162997488559\n",
       "\\item -0.0352704070665744\n",
       "\\item -0.0320185776828971\n",
       "\\item -0.0362367699229665\n",
       "\\item -0.0269892652886504\n",
       "\\item -0.029241662364576\n",
       "\\item -0.024613776365998\n",
       "\\item -0.0155628512480962\n",
       "\\item -0.00857601105254557\n",
       "\\item -0.0114181466777143\n",
       "\\item -0.00305524986726291\n",
       "\\item 0.00452132887753098\n",
       "\\end{enumerate*}\n"
      ],
      "text/markdown": [
       "1. 0.00895263535969459\n",
       "2. 0.0100420900628136\n",
       "3. 0.00670850564660882\n",
       "4. 0.0061270344602055\n",
       "5. 0.0137036132049994\n",
       "6. 0.0210836124333788\n",
       "7. 0.0198141129395252\n",
       "8. 0.0268009531350758\n",
       "9. 0.00892048450420625\n",
       "10. -0.0235068683413282\n",
       "11. -0.0392249622916395\n",
       "12. -0.0828573475727941\n",
       "13. -0.0878618578785212\n",
       "14. -0.0822510742978713\n",
       "15. -0.0856829484722832\n",
       "16. -0.11663595494471\n",
       "17. -0.110730302089438\n",
       "18. -0.101875956487951\n",
       "19. -0.0945942470177785\n",
       "20. -0.0892783327117501\n",
       "21. -0.0881888780086311\n",
       "22. -0.0882789004039985\n",
       "23. -0.0796211343189255\n",
       "24. -0.072241135090546\n",
       "25. -0.074690111682886\n",
       "26. -0.0848056894153872\n",
       "27. -0.0808658317242596\n",
       "28. -0.0881310064687522\n",
       "29. -0.0806527174821655\n",
       "30. -0.0759265417253803\n",
       "31. -0.0705123376611447\n",
       "32. -0.0738459220773495\n",
       "33. -0.0752137113294103\n",
       "34. -0.0939787877841447\n",
       "35. -0.114021631095573\n",
       "36. -0.109590324613409\n",
       "37. -0.15125691473042\n",
       "38. -0.163338287627065\n",
       "39. -0.160086458243387\n",
       "40. -0.160176480638755\n",
       "41. -0.157121230771492\n",
       "42. -0.158489020023553\n",
       "43. -0.151010731036966\n",
       "44. -0.156604979891936\n",
       "45. -0.155024076397781\n",
       "46. -0.148626974751474\n",
       "47. -0.140067498424608\n",
       "48. -0.137307117831967\n",
       "49. -0.132777521591596\n",
       "50. -0.145645212553899\n",
       "51. -0.143376280752293\n",
       "52. -0.13471851466722\n",
       "53. -0.14208197916992\n",
       "54. -0.136078036556441\n",
       "55. -0.127321980713161\n",
       "56. -0.119843691726574\n",
       "57. -0.114626067178753\n",
       "58. -0.107344357708581\n",
       "59. -0.100062648238409\n",
       "60. -0.11509271388127\n",
       "61. -0.112528912805043\n",
       "62. -0.113110383991446\n",
       "63. -0.107303020894382\n",
       "64. -0.104935799334569\n",
       "65. -0.102666867532964\n",
       "66. -0.10383807726861\n",
       "67. -0.110218644189238\n",
       "68. -0.117385529175523\n",
       "69. -0.111381586562045\n",
       "70. -0.103903297575458\n",
       "71. -0.0976044856873578\n",
       "72. -0.0965150309842387\n",
       "73. -0.0911991166782103\n",
       "74. -0.0910925595571633\n",
       "75. -0.0857766452511349\n",
       "76. -0.08419574175698\n",
       "77. -0.0798627250330236\n",
       "78. -0.085555263646201\n",
       "79. -0.0814188264386589\n",
       "80. -0.0848507006130709\n",
       "81. -0.0844492742174022\n",
       "82. -0.0752017695830861\n",
       "83. -0.0692961167278145\n",
       "84. -0.0686981108157315\n",
       "85. -0.0766513138676744\n",
       "86. -0.0830318807883023\n",
       "87. -0.075258722527094\n",
       "88. -0.0665026666838138\n",
       "89. -0.0596141162464703\n",
       "90. -0.059900718158252\n",
       "91. -0.0506532135239358\n",
       "92. -0.04455098115225\n",
       "93. -0.0375641409566992\n",
       "94. -0.0352952091550939\n",
       "95. -0.0262442840371921\n",
       "96. -0.0331162997488559\n",
       "97. -0.0352704070665744\n",
       "98. -0.0320185776828971\n",
       "99. -0.0362367699229665\n",
       "100. -0.0269892652886504\n",
       "101. -0.029241662364576\n",
       "102. -0.024613776365998\n",
       "103. -0.0155628512480962\n",
       "104. -0.00857601105254557\n",
       "105. -0.0114181466777143\n",
       "106. -0.00305524986726291\n",
       "107. 0.00452132887753098\n",
       "\n",
       "\n"
      ],
      "text/plain": [
       "  [1]  0.008952635  0.010042090  0.006708506  0.006127034  0.013703613\n",
       "  [6]  0.021083612  0.019814113  0.026800953  0.008920485 -0.023506868\n",
       " [11] -0.039224962 -0.082857348 -0.087861858 -0.082251074 -0.085682948\n",
       " [16] -0.116635955 -0.110730302 -0.101875956 -0.094594247 -0.089278333\n",
       " [21] -0.088188878 -0.088278900 -0.079621134 -0.072241135 -0.074690112\n",
       " [26] -0.084805689 -0.080865832 -0.088131006 -0.080652717 -0.075926542\n",
       " [31] -0.070512338 -0.073845922 -0.075213711 -0.093978788 -0.114021631\n",
       " [36] -0.109590325 -0.151256915 -0.163338288 -0.160086458 -0.160176481\n",
       " [41] -0.157121231 -0.158489020 -0.151010731 -0.156604980 -0.155024076\n",
       " [46] -0.148626975 -0.140067498 -0.137307118 -0.132777522 -0.145645213\n",
       " [51] -0.143376281 -0.134718515 -0.142081979 -0.136078037 -0.127321981\n",
       " [56] -0.119843692 -0.114626067 -0.107344358 -0.100062648 -0.115092714\n",
       " [61] -0.112528913 -0.113110384 -0.107303021 -0.104935799 -0.102666868\n",
       " [66] -0.103838077 -0.110218644 -0.117385529 -0.111381587 -0.103903298\n",
       " [71] -0.097604486 -0.096515031 -0.091199117 -0.091092560 -0.085776645\n",
       " [76] -0.084195742 -0.079862725 -0.085555264 -0.081418826 -0.084850701\n",
       " [81] -0.084449274 -0.075201770 -0.069296117 -0.068698111 -0.076651314\n",
       " [86] -0.083031881 -0.075258723 -0.066502667 -0.059614116 -0.059900718\n",
       " [91] -0.050653214 -0.044550981 -0.037564141 -0.035295209 -0.026244284\n",
       " [96] -0.033116300 -0.035270407 -0.032018578 -0.036236770 -0.026989265\n",
       "[101] -0.029241662 -0.024613776 -0.015562851 -0.008576011 -0.011418147\n",
       "[106] -0.003055250  0.004521329"
      ]
     },
     "metadata": {},
     "output_type": "display_data"
    }
   ],
   "source": [
    "down_detail"
   ]
  },
  {
   "cell_type": "code",
   "execution_count": 1,
   "metadata": {},
   "outputs": [
    {
     "data": {
      "text/html": [
       "'/gpfs/ysm/project/zhao/zy92/NASH/dr_multiomics/code'"
      ],
      "text/latex": [
       "'/gpfs/ysm/project/zhao/zy92/NASH/dr\\_multiomics/code'"
      ],
      "text/markdown": [
       "'/gpfs/ysm/project/zhao/zy92/NASH/dr_multiomics/code'"
      ],
      "text/plain": [
       "[1] \"/gpfs/ysm/project/zhao/zy92/NASH/dr_multiomics/code\""
      ]
     },
     "metadata": {},
     "output_type": "display_data"
    }
   ],
   "source": [
    "getwd()"
   ]
  },
  {
   "cell_type": "code",
   "execution_count": null,
   "metadata": {},
   "outputs": [],
   "source": [
    "### postive case"
   ]
  },
  {
   "cell_type": "code",
   "execution_count": null,
   "metadata": {},
   "outputs": [],
   "source": [
    "source(\"ks_s\")\n",
    ".ks_detail <- function (V, n) \n",
    "{\n",
    "    t <- length(V)\n",
    "    if (t == 0) {\n",
    "        return(0)\n",
    "    }\n",
    "    else {\n",
    "        if (is.unsorted(V)) \n",
    "            V <- sort(V)\n",
    "        d <- (1:t)/t - V/n\n",
    "        a <- max(d)\n",
    "        b <- -min(d) + 1/t\n",
    "        #ifelse(a > b, a, -b)\n",
    "        return(d)\n",
    "    }\n",
    "}\n",
    "#\n",
    "ks_detail <- function() {\n",
    "    up_signature <- up_signature_df$entrezgene_id\n",
    "    down_signature <- down_signature_df$entrezgene_id\n",
    "    i = high_score_idx[12]\n",
    "    pert_vec <- gene_rank_bing[, i]\n",
    "    up_signature <- up_signature[up_signature %in% pert_vec]   \n",
    "    down_signature <- down_signature[down_signature %in% pert_vec]\n",
    "    # get teh rank\n",
    "    up_v <- match(up_signature, pert_vec)\n",
    "    down_v <- match(down_signature, pert_vec)\n",
    "    tmp_s <- .s(up_v, down_v, nrow(gene_rank_bing))\n",
    "    tmp_s\n",
    "    up_detail <- .ks_detail(up_v, nrow(gene_rank_bing))\n",
    "    down_detail <- .ks_detail(down_v, nrow(gene_rank_bing))\n",
    "}"
   ]
  },
  {
   "cell_type": "code",
   "execution_count": 1,
   "metadata": {},
   "outputs": [
    {
     "data": {
      "text/html": [
       "'/gpfs/ysm/project/zhao/zy92/NASH/dr_multiomics/code'"
      ],
      "text/latex": [
       "'/gpfs/ysm/project/zhao/zy92/NASH/dr\\_multiomics/code'"
      ],
      "text/markdown": [
       "'/gpfs/ysm/project/zhao/zy92/NASH/dr_multiomics/code'"
      ],
      "text/plain": [
       "[1] \"/gpfs/ysm/project/zhao/zy92/NASH/dr_multiomics/code\""
      ]
     },
     "metadata": {},
     "output_type": "display_data"
    }
   ],
   "source": [
    "getwd()"
   ]
  },
  {
   "cell_type": "code",
   "execution_count": 44,
   "metadata": {},
   "outputs": [
    {
     "data": {
      "text/html": [
       "<table>\n",
       "<thead><tr><th scope=col>compound_name</th><th scope=col>connectivity_score</th></tr></thead>\n",
       "<tbody>\n",
       "\t<tr><td>BRD-A66604020  </td><td>1.968646       </td></tr>\n",
       "\t<tr><td>BRD-K63938928  </td><td>1.967073       </td></tr>\n",
       "\t<tr><td>flunarizine    </td><td>1.966886       </td></tr>\n",
       "\t<tr><td>pifithrin-mu   </td><td>1.964134       </td></tr>\n",
       "\t<tr><td>BRD-A17757596  </td><td>1.962936       </td></tr>\n",
       "\t<tr><td>alpha-estradiol</td><td>1.960694       </td></tr>\n",
       "\t<tr><td>genistein      </td><td>1.959111       </td></tr>\n",
       "\t<tr><td>BRD-K06071925  </td><td>1.958997       </td></tr>\n",
       "\t<tr><td>dydrogesterone </td><td>1.956253       </td></tr>\n",
       "\t<tr><td>U0126          </td><td>1.955761       </td></tr>\n",
       "\t<tr><td>BRD-K35514965  </td><td>1.954762       </td></tr>\n",
       "\t<tr><td>BRD-K28362289  </td><td>1.954475       </td></tr>\n",
       "\t<tr><td>VU-0413243-1   </td><td>1.953214       </td></tr>\n",
       "\t<tr><td>BRD-K51320264  </td><td>1.952768       </td></tr>\n",
       "\t<tr><td>riluzole       </td><td>1.952536       </td></tr>\n",
       "\t<tr><td>equilin        </td><td>1.952375       </td></tr>\n",
       "\t<tr><td>BRD-K52446745  </td><td>1.951928       </td></tr>\n",
       "\t<tr><td>BRD-A94546435  </td><td>1.951848       </td></tr>\n",
       "\t<tr><td>BRD-K33926001  </td><td>1.951625       </td></tr>\n",
       "\t<tr><td>chlorprothixene</td><td>1.951133       </td></tr>\n",
       "</tbody>\n",
       "</table>\n"
      ],
      "text/latex": [
       "\\begin{tabular}{r|ll}\n",
       " compound\\_name & connectivity\\_score\\\\\n",
       "\\hline\n",
       "\t BRD-A66604020   & 1.968646       \\\\\n",
       "\t BRD-K63938928   & 1.967073       \\\\\n",
       "\t flunarizine     & 1.966886       \\\\\n",
       "\t pifithrin-mu    & 1.964134       \\\\\n",
       "\t BRD-A17757596   & 1.962936       \\\\\n",
       "\t alpha-estradiol & 1.960694       \\\\\n",
       "\t genistein       & 1.959111       \\\\\n",
       "\t BRD-K06071925   & 1.958997       \\\\\n",
       "\t dydrogesterone  & 1.956253       \\\\\n",
       "\t U0126           & 1.955761       \\\\\n",
       "\t BRD-K35514965   & 1.954762       \\\\\n",
       "\t BRD-K28362289   & 1.954475       \\\\\n",
       "\t VU-0413243-1    & 1.953214       \\\\\n",
       "\t BRD-K51320264   & 1.952768       \\\\\n",
       "\t riluzole        & 1.952536       \\\\\n",
       "\t equilin         & 1.952375       \\\\\n",
       "\t BRD-K52446745   & 1.951928       \\\\\n",
       "\t BRD-A94546435   & 1.951848       \\\\\n",
       "\t BRD-K33926001   & 1.951625       \\\\\n",
       "\t chlorprothixene & 1.951133       \\\\\n",
       "\\end{tabular}\n"
      ],
      "text/markdown": [
       "\n",
       "compound_name | connectivity_score | \n",
       "|---|---|---|---|---|---|---|---|---|---|---|---|---|---|---|---|---|---|---|---|\n",
       "| BRD-A66604020   | 1.968646        | \n",
       "| BRD-K63938928   | 1.967073        | \n",
       "| flunarizine     | 1.966886        | \n",
       "| pifithrin-mu    | 1.964134        | \n",
       "| BRD-A17757596   | 1.962936        | \n",
       "| alpha-estradiol | 1.960694        | \n",
       "| genistein       | 1.959111        | \n",
       "| BRD-K06071925   | 1.958997        | \n",
       "| dydrogesterone  | 1.956253        | \n",
       "| U0126           | 1.955761        | \n",
       "| BRD-K35514965   | 1.954762        | \n",
       "| BRD-K28362289   | 1.954475        | \n",
       "| VU-0413243-1    | 1.953214        | \n",
       "| BRD-K51320264   | 1.952768        | \n",
       "| riluzole        | 1.952536        | \n",
       "| equilin         | 1.952375        | \n",
       "| BRD-K52446745   | 1.951928        | \n",
       "| BRD-A94546435   | 1.951848        | \n",
       "| BRD-K33926001   | 1.951625        | \n",
       "| chlorprothixene | 1.951133        | \n",
       "\n",
       "\n"
      ],
      "text/plain": [
       "   compound_name   connectivity_score\n",
       "1  BRD-A66604020   1.968646          \n",
       "2  BRD-K63938928   1.967073          \n",
       "3  flunarizine     1.966886          \n",
       "4  pifithrin-mu    1.964134          \n",
       "5  BRD-A17757596   1.962936          \n",
       "6  alpha-estradiol 1.960694          \n",
       "7  genistein       1.959111          \n",
       "8  BRD-K06071925   1.958997          \n",
       "9  dydrogesterone  1.956253          \n",
       "10 U0126           1.955761          \n",
       "11 BRD-K35514965   1.954762          \n",
       "12 BRD-K28362289   1.954475          \n",
       "13 VU-0413243-1    1.953214          \n",
       "14 BRD-K51320264   1.952768          \n",
       "15 riluzole        1.952536          \n",
       "16 equilin         1.952375          \n",
       "17 BRD-K52446745   1.951928          \n",
       "18 BRD-A94546435   1.951848          \n",
       "19 BRD-K33926001   1.951625          \n",
       "20 chlorprothixene 1.951133          "
      ]
     },
     "metadata": {},
     "output_type": "display_data"
    }
   ],
   "source": [
    "(ks_score_vec %>% arrange(desc(connectivity_score)))[1:20,]"
   ]
  },
  {
   "cell_type": "code",
   "execution_count": 49,
   "metadata": {},
   "outputs": [
    {
     "data": {
      "text/html": [
       "<table>\n",
       "<thead><tr><th></th><th scope=col>compound_name</th><th scope=col>connectivity_score</th></tr></thead>\n",
       "<tbody>\n",
       "\t<tr><th scope=row>280</th><td>tacrolimus      </td><td>1.891758        </td></tr>\n",
       "\t<tr><th scope=row>281</th><td>BRD-K86565213   </td><td>1.891596        </td></tr>\n",
       "\t<tr><th scope=row>282</th><td>TL-HRAS-61      </td><td>1.891488        </td></tr>\n",
       "\t<tr><th scope=row>283</th><td>benzylpenicillin</td><td>1.890990        </td></tr>\n",
       "\t<tr><th scope=row>284</th><td>Y-26763         </td><td>1.890850        </td></tr>\n",
       "\t<tr><th scope=row>285</th><td>desoximetasone  </td><td>1.890777        </td></tr>\n",
       "\t<tr><th scope=row>286</th><td>BRD-K47147974   </td><td>1.890658        </td></tr>\n",
       "\t<tr><th scope=row>287</th><td>BRD-K84762162   </td><td>1.890161        </td></tr>\n",
       "\t<tr><th scope=row>288</th><td>raloxifene      </td><td>1.890081        </td></tr>\n",
       "\t<tr><th scope=row>289</th><td>PCI-34051       </td><td>1.890015        </td></tr>\n",
       "\t<tr><th scope=row>290</th><td>KU-C103853      </td><td>1.889963        </td></tr>\n",
       "</tbody>\n",
       "</table>\n"
      ],
      "text/latex": [
       "\\begin{tabular}{r|ll}\n",
       "  & compound\\_name & connectivity\\_score\\\\\n",
       "\\hline\n",
       "\t280 & tacrolimus       & 1.891758        \\\\\n",
       "\t281 & BRD-K86565213    & 1.891596        \\\\\n",
       "\t282 & TL-HRAS-61       & 1.891488        \\\\\n",
       "\t283 & benzylpenicillin & 1.890990        \\\\\n",
       "\t284 & Y-26763          & 1.890850        \\\\\n",
       "\t285 & desoximetasone   & 1.890777        \\\\\n",
       "\t286 & BRD-K47147974    & 1.890658        \\\\\n",
       "\t287 & BRD-K84762162    & 1.890161        \\\\\n",
       "\t288 & raloxifene       & 1.890081        \\\\\n",
       "\t289 & PCI-34051        & 1.890015        \\\\\n",
       "\t290 & KU-C103853       & 1.889963        \\\\\n",
       "\\end{tabular}\n"
      ],
      "text/markdown": [
       "\n",
       "| <!--/--> | compound_name | connectivity_score | \n",
       "|---|---|---|---|---|---|---|---|---|---|---|\n",
       "| 280 | tacrolimus       | 1.891758         | \n",
       "| 281 | BRD-K86565213    | 1.891596         | \n",
       "| 282 | TL-HRAS-61       | 1.891488         | \n",
       "| 283 | benzylpenicillin | 1.890990         | \n",
       "| 284 | Y-26763          | 1.890850         | \n",
       "| 285 | desoximetasone   | 1.890777         | \n",
       "| 286 | BRD-K47147974    | 1.890658         | \n",
       "| 287 | BRD-K84762162    | 1.890161         | \n",
       "| 288 | raloxifene       | 1.890081         | \n",
       "| 289 | PCI-34051        | 1.890015         | \n",
       "| 290 | KU-C103853       | 1.889963         | \n",
       "\n",
       "\n"
      ],
      "text/plain": [
       "    compound_name    connectivity_score\n",
       "280 tacrolimus       1.891758          \n",
       "281 BRD-K86565213    1.891596          \n",
       "282 TL-HRAS-61       1.891488          \n",
       "283 benzylpenicillin 1.890990          \n",
       "284 Y-26763          1.890850          \n",
       "285 desoximetasone   1.890777          \n",
       "286 BRD-K47147974    1.890658          \n",
       "287 BRD-K84762162    1.890161          \n",
       "288 raloxifene       1.890081          \n",
       "289 PCI-34051        1.890015          \n",
       "290 KU-C103853       1.889963          "
      ]
     },
     "metadata": {},
     "output_type": "display_data"
    }
   ],
   "source": [
    "(ks_score_vec %>% arrange(desc(connectivity_score)))[280:290,]"
   ]
  },
  {
   "cell_type": "code",
   "execution_count": 51,
   "metadata": {},
   "outputs": [
    {
     "data": {
      "text/html": [
       "288.7"
      ],
      "text/latex": [
       "288.7"
      ],
      "text/markdown": [
       "288.7"
      ],
      "text/plain": [
       "[1] 288.7"
      ]
     },
     "metadata": {},
     "output_type": "display_data"
    }
   ],
   "source": [
    "5774 * 0.05"
   ]
  },
  {
   "cell_type": "code",
   "execution_count": 54,
   "metadata": {},
   "outputs": [],
   "source": [
    "tmp_df <- ks_score_vec[which(ks_score_vec$compound_name %in% nash_drugs),]"
   ]
  },
  {
   "cell_type": "code",
   "execution_count": 58,
   "metadata": {},
   "outputs": [
    {
     "data": {
      "text/html": [
       "<table>\n",
       "<thead><tr><th></th><th scope=col>compound_name</th><th scope=col>connectivity_score</th></tr></thead>\n",
       "<tbody>\n",
       "\t<tr><th scope=row>19</th><td>amlodipine    </td><td> 0.000000     </td></tr>\n",
       "\t<tr><th scope=row>57</th><td>caffeine      </td><td> 0.000000     </td></tr>\n",
       "\t<tr><th scope=row>148</th><td>ezetimibe     </td><td> 0.000000     </td></tr>\n",
       "\t<tr><th scope=row>243</th><td>perindopril   </td><td> 0.000000     </td></tr>\n",
       "\t<tr><th scope=row>250</th><td>pioglitazone  </td><td> 0.000000     </td></tr>\n",
       "\t<tr><th scope=row>295</th><td>rosuvastatin  </td><td> 0.000000     </td></tr>\n",
       "\t<tr><th scope=row>579</th><td>losartan      </td><td> 0.000000     </td></tr>\n",
       "\t<tr><th scope=row>648</th><td>rosiglitazone </td><td> 0.000000     </td></tr>\n",
       "\t<tr><th scope=row>684</th><td>atorvastatin  </td><td> 1.700665     </td></tr>\n",
       "\t<tr><th scope=row>2202</th><td>amlodipine    </td><td> 0.000000     </td></tr>\n",
       "\t<tr><th scope=row>2258</th><td>ezetimibe     </td><td>-1.766047     </td></tr>\n",
       "\t<tr><th scope=row>2272</th><td>pioglitazone  </td><td>-1.868465     </td></tr>\n",
       "\t<tr><th scope=row>2403</th><td>caffeine      </td><td> 0.000000     </td></tr>\n",
       "\t<tr><th scope=row>2538</th><td>glimepiride   </td><td>-1.805878     </td></tr>\n",
       "\t<tr><th scope=row>2657</th><td>quinidine     </td><td> 1.817604     </td></tr>\n",
       "\t<tr><th scope=row>2720</th><td>quinidine     </td><td> 0.000000     </td></tr>\n",
       "\t<tr><th scope=row>2734</th><td>telmisartan   </td><td> 0.000000     </td></tr>\n",
       "\t<tr><th scope=row>2742</th><td>losartan      </td><td>-1.814790     </td></tr>\n",
       "\t<tr><th scope=row>2787</th><td>rosuvastatin  </td><td>-1.894108     </td></tr>\n",
       "\t<tr><th scope=row>2833</th><td>spironolactone</td><td> 1.762754     </td></tr>\n",
       "\t<tr><th scope=row>2855</th><td>perindopril   </td><td> 0.000000     </td></tr>\n",
       "\t<tr><th scope=row>3276</th><td>acarbose      </td><td> 1.764762     </td></tr>\n",
       "\t<tr><th scope=row>3427</th><td>rosiglitazone </td><td> 1.933630     </td></tr>\n",
       "\t<tr><th scope=row>3856</th><td>glimepiride   </td><td> 0.000000     </td></tr>\n",
       "\t<tr><th scope=row>3868</th><td>acarbose      </td><td> 0.000000     </td></tr>\n",
       "\t<tr><th scope=row>3930</th><td>fenofibrate   </td><td> 1.868446     </td></tr>\n",
       "\t<tr><th scope=row>4602</th><td>atorvastatin  </td><td> 1.850435     </td></tr>\n",
       "\t<tr><th scope=row>4603</th><td>atorvastatin  </td><td> 1.938382     </td></tr>\n",
       "\t<tr><th scope=row>4866</th><td>atorvastatin  </td><td> 0.000000     </td></tr>\n",
       "\t<tr><th scope=row>4867</th><td>atorvastatin  </td><td> 1.878150     </td></tr>\n",
       "</tbody>\n",
       "</table>\n"
      ],
      "text/latex": [
       "\\begin{tabular}{r|ll}\n",
       "  & compound\\_name & connectivity\\_score\\\\\n",
       "\\hline\n",
       "\t19 & amlodipine     &  0.000000     \\\\\n",
       "\t57 & caffeine       &  0.000000     \\\\\n",
       "\t148 & ezetimibe      &  0.000000     \\\\\n",
       "\t243 & perindopril    &  0.000000     \\\\\n",
       "\t250 & pioglitazone   &  0.000000     \\\\\n",
       "\t295 & rosuvastatin   &  0.000000     \\\\\n",
       "\t579 & losartan       &  0.000000     \\\\\n",
       "\t648 & rosiglitazone  &  0.000000     \\\\\n",
       "\t684 & atorvastatin   &  1.700665     \\\\\n",
       "\t2202 & amlodipine     &  0.000000     \\\\\n",
       "\t2258 & ezetimibe      & -1.766047     \\\\\n",
       "\t2272 & pioglitazone   & -1.868465     \\\\\n",
       "\t2403 & caffeine       &  0.000000     \\\\\n",
       "\t2538 & glimepiride    & -1.805878     \\\\\n",
       "\t2657 & quinidine      &  1.817604     \\\\\n",
       "\t2720 & quinidine      &  0.000000     \\\\\n",
       "\t2734 & telmisartan    &  0.000000     \\\\\n",
       "\t2742 & losartan       & -1.814790     \\\\\n",
       "\t2787 & rosuvastatin   & -1.894108     \\\\\n",
       "\t2833 & spironolactone &  1.762754     \\\\\n",
       "\t2855 & perindopril    &  0.000000     \\\\\n",
       "\t3276 & acarbose       &  1.764762     \\\\\n",
       "\t3427 & rosiglitazone  &  1.933630     \\\\\n",
       "\t3856 & glimepiride    &  0.000000     \\\\\n",
       "\t3868 & acarbose       &  0.000000     \\\\\n",
       "\t3930 & fenofibrate    &  1.868446     \\\\\n",
       "\t4602 & atorvastatin   &  1.850435     \\\\\n",
       "\t4603 & atorvastatin   &  1.938382     \\\\\n",
       "\t4866 & atorvastatin   &  0.000000     \\\\\n",
       "\t4867 & atorvastatin   &  1.878150     \\\\\n",
       "\\end{tabular}\n"
      ],
      "text/markdown": [
       "\n",
       "| <!--/--> | compound_name | connectivity_score | \n",
       "|---|---|---|---|---|---|---|---|---|---|---|---|---|---|---|---|---|---|---|---|---|---|---|---|---|---|---|---|---|---|\n",
       "| 19 | amlodipine     |  0.000000      | \n",
       "| 57 | caffeine       |  0.000000      | \n",
       "| 148 | ezetimibe      |  0.000000      | \n",
       "| 243 | perindopril    |  0.000000      | \n",
       "| 250 | pioglitazone   |  0.000000      | \n",
       "| 295 | rosuvastatin   |  0.000000      | \n",
       "| 579 | losartan       |  0.000000      | \n",
       "| 648 | rosiglitazone  |  0.000000      | \n",
       "| 684 | atorvastatin   |  1.700665      | \n",
       "| 2202 | amlodipine     |  0.000000      | \n",
       "| 2258 | ezetimibe      | -1.766047      | \n",
       "| 2272 | pioglitazone   | -1.868465      | \n",
       "| 2403 | caffeine       |  0.000000      | \n",
       "| 2538 | glimepiride    | -1.805878      | \n",
       "| 2657 | quinidine      |  1.817604      | \n",
       "| 2720 | quinidine      |  0.000000      | \n",
       "| 2734 | telmisartan    |  0.000000      | \n",
       "| 2742 | losartan       | -1.814790      | \n",
       "| 2787 | rosuvastatin   | -1.894108      | \n",
       "| 2833 | spironolactone |  1.762754      | \n",
       "| 2855 | perindopril    |  0.000000      | \n",
       "| 3276 | acarbose       |  1.764762      | \n",
       "| 3427 | rosiglitazone  |  1.933630      | \n",
       "| 3856 | glimepiride    |  0.000000      | \n",
       "| 3868 | acarbose       |  0.000000      | \n",
       "| 3930 | fenofibrate    |  1.868446      | \n",
       "| 4602 | atorvastatin   |  1.850435      | \n",
       "| 4603 | atorvastatin   |  1.938382      | \n",
       "| 4866 | atorvastatin   |  0.000000      | \n",
       "| 4867 | atorvastatin   |  1.878150      | \n",
       "\n",
       "\n"
      ],
      "text/plain": [
       "     compound_name  connectivity_score\n",
       "19   amlodipine      0.000000         \n",
       "57   caffeine        0.000000         \n",
       "148  ezetimibe       0.000000         \n",
       "243  perindopril     0.000000         \n",
       "250  pioglitazone    0.000000         \n",
       "295  rosuvastatin    0.000000         \n",
       "579  losartan        0.000000         \n",
       "648  rosiglitazone   0.000000         \n",
       "684  atorvastatin    1.700665         \n",
       "2202 amlodipine      0.000000         \n",
       "2258 ezetimibe      -1.766047         \n",
       "2272 pioglitazone   -1.868465         \n",
       "2403 caffeine        0.000000         \n",
       "2538 glimepiride    -1.805878         \n",
       "2657 quinidine       1.817604         \n",
       "2720 quinidine       0.000000         \n",
       "2734 telmisartan     0.000000         \n",
       "2742 losartan       -1.814790         \n",
       "2787 rosuvastatin   -1.894108         \n",
       "2833 spironolactone  1.762754         \n",
       "2855 perindopril     0.000000         \n",
       "3276 acarbose        1.764762         \n",
       "3427 rosiglitazone   1.933630         \n",
       "3856 glimepiride     0.000000         \n",
       "3868 acarbose        0.000000         \n",
       "3930 fenofibrate     1.868446         \n",
       "4602 atorvastatin    1.850435         \n",
       "4603 atorvastatin    1.938382         \n",
       "4866 atorvastatin    0.000000         \n",
       "4867 atorvastatin    1.878150         "
      ]
     },
     "metadata": {},
     "output_type": "display_data"
    }
   ],
   "source": [
    "tmp_df"
   ]
  },
  {
   "cell_type": "code",
   "execution_count": 57,
   "metadata": {},
   "outputs": [
    {
     "data": {
      "text/html": [
       "<table>\n",
       "<thead><tr><th></th><th scope=col>compound_name</th><th scope=col>connectivity_score</th></tr></thead>\n",
       "<tbody>\n",
       "\t<tr><th scope=row>3427</th><td>rosiglitazone</td><td>1.933630     </td></tr>\n",
       "\t<tr><th scope=row>4603</th><td>atorvastatin </td><td>1.938382     </td></tr>\n",
       "</tbody>\n",
       "</table>\n"
      ],
      "text/latex": [
       "\\begin{tabular}{r|ll}\n",
       "  & compound\\_name & connectivity\\_score\\\\\n",
       "\\hline\n",
       "\t3427 & rosiglitazone & 1.933630     \\\\\n",
       "\t4603 & atorvastatin  & 1.938382     \\\\\n",
       "\\end{tabular}\n"
      ],
      "text/markdown": [
       "\n",
       "| <!--/--> | compound_name | connectivity_score | \n",
       "|---|---|\n",
       "| 3427 | rosiglitazone | 1.933630      | \n",
       "| 4603 | atorvastatin  | 1.938382      | \n",
       "\n",
       "\n"
      ],
      "text/plain": [
       "     compound_name connectivity_score\n",
       "3427 rosiglitazone 1.933630          \n",
       "4603 atorvastatin  1.938382          "
      ]
     },
     "metadata": {},
     "output_type": "display_data"
    }
   ],
   "source": [
    "tmp_df[which(tmp_df$connectivity_score > 1.89),]"
   ]
  },
  {
   "cell_type": "code",
   "execution_count": 48,
   "metadata": {},
   "outputs": [
    {
     "data": {
      "text/html": [
       "<ol class=list-inline>\n",
       "\t<li>30</li>\n",
       "\t<li>2</li>\n",
       "</ol>\n"
      ],
      "text/latex": [
       "\\begin{enumerate*}\n",
       "\\item 30\n",
       "\\item 2\n",
       "\\end{enumerate*}\n"
      ],
      "text/markdown": [
       "1. 30\n",
       "2. 2\n",
       "\n",
       "\n"
      ],
      "text/plain": [
       "[1] 30  2"
      ]
     },
     "metadata": {},
     "output_type": "display_data"
    }
   ],
   "source": [
    "dim(ks_score_vec[which(ks_score_vec$compound_name %in% nash_drugs),])"
   ]
  },
  {
   "cell_type": "code",
   "execution_count": null,
   "metadata": {},
   "outputs": [],
   "source": [
    "show_heatmap <- function(signatures) {\n",
    "    \n",
    "}"
   ]
  },
  {
   "cell_type": "code",
   "execution_count": null,
   "metadata": {},
   "outputs": [],
   "source": [
    "up_detail <- .ks_detail(up_v, nrow(gene_rank_bing))"
   ]
  },
  {
   "cell_type": "code",
   "execution_count": 69,
   "metadata": {},
   "outputs": [],
   "source": [
    "source(\"ks_connectivity.R\")"
   ]
  },
  {
   "cell_type": "code",
   "execution_count": 71,
   "metadata": {},
   "outputs": [
    {
     "name": "stdout",
     "output_type": "stream",
     "text": [
      "[1] \"INFO: 500 Instances.\"\n",
      "[1] \"INFO: 1000 Instances.\"\n",
      "[1] \"INFO: 1500 Instances.\"\n",
      "[1] \"INFO: 2000 Instances.\"\n",
      "[1] \"INFO: 2500 Instances.\"\n",
      "[1] \"INFO: 3000 Instances.\"\n",
      "[1] \"INFO: 3500 Instances.\"\n",
      "[1] \"INFO: 4000 Instances.\"\n",
      "[1] \"INFO: 4500 Instances.\"\n",
      "[1] \"INFO: 5000 Instances.\"\n",
      "[1] \"INFO: 5500 Instances.\"\n"
     ]
    }
   ],
   "source": [
    "ks_score_vec_mean <- ks_score_mean(up_signature_df$entrezgene_id, down_signature_df$entrezgene_id, gene_rank_bing, compound_name)"
   ]
  },
  {
   "cell_type": "code",
   "execution_count": 73,
   "metadata": {},
   "outputs": [
    {
     "data": {
      "image/png": "[encoded data removed]",
      "text/plain": [
       "Plot with title “Histogram of ks_score_vec_mean$connectivity_score”"
      ]
     },
     "metadata": {},
     "output_type": "display_data"
    }
   ],
   "source": [
    "hist(ks_score_vec_mean$connectivity_score)"
   ]
  },
  {
   "cell_type": "code",
   "execution_count": 75,
   "metadata": {},
   "outputs": [
    {
     "data": {
      "text/html": [
       "<ol class=list-inline>\n",
       "\t<li>9</li>\n",
       "\t<li>10</li>\n",
       "</ol>\n"
      ],
      "text/latex": [
       "\\begin{enumerate*}\n",
       "\\item 9\n",
       "\\item 10\n",
       "\\end{enumerate*}\n"
      ],
      "text/markdown": [
       "1. 9\n",
       "2. 10\n",
       "\n",
       "\n"
      ],
      "text/plain": [
       "[1]  9 10"
      ]
     },
     "metadata": {},
     "output_type": "display_data"
    }
   ],
   "source": [
    "check_overlap(ks_score_vec_mean, nash_drugs)"
   ]
  },
  {
   "cell_type": "code",
   "execution_count": 77,
   "metadata": {},
   "outputs": [],
   "source": [
    "tmp_df <- ks_score_vec_mean %>% arrange(desc(connectivity_score))"
   ]
  },
  {
   "cell_type": "code",
   "execution_count": 80,
   "metadata": {},
   "outputs": [
    {
     "data": {
      "text/html": [
       "<table>\n",
       "<thead><tr><th></th><th scope=col>compound_name</th><th scope=col>connectivity_score</th></tr></thead>\n",
       "<tbody>\n",
       "\t<tr><th scope=row>2</th><td>atorvastatin  </td><td> 0.29626662   </td></tr>\n",
       "\t<tr><th scope=row>11</th><td>atorvastatin  </td><td> 0.24929622   </td></tr>\n",
       "\t<tr><th scope=row>19</th><td>atorvastatin  </td><td> 0.23980760   </td></tr>\n",
       "\t<tr><th scope=row>62</th><td>rosuvastatin  </td><td> 0.19256403   </td></tr>\n",
       "\t<tr><th scope=row>107</th><td>atorvastatin  </td><td> 0.17135008   </td></tr>\n",
       "\t<tr><th scope=row>122</th><td>spironolactone</td><td> 0.16772772   </td></tr>\n",
       "\t<tr><th scope=row>187</th><td>ezetimibe     </td><td> 0.15088110   </td></tr>\n",
       "\t<tr><th scope=row>219</th><td>atorvastatin  </td><td> 0.14684819   </td></tr>\n",
       "\t<tr><th scope=row>272</th><td>rosuvastatin  </td><td> 0.13950424   </td></tr>\n",
       "\t<tr><th scope=row>322</th><td>perindopril   </td><td> 0.13128215   </td></tr>\n",
       "\t<tr><th scope=row>629</th><td>pioglitazone  </td><td> 0.09923008   </td></tr>\n",
       "\t<tr><th scope=row>1027</th><td>losartan      </td><td> 0.06668752   </td></tr>\n",
       "\t<tr><th scope=row>1374</th><td>amlodipine    </td><td> 0.00000000   </td></tr>\n",
       "\t<tr><th scope=row>1401</th><td>caffeine      </td><td> 0.00000000   </td></tr>\n",
       "\t<tr><th scope=row>2558</th><td>amlodipine    </td><td> 0.00000000   </td></tr>\n",
       "\t<tr><th scope=row>2591</th><td>ezetimibe     </td><td> 0.00000000   </td></tr>\n",
       "\t<tr><th scope=row>2604</th><td>pioglitazone  </td><td> 0.00000000   </td></tr>\n",
       "\t<tr><th scope=row>2682</th><td>caffeine      </td><td> 0.00000000   </td></tr>\n",
       "\t<tr><th scope=row>2757</th><td>glimepiride   </td><td> 0.00000000   </td></tr>\n",
       "\t<tr><th scope=row>2818</th><td>quinidine     </td><td> 0.00000000   </td></tr>\n",
       "\t<tr><th scope=row>2851</th><td>quinidine     </td><td> 0.00000000   </td></tr>\n",
       "\t<tr><th scope=row>2859</th><td>telmisartan   </td><td> 0.00000000   </td></tr>\n",
       "\t<tr><th scope=row>2864</th><td>losartan      </td><td> 0.00000000   </td></tr>\n",
       "\t<tr><th scope=row>3111</th><td>acarbose      </td><td> 0.00000000   </td></tr>\n",
       "\t<tr><th scope=row>3201</th><td>rosiglitazone </td><td> 0.00000000   </td></tr>\n",
       "\t<tr><th scope=row>3456</th><td>glimepiride   </td><td> 0.00000000   </td></tr>\n",
       "\t<tr><th scope=row>3465</th><td>acarbose      </td><td> 0.00000000   </td></tr>\n",
       "\t<tr><th scope=row>3499</th><td>fenofibrate   </td><td> 0.00000000   </td></tr>\n",
       "\t<tr><th scope=row>4895</th><td>perindopril   </td><td>-0.08364087   </td></tr>\n",
       "\t<tr><th scope=row>5466</th><td>rosiglitazone </td><td>-0.14384254   </td></tr>\n",
       "</tbody>\n",
       "</table>\n"
      ],
      "text/latex": [
       "\\begin{tabular}{r|ll}\n",
       "  & compound\\_name & connectivity\\_score\\\\\n",
       "\\hline\n",
       "\t2 & atorvastatin   &  0.29626662   \\\\\n",
       "\t11 & atorvastatin   &  0.24929622   \\\\\n",
       "\t19 & atorvastatin   &  0.23980760   \\\\\n",
       "\t62 & rosuvastatin   &  0.19256403   \\\\\n",
       "\t107 & atorvastatin   &  0.17135008   \\\\\n",
       "\t122 & spironolactone &  0.16772772   \\\\\n",
       "\t187 & ezetimibe      &  0.15088110   \\\\\n",
       "\t219 & atorvastatin   &  0.14684819   \\\\\n",
       "\t272 & rosuvastatin   &  0.13950424   \\\\\n",
       "\t322 & perindopril    &  0.13128215   \\\\\n",
       "\t629 & pioglitazone   &  0.09923008   \\\\\n",
       "\t1027 & losartan       &  0.06668752   \\\\\n",
       "\t1374 & amlodipine     &  0.00000000   \\\\\n",
       "\t1401 & caffeine       &  0.00000000   \\\\\n",
       "\t2558 & amlodipine     &  0.00000000   \\\\\n",
       "\t2591 & ezetimibe      &  0.00000000   \\\\\n",
       "\t2604 & pioglitazone   &  0.00000000   \\\\\n",
       "\t2682 & caffeine       &  0.00000000   \\\\\n",
       "\t2757 & glimepiride    &  0.00000000   \\\\\n",
       "\t2818 & quinidine      &  0.00000000   \\\\\n",
       "\t2851 & quinidine      &  0.00000000   \\\\\n",
       "\t2859 & telmisartan    &  0.00000000   \\\\\n",
       "\t2864 & losartan       &  0.00000000   \\\\\n",
       "\t3111 & acarbose       &  0.00000000   \\\\\n",
       "\t3201 & rosiglitazone  &  0.00000000   \\\\\n",
       "\t3456 & glimepiride    &  0.00000000   \\\\\n",
       "\t3465 & acarbose       &  0.00000000   \\\\\n",
       "\t3499 & fenofibrate    &  0.00000000   \\\\\n",
       "\t4895 & perindopril    & -0.08364087   \\\\\n",
       "\t5466 & rosiglitazone  & -0.14384254   \\\\\n",
       "\\end{tabular}\n"
      ],
      "text/markdown": [
       "\n",
       "| <!--/--> | compound_name | connectivity_score | \n",
       "|---|---|---|---|---|---|---|---|---|---|---|---|---|---|---|---|---|---|---|---|---|---|---|---|---|---|---|---|---|---|\n",
       "| 2 | atorvastatin   |  0.29626662    | \n",
       "| 11 | atorvastatin   |  0.24929622    | \n",
       "| 19 | atorvastatin   |  0.23980760    | \n",
       "| 62 | rosuvastatin   |  0.19256403    | \n",
       "| 107 | atorvastatin   |  0.17135008    | \n",
       "| 122 | spironolactone |  0.16772772    | \n",
       "| 187 | ezetimibe      |  0.15088110    | \n",
       "| 219 | atorvastatin   |  0.14684819    | \n",
       "| 272 | rosuvastatin   |  0.13950424    | \n",
       "| 322 | perindopril    |  0.13128215    | \n",
       "| 629 | pioglitazone   |  0.09923008    | \n",
       "| 1027 | losartan       |  0.06668752    | \n",
       "| 1374 | amlodipine     |  0.00000000    | \n",
       "| 1401 | caffeine       |  0.00000000    | \n",
       "| 2558 | amlodipine     |  0.00000000    | \n",
       "| 2591 | ezetimibe      |  0.00000000    | \n",
       "| 2604 | pioglitazone   |  0.00000000    | \n",
       "| 2682 | caffeine       |  0.00000000    | \n",
       "| 2757 | glimepiride    |  0.00000000    | \n",
       "| 2818 | quinidine      |  0.00000000    | \n",
       "| 2851 | quinidine      |  0.00000000    | \n",
       "| 2859 | telmisartan    |  0.00000000    | \n",
       "| 2864 | losartan       |  0.00000000    | \n",
       "| 3111 | acarbose       |  0.00000000    | \n",
       "| 3201 | rosiglitazone  |  0.00000000    | \n",
       "| 3456 | glimepiride    |  0.00000000    | \n",
       "| 3465 | acarbose       |  0.00000000    | \n",
       "| 3499 | fenofibrate    |  0.00000000    | \n",
       "| 4895 | perindopril    | -0.08364087    | \n",
       "| 5466 | rosiglitazone  | -0.14384254    | \n",
       "\n",
       "\n"
      ],
      "text/plain": [
       "     compound_name  connectivity_score\n",
       "2    atorvastatin    0.29626662       \n",
       "11   atorvastatin    0.24929622       \n",
       "19   atorvastatin    0.23980760       \n",
       "62   rosuvastatin    0.19256403       \n",
       "107  atorvastatin    0.17135008       \n",
       "122  spironolactone  0.16772772       \n",
       "187  ezetimibe       0.15088110       \n",
       "219  atorvastatin    0.14684819       \n",
       "272  rosuvastatin    0.13950424       \n",
       "322  perindopril     0.13128215       \n",
       "629  pioglitazone    0.09923008       \n",
       "1027 losartan        0.06668752       \n",
       "1374 amlodipine      0.00000000       \n",
       "1401 caffeine        0.00000000       \n",
       "2558 amlodipine      0.00000000       \n",
       "2591 ezetimibe       0.00000000       \n",
       "2604 pioglitazone    0.00000000       \n",
       "2682 caffeine        0.00000000       \n",
       "2757 glimepiride     0.00000000       \n",
       "2818 quinidine       0.00000000       \n",
       "2851 quinidine       0.00000000       \n",
       "2859 telmisartan     0.00000000       \n",
       "2864 losartan        0.00000000       \n",
       "3111 acarbose        0.00000000       \n",
       "3201 rosiglitazone   0.00000000       \n",
       "3456 glimepiride     0.00000000       \n",
       "3465 acarbose        0.00000000       \n",
       "3499 fenofibrate     0.00000000       \n",
       "4895 perindopril    -0.08364087       \n",
       "5466 rosiglitazone  -0.14384254       "
      ]
     },
     "metadata": {},
     "output_type": "display_data"
    }
   ],
   "source": [
    "tmp_df[tmp_df$compound_name %in% nash_drugs,]"
   ]
  },
  {
   "cell_type": "code",
   "execution_count": null,
   "metadata": {},
   "outputs": [],
   "source": []
  },
  {
   "cell_type": "code",
   "execution_count": 81,
   "metadata": {},
   "outputs": [
    {
     "data": {
      "text/html": [
       "'/gpfs/ysm/project/zhao/zy92/NASH/dr_multiomics/code'"
      ],
      "text/latex": [
       "'/gpfs/ysm/project/zhao/zy92/NASH/dr\\_multiomics/code'"
      ],
      "text/markdown": [
       "'/gpfs/ysm/project/zhao/zy92/NASH/dr_multiomics/code'"
      ],
      "text/plain": [
       "[1] \"/gpfs/ysm/project/zhao/zy92/NASH/dr_multiomics/code\""
      ]
     },
     "metadata": {},
     "output_type": "display_data"
    }
   ],
   "source": [
    "getwd()"
   ]
  },
  {
   "cell_type": "code",
   "execution_count": 82,
   "metadata": {},
   "outputs": [
    {
     "data": {
      "text/html": [
       "<table>\n",
       "<thead><tr><th scope=col>compound_name</th><th scope=col>connectivity_score</th></tr></thead>\n",
       "<tbody>\n",
       "\t<tr><td>rutin            </td><td> 0.05452085      </td></tr>\n",
       "\t<tr><td>tyrphostin-AG-82 </td><td> 0.03129074      </td></tr>\n",
       "\t<tr><td>AG-957           </td><td>-0.05806736      </td></tr>\n",
       "\t<tr><td>alaproclate      </td><td> 0.00000000      </td></tr>\n",
       "\t<tr><td>albendazole      </td><td>-0.14208149      </td></tr>\n",
       "\t<tr><td>alclometasone    </td><td> 0.00000000      </td></tr>\n",
       "\t<tr><td>alfuzosin        </td><td> 0.00000000      </td></tr>\n",
       "\t<tr><td>aliskiren        </td><td> 0.10460597      </td></tr>\n",
       "\t<tr><td>alprenolol       </td><td> 0.07443579      </td></tr>\n",
       "\t<tr><td>alrestatin       </td><td> 0.00000000      </td></tr>\n",
       "\t<tr><td>altrenogest      </td><td>-0.04517336      </td></tr>\n",
       "\t<tr><td>altretamine      </td><td> 0.00000000      </td></tr>\n",
       "\t<tr><td>amcinonide       </td><td> 0.07809201      </td></tr>\n",
       "\t<tr><td>AMG-9810         </td><td> 0.00000000      </td></tr>\n",
       "\t<tr><td>spiramide        </td><td>-0.08946630      </td></tr>\n",
       "\t<tr><td>aminoglutethimide</td><td> 0.06014493      </td></tr>\n",
       "\t<tr><td>aminopentamide   </td><td> 0.11024213      </td></tr>\n",
       "\t<tr><td>amiodarone       </td><td> 0.00000000      </td></tr>\n",
       "\t<tr><td>amlodipine       </td><td> 0.00000000      </td></tr>\n",
       "\t<tr><td>amoxapine        </td><td> 0.00000000      </td></tr>\n",
       "</tbody>\n",
       "</table>\n"
      ],
      "text/latex": [
       "\\begin{tabular}{r|ll}\n",
       " compound\\_name & connectivity\\_score\\\\\n",
       "\\hline\n",
       "\t rutin             &  0.05452085      \\\\\n",
       "\t tyrphostin-AG-82  &  0.03129074      \\\\\n",
       "\t AG-957            & -0.05806736      \\\\\n",
       "\t alaproclate       &  0.00000000      \\\\\n",
       "\t albendazole       & -0.14208149      \\\\\n",
       "\t alclometasone     &  0.00000000      \\\\\n",
       "\t alfuzosin         &  0.00000000      \\\\\n",
       "\t aliskiren         &  0.10460597      \\\\\n",
       "\t alprenolol        &  0.07443579      \\\\\n",
       "\t alrestatin        &  0.00000000      \\\\\n",
       "\t altrenogest       & -0.04517336      \\\\\n",
       "\t altretamine       &  0.00000000      \\\\\n",
       "\t amcinonide        &  0.07809201      \\\\\n",
       "\t AMG-9810          &  0.00000000      \\\\\n",
       "\t spiramide         & -0.08946630      \\\\\n",
       "\t aminoglutethimide &  0.06014493      \\\\\n",
       "\t aminopentamide    &  0.11024213      \\\\\n",
       "\t amiodarone        &  0.00000000      \\\\\n",
       "\t amlodipine        &  0.00000000      \\\\\n",
       "\t amoxapine         &  0.00000000      \\\\\n",
       "\\end{tabular}\n"
      ],
      "text/markdown": [
       "\n",
       "compound_name | connectivity_score | \n",
       "|---|---|---|---|---|---|---|---|---|---|---|---|---|---|---|---|---|---|---|---|\n",
       "| rutin             |  0.05452085       | \n",
       "| tyrphostin-AG-82  |  0.03129074       | \n",
       "| AG-957            | -0.05806736       | \n",
       "| alaproclate       |  0.00000000       | \n",
       "| albendazole       | -0.14208149       | \n",
       "| alclometasone     |  0.00000000       | \n",
       "| alfuzosin         |  0.00000000       | \n",
       "| aliskiren         |  0.10460597       | \n",
       "| alprenolol        |  0.07443579       | \n",
       "| alrestatin        |  0.00000000       | \n",
       "| altrenogest       | -0.04517336       | \n",
       "| altretamine       |  0.00000000       | \n",
       "| amcinonide        |  0.07809201       | \n",
       "| AMG-9810          |  0.00000000       | \n",
       "| spiramide         | -0.08946630       | \n",
       "| aminoglutethimide |  0.06014493       | \n",
       "| aminopentamide    |  0.11024213       | \n",
       "| amiodarone        |  0.00000000       | \n",
       "| amlodipine        |  0.00000000       | \n",
       "| amoxapine         |  0.00000000       | \n",
       "\n",
       "\n"
      ],
      "text/plain": [
       "   compound_name     connectivity_score\n",
       "1  rutin              0.05452085       \n",
       "2  tyrphostin-AG-82   0.03129074       \n",
       "3  AG-957            -0.05806736       \n",
       "4  alaproclate        0.00000000       \n",
       "5  albendazole       -0.14208149       \n",
       "6  alclometasone      0.00000000       \n",
       "7  alfuzosin          0.00000000       \n",
       "8  aliskiren          0.10460597       \n",
       "9  alprenolol         0.07443579       \n",
       "10 alrestatin         0.00000000       \n",
       "11 altrenogest       -0.04517336       \n",
       "12 altretamine        0.00000000       \n",
       "13 amcinonide         0.07809201       \n",
       "14 AMG-9810           0.00000000       \n",
       "15 spiramide         -0.08946630       \n",
       "16 aminoglutethimide  0.06014493       \n",
       "17 aminopentamide     0.11024213       \n",
       "18 amiodarone         0.00000000       \n",
       "19 amlodipine         0.00000000       \n",
       "20 amoxapine          0.00000000       "
      ]
     },
     "metadata": {},
     "output_type": "display_data"
    }
   ],
   "source": [
    "ks_score_vec_mean[1:20,]"
   ]
  },
  {
   "cell_type": "code",
   "execution_count": 84,
   "metadata": {},
   "outputs": [],
   "source": [
    "ks_score_ranked <- ks_score_vec_mean %>% arrange(desc(connectivity_score))"
   ]
  },
  {
   "cell_type": "code",
   "execution_count": 87,
   "metadata": {},
   "outputs": [
    {
     "data": {
      "text/html": [
       "<table>\n",
       "<thead><tr><th scope=col>compound_name</th><th scope=col>connectivity_score</th></tr></thead>\n",
       "<tbody>\n",
       "\t<tr><td>rutin           </td><td> 0.05452085     </td></tr>\n",
       "\t<tr><td>tyrphostin-AG-82</td><td> 0.03129074     </td></tr>\n",
       "\t<tr><td>AG-957          </td><td>-0.05806736     </td></tr>\n",
       "\t<tr><td>alaproclate     </td><td> 0.00000000     </td></tr>\n",
       "\t<tr><td>albendazole     </td><td>-0.14208149     </td></tr>\n",
       "\t<tr><td>alclometasone   </td><td> 0.00000000     </td></tr>\n",
       "</tbody>\n",
       "</table>\n"
      ],
      "text/latex": [
       "\\begin{tabular}{r|ll}\n",
       " compound\\_name & connectivity\\_score\\\\\n",
       "\\hline\n",
       "\t rutin            &  0.05452085     \\\\\n",
       "\t tyrphostin-AG-82 &  0.03129074     \\\\\n",
       "\t AG-957           & -0.05806736     \\\\\n",
       "\t alaproclate      &  0.00000000     \\\\\n",
       "\t albendazole      & -0.14208149     \\\\\n",
       "\t alclometasone    &  0.00000000     \\\\\n",
       "\\end{tabular}\n"
      ],
      "text/markdown": [
       "\n",
       "compound_name | connectivity_score | \n",
       "|---|---|---|---|---|---|\n",
       "| rutin            |  0.05452085      | \n",
       "| tyrphostin-AG-82 |  0.03129074      | \n",
       "| AG-957           | -0.05806736      | \n",
       "| alaproclate      |  0.00000000      | \n",
       "| albendazole      | -0.14208149      | \n",
       "| alclometasone    |  0.00000000      | \n",
       "\n",
       "\n"
      ],
      "text/plain": [
       "  compound_name    connectivity_score\n",
       "1 rutin             0.05452085       \n",
       "2 tyrphostin-AG-82  0.03129074       \n",
       "3 AG-957           -0.05806736       \n",
       "4 alaproclate       0.00000000       \n",
       "5 albendazole      -0.14208149       \n",
       "6 alclometasone     0.00000000       "
      ]
     },
     "metadata": {},
     "output_type": "display_data"
    }
   ],
   "source": [
    "head(ks_score_vec_mean)"
   ]
  },
  {
   "cell_type": "code",
   "execution_count": 88,
   "metadata": {},
   "outputs": [
    {
     "data": {
      "text/html": [
       "<table>\n",
       "<thead><tr><th scope=col>compound_name</th><th scope=col>connectivity_score</th></tr></thead>\n",
       "<tbody>\n",
       "\t<tr><td>rutin           </td><td> 1.885672       </td></tr>\n",
       "\t<tr><td>tyrphostin-AG-82</td><td> 0.000000       </td></tr>\n",
       "\t<tr><td>AG-957          </td><td> 0.000000       </td></tr>\n",
       "\t<tr><td>alaproclate     </td><td> 1.924409       </td></tr>\n",
       "\t<tr><td>albendazole     </td><td> 0.000000       </td></tr>\n",
       "\t<tr><td>alclometasone   </td><td>-1.766389       </td></tr>\n",
       "</tbody>\n",
       "</table>\n"
      ],
      "text/latex": [
       "\\begin{tabular}{r|ll}\n",
       " compound\\_name & connectivity\\_score\\\\\n",
       "\\hline\n",
       "\t rutin            &  1.885672       \\\\\n",
       "\t tyrphostin-AG-82 &  0.000000       \\\\\n",
       "\t AG-957           &  0.000000       \\\\\n",
       "\t alaproclate      &  1.924409       \\\\\n",
       "\t albendazole      &  0.000000       \\\\\n",
       "\t alclometasone    & -1.766389       \\\\\n",
       "\\end{tabular}\n"
      ],
      "text/markdown": [
       "\n",
       "compound_name | connectivity_score | \n",
       "|---|---|---|---|---|---|\n",
       "| rutin            |  1.885672        | \n",
       "| tyrphostin-AG-82 |  0.000000        | \n",
       "| AG-957           |  0.000000        | \n",
       "| alaproclate      |  1.924409        | \n",
       "| albendazole      |  0.000000        | \n",
       "| alclometasone    | -1.766389        | \n",
       "\n",
       "\n"
      ],
      "text/plain": [
       "  compound_name    connectivity_score\n",
       "1 rutin             1.885672         \n",
       "2 tyrphostin-AG-82  0.000000         \n",
       "3 AG-957            0.000000         \n",
       "4 alaproclate       1.924409         \n",
       "5 albendazole       0.000000         \n",
       "6 alclometasone    -1.766389         "
      ]
     },
     "metadata": {},
     "output_type": "display_data"
    }
   ],
   "source": [
    "head(ks_score_vec)"
   ]
  },
  {
   "cell_type": "code",
   "execution_count": 89,
   "metadata": {},
   "outputs": [],
   "source": [
    "ks_score_vec_ranked <- ks_score_vec %>% arrange(desc(connectivity_score))"
   ]
  },
  {
   "cell_type": "code",
   "execution_count": null,
   "metadata": {},
   "outputs": [],
   "source": [
    "cor_score_vec <- correla"
   ]
  },
  {
   "cell_type": "code",
   "execution_count": 85,
   "metadata": {},
   "outputs": [
    {
     "data": {
      "text/html": [
       "<table>\n",
       "<thead><tr><th scope=col>compound_name</th><th scope=col>connectivity_score</th></tr></thead>\n",
       "<tbody>\n",
       "\t<tr><td>PD-0325901              </td><td>0.3164465               </td></tr>\n",
       "\t<tr><td>atorvastatin            </td><td>0.2962666               </td></tr>\n",
       "\t<tr><td>BRD-K02269790           </td><td>0.2921521               </td></tr>\n",
       "\t<tr><td>BRD-K92981876           </td><td>0.2778050               </td></tr>\n",
       "\t<tr><td>BMS-536924              </td><td>0.2684924               </td></tr>\n",
       "\t<tr><td>ENMD-2076               </td><td>0.2674282               </td></tr>\n",
       "\t<tr><td>PP-110                  </td><td>0.2573817               </td></tr>\n",
       "\t<tr><td>PD-0325901              </td><td>0.2553608               </td></tr>\n",
       "\t<tr><td>domperidone             </td><td>0.2527890               </td></tr>\n",
       "\t<tr><td>U-0126                  </td><td>0.2502311               </td></tr>\n",
       "\t<tr><td>atorvastatin            </td><td>0.2492962               </td></tr>\n",
       "\t<tr><td>WZ-4002                 </td><td>0.2481085               </td></tr>\n",
       "\t<tr><td>WZ-4002                 </td><td>0.2479043               </td></tr>\n",
       "\t<tr><td>BRD-K54470384           </td><td>0.2443384               </td></tr>\n",
       "\t<tr><td>PD-0325901              </td><td>0.2441259               </td></tr>\n",
       "\t<tr><td>BRD-K50985433           </td><td>0.2422837               </td></tr>\n",
       "\t<tr><td>riluzole                </td><td>0.2415167               </td></tr>\n",
       "\t<tr><td>tamoxifen               </td><td>0.2408823               </td></tr>\n",
       "\t<tr><td>atorvastatin            </td><td>0.2398076               </td></tr>\n",
       "\t<tr><td>PD-98059                </td><td>0.2365963               </td></tr>\n",
       "\t<tr><td>ZM-447439               </td><td>0.2308824               </td></tr>\n",
       "\t<tr><td>U-0126                  </td><td>0.2239175               </td></tr>\n",
       "\t<tr><td>AC-55649                </td><td>0.2234821               </td></tr>\n",
       "\t<tr><td>avrainvillamide-analog-4</td><td>0.2234320               </td></tr>\n",
       "\t<tr><td>BRD-K44931544           </td><td>0.2214700               </td></tr>\n",
       "\t<tr><td>NSC-23766               </td><td>0.2207731               </td></tr>\n",
       "\t<tr><td>simvastatin             </td><td>0.2205438               </td></tr>\n",
       "\t<tr><td>BRD-K33926001           </td><td>0.2199132               </td></tr>\n",
       "\t<tr><td>wortmannin              </td><td>0.2197848               </td></tr>\n",
       "\t<tr><td>quercetagetin           </td><td>0.2172826               </td></tr>\n",
       "\t<tr><td>⋮</td><td>⋮</td></tr>\n",
       "\t<tr><td>estriol                                </td><td>0.1537097                              </td></tr>\n",
       "\t<tr><td>BRD-K00954209                          </td><td>0.1534572                              </td></tr>\n",
       "\t<tr><td>raloxifene                             </td><td>0.1533545                              </td></tr>\n",
       "\t<tr><td>MDM2-inhibitor                         </td><td>0.1531325                              </td></tr>\n",
       "\t<tr><td>oxaprozin                              </td><td>0.1528676                              </td></tr>\n",
       "\t<tr><td>dexamethasone                          </td><td>0.1525044                              </td></tr>\n",
       "\t<tr><td>tiabendazole                           </td><td>0.1523324                              </td></tr>\n",
       "\t<tr><td>MK-5108                                </td><td>0.1523142                              </td></tr>\n",
       "\t<tr><td>GW-441756                              </td><td>0.1521932                              </td></tr>\n",
       "\t<tr><td>CCMQ                                   </td><td>0.1518225                              </td></tr>\n",
       "\t<tr><td>somatostatin                           </td><td>0.1517388                              </td></tr>\n",
       "\t<tr><td>physostigmine                          </td><td>0.1516949                              </td></tr>\n",
       "\t<tr><td>ungerine                               </td><td>0.1516664                              </td></tr>\n",
       "\t<tr><td>NFKB-activation-inhibitor-II           </td><td>0.1516255                              </td></tr>\n",
       "\t<tr><td>raloxifene                             </td><td>0.1514325                              </td></tr>\n",
       "\t<tr><td>tyrphostin-AG-879                      </td><td>0.1510173                              </td></tr>\n",
       "\t<tr><td>ezetimibe                              </td><td>0.1508811                              </td></tr>\n",
       "\t<tr><td>BRD-A08658758                          </td><td>0.1508296                              </td></tr>\n",
       "\t<tr><td>syringic-acid                          </td><td>0.1508127                              </td></tr>\n",
       "\t<tr><td>BRD-K94818765                          </td><td>0.1506782                              </td></tr>\n",
       "\t<tr><td>tert-butylhydroquinone                 </td><td>0.1504679                              </td></tr>\n",
       "\t<tr><td>VU-0420363-1                           </td><td>0.1501687                              </td></tr>\n",
       "\t<tr><td>BRD-K06592610                          </td><td>0.1500304                              </td></tr>\n",
       "\t<tr><td>AZ-628                                 </td><td>0.1500235                              </td></tr>\n",
       "\t<tr><td>AQ-RA741                               </td><td>0.1499926                              </td></tr>\n",
       "\t<tr><td>BG-FA-0953                             </td><td>0.1498034                              </td></tr>\n",
       "\t<tr><td>KU-C103869                             </td><td>0.1492478                              </td></tr>\n",
       "\t<tr><td>KU-C103875                             </td><td>0.1491965                              </td></tr>\n",
       "\t<tr><td>N-(3-acetamidophenyl)-3-chlorobenzamide</td><td>0.1491755                              </td></tr>\n",
       "\t<tr><td>BRD-A82628254                          </td><td>0.1491300                              </td></tr>\n",
       "</tbody>\n",
       "</table>\n"
      ],
      "text/latex": [
       "\\begin{tabular}{r|ll}\n",
       " compound\\_name & connectivity\\_score\\\\\n",
       "\\hline\n",
       "\t PD-0325901               & 0.3164465               \\\\\n",
       "\t atorvastatin             & 0.2962666               \\\\\n",
       "\t BRD-K02269790            & 0.2921521               \\\\\n",
       "\t BRD-K92981876            & 0.2778050               \\\\\n",
       "\t BMS-536924               & 0.2684924               \\\\\n",
       "\t ENMD-2076                & 0.2674282               \\\\\n",
       "\t PP-110                   & 0.2573817               \\\\\n",
       "\t PD-0325901               & 0.2553608               \\\\\n",
       "\t domperidone              & 0.2527890               \\\\\n",
       "\t U-0126                   & 0.2502311               \\\\\n",
       "\t atorvastatin             & 0.2492962               \\\\\n",
       "\t WZ-4002                  & 0.2481085               \\\\\n",
       "\t WZ-4002                  & 0.2479043               \\\\\n",
       "\t BRD-K54470384            & 0.2443384               \\\\\n",
       "\t PD-0325901               & 0.2441259               \\\\\n",
       "\t BRD-K50985433            & 0.2422837               \\\\\n",
       "\t riluzole                 & 0.2415167               \\\\\n",
       "\t tamoxifen                & 0.2408823               \\\\\n",
       "\t atorvastatin             & 0.2398076               \\\\\n",
       "\t PD-98059                 & 0.2365963               \\\\\n",
       "\t ZM-447439                & 0.2308824               \\\\\n",
       "\t U-0126                   & 0.2239175               \\\\\n",
       "\t AC-55649                 & 0.2234821               \\\\\n",
       "\t avrainvillamide-analog-4 & 0.2234320               \\\\\n",
       "\t BRD-K44931544            & 0.2214700               \\\\\n",
       "\t NSC-23766                & 0.2207731               \\\\\n",
       "\t simvastatin              & 0.2205438               \\\\\n",
       "\t BRD-K33926001            & 0.2199132               \\\\\n",
       "\t wortmannin               & 0.2197848               \\\\\n",
       "\t quercetagetin            & 0.2172826               \\\\\n",
       "\t ⋮ & ⋮\\\\\n",
       "\t estriol                                 & 0.1537097                              \\\\\n",
       "\t BRD-K00954209                           & 0.1534572                              \\\\\n",
       "\t raloxifene                              & 0.1533545                              \\\\\n",
       "\t MDM2-inhibitor                          & 0.1531325                              \\\\\n",
       "\t oxaprozin                               & 0.1528676                              \\\\\n",
       "\t dexamethasone                           & 0.1525044                              \\\\\n",
       "\t tiabendazole                            & 0.1523324                              \\\\\n",
       "\t MK-5108                                 & 0.1523142                              \\\\\n",
       "\t GW-441756                               & 0.1521932                              \\\\\n",
       "\t CCMQ                                    & 0.1518225                              \\\\\n",
       "\t somatostatin                            & 0.1517388                              \\\\\n",
       "\t physostigmine                           & 0.1516949                              \\\\\n",
       "\t ungerine                                & 0.1516664                              \\\\\n",
       "\t NFKB-activation-inhibitor-II            & 0.1516255                              \\\\\n",
       "\t raloxifene                              & 0.1514325                              \\\\\n",
       "\t tyrphostin-AG-879                       & 0.1510173                              \\\\\n",
       "\t ezetimibe                               & 0.1508811                              \\\\\n",
       "\t BRD-A08658758                           & 0.1508296                              \\\\\n",
       "\t syringic-acid                           & 0.1508127                              \\\\\n",
       "\t BRD-K94818765                           & 0.1506782                              \\\\\n",
       "\t tert-butylhydroquinone                  & 0.1504679                              \\\\\n",
       "\t VU-0420363-1                            & 0.1501687                              \\\\\n",
       "\t BRD-K06592610                           & 0.1500304                              \\\\\n",
       "\t AZ-628                                  & 0.1500235                              \\\\\n",
       "\t AQ-RA741                                & 0.1499926                              \\\\\n",
       "\t BG-FA-0953                              & 0.1498034                              \\\\\n",
       "\t KU-C103869                              & 0.1492478                              \\\\\n",
       "\t KU-C103875                              & 0.1491965                              \\\\\n",
       "\t N-(3-acetamidophenyl)-3-chlorobenzamide & 0.1491755                              \\\\\n",
       "\t BRD-A82628254                           & 0.1491300                              \\\\\n",
       "\\end{tabular}\n"
      ],
      "text/markdown": [
       "\n",
       "compound_name | connectivity_score | \n",
       "|---|---|---|---|---|---|---|---|---|---|---|---|---|---|---|---|---|---|---|---|---|---|---|---|---|---|---|---|---|---|---|---|---|---|---|---|---|---|---|---|---|---|---|---|---|---|---|---|---|---|---|---|---|---|---|---|---|---|---|---|---|\n",
       "| PD-0325901               | 0.3164465                | \n",
       "| atorvastatin             | 0.2962666                | \n",
       "| BRD-K02269790            | 0.2921521                | \n",
       "| BRD-K92981876            | 0.2778050                | \n",
       "| BMS-536924               | 0.2684924                | \n",
       "| ENMD-2076                | 0.2674282                | \n",
       "| PP-110                   | 0.2573817                | \n",
       "| PD-0325901               | 0.2553608                | \n",
       "| domperidone              | 0.2527890                | \n",
       "| U-0126                   | 0.2502311                | \n",
       "| atorvastatin             | 0.2492962                | \n",
       "| WZ-4002                  | 0.2481085                | \n",
       "| WZ-4002                  | 0.2479043                | \n",
       "| BRD-K54470384            | 0.2443384                | \n",
       "| PD-0325901               | 0.2441259                | \n",
       "| BRD-K50985433            | 0.2422837                | \n",
       "| riluzole                 | 0.2415167                | \n",
       "| tamoxifen                | 0.2408823                | \n",
       "| atorvastatin             | 0.2398076                | \n",
       "| PD-98059                 | 0.2365963                | \n",
       "| ZM-447439                | 0.2308824                | \n",
       "| U-0126                   | 0.2239175                | \n",
       "| AC-55649                 | 0.2234821                | \n",
       "| avrainvillamide-analog-4 | 0.2234320                | \n",
       "| BRD-K44931544            | 0.2214700                | \n",
       "| NSC-23766                | 0.2207731                | \n",
       "| simvastatin              | 0.2205438                | \n",
       "| BRD-K33926001            | 0.2199132                | \n",
       "| wortmannin               | 0.2197848                | \n",
       "| quercetagetin            | 0.2172826                | \n",
       "| ⋮ | ⋮ | \n",
       "| estriol                                 | 0.1537097                               | \n",
       "| BRD-K00954209                           | 0.1534572                               | \n",
       "| raloxifene                              | 0.1533545                               | \n",
       "| MDM2-inhibitor                          | 0.1531325                               | \n",
       "| oxaprozin                               | 0.1528676                               | \n",
       "| dexamethasone                           | 0.1525044                               | \n",
       "| tiabendazole                            | 0.1523324                               | \n",
       "| MK-5108                                 | 0.1523142                               | \n",
       "| GW-441756                               | 0.1521932                               | \n",
       "| CCMQ                                    | 0.1518225                               | \n",
       "| somatostatin                            | 0.1517388                               | \n",
       "| physostigmine                           | 0.1516949                               | \n",
       "| ungerine                                | 0.1516664                               | \n",
       "| NFKB-activation-inhibitor-II            | 0.1516255                               | \n",
       "| raloxifene                              | 0.1514325                               | \n",
       "| tyrphostin-AG-879                       | 0.1510173                               | \n",
       "| ezetimibe                               | 0.1508811                               | \n",
       "| BRD-A08658758                           | 0.1508296                               | \n",
       "| syringic-acid                           | 0.1508127                               | \n",
       "| BRD-K94818765                           | 0.1506782                               | \n",
       "| tert-butylhydroquinone                  | 0.1504679                               | \n",
       "| VU-0420363-1                            | 0.1501687                               | \n",
       "| BRD-K06592610                           | 0.1500304                               | \n",
       "| AZ-628                                  | 0.1500235                               | \n",
       "| AQ-RA741                                | 0.1499926                               | \n",
       "| BG-FA-0953                              | 0.1498034                               | \n",
       "| KU-C103869                              | 0.1492478                               | \n",
       "| KU-C103875                              | 0.1491965                               | \n",
       "| N-(3-acetamidophenyl)-3-chlorobenzamide | 0.1491755                               | \n",
       "| BRD-A82628254                           | 0.1491300                               | \n",
       "\n",
       "\n"
      ],
      "text/plain": [
       "    compound_name                           connectivity_score\n",
       "1   PD-0325901                              0.3164465         \n",
       "2   atorvastatin                            0.2962666         \n",
       "3   BRD-K02269790                           0.2921521         \n",
       "4   BRD-K92981876                           0.2778050         \n",
       "5   BMS-536924                              0.2684924         \n",
       "6   ENMD-2076                               0.2674282         \n",
       "7   PP-110                                  0.2573817         \n",
       "8   PD-0325901                              0.2553608         \n",
       "9   domperidone                             0.2527890         \n",
       "10  U-0126                                  0.2502311         \n",
       "11  atorvastatin                            0.2492962         \n",
       "12  WZ-4002                                 0.2481085         \n",
       "13  WZ-4002                                 0.2479043         \n",
       "14  BRD-K54470384                           0.2443384         \n",
       "15  PD-0325901                              0.2441259         \n",
       "16  BRD-K50985433                           0.2422837         \n",
       "17  riluzole                                0.2415167         \n",
       "18  tamoxifen                               0.2408823         \n",
       "19  atorvastatin                            0.2398076         \n",
       "20  PD-98059                                0.2365963         \n",
       "21  ZM-447439                               0.2308824         \n",
       "22  U-0126                                  0.2239175         \n",
       "23  AC-55649                                0.2234821         \n",
       "24  avrainvillamide-analog-4                0.2234320         \n",
       "25  BRD-K44931544                           0.2214700         \n",
       "26  NSC-23766                               0.2207731         \n",
       "27  simvastatin                             0.2205438         \n",
       "28  BRD-K33926001                           0.2199132         \n",
       "29  wortmannin                              0.2197848         \n",
       "30  quercetagetin                           0.2172826         \n",
       "⋮   ⋮                                       ⋮                 \n",
       "171 estriol                                 0.1537097         \n",
       "172 BRD-K00954209                           0.1534572         \n",
       "173 raloxifene                              0.1533545         \n",
       "174 MDM2-inhibitor                          0.1531325         \n",
       "175 oxaprozin                               0.1528676         \n",
       "176 dexamethasone                           0.1525044         \n",
       "177 tiabendazole                            0.1523324         \n",
       "178 MK-5108                                 0.1523142         \n",
       "179 GW-441756                               0.1521932         \n",
       "180 CCMQ                                    0.1518225         \n",
       "181 somatostatin                            0.1517388         \n",
       "182 physostigmine                           0.1516949         \n",
       "183 ungerine                                0.1516664         \n",
       "184 NFKB-activation-inhibitor-II            0.1516255         \n",
       "185 raloxifene                              0.1514325         \n",
       "186 tyrphostin-AG-879                       0.1510173         \n",
       "187 ezetimibe                               0.1508811         \n",
       "188 BRD-A08658758                           0.1508296         \n",
       "189 syringic-acid                           0.1508127         \n",
       "190 BRD-K94818765                           0.1506782         \n",
       "191 tert-butylhydroquinone                  0.1504679         \n",
       "192 VU-0420363-1                            0.1501687         \n",
       "193 BRD-K06592610                           0.1500304         \n",
       "194 AZ-628                                  0.1500235         \n",
       "195 AQ-RA741                                0.1499926         \n",
       "196 BG-FA-0953                              0.1498034         \n",
       "197 KU-C103869                              0.1492478         \n",
       "198 KU-C103875                              0.1491965         \n",
       "199 N-(3-acetamidophenyl)-3-chlorobenzamide 0.1491755         \n",
       "200 BRD-A82628254                           0.1491300         "
      ]
     },
     "metadata": {},
     "output_type": "display_data"
    }
   ],
   "source": [
    "ks_score_ranked[1:200, ]"
   ]
  },
  {
   "cell_type": "code",
   "execution_count": null,
   "metadata": {},
   "outputs": [],
   "source": [
    "source(\"./\")"
   ]
  },
  {
   "cell_type": "code",
   "execution_count": null,
   "metadata": {},
   "outputs": [],
   "source": [
    "ks_score_vec_mean <- cor(up_signature_df$entrezgene_id, down_signature_df$entrezgene_id, gene_rank_bing, compound_name)"
   ]
  },
  {
   "cell_type": "code",
   "execution_count": null,
   "metadata": {},
   "outputs": [],
   "source": []
  }
 ],
 "metadata": {
  "kernelspec": {
   "display_name": "R",
   "language": "R",
   "name": "ir"
  },
  "language_info": {
   "codemirror_mode": "r",
   "file_extension": ".r",
   "mimetype": "text/x-r-source",
   "name": "R",
   "pygments_lexer": "r",
   "version": "3.5.0"
  }
 },
 "nbformat": 4,
 "nbformat_minor": 4
}
