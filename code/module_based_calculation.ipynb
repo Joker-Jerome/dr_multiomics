{
 "cells": [
  {
   "cell_type": "code",
   "execution_count": 2,
   "metadata": {},
   "outputs": [],
   "source": [
    "suppressPackageStartupMessages(library(data.table))\n",
    "suppressPackageStartupMessages(library(dplyr))\n"
   ]
  },
  {
   "cell_type": "code",
   "execution_count": 3,
   "metadata": {},
   "outputs": [],
   "source": [
    "# gene_list\n",
    "module_ln <- load(\"../../module_gene_list.RData\")"
   ]
  },
  {
   "cell_type": "code",
   "execution_count": 6,
   "metadata": {},
   "outputs": [
    {
     "data": {
      "text/html": [
       "<ol class=list-inline>\n",
       "\t<li>'MEroyalblue'</li>\n",
       "\t<li>'MEturquoise'</li>\n",
       "\t<li>'MEpink2'</li>\n",
       "\t<li>'MEyellow'</li>\n",
       "\t<li>'MEgreen'</li>\n",
       "\t<li>'MEgrey60'</li>\n",
       "\t<li>'MElightyellow'</li>\n",
       "\t<li>'MEorangered1'</li>\n",
       "\t<li>'MEblack'</li>\n",
       "\t<li>'MEbrown'</li>\n",
       "\t<li>'MEgreenyellow'</li>\n",
       "\t<li>'MEnavajowhite2'</li>\n",
       "\t<li>'MElightcoral'</li>\n",
       "\t<li>'MEorange'</li>\n",
       "\t<li>'MEblue4'</li>\n",
       "\t<li>'MEivory'</li>\n",
       "\t<li>'MEcornflowerblue'</li>\n",
       "\t<li>'MEpink1'</li>\n",
       "\t<li>'MEmoccasin'</li>\n",
       "\t<li>'MEindianred2'</li>\n",
       "\t<li>'MElightcyan1'</li>\n",
       "\t<li>'MEpalevioletred3'</li>\n",
       "\t<li>'MEsalmon2'</li>\n",
       "\t<li>'MEnavajowhite1'</li>\n",
       "\t<li>'MEmagenta2'</li>\n",
       "\t<li>'MEnavajowhite'</li>\n",
       "\t<li>'MEfirebrick4'</li>\n",
       "\t<li>'MEwheat3'</li>\n",
       "\t<li>'MEmistyrose4'</li>\n",
       "</ol>\n"
      ],
      "text/latex": [
       "\\begin{enumerate*}\n",
       "\\item 'MEroyalblue'\n",
       "\\item 'MEturquoise'\n",
       "\\item 'MEpink2'\n",
       "\\item 'MEyellow'\n",
       "\\item 'MEgreen'\n",
       "\\item 'MEgrey60'\n",
       "\\item 'MElightyellow'\n",
       "\\item 'MEorangered1'\n",
       "\\item 'MEblack'\n",
       "\\item 'MEbrown'\n",
       "\\item 'MEgreenyellow'\n",
       "\\item 'MEnavajowhite2'\n",
       "\\item 'MElightcoral'\n",
       "\\item 'MEorange'\n",
       "\\item 'MEblue4'\n",
       "\\item 'MEivory'\n",
       "\\item 'MEcornflowerblue'\n",
       "\\item 'MEpink1'\n",
       "\\item 'MEmoccasin'\n",
       "\\item 'MEindianred2'\n",
       "\\item 'MElightcyan1'\n",
       "\\item 'MEpalevioletred3'\n",
       "\\item 'MEsalmon2'\n",
       "\\item 'MEnavajowhite1'\n",
       "\\item 'MEmagenta2'\n",
       "\\item 'MEnavajowhite'\n",
       "\\item 'MEfirebrick4'\n",
       "\\item 'MEwheat3'\n",
       "\\item 'MEmistyrose4'\n",
       "\\end{enumerate*}\n"
      ],
      "text/markdown": [
       "1. 'MEroyalblue'\n",
       "2. 'MEturquoise'\n",
       "3. 'MEpink2'\n",
       "4. 'MEyellow'\n",
       "5. 'MEgreen'\n",
       "6. 'MEgrey60'\n",
       "7. 'MElightyellow'\n",
       "8. 'MEorangered1'\n",
       "9. 'MEblack'\n",
       "10. 'MEbrown'\n",
       "11. 'MEgreenyellow'\n",
       "12. 'MEnavajowhite2'\n",
       "13. 'MElightcoral'\n",
       "14. 'MEorange'\n",
       "15. 'MEblue4'\n",
       "16. 'MEivory'\n",
       "17. 'MEcornflowerblue'\n",
       "18. 'MEpink1'\n",
       "19. 'MEmoccasin'\n",
       "20. 'MEindianred2'\n",
       "21. 'MElightcyan1'\n",
       "22. 'MEpalevioletred3'\n",
       "23. 'MEsalmon2'\n",
       "24. 'MEnavajowhite1'\n",
       "25. 'MEmagenta2'\n",
       "26. 'MEnavajowhite'\n",
       "27. 'MEfirebrick4'\n",
       "28. 'MEwheat3'\n",
       "29. 'MEmistyrose4'\n",
       "\n",
       "\n"
      ],
      "text/plain": [
       " [1] \"MEroyalblue\"      \"MEturquoise\"      \"MEpink2\"          \"MEyellow\"        \n",
       " [5] \"MEgreen\"          \"MEgrey60\"         \"MElightyellow\"    \"MEorangered1\"    \n",
       " [9] \"MEblack\"          \"MEbrown\"          \"MEgreenyellow\"    \"MEnavajowhite2\"  \n",
       "[13] \"MElightcoral\"     \"MEorange\"         \"MEblue4\"          \"MEivory\"         \n",
       "[17] \"MEcornflowerblue\" \"MEpink1\"          \"MEmoccasin\"       \"MEindianred2\"    \n",
       "[21] \"MElightcyan1\"     \"MEpalevioletred3\" \"MEsalmon2\"        \"MEnavajowhite1\"  \n",
       "[25] \"MEmagenta2\"       \"MEnavajowhite\"    \"MEfirebrick4\"     \"MEwheat3\"        \n",
       "[29] \"MEmistyrose4\"    "
      ]
     },
     "metadata": {},
     "output_type": "display_data"
    }
   ],
   "source": [
    "names(gene_list)"
   ]
  },
  {
   "cell_type": "code",
   "execution_count": null,
   "metadata": {},
   "outputs": [],
   "source": [
    "load(\"../../"
   ]
  },
  {
   "cell_type": "code",
   "execution_count": null,
   "metadata": {},
   "outputs": [],
   "source": []
  }
 ],
 "metadata": {
  "kernelspec": {
   "display_name": "R",
   "language": "R",
   "name": "ir"
  },
  "language_info": {
   "codemirror_mode": "r",
   "file_extension": ".r",
   "mimetype": "text/x-r-source",
   "name": "R",
   "pygments_lexer": "r",
   "version": "3.5.0"
  }
 },
 "nbformat": 4,
 "nbformat_minor": 4
}
