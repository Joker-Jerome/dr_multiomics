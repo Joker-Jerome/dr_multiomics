{
 "cells": [
  {
   "cell_type": "code",
   "execution_count": 6,
   "metadata": {},
   "outputs": [],
   "source": [
    "suppressPackageStartupMessages(library(dplyr))"
   ]
  },
  {
   "cell_type": "code",
   "execution_count": 1,
   "metadata": {},
   "outputs": [],
   "source": [
    "ln <- load(\"/gpfs/loomis/project/fas/radev/zy92/nash//lincs_hepg2.RData\")"
   ]
  },
  {
   "cell_type": "code",
   "execution_count": 2,
   "metadata": {},
   "outputs": [
    {
     "data": {
      "text/html": [
       "'ds_hepg2'"
      ],
      "text/latex": [
       "'ds\\_hepg2'"
      ],
      "text/markdown": [
       "'ds_hepg2'"
      ],
      "text/plain": [
       "[1] \"ds_hepg2\""
      ]
     },
     "metadata": {},
     "output_type": "display_data"
    }
   ],
   "source": [
    "ln"
   ]
  },
  {
   "cell_type": "code",
   "execution_count": 3,
   "metadata": {},
   "outputs": [
    {
     "name": "stderr",
     "output_type": "stream",
     "text": [
      "Loading required package: cmapR\n"
     ]
    },
    {
     "data": {
      "text/plain": [
       "Formal class 'GCT' [package \"cmapR\"] with 7 slots\n",
       "  ..@ mat    : num [1:12328, 1:28195] 0.234 -0.178 -1.036 0.731 -0.253 ...\n",
       "  .. ..- attr(*, \"dimnames\")=List of 2\n",
       "  .. .. ..$ : chr [1:12328] \"5720\" \"466\" \"6009\" \"2309\" ...\n",
       "  .. .. ..$ : chr [1:28195] \"CPC004_HEPG2_6H:BRD-K20482099-001-01-1:10\" \"CPC004_HEPG2_6H:BRD-K03670461-001-02-0:10\" \"CPC004_HEPG2_6H:BRD-K36737713-001-01-6:10\" \"CPC004_HEPG2_6H:BRD-A14966924-001-03-0:10\" ...\n",
       "  ..@ rid    : chr [1:12328] \"5720\" \"466\" \"6009\" \"2309\" ...\n",
       "  ..@ cid    : chr [1:28195] \"CPC004_HEPG2_6H:BRD-K20482099-001-01-1:10\" \"CPC004_HEPG2_6H:BRD-K03670461-001-02-0:10\" \"CPC004_HEPG2_6H:BRD-K36737713-001-01-6:10\" \"CPC004_HEPG2_6H:BRD-A14966924-001-03-0:10\" ...\n",
       "  ..@ rdesc  :'data.frame':\t12328 obs. of  1 variable:\n",
       "  .. ..$ id: Factor w/ 12328 levels \"10\",\"100\",\"1000\",..: 7802 5334 8203 2459 4803 4518 5139 8087 2703 9049 ...\n",
       "  ..@ cdesc  :'data.frame':\t28195 obs. of  13 variables:\n",
       "  .. ..$ id            : chr [1:28195] \"CPC004_HEPG2_6H:BRD-K20482099-001-01-1:10\" \"CPC004_HEPG2_6H:BRD-K03670461-001-02-0:10\" \"CPC004_HEPG2_6H:BRD-K36737713-001-01-6:10\" \"CPC004_HEPG2_6H:BRD-A14966924-001-03-0:10\" ...\n",
       "  .. ..$ sig_id        : chr [1:28195] \"CPC004_HEPG2_6H:BRD-K20482099-001-01-1:10\" \"CPC004_HEPG2_6H:BRD-K03670461-001-02-0:10\" \"CPC004_HEPG2_6H:BRD-K36737713-001-01-6:10\" \"CPC004_HEPG2_6H:BRD-A14966924-001-03-0:10\" ...\n",
       "  .. ..$ pert_id       : chr [1:28195] \"BRD-K20482099\" \"BRD-K03670461\" \"BRD-K36737713\" \"BRD-A14966924\" ...\n",
       "  .. ..$ pert_iname    : chr [1:28195] \"rutin\" \"tyrphostin-AG-82\" \"AG-957\" \"alaproclate\" ...\n",
       "  .. ..$ pert_type     : chr [1:28195] \"trt_cp\" \"trt_cp\" \"trt_cp\" \"trt_cp\" ...\n",
       "  .. ..$ cell_id       : chr [1:28195] \"HEPG2\" \"HEPG2\" \"HEPG2\" \"HEPG2\" ...\n",
       "  .. ..$ pert_dose     : chr [1:28195] \"10.0\" \"10.0\" \"10.0\" \"10.0\" ...\n",
       "  .. ..$ pert_dose_unit: chr [1:28195] \"µM\" \"µM\" \"µM\" \"µM\" ...\n",
       "  .. ..$ pert_idose    : chr [1:28195] \"10 µM\" \"10 µM\" \"10 µM\" \"10 µM\" ...\n",
       "  .. ..$ pert_time     : int [1:28195] 6 6 6 6 6 6 6 6 6 6 ...\n",
       "  .. ..$ pert_time_unit: chr [1:28195] \"h\" \"h\" \"h\" \"h\" ...\n",
       "  .. ..$ pert_itime    : chr [1:28195] \"6 h\" \"6 h\" \"6 h\" \"6 h\" ...\n",
       "  .. ..$ distil_id     : chr [1:28195] \"CPC004_HEPG2_6H_X1_B5_DUO52HI53LO:K13|CPC004_HEPG2_6H_X2_F1B5_DUO52HI53LO:K13|CPC004_HEPG2_6H_X3.L2_F2B5_DUO52HI53LO:K13\" \"CPC004_HEPG2_6H_X1_B5_DUO52HI53LO:C04|CPC004_HEPG2_6H_X2_F1B5_DUO52HI53LO:C04|CPC004_HEPG2_6H_X3.L2_F2B5_DUO52HI53LO:C04\" \"CPC004_HEPG2_6H_X1_B5_DUO52HI53LO:A10|CPC004_HEPG2_6H_X2_F1B5_DUO52HI53LO:A10|CPC004_HEPG2_6H_X3.L2_F2B5_DUO52HI53LO:A10\" \"CPC004_HEPG2_6H_X1_B5_DUO52HI53LO:J04|CPC004_HEPG2_6H_X2_F1B5_DUO52HI53LO:J04|CPC004_HEPG2_6H_X3.L2_F2B5_DUO52HI53LO:J04\" ...\n",
       "  ..@ version: chr(0) \n",
       "  ..@ src    : chr \"~/scratch60/LINCS/GSE92742_Broad_LINCS_Level5_COMPZ.MODZ_n473647x12328.gctx\""
      ]
     },
     "metadata": {},
     "output_type": "display_data"
    }
   ],
   "source": [
    "class(ds_hepg2@cdesc)"
   ]
  },
  {
   "cell_type": "code",
   "execution_count": 4,
   "metadata": {},
   "outputs": [
    {
     "data": {
      "text/html": [
       "'data.frame'"
      ],
      "text/latex": [
       "'data.frame'"
      ],
      "text/markdown": [
       "'data.frame'"
      ],
      "text/plain": [
       "[1] \"data.frame\""
      ]
     },
     "metadata": {},
     "output_type": "display_data"
    }
   ],
   "source": [
    "class(ds_hepg2@cdesc)"
   ]
  },
  {
   "cell_type": "code",
   "execution_count": 5,
   "metadata": {},
   "outputs": [
    {
     "data": {
      "text/html": [
       "<table>\n",
       "<thead><tr><th></th><th scope=col>id</th><th scope=col>sig_id</th><th scope=col>pert_id</th><th scope=col>pert_iname</th><th scope=col>pert_type</th><th scope=col>cell_id</th><th scope=col>pert_dose</th><th scope=col>pert_dose_unit</th><th scope=col>pert_idose</th><th scope=col>pert_time</th><th scope=col>pert_time_unit</th><th scope=col>pert_itime</th><th scope=col>distil_id</th></tr></thead>\n",
       "<tbody>\n",
       "\t<tr><th scope=row>50338</th><td>CPC004_HEPG2_6H:BRD-K20482099-001-01-1:10                                                                               </td><td>CPC004_HEPG2_6H:BRD-K20482099-001-01-1:10                                                                               </td><td>BRD-K20482099                                                                                                           </td><td>rutin                                                                                                                   </td><td>trt_cp                                                                                                                  </td><td>HEPG2                                                                                                                   </td><td>10.0                                                                                                                    </td><td>µM                                                                                                                      </td><td>10 µM                                                                                                                   </td><td>6                                                                                                                       </td><td>h                                                                                                                       </td><td>6 h                                                                                                                     </td><td>CPC004_HEPG2_6H_X1_B5_DUO52HI53LO:K13|CPC004_HEPG2_6H_X2_F1B5_DUO52HI53LO:K13|CPC004_HEPG2_6H_X3.L2_F2B5_DUO52HI53LO:K13</td></tr>\n",
       "\t<tr><th scope=row>50303</th><td>CPC004_HEPG2_6H:BRD-K03670461-001-02-0:10                                                                               </td><td>CPC004_HEPG2_6H:BRD-K03670461-001-02-0:10                                                                               </td><td>BRD-K03670461                                                                                                           </td><td>tyrphostin-AG-82                                                                                                        </td><td>trt_cp                                                                                                                  </td><td>HEPG2                                                                                                                   </td><td>10.0                                                                                                                    </td><td>µM                                                                                                                      </td><td>10 µM                                                                                                                   </td><td>6                                                                                                                       </td><td>h                                                                                                                       </td><td>6 h                                                                                                                     </td><td>CPC004_HEPG2_6H_X1_B5_DUO52HI53LO:C04|CPC004_HEPG2_6H_X2_F1B5_DUO52HI53LO:C04|CPC004_HEPG2_6H_X3.L2_F2B5_DUO52HI53LO:C04</td></tr>\n",
       "\t<tr><th scope=row>50376</th><td>CPC004_HEPG2_6H:BRD-K36737713-001-01-6:10                                                                               </td><td>CPC004_HEPG2_6H:BRD-K36737713-001-01-6:10                                                                               </td><td>BRD-K36737713                                                                                                           </td><td>AG-957                                                                                                                  </td><td>trt_cp                                                                                                                  </td><td>HEPG2                                                                                                                   </td><td>10.0                                                                                                                    </td><td>µM                                                                                                                      </td><td>10 µM                                                                                                                   </td><td>6                                                                                                                       </td><td>h                                                                                                                       </td><td>6 h                                                                                                                     </td><td>CPC004_HEPG2_6H_X1_B5_DUO52HI53LO:A10|CPC004_HEPG2_6H_X2_F1B5_DUO52HI53LO:A10|CPC004_HEPG2_6H_X3.L2_F2B5_DUO52HI53LO:A10</td></tr>\n",
       "\t<tr><th scope=row>50180</th><td>CPC004_HEPG2_6H:BRD-A14966924-001-03-0:10                                                                               </td><td>CPC004_HEPG2_6H:BRD-A14966924-001-03-0:10                                                                               </td><td>BRD-A14966924                                                                                                           </td><td>alaproclate                                                                                                             </td><td>trt_cp                                                                                                                  </td><td>HEPG2                                                                                                                   </td><td>10.0                                                                                                                    </td><td>µM                                                                                                                      </td><td>10 µM                                                                                                                   </td><td>6                                                                                                                       </td><td>h                                                                                                                       </td><td>6 h                                                                                                                     </td><td>CPC004_HEPG2_6H_X1_B5_DUO52HI53LO:J04|CPC004_HEPG2_6H_X2_F1B5_DUO52HI53LO:J04|CPC004_HEPG2_6H_X3.L2_F2B5_DUO52HI53LO:J04</td></tr>\n",
       "\t<tr><th scope=row>50487</th><td>CPC004_HEPG2_6H:BRD-K79131256-001-08-8:10                                                                               </td><td>CPC004_HEPG2_6H:BRD-K79131256-001-08-8:10                                                                               </td><td>BRD-K79131256                                                                                                           </td><td>albendazole                                                                                                             </td><td>trt_cp                                                                                                                  </td><td>HEPG2                                                                                                                   </td><td>10.0                                                                                                                    </td><td>µM                                                                                                                      </td><td>10 µM                                                                                                                   </td><td>6                                                                                                                       </td><td>h                                                                                                                       </td><td>6 h                                                                                                                     </td><td>CPC004_HEPG2_6H_X1_B5_DUO52HI53LO:H04|CPC004_HEPG2_6H_X2_F1B5_DUO52HI53LO:H04|CPC004_HEPG2_6H_X3.L2_F2B5_DUO52HI53LO:H04</td></tr>\n",
       "\t<tr><th scope=row>50278</th><td>CPC004_HEPG2_6H:BRD-A90131694-001-02-8:10                                                                               </td><td>CPC004_HEPG2_6H:BRD-A90131694-001-02-8:10                                                                               </td><td>BRD-A90131694                                                                                                           </td><td>alclometasone                                                                                                           </td><td>trt_cp                                                                                                                  </td><td>HEPG2                                                                                                                   </td><td>10.0                                                                                                                    </td><td>µM                                                                                                                      </td><td>10 µM                                                                                                                   </td><td>6                                                                                                                       </td><td>h                                                                                                                       </td><td>6 h                                                                                                                     </td><td>CPC004_HEPG2_6H_X1_B5_DUO52HI53LO:L22|CPC004_HEPG2_6H_X2_F1B5_DUO52HI53LO:L22|CPC004_HEPG2_6H_X3.L2_F2B5_DUO52HI53LO:L22</td></tr>\n",
       "</tbody>\n",
       "</table>\n"
      ],
      "text/latex": [
       "\\begin{tabular}{r|lllllllllllll}\n",
       "  & id & sig\\_id & pert\\_id & pert\\_iname & pert\\_type & cell\\_id & pert\\_dose & pert\\_dose\\_unit & pert\\_idose & pert\\_time & pert\\_time\\_unit & pert\\_itime & distil\\_id\\\\\n",
       "\\hline\n",
       "\t50338 & CPC004\\_HEPG2\\_6H:BRD-K20482099-001-01-1:10                                                                                                                              & CPC004\\_HEPG2\\_6H:BRD-K20482099-001-01-1:10                                                                                                                              & BRD-K20482099                                                                                                                                                              & rutin                                                                                                                                                                      & trt\\_cp                                                                                                                                                                   & HEPG2                                                                                                                                                                      & 10.0                                                                                                                                                                       & µM                                                                                                                                                                         & 10 µM                                                                                                                                                                      & 6                                                                                                                                                                          & h                                                                                                                                                                          & 6 h                                                                                                                                                                        & CPC004\\_HEPG2\\_6H\\_X1\\_B5\\_DUO52HI53LO:K13\\textbar{}CPC004\\_HEPG2\\_6H\\_X2\\_F1B5\\_DUO52HI53LO:K13\\textbar{}CPC004\\_HEPG2\\_6H\\_X3.L2\\_F2B5\\_DUO52HI53LO:K13\\\\\n",
       "\t50303 & CPC004\\_HEPG2\\_6H:BRD-K03670461-001-02-0:10                                                                                                                              & CPC004\\_HEPG2\\_6H:BRD-K03670461-001-02-0:10                                                                                                                              & BRD-K03670461                                                                                                                                                              & tyrphostin-AG-82                                                                                                                                                           & trt\\_cp                                                                                                                                                                   & HEPG2                                                                                                                                                                      & 10.0                                                                                                                                                                       & µM                                                                                                                                                                         & 10 µM                                                                                                                                                                      & 6                                                                                                                                                                          & h                                                                                                                                                                          & 6 h                                                                                                                                                                        & CPC004\\_HEPG2\\_6H\\_X1\\_B5\\_DUO52HI53LO:C04\\textbar{}CPC004\\_HEPG2\\_6H\\_X2\\_F1B5\\_DUO52HI53LO:C04\\textbar{}CPC004\\_HEPG2\\_6H\\_X3.L2\\_F2B5\\_DUO52HI53LO:C04\\\\\n",
       "\t50376 & CPC004\\_HEPG2\\_6H:BRD-K36737713-001-01-6:10                                                                                                                              & CPC004\\_HEPG2\\_6H:BRD-K36737713-001-01-6:10                                                                                                                              & BRD-K36737713                                                                                                                                                              & AG-957                                                                                                                                                                     & trt\\_cp                                                                                                                                                                   & HEPG2                                                                                                                                                                      & 10.0                                                                                                                                                                       & µM                                                                                                                                                                         & 10 µM                                                                                                                                                                      & 6                                                                                                                                                                          & h                                                                                                                                                                          & 6 h                                                                                                                                                                        & CPC004\\_HEPG2\\_6H\\_X1\\_B5\\_DUO52HI53LO:A10\\textbar{}CPC004\\_HEPG2\\_6H\\_X2\\_F1B5\\_DUO52HI53LO:A10\\textbar{}CPC004\\_HEPG2\\_6H\\_X3.L2\\_F2B5\\_DUO52HI53LO:A10\\\\\n",
       "\t50180 & CPC004\\_HEPG2\\_6H:BRD-A14966924-001-03-0:10                                                                                                                              & CPC004\\_HEPG2\\_6H:BRD-A14966924-001-03-0:10                                                                                                                              & BRD-A14966924                                                                                                                                                              & alaproclate                                                                                                                                                                & trt\\_cp                                                                                                                                                                   & HEPG2                                                                                                                                                                      & 10.0                                                                                                                                                                       & µM                                                                                                                                                                         & 10 µM                                                                                                                                                                      & 6                                                                                                                                                                          & h                                                                                                                                                                          & 6 h                                                                                                                                                                        & CPC004\\_HEPG2\\_6H\\_X1\\_B5\\_DUO52HI53LO:J04\\textbar{}CPC004\\_HEPG2\\_6H\\_X2\\_F1B5\\_DUO52HI53LO:J04\\textbar{}CPC004\\_HEPG2\\_6H\\_X3.L2\\_F2B5\\_DUO52HI53LO:J04\\\\\n",
       "\t50487 & CPC004\\_HEPG2\\_6H:BRD-K79131256-001-08-8:10                                                                                                                              & CPC004\\_HEPG2\\_6H:BRD-K79131256-001-08-8:10                                                                                                                              & BRD-K79131256                                                                                                                                                              & albendazole                                                                                                                                                                & trt\\_cp                                                                                                                                                                   & HEPG2                                                                                                                                                                      & 10.0                                                                                                                                                                       & µM                                                                                                                                                                         & 10 µM                                                                                                                                                                      & 6                                                                                                                                                                          & h                                                                                                                                                                          & 6 h                                                                                                                                                                        & CPC004\\_HEPG2\\_6H\\_X1\\_B5\\_DUO52HI53LO:H04\\textbar{}CPC004\\_HEPG2\\_6H\\_X2\\_F1B5\\_DUO52HI53LO:H04\\textbar{}CPC004\\_HEPG2\\_6H\\_X3.L2\\_F2B5\\_DUO52HI53LO:H04\\\\\n",
       "\t50278 & CPC004\\_HEPG2\\_6H:BRD-A90131694-001-02-8:10                                                                                                                              & CPC004\\_HEPG2\\_6H:BRD-A90131694-001-02-8:10                                                                                                                              & BRD-A90131694                                                                                                                                                              & alclometasone                                                                                                                                                              & trt\\_cp                                                                                                                                                                   & HEPG2                                                                                                                                                                      & 10.0                                                                                                                                                                       & µM                                                                                                                                                                         & 10 µM                                                                                                                                                                      & 6                                                                                                                                                                          & h                                                                                                                                                                          & 6 h                                                                                                                                                                        & CPC004\\_HEPG2\\_6H\\_X1\\_B5\\_DUO52HI53LO:L22\\textbar{}CPC004\\_HEPG2\\_6H\\_X2\\_F1B5\\_DUO52HI53LO:L22\\textbar{}CPC004\\_HEPG2\\_6H\\_X3.L2\\_F2B5\\_DUO52HI53LO:L22\\\\\n",
       "\\end{tabular}\n"
      ],
      "text/markdown": [
       "\n",
       "| <!--/--> | id | sig_id | pert_id | pert_iname | pert_type | cell_id | pert_dose | pert_dose_unit | pert_idose | pert_time | pert_time_unit | pert_itime | distil_id | \n",
       "|---|---|---|---|---|---|\n",
       "| 50338 | CPC004_HEPG2_6H:BRD-K20482099-001-01-1:10                                                                                | CPC004_HEPG2_6H:BRD-K20482099-001-01-1:10                                                                                | BRD-K20482099                                                                                                            | rutin                                                                                                                    | trt_cp                                                                                                                   | HEPG2                                                                                                                    | 10.0                                                                                                                     | µM                                                                                                                       | 10 µM                                                                                                                    | 6                                                                                                                        | h                                                                                                                        | 6 h                                                                                                                      | CPC004_HEPG2_6H_X1_B5_DUO52HI53LO:K13|CPC004_HEPG2_6H_X2_F1B5_DUO52HI53LO:K13|CPC004_HEPG2_6H_X3.L2_F2B5_DUO52HI53LO:K13 | \n",
       "| 50303 | CPC004_HEPG2_6H:BRD-K03670461-001-02-0:10                                                                                | CPC004_HEPG2_6H:BRD-K03670461-001-02-0:10                                                                                | BRD-K03670461                                                                                                            | tyrphostin-AG-82                                                                                                         | trt_cp                                                                                                                   | HEPG2                                                                                                                    | 10.0                                                                                                                     | µM                                                                                                                       | 10 µM                                                                                                                    | 6                                                                                                                        | h                                                                                                                        | 6 h                                                                                                                      | CPC004_HEPG2_6H_X1_B5_DUO52HI53LO:C04|CPC004_HEPG2_6H_X2_F1B5_DUO52HI53LO:C04|CPC004_HEPG2_6H_X3.L2_F2B5_DUO52HI53LO:C04 | \n",
       "| 50376 | CPC004_HEPG2_6H:BRD-K36737713-001-01-6:10                                                                                | CPC004_HEPG2_6H:BRD-K36737713-001-01-6:10                                                                                | BRD-K36737713                                                                                                            | AG-957                                                                                                                   | trt_cp                                                                                                                   | HEPG2                                                                                                                    | 10.0                                                                                                                     | µM                                                                                                                       | 10 µM                                                                                                                    | 6                                                                                                                        | h                                                                                                                        | 6 h                                                                                                                      | CPC004_HEPG2_6H_X1_B5_DUO52HI53LO:A10|CPC004_HEPG2_6H_X2_F1B5_DUO52HI53LO:A10|CPC004_HEPG2_6H_X3.L2_F2B5_DUO52HI53LO:A10 | \n",
       "| 50180 | CPC004_HEPG2_6H:BRD-A14966924-001-03-0:10                                                                                | CPC004_HEPG2_6H:BRD-A14966924-001-03-0:10                                                                                | BRD-A14966924                                                                                                            | alaproclate                                                                                                              | trt_cp                                                                                                                   | HEPG2                                                                                                                    | 10.0                                                                                                                     | µM                                                                                                                       | 10 µM                                                                                                                    | 6                                                                                                                        | h                                                                                                                        | 6 h                                                                                                                      | CPC004_HEPG2_6H_X1_B5_DUO52HI53LO:J04|CPC004_HEPG2_6H_X2_F1B5_DUO52HI53LO:J04|CPC004_HEPG2_6H_X3.L2_F2B5_DUO52HI53LO:J04 | \n",
       "| 50487 | CPC004_HEPG2_6H:BRD-K79131256-001-08-8:10                                                                                | CPC004_HEPG2_6H:BRD-K79131256-001-08-8:10                                                                                | BRD-K79131256                                                                                                            | albendazole                                                                                                              | trt_cp                                                                                                                   | HEPG2                                                                                                                    | 10.0                                                                                                                     | µM                                                                                                                       | 10 µM                                                                                                                    | 6                                                                                                                        | h                                                                                                                        | 6 h                                                                                                                      | CPC004_HEPG2_6H_X1_B5_DUO52HI53LO:H04|CPC004_HEPG2_6H_X2_F1B5_DUO52HI53LO:H04|CPC004_HEPG2_6H_X3.L2_F2B5_DUO52HI53LO:H04 | \n",
       "| 50278 | CPC004_HEPG2_6H:BRD-A90131694-001-02-8:10                                                                                | CPC004_HEPG2_6H:BRD-A90131694-001-02-8:10                                                                                | BRD-A90131694                                                                                                            | alclometasone                                                                                                            | trt_cp                                                                                                                   | HEPG2                                                                                                                    | 10.0                                                                                                                     | µM                                                                                                                       | 10 µM                                                                                                                    | 6                                                                                                                        | h                                                                                                                        | 6 h                                                                                                                      | CPC004_HEPG2_6H_X1_B5_DUO52HI53LO:L22|CPC004_HEPG2_6H_X2_F1B5_DUO52HI53LO:L22|CPC004_HEPG2_6H_X3.L2_F2B5_DUO52HI53LO:L22 | \n",
       "\n",
       "\n"
      ],
      "text/plain": [
       "      id                                       \n",
       "50338 CPC004_HEPG2_6H:BRD-K20482099-001-01-1:10\n",
       "50303 CPC004_HEPG2_6H:BRD-K03670461-001-02-0:10\n",
       "50376 CPC004_HEPG2_6H:BRD-K36737713-001-01-6:10\n",
       "50180 CPC004_HEPG2_6H:BRD-A14966924-001-03-0:10\n",
       "50487 CPC004_HEPG2_6H:BRD-K79131256-001-08-8:10\n",
       "50278 CPC004_HEPG2_6H:BRD-A90131694-001-02-8:10\n",
       "      sig_id                                    pert_id       pert_iname      \n",
       "50338 CPC004_HEPG2_6H:BRD-K20482099-001-01-1:10 BRD-K20482099 rutin           \n",
       "50303 CPC004_HEPG2_6H:BRD-K03670461-001-02-0:10 BRD-K03670461 tyrphostin-AG-82\n",
       "50376 CPC004_HEPG2_6H:BRD-K36737713-001-01-6:10 BRD-K36737713 AG-957          \n",
       "50180 CPC004_HEPG2_6H:BRD-A14966924-001-03-0:10 BRD-A14966924 alaproclate     \n",
       "50487 CPC004_HEPG2_6H:BRD-K79131256-001-08-8:10 BRD-K79131256 albendazole     \n",
       "50278 CPC004_HEPG2_6H:BRD-A90131694-001-02-8:10 BRD-A90131694 alclometasone   \n",
       "      pert_type cell_id pert_dose pert_dose_unit pert_idose pert_time\n",
       "50338 trt_cp    HEPG2   10.0      µM             10 µM      6        \n",
       "50303 trt_cp    HEPG2   10.0      µM             10 µM      6        \n",
       "50376 trt_cp    HEPG2   10.0      µM             10 µM      6        \n",
       "50180 trt_cp    HEPG2   10.0      µM             10 µM      6        \n",
       "50487 trt_cp    HEPG2   10.0      µM             10 µM      6        \n",
       "50278 trt_cp    HEPG2   10.0      µM             10 µM      6        \n",
       "      pert_time_unit pert_itime\n",
       "50338 h              6 h       \n",
       "50303 h              6 h       \n",
       "50376 h              6 h       \n",
       "50180 h              6 h       \n",
       "50487 h              6 h       \n",
       "50278 h              6 h       \n",
       "      distil_id                                                                                                               \n",
       "50338 CPC004_HEPG2_6H_X1_B5_DUO52HI53LO:K13|CPC004_HEPG2_6H_X2_F1B5_DUO52HI53LO:K13|CPC004_HEPG2_6H_X3.L2_F2B5_DUO52HI53LO:K13\n",
       "50303 CPC004_HEPG2_6H_X1_B5_DUO52HI53LO:C04|CPC004_HEPG2_6H_X2_F1B5_DUO52HI53LO:C04|CPC004_HEPG2_6H_X3.L2_F2B5_DUO52HI53LO:C04\n",
       "50376 CPC004_HEPG2_6H_X1_B5_DUO52HI53LO:A10|CPC004_HEPG2_6H_X2_F1B5_DUO52HI53LO:A10|CPC004_HEPG2_6H_X3.L2_F2B5_DUO52HI53LO:A10\n",
       "50180 CPC004_HEPG2_6H_X1_B5_DUO52HI53LO:J04|CPC004_HEPG2_6H_X2_F1B5_DUO52HI53LO:J04|CPC004_HEPG2_6H_X3.L2_F2B5_DUO52HI53LO:J04\n",
       "50487 CPC004_HEPG2_6H_X1_B5_DUO52HI53LO:H04|CPC004_HEPG2_6H_X2_F1B5_DUO52HI53LO:H04|CPC004_HEPG2_6H_X3.L2_F2B5_DUO52HI53LO:H04\n",
       "50278 CPC004_HEPG2_6H_X1_B5_DUO52HI53LO:L22|CPC004_HEPG2_6H_X2_F1B5_DUO52HI53LO:L22|CPC004_HEPG2_6H_X3.L2_F2B5_DUO52HI53LO:L22"
      ]
     },
     "metadata": {},
     "output_type": "display_data"
    }
   ],
   "source": [
    "head(ds_hepg2@cdesc)"
   ]
  },
  {
   "cell_type": "code",
   "execution_count": 7,
   "metadata": {},
   "outputs": [],
   "source": [
    "treatment_info <- ds_hepg2@cdesc %>% \n",
    "    filter(pert_type == \"trt_cp\")"
   ]
  },
  {
   "cell_type": "code",
   "execution_count": 8,
   "metadata": {},
   "outputs": [
    {
     "data": {
      "text/html": [
       "<ol class=list-inline>\n",
       "\t<li>5774</li>\n",
       "\t<li>13</li>\n",
       "</ol>\n"
      ],
      "text/latex": [
       "\\begin{enumerate*}\n",
       "\\item 5774\n",
       "\\item 13\n",
       "\\end{enumerate*}\n"
      ],
      "text/markdown": [
       "1. 5774\n",
       "2. 13\n",
       "\n",
       "\n"
      ],
      "text/plain": [
       "[1] 5774   13"
      ]
     },
     "metadata": {},
     "output_type": "display_data"
    }
   ],
   "source": [
    "dim(treatment_info)"
   ]
  },
  {
   "cell_type": "code",
   "execution_count": 9,
   "metadata": {},
   "outputs": [],
   "source": [
    "save(treatment_info, file = \"../../treatment_info.RData\")"
   ]
  }
 ],
 "metadata": {
  "kernelspec": {
   "display_name": "R",
   "language": "R",
   "name": "ir"
  },
  "language_info": {
   "codemirror_mode": "r",
   "file_extension": ".r",
   "mimetype": "text/x-r-source",
   "name": "R",
   "pygments_lexer": "r",
   "version": "3.5.0"
  }
 },
 "nbformat": 4,
 "nbformat_minor": 4
}
