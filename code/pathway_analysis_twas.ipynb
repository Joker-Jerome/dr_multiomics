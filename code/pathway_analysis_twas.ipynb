{
 "cells": [
  {
   "cell_type": "markdown",
   "metadata": {},
   "source": [
    "### Pathway analysis for twas"
   ]
  },
  {
   "cell_type": "code",
   "execution_count": null,
   "metadata": {},
   "outputs": [],
   "source": [
    "library(dplyr)\n",
    "twas_df_name <- \"\"\n",
    "pathway_analysis_twas <- function(twas_df_name, cutoff) {\n",
    "    twas_df <- fread(twas_df_name)\n",
    "    n_gene <- nrow(twas_df)\n",
    "    adjusted_p_thres <- 0.05/n_gene\n",
    "    tmp_df <- twas_df %>%\n",
    "        filter(pvalue < adjusted_p_thres)\n",
    "    return(tmp_df)\n",
    "}"
   ]
  },
  {
   "cell_type": "code",
   "execution_count": null,
   "metadata": {},
   "outputs": [],
   "source": []
  },
  {
   "cell_type": "code",
   "execution_count": null,
   "metadata": {},
   "outputs": [],
   "source": []
  }
 ],
 "metadata": {
  "kernelspec": {
   "display_name": "R",
   "language": "R",
   "name": "ir"
  },
  "language_info": {
   "name": ""
  }
 },
 "nbformat": 4,
 "nbformat_minor": 4
}
