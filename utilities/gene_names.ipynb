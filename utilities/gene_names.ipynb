{
 "cells": [
  {
   "cell_type": "code",
   "execution_count": 24,
   "metadata": {},
   "outputs": [],
   "source": [
    "library(biomaRt)"
   ]
  },
  {
   "cell_type": "code",
   "execution_count": null,
   "metadata": {},
   "outputs": [],
   "source": [
    "#get all protein coding genes\n",
    "library(biomaRt)\n",
    "grch37 = useMart(biomart=\"ENSEMBL_MART_ENSEMBL\", host=\"grch37.ensembl.org\", path=\"/biomart/martservice\", dataset=\"hsapiens_gene_ensembl\")\n",
    "\n",
    "## get ensembl ID\n",
    "helper <- function(str){\n",
    "\tunlist(strsplit(str, '\\\\.'))[1]\n",
    "}\n",
    "\n",
    "get_gene_index <- function(chr){\n",
    "\tglist = dir(paste0(\"/ysm-gpfs/pi/zhao/from_louise/yh367/GTEX/adjusted_expr1/chr\", chr));\n",
    "\ttmp = sapply(glist, helper)\n",
    "\tunname(tmp)\n",
    "}\n",
    "\n",
    "pc_gene = list()\n",
    "pc_num = c()\n",
    "org_num = c()\n",
    "\n",
    "for(chr in 1:22){\n",
    "\tesd = get_gene_index(chr)\n",
    "\tgene_info = getBM(filters= c(\"ensembl_gene_id\",\"biotype\"), attributes= c(\"ensembl_gene_id\",'hgnc_symbol','chromosome_name'), values= list(esd,\"protein_coding\"), mart= grch37)\n",
    "\tpc_gene[[chr]] = gene_info\n",
    "\tpc_num = c(pc_num, nrow(gene_info))\n",
    "\torg_num = c(org_num, length(esd))\n",
    "}\n",
    "save(pc_gene, pc_num, org_num, file=\"/ysm-gpfs/pi/zhao/from_louise/yh367/GTEX/protein_coding.RData\")"
   ]
  },
  {
   "cell_type": "code",
   "execution_count": 4,
   "metadata": {},
   "outputs": [
    {
     "name": "stderr",
     "output_type": "stream",
     "text": [
      "Downloading GitHub repo stephenturner/annotables@master\n",
      "from URL https://api.github.com/repos/stephenturner/annotables/zipball/master\n",
      "Installing annotables\n",
      "Installing tibble\n",
      "Installing cli\n",
      "Installing assertthat\n",
      "'/ysm-gpfs/pi/zhao/Softwares/packages/R/lib64/R/bin/R' --no-site-file  \\\n",
      "  --no-environ --no-save --no-restore --quiet CMD INSTALL  \\\n",
      "  '/tmp/Rtmp811ZCs/devtools6db04ce83272/assertthat'  \\\n",
      "  --library='/gpfs/ysm/home/zy92/R/x86_64-pc-linux-gnu-library/3.5'  \\\n",
      "  --install-tests \n",
      "\n",
      "'/ysm-gpfs/pi/zhao/Softwares/packages/R/lib64/R/bin/R' --no-site-file  \\\n",
      "  --no-environ --no-save --no-restore --quiet CMD INSTALL  \\\n",
      "  '/tmp/Rtmp811ZCs/devtools6db04a5b572f/cli'  \\\n",
      "  --library='/gpfs/ysm/home/zy92/R/x86_64-pc-linux-gnu-library/3.5'  \\\n",
      "  --install-tests \n",
      "\n",
      "Installing fansi\n",
      "'/ysm-gpfs/pi/zhao/Softwares/packages/R/lib64/R/bin/R' --no-site-file  \\\n",
      "  --no-environ --no-save --no-restore --quiet CMD INSTALL  \\\n",
      "  '/tmp/Rtmp811ZCs/devtools6db018457d9b/fansi'  \\\n",
      "  --library='/gpfs/ysm/home/zy92/R/x86_64-pc-linux-gnu-library/3.5'  \\\n",
      "  --install-tests \n",
      "\n",
      "Installing pillar\n",
      "Installing rlang\n",
      "'/ysm-gpfs/pi/zhao/Softwares/packages/R/lib64/R/bin/R' --no-site-file  \\\n",
      "  --no-environ --no-save --no-restore --quiet CMD INSTALL  \\\n",
      "  '/tmp/Rtmp811ZCs/devtools6db07b21453c/rlang'  \\\n",
      "  --library='/gpfs/ysm/home/zy92/R/x86_64-pc-linux-gnu-library/3.5'  \\\n",
      "  --install-tests \n",
      "\n",
      "Installing utf8\n",
      "'/ysm-gpfs/pi/zhao/Softwares/packages/R/lib64/R/bin/R' --no-site-file  \\\n",
      "  --no-environ --no-save --no-restore --quiet CMD INSTALL  \\\n",
      "  '/tmp/Rtmp811ZCs/devtools6db04c5d0723/utf8'  \\\n",
      "  --library='/gpfs/ysm/home/zy92/R/x86_64-pc-linux-gnu-library/3.5'  \\\n",
      "  --install-tests \n",
      "\n",
      "Installing vctrs\n",
      "Installing backports\n",
      "'/ysm-gpfs/pi/zhao/Softwares/packages/R/lib64/R/bin/R' --no-site-file  \\\n",
      "  --no-environ --no-save --no-restore --quiet CMD INSTALL  \\\n",
      "  '/tmp/Rtmp811ZCs/devtools6db01f0fa4eb/backports'  \\\n",
      "  --library='/gpfs/ysm/home/zy92/R/x86_64-pc-linux-gnu-library/3.5'  \\\n",
      "  --install-tests \n",
      "\n",
      "Installing digest\n",
      "'/ysm-gpfs/pi/zhao/Softwares/packages/R/lib64/R/bin/R' --no-site-file  \\\n",
      "  --no-environ --no-save --no-restore --quiet CMD INSTALL  \\\n",
      "  '/tmp/Rtmp811ZCs/devtools6db07f454ca7/digest'  \\\n",
      "  --library='/gpfs/ysm/home/zy92/R/x86_64-pc-linux-gnu-library/3.5'  \\\n",
      "  --install-tests \n",
      "\n",
      "Installing ellipsis\n",
      "'/ysm-gpfs/pi/zhao/Softwares/packages/R/lib64/R/bin/R' --no-site-file  \\\n",
      "  --no-environ --no-save --no-restore --quiet CMD INSTALL  \\\n",
      "  '/tmp/Rtmp811ZCs/devtools6db013ccc060/ellipsis'  \\\n",
      "  --library='/gpfs/ysm/home/zy92/R/x86_64-pc-linux-gnu-library/3.5'  \\\n",
      "  --install-tests \n",
      "\n",
      "Installing glue\n",
      "'/ysm-gpfs/pi/zhao/Softwares/packages/R/lib64/R/bin/R' --no-site-file  \\\n",
      "  --no-environ --no-save --no-restore --quiet CMD INSTALL  \\\n",
      "  '/tmp/Rtmp811ZCs/devtools6db032068e6/glue'  \\\n",
      "  --library='/gpfs/ysm/home/zy92/R/x86_64-pc-linux-gnu-library/3.5'  \\\n",
      "  --install-tests \n",
      "\n",
      "Installing zeallot\n",
      "'/ysm-gpfs/pi/zhao/Softwares/packages/R/lib64/R/bin/R' --no-site-file  \\\n",
      "  --no-environ --no-save --no-restore --quiet CMD INSTALL  \\\n",
      "  '/tmp/Rtmp811ZCs/devtools6db0711c50e6/zeallot'  \\\n",
      "  --library='/gpfs/ysm/home/zy92/R/x86_64-pc-linux-gnu-library/3.5'  \\\n",
      "  --install-tests \n",
      "\n",
      "'/ysm-gpfs/pi/zhao/Softwares/packages/R/lib64/R/bin/R' --no-site-file  \\\n",
      "  --no-environ --no-save --no-restore --quiet CMD INSTALL  \\\n",
      "  '/tmp/Rtmp811ZCs/devtools6db026f6f78d/vctrs'  \\\n",
      "  --library='/gpfs/ysm/home/zy92/R/x86_64-pc-linux-gnu-library/3.5'  \\\n",
      "  --install-tests \n",
      "\n",
      "'/ysm-gpfs/pi/zhao/Softwares/packages/R/lib64/R/bin/R' --no-site-file  \\\n",
      "  --no-environ --no-save --no-restore --quiet CMD INSTALL  \\\n",
      "  '/tmp/Rtmp811ZCs/devtools6db05d3b72d0/pillar'  \\\n",
      "  --library='/gpfs/ysm/home/zy92/R/x86_64-pc-linux-gnu-library/3.5'  \\\n",
      "  --install-tests \n",
      "\n",
      "Installing pkgconfig\n",
      "'/ysm-gpfs/pi/zhao/Softwares/packages/R/lib64/R/bin/R' --no-site-file  \\\n",
      "  --no-environ --no-save --no-restore --quiet CMD INSTALL  \\\n",
      "  '/tmp/Rtmp811ZCs/devtools6db032a82ed/pkgconfig'  \\\n",
      "  --library='/gpfs/ysm/home/zy92/R/x86_64-pc-linux-gnu-library/3.5'  \\\n",
      "  --install-tests \n",
      "\n",
      "Skipping install of 'rlang' from a cran remote, the SHA1 (0.4.0) has not changed since last install.\n",
      "  Use `force = TRUE` to force installation\n",
      "'/ysm-gpfs/pi/zhao/Softwares/packages/R/lib64/R/bin/R' --no-site-file  \\\n",
      "  --no-environ --no-save --no-restore --quiet CMD INSTALL  \\\n",
      "  '/tmp/Rtmp811ZCs/devtools6db021914823/tibble'  \\\n",
      "  --library='/gpfs/ysm/home/zy92/R/x86_64-pc-linux-gnu-library/3.5'  \\\n",
      "  --install-tests \n",
      "\n",
      "'/ysm-gpfs/pi/zhao/Softwares/packages/R/lib64/R/bin/R' --no-site-file  \\\n",
      "  --no-environ --no-save --no-restore --quiet CMD INSTALL  \\\n",
      "  '/tmp/Rtmp811ZCs/devtools6db03084c1ef/stephenturner-annotables-805a247'  \\\n",
      "  --library='/gpfs/ysm/home/zy92/R/x86_64-pc-linux-gnu-library/3.5'  \\\n",
      "  --install-tests \n",
      "\n"
     ]
    }
   ],
   "source": [
    "devtools::install_github(\"stephenturner/annotables\")"
   ]
  },
  {
   "cell_type": "code",
   "execution_count": 7,
   "metadata": {},
   "outputs": [],
   "source": [
    "library(annotables)\n",
    "library(dplyr)"
   ]
  },
  {
   "cell_type": "code",
   "execution_count": 8,
   "metadata": {},
   "outputs": [
    {
     "data": {
      "text/html": [
       "<ol class=list-inline>\n",
       "\t<li>64428</li>\n",
       "\t<li>9</li>\n",
       "</ol>\n"
      ],
      "text/latex": [
       "\\begin{enumerate*}\n",
       "\\item 64428\n",
       "\\item 9\n",
       "\\end{enumerate*}\n"
      ],
      "text/markdown": [
       "1. 64428\n",
       "2. 9\n",
       "\n",
       "\n"
      ],
      "text/plain": [
       "[1] 64428     9"
      ]
     },
     "metadata": {},
     "output_type": "display_data"
    }
   ],
   "source": [
    "dim(grch38)"
   ]
  },
  {
   "cell_type": "code",
   "execution_count": 9,
   "metadata": {},
   "outputs": [
    {
     "data": {
      "text/html": [
       "<table>\n",
       "<thead><tr><th scope=col>ensgene</th><th scope=col>entrez</th><th scope=col>symbol</th><th scope=col>chr</th><th scope=col>start</th><th scope=col>end</th><th scope=col>strand</th><th scope=col>biotype</th><th scope=col>description</th></tr></thead>\n",
       "<tbody>\n",
       "\t<tr><td>ENSG00000000003                                                                               </td><td> 7105                                                                                         </td><td>TSPAN6                                                                                        </td><td>X                                                                                             </td><td>100627109                                                                                     </td><td>100639991                                                                                     </td><td>-1                                                                                            </td><td>protein_coding                                                                                </td><td>tetraspanin 6 [Source:HGNC Symbol;Acc:HGNC:11858]                                             </td></tr>\n",
       "\t<tr><td>ENSG00000000005                                                                               </td><td>64102                                                                                         </td><td>TNMD                                                                                          </td><td>X                                                                                             </td><td>100584802                                                                                     </td><td>100599885                                                                                     </td><td> 1                                                                                            </td><td>protein_coding                                                                                </td><td>tenomodulin [Source:HGNC Symbol;Acc:HGNC:17757]                                               </td></tr>\n",
       "\t<tr><td>ENSG00000000419                                                                               </td><td> 8813                                                                                         </td><td>DPM1                                                                                          </td><td>20                                                                                            </td><td> 50934867                                                                                     </td><td> 50958555                                                                                     </td><td>-1                                                                                            </td><td>protein_coding                                                                                </td><td>dolichyl-phosphate mannosyltransferase subunit 1, catalytic [Source:HGNC Symbol;Acc:HGNC:3005]</td></tr>\n",
       "\t<tr><td>ENSG00000000457                                                                               </td><td>57147                                                                                         </td><td>SCYL3                                                                                         </td><td>1                                                                                             </td><td>169849631                                                                                     </td><td>169894267                                                                                     </td><td>-1                                                                                            </td><td>protein_coding                                                                                </td><td>SCY1 like pseudokinase 3 [Source:HGNC Symbol;Acc:HGNC:19285]                                  </td></tr>\n",
       "\t<tr><td>ENSG00000000460                                                                               </td><td>55732                                                                                         </td><td>C1orf112                                                                                      </td><td>1                                                                                             </td><td>169662007                                                                                     </td><td>169854080                                                                                     </td><td> 1                                                                                            </td><td>protein_coding                                                                                </td><td>chromosome 1 open reading frame 112 [Source:HGNC Symbol;Acc:HGNC:25565]                       </td></tr>\n",
       "\t<tr><td>ENSG00000000938                                                                               </td><td> 2268                                                                                         </td><td>FGR                                                                                           </td><td>1                                                                                             </td><td> 27612064                                                                                     </td><td> 27635277                                                                                     </td><td>-1                                                                                            </td><td>protein_coding                                                                                </td><td>FGR proto-oncogene, Src family tyrosine kinase [Source:HGNC Symbol;Acc:HGNC:3697]             </td></tr>\n",
       "</tbody>\n",
       "</table>\n"
      ],
      "text/latex": [
       "\\begin{tabular}{r|lllllllll}\n",
       " ensgene & entrez & symbol & chr & start & end & strand & biotype & description\\\\\n",
       "\\hline\n",
       "\t ENSG00000000003                                                                                    &  7105                                                                                              & TSPAN6                                                                                             & X                                                                                                  & 100627109                                                                                          & 100639991                                                                                          & -1                                                                                                 & protein\\_coding                                                                                   & tetraspanin 6 {[}Source:HGNC Symbol;Acc:HGNC:11858{]}                                             \\\\\n",
       "\t ENSG00000000005                                                                                    & 64102                                                                                              & TNMD                                                                                               & X                                                                                                  & 100584802                                                                                          & 100599885                                                                                          &  1                                                                                                 & protein\\_coding                                                                                   & tenomodulin {[}Source:HGNC Symbol;Acc:HGNC:17757{]}                                               \\\\\n",
       "\t ENSG00000000419                                                                                    &  8813                                                                                              & DPM1                                                                                               & 20                                                                                                 &  50934867                                                                                          &  50958555                                                                                          & -1                                                                                                 & protein\\_coding                                                                                   & dolichyl-phosphate mannosyltransferase subunit 1, catalytic {[}Source:HGNC Symbol;Acc:HGNC:3005{]}\\\\\n",
       "\t ENSG00000000457                                                                                    & 57147                                                                                              & SCYL3                                                                                              & 1                                                                                                  & 169849631                                                                                          & 169894267                                                                                          & -1                                                                                                 & protein\\_coding                                                                                   & SCY1 like pseudokinase 3 {[}Source:HGNC Symbol;Acc:HGNC:19285{]}                                  \\\\\n",
       "\t ENSG00000000460                                                                                    & 55732                                                                                              & C1orf112                                                                                           & 1                                                                                                  & 169662007                                                                                          & 169854080                                                                                          &  1                                                                                                 & protein\\_coding                                                                                   & chromosome 1 open reading frame 112 {[}Source:HGNC Symbol;Acc:HGNC:25565{]}                       \\\\\n",
       "\t ENSG00000000938                                                                                    &  2268                                                                                              & FGR                                                                                                & 1                                                                                                  &  27612064                                                                                          &  27635277                                                                                          & -1                                                                                                 & protein\\_coding                                                                                   & FGR proto-oncogene, Src family tyrosine kinase {[}Source:HGNC Symbol;Acc:HGNC:3697{]}             \\\\\n",
       "\\end{tabular}\n"
      ],
      "text/markdown": [
       "\n",
       "ensgene | entrez | symbol | chr | start | end | strand | biotype | description | \n",
       "|---|---|---|---|---|---|\n",
       "| ENSG00000000003                                                                                |  7105                                                                                          | TSPAN6                                                                                         | X                                                                                              | 100627109                                                                                      | 100639991                                                                                      | -1                                                                                             | protein_coding                                                                                 | tetraspanin 6 [Source:HGNC Symbol;Acc:HGNC:11858]                                              | \n",
       "| ENSG00000000005                                                                                | 64102                                                                                          | TNMD                                                                                           | X                                                                                              | 100584802                                                                                      | 100599885                                                                                      |  1                                                                                             | protein_coding                                                                                 | tenomodulin [Source:HGNC Symbol;Acc:HGNC:17757]                                                | \n",
       "| ENSG00000000419                                                                                |  8813                                                                                          | DPM1                                                                                           | 20                                                                                             |  50934867                                                                                      |  50958555                                                                                      | -1                                                                                             | protein_coding                                                                                 | dolichyl-phosphate mannosyltransferase subunit 1, catalytic [Source:HGNC Symbol;Acc:HGNC:3005] | \n",
       "| ENSG00000000457                                                                                | 57147                                                                                          | SCYL3                                                                                          | 1                                                                                              | 169849631                                                                                      | 169894267                                                                                      | -1                                                                                             | protein_coding                                                                                 | SCY1 like pseudokinase 3 [Source:HGNC Symbol;Acc:HGNC:19285]                                   | \n",
       "| ENSG00000000460                                                                                | 55732                                                                                          | C1orf112                                                                                       | 1                                                                                              | 169662007                                                                                      | 169854080                                                                                      |  1                                                                                             | protein_coding                                                                                 | chromosome 1 open reading frame 112 [Source:HGNC Symbol;Acc:HGNC:25565]                        | \n",
       "| ENSG00000000938                                                                                |  2268                                                                                          | FGR                                                                                            | 1                                                                                              |  27612064                                                                                      |  27635277                                                                                      | -1                                                                                             | protein_coding                                                                                 | FGR proto-oncogene, Src family tyrosine kinase [Source:HGNC Symbol;Acc:HGNC:3697]              | \n",
       "\n",
       "\n"
      ],
      "text/plain": [
       "  ensgene         entrez symbol   chr start     end       strand biotype       \n",
       "1 ENSG00000000003  7105  TSPAN6   X   100627109 100639991 -1     protein_coding\n",
       "2 ENSG00000000005 64102  TNMD     X   100584802 100599885  1     protein_coding\n",
       "3 ENSG00000000419  8813  DPM1     20   50934867  50958555 -1     protein_coding\n",
       "4 ENSG00000000457 57147  SCYL3    1   169849631 169894267 -1     protein_coding\n",
       "5 ENSG00000000460 55732  C1orf112 1   169662007 169854080  1     protein_coding\n",
       "6 ENSG00000000938  2268  FGR      1    27612064  27635277 -1     protein_coding\n",
       "  description                                                                                   \n",
       "1 tetraspanin 6 [Source:HGNC Symbol;Acc:HGNC:11858]                                             \n",
       "2 tenomodulin [Source:HGNC Symbol;Acc:HGNC:17757]                                               \n",
       "3 dolichyl-phosphate mannosyltransferase subunit 1, catalytic [Source:HGNC Symbol;Acc:HGNC:3005]\n",
       "4 SCY1 like pseudokinase 3 [Source:HGNC Symbol;Acc:HGNC:19285]                                  \n",
       "5 chromosome 1 open reading frame 112 [Source:HGNC Symbol;Acc:HGNC:25565]                       \n",
       "6 FGR proto-oncogene, Src family tyrosine kinase [Source:HGNC Symbol;Acc:HGNC:3697]             "
      ]
     },
     "metadata": {},
     "output_type": "display_data"
    }
   ],
   "source": [
    "head(grch38)"
   ]
  },
  {
   "cell_type": "code",
   "execution_count": 12,
   "metadata": {},
   "outputs": [
    {
     "data": {
      "text/html": [
       "<table>\n",
       "<thead><tr><th scope=col>ensgene</th><th scope=col>entrez</th><th scope=col>symbol</th><th scope=col>chr</th><th scope=col>start</th><th scope=col>end</th><th scope=col>description</th></tr></thead>\n",
       "<tbody>\n",
       "\t<tr><td>ENSG00000000003                                                                               </td><td> 7105                                                                                         </td><td>TSPAN6                                                                                        </td><td>X                                                                                             </td><td>100627109                                                                                     </td><td>100639991                                                                                     </td><td>tetraspanin 6 [Source:HGNC Symbol;Acc:HGNC:11858]                                             </td></tr>\n",
       "\t<tr><td>ENSG00000000005                                                                               </td><td>64102                                                                                         </td><td>TNMD                                                                                          </td><td>X                                                                                             </td><td>100584802                                                                                     </td><td>100599885                                                                                     </td><td>tenomodulin [Source:HGNC Symbol;Acc:HGNC:17757]                                               </td></tr>\n",
       "\t<tr><td>ENSG00000000419                                                                               </td><td> 8813                                                                                         </td><td>DPM1                                                                                          </td><td>20                                                                                            </td><td> 50934867                                                                                     </td><td> 50958555                                                                                     </td><td>dolichyl-phosphate mannosyltransferase subunit 1, catalytic [Source:HGNC Symbol;Acc:HGNC:3005]</td></tr>\n",
       "\t<tr><td>ENSG00000000457                                                                               </td><td>57147                                                                                         </td><td>SCYL3                                                                                         </td><td>1                                                                                             </td><td>169849631                                                                                     </td><td>169894267                                                                                     </td><td>SCY1 like pseudokinase 3 [Source:HGNC Symbol;Acc:HGNC:19285]                                  </td></tr>\n",
       "\t<tr><td>ENSG00000000460                                                                               </td><td>55732                                                                                         </td><td>C1orf112                                                                                      </td><td>1                                                                                             </td><td>169662007                                                                                     </td><td>169854080                                                                                     </td><td>chromosome 1 open reading frame 112 [Source:HGNC Symbol;Acc:HGNC:25565]                       </td></tr>\n",
       "\t<tr><td>ENSG00000000938                                                                               </td><td> 2268                                                                                         </td><td>FGR                                                                                           </td><td>1                                                                                             </td><td> 27612064                                                                                     </td><td> 27635277                                                                                     </td><td>FGR proto-oncogene, Src family tyrosine kinase [Source:HGNC Symbol;Acc:HGNC:3697]             </td></tr>\n",
       "</tbody>\n",
       "</table>\n"
      ],
      "text/latex": [
       "\\begin{tabular}{r|lllllll}\n",
       " ensgene & entrez & symbol & chr & start & end & description\\\\\n",
       "\\hline\n",
       "\t ENSG00000000003                                                                                    &  7105                                                                                              & TSPAN6                                                                                             & X                                                                                                  & 100627109                                                                                          & 100639991                                                                                          & tetraspanin 6 {[}Source:HGNC Symbol;Acc:HGNC:11858{]}                                             \\\\\n",
       "\t ENSG00000000005                                                                                    & 64102                                                                                              & TNMD                                                                                               & X                                                                                                  & 100584802                                                                                          & 100599885                                                                                          & tenomodulin {[}Source:HGNC Symbol;Acc:HGNC:17757{]}                                               \\\\\n",
       "\t ENSG00000000419                                                                                    &  8813                                                                                              & DPM1                                                                                               & 20                                                                                                 &  50934867                                                                                          &  50958555                                                                                          & dolichyl-phosphate mannosyltransferase subunit 1, catalytic {[}Source:HGNC Symbol;Acc:HGNC:3005{]}\\\\\n",
       "\t ENSG00000000457                                                                                    & 57147                                                                                              & SCYL3                                                                                              & 1                                                                                                  & 169849631                                                                                          & 169894267                                                                                          & SCY1 like pseudokinase 3 {[}Source:HGNC Symbol;Acc:HGNC:19285{]}                                  \\\\\n",
       "\t ENSG00000000460                                                                                    & 55732                                                                                              & C1orf112                                                                                           & 1                                                                                                  & 169662007                                                                                          & 169854080                                                                                          & chromosome 1 open reading frame 112 {[}Source:HGNC Symbol;Acc:HGNC:25565{]}                       \\\\\n",
       "\t ENSG00000000938                                                                                    &  2268                                                                                              & FGR                                                                                                & 1                                                                                                  &  27612064                                                                                          &  27635277                                                                                          & FGR proto-oncogene, Src family tyrosine kinase {[}Source:HGNC Symbol;Acc:HGNC:3697{]}             \\\\\n",
       "\\end{tabular}\n"
      ],
      "text/markdown": [
       "\n",
       "ensgene | entrez | symbol | chr | start | end | description | \n",
       "|---|---|---|---|---|---|\n",
       "| ENSG00000000003                                                                                |  7105                                                                                          | TSPAN6                                                                                         | X                                                                                              | 100627109                                                                                      | 100639991                                                                                      | tetraspanin 6 [Source:HGNC Symbol;Acc:HGNC:11858]                                              | \n",
       "| ENSG00000000005                                                                                | 64102                                                                                          | TNMD                                                                                           | X                                                                                              | 100584802                                                                                      | 100599885                                                                                      | tenomodulin [Source:HGNC Symbol;Acc:HGNC:17757]                                                | \n",
       "| ENSG00000000419                                                                                |  8813                                                                                          | DPM1                                                                                           | 20                                                                                             |  50934867                                                                                      |  50958555                                                                                      | dolichyl-phosphate mannosyltransferase subunit 1, catalytic [Source:HGNC Symbol;Acc:HGNC:3005] | \n",
       "| ENSG00000000457                                                                                | 57147                                                                                          | SCYL3                                                                                          | 1                                                                                              | 169849631                                                                                      | 169894267                                                                                      | SCY1 like pseudokinase 3 [Source:HGNC Symbol;Acc:HGNC:19285]                                   | \n",
       "| ENSG00000000460                                                                                | 55732                                                                                          | C1orf112                                                                                       | 1                                                                                              | 169662007                                                                                      | 169854080                                                                                      | chromosome 1 open reading frame 112 [Source:HGNC Symbol;Acc:HGNC:25565]                        | \n",
       "| ENSG00000000938                                                                                |  2268                                                                                          | FGR                                                                                            | 1                                                                                              |  27612064                                                                                      |  27635277                                                                                      | FGR proto-oncogene, Src family tyrosine kinase [Source:HGNC Symbol;Acc:HGNC:3697]              | \n",
       "\n",
       "\n"
      ],
      "text/plain": [
       "  ensgene         entrez symbol   chr start     end      \n",
       "1 ENSG00000000003  7105  TSPAN6   X   100627109 100639991\n",
       "2 ENSG00000000005 64102  TNMD     X   100584802 100599885\n",
       "3 ENSG00000000419  8813  DPM1     20   50934867  50958555\n",
       "4 ENSG00000000457 57147  SCYL3    1   169849631 169894267\n",
       "5 ENSG00000000460 55732  C1orf112 1   169662007 169854080\n",
       "6 ENSG00000000938  2268  FGR      1    27612064  27635277\n",
       "  description                                                                                   \n",
       "1 tetraspanin 6 [Source:HGNC Symbol;Acc:HGNC:11858]                                             \n",
       "2 tenomodulin [Source:HGNC Symbol;Acc:HGNC:17757]                                               \n",
       "3 dolichyl-phosphate mannosyltransferase subunit 1, catalytic [Source:HGNC Symbol;Acc:HGNC:3005]\n",
       "4 SCY1 like pseudokinase 3 [Source:HGNC Symbol;Acc:HGNC:19285]                                  \n",
       "5 chromosome 1 open reading frame 112 [Source:HGNC Symbol;Acc:HGNC:25565]                       \n",
       "6 FGR proto-oncogene, Src family tyrosine kinase [Source:HGNC Symbol;Acc:HGNC:3697]             "
      ]
     },
     "metadata": {},
     "output_type": "display_data"
    }
   ],
   "source": [
    "grch38 %>% \n",
    "  #filter(biotype==\"protein_coding\") %>% \n",
    "  select(ensgene, entrez, symbol, chr, start, end, description) %>% \n",
    "  head\n"
   ]
  },
  {
   "cell_type": "code",
   "execution_count": null,
   "metadata": {},
   "outputs": [],
   "source": [
    "grch38 %>% \n",
    "  filter(biotype==\"protein_coding\" & chr==\"1\") %>% \n",
    "  select(ensgene, symbol, chr, start, end, description) %>% \n",
    "  head %>% \n",
    "  pander::pandoc.table(split.table=100, justify=\"llllll\", style=\"rmarkdown\")"
   ]
  },
  {
   "cell_type": "code",
   "execution_count": 13,
   "metadata": {},
   "outputs": [],
   "source": [
    "save(grch38, file = \"./data_grch38.RData\")"
   ]
  },
  {
   "cell_type": "code",
   "execution_count": 15,
   "metadata": {},
   "outputs": [],
   "source": [
    "from_ref <- \"symbol\"\n",
    "to_ref <- \"ensgene\"\n",
    "id_df <- data.frame(raw_id = grch38$symbol[1:5])\n",
    "colnames(id_df) <- from_ref"
   ]
  },
  {
   "cell_type": "code",
   "execution_count": 17,
   "metadata": {},
   "outputs": [
    {
     "ename": "ERROR",
     "evalue": "Error in left_join_(., grch38, by = (from_ref = to_ref)): could not find function \"left_join_\"\n",
     "output_type": "error",
     "traceback": [
      "Error in left_join_(., grch38, by = (from_ref = to_ref)): could not find function \"left_join_\"\nTraceback:\n",
      "1. id_df %>% left_join_(grch38, by = (from_ref = to_ref))",
      "2. withVisible(eval(quote(`_fseq`(`_lhs`)), env, env))",
      "3. eval(quote(`_fseq`(`_lhs`)), env, env)",
      "4. eval(quote(`_fseq`(`_lhs`)), env, env)",
      "5. `_fseq`(`_lhs`)",
      "6. freduce(value, `_function_list`)",
      "7. withVisible(function_list[[k]](value))",
      "8. function_list[[k]](value)"
     ]
    }
   ],
   "source": [
    "output_df <- id_df %>%\n",
    "    left_join_(grch38, by = (from_ref = to_ref))"
   ]
  },
  {
   "cell_type": "code",
   "execution_count": 24,
   "metadata": {},
   "outputs": [
    {
     "data": {
      "text/html": [
       "<strong>ensgene:</strong> 'symbol'"
      ],
      "text/latex": [
       "\\textbf{ensgene:} 'symbol'"
      ],
      "text/markdown": [
       "**ensgene:** 'symbol'"
      ],
      "text/plain": [
       " ensgene \n",
       "\"symbol\" "
      ]
     },
     "metadata": {},
     "output_type": "display_data"
    }
   ],
   "source": [
    "by_str"
   ]
  },
  {
   "cell_type": "code",
   "execution_count": 32,
   "metadata": {},
   "outputs": [
    {
     "name": "stderr",
     "output_type": "stream",
     "text": [
      "Warning message:\n",
      "“Column `symbol` joining factor and character vector, coercing into character vector”"
     ]
    }
   ],
   "source": [
    "by_str <- rlang::set_names(quo_name(from_ref), quo_name(from_ref))\n",
    "#by_str <- rlang::set_names(quo_name(to_ref), quo_name(from_ref))\n",
    "output_df <- id_df %>%\n",
    "    left_join(grch38, by = by_str) #%>%\n",
    "    #select_(to_ref)\n"
   ]
  },
  {
   "cell_type": "code",
   "execution_count": 33,
   "metadata": {},
   "outputs": [
    {
     "data": {
      "text/html": [
       "<table>\n",
       "<thead><tr><th scope=col>symbol</th><th scope=col>ensgene</th><th scope=col>entrez</th><th scope=col>chr</th><th scope=col>start</th><th scope=col>end</th><th scope=col>strand</th><th scope=col>biotype</th><th scope=col>description</th></tr></thead>\n",
       "<tbody>\n",
       "\t<tr><td>TSPAN6                                                                                        </td><td>ENSG00000000003                                                                               </td><td> 7105                                                                                         </td><td>X                                                                                             </td><td>100627109                                                                                     </td><td>100639991                                                                                     </td><td>-1                                                                                            </td><td>protein_coding                                                                                </td><td>tetraspanin 6 [Source:HGNC Symbol;Acc:HGNC:11858]                                             </td></tr>\n",
       "\t<tr><td>TNMD                                                                                          </td><td>ENSG00000000005                                                                               </td><td>64102                                                                                         </td><td>X                                                                                             </td><td>100584802                                                                                     </td><td>100599885                                                                                     </td><td> 1                                                                                            </td><td>protein_coding                                                                                </td><td>tenomodulin [Source:HGNC Symbol;Acc:HGNC:17757]                                               </td></tr>\n",
       "\t<tr><td>DPM1                                                                                          </td><td>ENSG00000000419                                                                               </td><td> 8813                                                                                         </td><td>20                                                                                            </td><td> 50934867                                                                                     </td><td> 50958555                                                                                     </td><td>-1                                                                                            </td><td>protein_coding                                                                                </td><td>dolichyl-phosphate mannosyltransferase subunit 1, catalytic [Source:HGNC Symbol;Acc:HGNC:3005]</td></tr>\n",
       "\t<tr><td>SCYL3                                                                                         </td><td>ENSG00000000457                                                                               </td><td>57147                                                                                         </td><td>1                                                                                             </td><td>169849631                                                                                     </td><td>169894267                                                                                     </td><td>-1                                                                                            </td><td>protein_coding                                                                                </td><td>SCY1 like pseudokinase 3 [Source:HGNC Symbol;Acc:HGNC:19285]                                  </td></tr>\n",
       "\t<tr><td>C1orf112                                                                                      </td><td>ENSG00000000460                                                                               </td><td>55732                                                                                         </td><td>1                                                                                             </td><td>169662007                                                                                     </td><td>169854080                                                                                     </td><td> 1                                                                                            </td><td>protein_coding                                                                                </td><td>chromosome 1 open reading frame 112 [Source:HGNC Symbol;Acc:HGNC:25565]                       </td></tr>\n",
       "</tbody>\n",
       "</table>\n"
      ],
      "text/latex": [
       "\\begin{tabular}{r|lllllllll}\n",
       " symbol & ensgene & entrez & chr & start & end & strand & biotype & description\\\\\n",
       "\\hline\n",
       "\t TSPAN6                                                                                             & ENSG00000000003                                                                                    &  7105                                                                                              & X                                                                                                  & 100627109                                                                                          & 100639991                                                                                          & -1                                                                                                 & protein\\_coding                                                                                   & tetraspanin 6 {[}Source:HGNC Symbol;Acc:HGNC:11858{]}                                             \\\\\n",
       "\t TNMD                                                                                               & ENSG00000000005                                                                                    & 64102                                                                                              & X                                                                                                  & 100584802                                                                                          & 100599885                                                                                          &  1                                                                                                 & protein\\_coding                                                                                   & tenomodulin {[}Source:HGNC Symbol;Acc:HGNC:17757{]}                                               \\\\\n",
       "\t DPM1                                                                                               & ENSG00000000419                                                                                    &  8813                                                                                              & 20                                                                                                 &  50934867                                                                                          &  50958555                                                                                          & -1                                                                                                 & protein\\_coding                                                                                   & dolichyl-phosphate mannosyltransferase subunit 1, catalytic {[}Source:HGNC Symbol;Acc:HGNC:3005{]}\\\\\n",
       "\t SCYL3                                                                                              & ENSG00000000457                                                                                    & 57147                                                                                              & 1                                                                                                  & 169849631                                                                                          & 169894267                                                                                          & -1                                                                                                 & protein\\_coding                                                                                   & SCY1 like pseudokinase 3 {[}Source:HGNC Symbol;Acc:HGNC:19285{]}                                  \\\\\n",
       "\t C1orf112                                                                                           & ENSG00000000460                                                                                    & 55732                                                                                              & 1                                                                                                  & 169662007                                                                                          & 169854080                                                                                          &  1                                                                                                 & protein\\_coding                                                                                   & chromosome 1 open reading frame 112 {[}Source:HGNC Symbol;Acc:HGNC:25565{]}                       \\\\\n",
       "\\end{tabular}\n"
      ],
      "text/markdown": [
       "\n",
       "symbol | ensgene | entrez | chr | start | end | strand | biotype | description | \n",
       "|---|---|---|---|---|\n",
       "| TSPAN6                                                                                         | ENSG00000000003                                                                                |  7105                                                                                          | X                                                                                              | 100627109                                                                                      | 100639991                                                                                      | -1                                                                                             | protein_coding                                                                                 | tetraspanin 6 [Source:HGNC Symbol;Acc:HGNC:11858]                                              | \n",
       "| TNMD                                                                                           | ENSG00000000005                                                                                | 64102                                                                                          | X                                                                                              | 100584802                                                                                      | 100599885                                                                                      |  1                                                                                             | protein_coding                                                                                 | tenomodulin [Source:HGNC Symbol;Acc:HGNC:17757]                                                | \n",
       "| DPM1                                                                                           | ENSG00000000419                                                                                |  8813                                                                                          | 20                                                                                             |  50934867                                                                                      |  50958555                                                                                      | -1                                                                                             | protein_coding                                                                                 | dolichyl-phosphate mannosyltransferase subunit 1, catalytic [Source:HGNC Symbol;Acc:HGNC:3005] | \n",
       "| SCYL3                                                                                          | ENSG00000000457                                                                                | 57147                                                                                          | 1                                                                                              | 169849631                                                                                      | 169894267                                                                                      | -1                                                                                             | protein_coding                                                                                 | SCY1 like pseudokinase 3 [Source:HGNC Symbol;Acc:HGNC:19285]                                   | \n",
       "| C1orf112                                                                                       | ENSG00000000460                                                                                | 55732                                                                                          | 1                                                                                              | 169662007                                                                                      | 169854080                                                                                      |  1                                                                                             | protein_coding                                                                                 | chromosome 1 open reading frame 112 [Source:HGNC Symbol;Acc:HGNC:25565]                        | \n",
       "\n",
       "\n"
      ],
      "text/plain": [
       "  symbol   ensgene         entrez chr start     end       strand biotype       \n",
       "1 TSPAN6   ENSG00000000003  7105  X   100627109 100639991 -1     protein_coding\n",
       "2 TNMD     ENSG00000000005 64102  X   100584802 100599885  1     protein_coding\n",
       "3 DPM1     ENSG00000000419  8813  20   50934867  50958555 -1     protein_coding\n",
       "4 SCYL3    ENSG00000000457 57147  1   169849631 169894267 -1     protein_coding\n",
       "5 C1orf112 ENSG00000000460 55732  1   169662007 169854080  1     protein_coding\n",
       "  description                                                                                   \n",
       "1 tetraspanin 6 [Source:HGNC Symbol;Acc:HGNC:11858]                                             \n",
       "2 tenomodulin [Source:HGNC Symbol;Acc:HGNC:17757]                                               \n",
       "3 dolichyl-phosphate mannosyltransferase subunit 1, catalytic [Source:HGNC Symbol;Acc:HGNC:3005]\n",
       "4 SCY1 like pseudokinase 3 [Source:HGNC Symbol;Acc:HGNC:19285]                                  \n",
       "5 chromosome 1 open reading frame 112 [Source:HGNC Symbol;Acc:HGNC:25565]                       "
      ]
     },
     "metadata": {},
     "output_type": "display_data"
    }
   ],
   "source": [
    "output_df"
   ]
  },
  {
   "cell_type": "code",
   "execution_count": 35,
   "metadata": {},
   "outputs": [
    {
     "data": {
      "text/html": [
       "28457"
      ],
      "text/latex": [
       "28457"
      ],
      "text/markdown": [
       "28457"
      ],
      "text/plain": [
       "[1] 28457"
      ]
     },
     "metadata": {},
     "output_type": "display_data"
    }
   ],
   "source": [
    "sum(complete.cases(grch38[,1:3]))"
   ]
  },
  {
   "cell_type": "code",
   "execution_count": null,
   "metadata": {},
   "outputs": [],
   "source": [
    "id_df <- data.frame(raw_id = grch38$symbol[1:5])\n",
    "colnames(id_df) <- from_ref\n",
    "by_str <- rlang::set_names(quo_name(from_ref), quo_name(from_ref))\n",
    "output_df <- id_df %>%\n",
    "    left_join(annotable, by = by_str) #%>%\n",
    "    #select_(to_ref)\n",
    "\n"
   ]
  },
  {
   "cell_type": "code",
   "execution_count": 44,
   "metadata": {},
   "outputs": [
    {
     "data": {
      "text/html": [
       "'character'"
      ],
      "text/latex": [
       "'character'"
      ],
      "text/markdown": [
       "'character'"
      ],
      "text/plain": [
       "[1] \"character\""
      ]
     },
     "metadata": {},
     "output_type": "display_data"
    }
   ],
   "source": [
    "class(grch38$ensgene)"
   ]
  },
  {
   "cell_type": "code",
   "execution_count": 51,
   "metadata": {},
   "outputs": [],
   "source": [
    "id_map <- function(id_vec, from_ref, to_ref, annotable = grch38) {\n",
    "    id_df <- data.frame(raw_id = id_vec)\n",
    "    colnames(id_df) <- from_ref\n",
    "    id_df[, from_ref] <- as.character(id_df[, from_ref])\n",
    "    by_str <- rlang::set_names(quo_name(from_ref), quo_name(from_ref))\n",
    "    output_df <- id_df %>%\n",
    "        left_join(annotable, by = by_str) %>%\n",
    "        select_(to_ref)\n",
    "    return(output_df[,1])                              \n",
    "    \n",
    "} "
   ]
  },
  {
   "cell_type": "code",
   "execution_count": 41,
   "metadata": {},
   "outputs": [
    {
     "name": "stderr",
     "output_type": "stream",
     "text": [
      "Warning message:\n",
      "“Column `symbol` joining factor and character vector, coercing into character vector”"
     ]
    },
    {
     "data": {
      "text/html": [
       "'character'"
      ],
      "text/latex": [
       "'character'"
      ],
      "text/markdown": [
       "'character'"
      ],
      "text/plain": [
       "[1] \"character\""
      ]
     },
     "metadata": {},
     "output_type": "display_data"
    }
   ],
   "source": [
    "class(id_map(grch38$symbol[4:9], from_ref = \"symbol\", to_ref = \"ensgene\"))"
   ]
  },
  {
   "cell_type": "code",
   "execution_count": 52,
   "metadata": {},
   "outputs": [
    {
     "data": {
      "text/html": [
       "<ol class=list-inline>\n",
       "\t<li>'ENSG00000000457'</li>\n",
       "\t<li>'ENSG00000000460'</li>\n",
       "\t<li>'ENSG00000000938'</li>\n",
       "\t<li>'ENSG00000000971'</li>\n",
       "\t<li>'ENSG00000001036'</li>\n",
       "\t<li>'ENSG00000001084'</li>\n",
       "</ol>\n"
      ],
      "text/latex": [
       "\\begin{enumerate*}\n",
       "\\item 'ENSG00000000457'\n",
       "\\item 'ENSG00000000460'\n",
       "\\item 'ENSG00000000938'\n",
       "\\item 'ENSG00000000971'\n",
       "\\item 'ENSG00000001036'\n",
       "\\item 'ENSG00000001084'\n",
       "\\end{enumerate*}\n"
      ],
      "text/markdown": [
       "1. 'ENSG00000000457'\n",
       "2. 'ENSG00000000460'\n",
       "3. 'ENSG00000000938'\n",
       "4. 'ENSG00000000971'\n",
       "5. 'ENSG00000001036'\n",
       "6. 'ENSG00000001084'\n",
       "\n",
       "\n"
      ],
      "text/plain": [
       "[1] \"ENSG00000000457\" \"ENSG00000000460\" \"ENSG00000000938\" \"ENSG00000000971\"\n",
       "[5] \"ENSG00000001036\" \"ENSG00000001084\""
      ]
     },
     "metadata": {},
     "output_type": "display_data"
    }
   ],
   "source": [
    "id_map(grch38$symbol[4:9], from_ref = \"symbol\", to_ref = \"ensgene\")"
   ]
  },
  {
   "cell_type": "code",
   "execution_count": 53,
   "metadata": {},
   "outputs": [
    {
     "data": {
      "text/html": [
       "<ol class=list-inline>\n",
       "\t<li>57147</li>\n",
       "\t<li>55732</li>\n",
       "\t<li>2268</li>\n",
       "\t<li>3075</li>\n",
       "\t<li>2519</li>\n",
       "\t<li>2729</li>\n",
       "</ol>\n"
      ],
      "text/latex": [
       "\\begin{enumerate*}\n",
       "\\item 57147\n",
       "\\item 55732\n",
       "\\item 2268\n",
       "\\item 3075\n",
       "\\item 2519\n",
       "\\item 2729\n",
       "\\end{enumerate*}\n"
      ],
      "text/markdown": [
       "1. 57147\n",
       "2. 55732\n",
       "3. 2268\n",
       "4. 3075\n",
       "5. 2519\n",
       "6. 2729\n",
       "\n",
       "\n"
      ],
      "text/plain": [
       "[1] 57147 55732  2268  3075  2519  2729"
      ]
     },
     "metadata": {},
     "output_type": "display_data"
    }
   ],
   "source": [
    "id_map(grch38$symbol[4:9], from_ref = \"symbol\", to_ref = \"entrez\")"
   ]
  },
  {
   "cell_type": "code",
   "execution_count": 49,
   "metadata": {},
   "outputs": [],
   "source": [
    "test_df <- head(grch38)"
   ]
  },
  {
   "cell_type": "code",
   "execution_count": 54,
   "metadata": {},
   "outputs": [],
   "source": [
    "source(\"gene_id.R\")"
   ]
  },
  {
   "cell_type": "code",
   "execution_count": 55,
   "metadata": {},
   "outputs": [
    {
     "data": {
      "text/html": [
       "<ol class=list-inline>\n",
       "\t<li>'ENSG00000000457'</li>\n",
       "\t<li>'ENSG00000000460'</li>\n",
       "\t<li>'ENSG00000000938'</li>\n",
       "\t<li>'ENSG00000000971'</li>\n",
       "\t<li>'ENSG00000001036'</li>\n",
       "\t<li>'ENSG00000001084'</li>\n",
       "</ol>\n"
      ],
      "text/latex": [
       "\\begin{enumerate*}\n",
       "\\item 'ENSG00000000457'\n",
       "\\item 'ENSG00000000460'\n",
       "\\item 'ENSG00000000938'\n",
       "\\item 'ENSG00000000971'\n",
       "\\item 'ENSG00000001036'\n",
       "\\item 'ENSG00000001084'\n",
       "\\end{enumerate*}\n"
      ],
      "text/markdown": [
       "1. 'ENSG00000000457'\n",
       "2. 'ENSG00000000460'\n",
       "3. 'ENSG00000000938'\n",
       "4. 'ENSG00000000971'\n",
       "5. 'ENSG00000001036'\n",
       "6. 'ENSG00000001084'\n",
       "\n",
       "\n"
      ],
      "text/plain": [
       "[1] \"ENSG00000000457\" \"ENSG00000000460\" \"ENSG00000000938\" \"ENSG00000000971\"\n",
       "[5] \"ENSG00000001036\" \"ENSG00000001084\""
      ]
     },
     "metadata": {},
     "output_type": "display_data"
    }
   ],
   "source": [
    "id_map(grch38$symbol[4:9], from_ref = \"symbol\", to_ref = \"ensgene\")"
   ]
  },
  {
   "cell_type": "code",
   "execution_count": 56,
   "metadata": {},
   "outputs": [
    {
     "data": {
      "text/html": [
       "<ol class=list-inline>\n",
       "\t<li>'SCYL3'</li>\n",
       "\t<li>'C1orf112'</li>\n",
       "\t<li>'FGR'</li>\n",
       "\t<li>'CFH'</li>\n",
       "\t<li>'FUCA2'</li>\n",
       "\t<li>'GCLC'</li>\n",
       "</ol>\n"
      ],
      "text/latex": [
       "\\begin{enumerate*}\n",
       "\\item 'SCYL3'\n",
       "\\item 'C1orf112'\n",
       "\\item 'FGR'\n",
       "\\item 'CFH'\n",
       "\\item 'FUCA2'\n",
       "\\item 'GCLC'\n",
       "\\end{enumerate*}\n"
      ],
      "text/markdown": [
       "1. 'SCYL3'\n",
       "2. 'C1orf112'\n",
       "3. 'FGR'\n",
       "4. 'CFH'\n",
       "5. 'FUCA2'\n",
       "6. 'GCLC'\n",
       "\n",
       "\n"
      ],
      "text/plain": [
       "[1] \"SCYL3\"    \"C1orf112\" \"FGR\"      \"CFH\"      \"FUCA2\"    \"GCLC\"    "
      ]
     },
     "metadata": {},
     "output_type": "display_data"
    }
   ],
   "source": [
    "id_map(grch38$ensgene[4:9], from_ref = \"ensgene\", to_ref =  \"symbol\")"
   ]
  },
  {
   "cell_type": "code",
   "execution_count": 72,
   "metadata": {},
   "outputs": [],
   "source": [
    "res_vec <- list.files(twas_res)\n",
    "for (file_nam in res_vec) {\n",
    "    cur_df <- data.table::fread(paste0(twas_res, file_nam))\n",
    "    \n",
    "}"
   ]
  },
  {
   "cell_type": "code",
   "execution_count": 73,
   "metadata": {},
   "outputs": [
    {
     "data": {
      "text/html": [
       "<table>\n",
       "<thead><tr><th scope=col>V1</th><th scope=col>gene</th><th scope=col>gene_name</th><th scope=col>zscore</th><th scope=col>effect_size</th><th scope=col>pvalue</th><th scope=col>var_g</th><th scope=col>pred_perf_r2</th><th scope=col>pred_perf_pval</th><th scope=col>pred_perf_qval</th><th scope=col>n_snps_used</th><th scope=col>n_snps_in_cov</th><th scope=col>n_snps_in_model</th></tr></thead>\n",
       "<tbody>\n",
       "\t<tr><td> 0          </td><td>PSRC1       </td><td>PSRC1       </td><td>-6.697075   </td><td>-0.297043657</td><td>2.126322e-11</td><td>4.037220e-02</td><td>0.5         </td><td>1e-10       </td><td>1e-10       </td><td> 18         </td><td> 18         </td><td> 18         </td></tr>\n",
       "\t<tr><td> 1          </td><td>LIPC        </td><td>LIPC        </td><td>-6.221472   </td><td>-0.011994298</td><td>4.925108e-10</td><td>2.052324e+01</td><td>0.5         </td><td>1e-10       </td><td>1e-10       </td><td>390         </td><td>390         </td><td>403         </td></tr>\n",
       "\t<tr><td> 2          </td><td>CELSR2      </td><td>CELSR2      </td><td>-5.925606   </td><td>-1.750608832</td><td>3.111481e-09</td><td>9.379818e-04</td><td>0.5         </td><td>1e-10       </td><td>1e-10       </td><td> 30         </td><td> 31         </td><td> 31         </td></tr>\n",
       "\t<tr><td> 3          </td><td>ATG4D       </td><td>ATG4D       </td><td>       NA   </td><td>          NA</td><td>          NA</td><td>3.061570e-04</td><td>0.5         </td><td>1e-10       </td><td>1e-10       </td><td>  4         </td><td>  4         </td><td>  4         </td></tr>\n",
       "\t<tr><td> 4          </td><td>ZNF441      </td><td>ZNF441      </td><td>       NA   </td><td>          NA</td><td>          NA</td><td>3.274120e-06</td><td>0.5         </td><td>1e-10       </td><td>1e-10       </td><td> 11         </td><td> 11         </td><td> 11         </td></tr>\n",
       "\t<tr><td> 5          </td><td>QTRT1       </td><td>QTRT1       </td><td>       NA   </td><td>          NA</td><td>          NA</td><td>4.836572e-05</td><td>0.5         </td><td>1e-10       </td><td>1e-10       </td><td>  2         </td><td>  2         </td><td>  2         </td></tr>\n",
       "\t<tr><td> 6          </td><td>ZNF491      </td><td>ZNF491      </td><td>       NA   </td><td>          NA</td><td>          NA</td><td>1.449045e-07</td><td>0.5         </td><td>1e-10       </td><td>1e-10       </td><td> 34         </td><td> 34         </td><td> 34         </td></tr>\n",
       "\t<tr><td> 7          </td><td>PUM2        </td><td>PUM2        </td><td>-4.918214   </td><td>-3.475233792</td><td>8.733733e-07</td><td>1.596023e-04</td><td>0.5         </td><td>1e-10       </td><td>1e-10       </td><td> 10         </td><td> 10         </td><td> 10         </td></tr>\n",
       "\t<tr><td> 8          </td><td>NLRC5       </td><td>NLRC5       </td><td>-4.654694   </td><td>-3.016329855</td><td>3.244629e-06</td><td>1.780708e-04</td><td>0.5         </td><td>1e-10       </td><td>1e-10       </td><td> 18         </td><td> 19         </td><td> 19         </td></tr>\n",
       "\t<tr><td> 9          </td><td>CETP        </td><td>CETP        </td><td>-4.623897   </td><td>-0.263001703</td><td>3.765973e-06</td><td>2.823351e-02</td><td>0.5         </td><td>1e-10       </td><td>1e-10       </td><td> 59         </td><td> 59         </td><td> 61         </td></tr>\n",
       "\t<tr><td>10          </td><td>PLEC        </td><td>PLEC        </td><td>       NA   </td><td>          NA</td><td>          NA</td><td>3.061756e-02</td><td>0.5         </td><td>1e-10       </td><td>1e-10       </td><td> 49         </td><td> 49         </td><td> 49         </td></tr>\n",
       "\t<tr><td>11          </td><td>PARP10      </td><td>PARP10      </td><td>       NA   </td><td>          NA</td><td>          NA</td><td>1.020047e-02</td><td>0.5         </td><td>1e-10       </td><td>1e-10       </td><td> 26         </td><td> 26         </td><td> 26         </td></tr>\n",
       "\t<tr><td>12          </td><td>POLK        </td><td>POLK        </td><td>       NA   </td><td>          NA</td><td>          NA</td><td>9.558831e-06</td><td>0.5         </td><td>1e-10       </td><td>1e-10       </td><td> 17         </td><td> 17         </td><td> 17         </td></tr>\n",
       "\t<tr><td>13          </td><td>ZNF350      </td><td>ZNF350      </td><td>-4.168875   </td><td>-3.799519497</td><td>3.061073e-05</td><td>1.001880e-04</td><td>0.5         </td><td>1e-10       </td><td>1e-10       </td><td> 17         </td><td> 17         </td><td> 17         </td></tr>\n",
       "\t<tr><td>14          </td><td>MYZAP       </td><td>MYZAP       </td><td>-4.052417   </td><td>-7.468561678</td><td>5.069118e-05</td><td>2.297893e-05</td><td>0.5         </td><td>1e-10       </td><td>1e-10       </td><td>  6         </td><td>  6         </td><td>  6         </td></tr>\n",
       "\t<tr><td>15          </td><td>GCOM1       </td><td>GCOM1       </td><td>-4.048539   </td><td>-6.081521113</td><td>5.153843e-05</td><td>3.458570e-05</td><td>0.5         </td><td>1e-10       </td><td>1e-10       </td><td>  6         </td><td>  6         </td><td>  6         </td></tr>\n",
       "\t<tr><td>16          </td><td>DHX37       </td><td>DHX37       </td><td>       NA   </td><td>          NA</td><td>          NA</td><td>1.144576e-07</td><td>0.5         </td><td>1e-10       </td><td>1e-10       </td><td>  2         </td><td>  2         </td><td>  2         </td></tr>\n",
       "\t<tr><td>17          </td><td>FCRLB       </td><td>FCRLB       </td><td> 3.982538   </td><td> 1.082727192</td><td>6.818335e-05</td><td>1.083590e-03</td><td>0.5         </td><td>1e-10       </td><td>1e-10       </td><td> 58         </td><td> 58         </td><td> 58         </td></tr>\n",
       "\t<tr><td>18          </td><td>PTPRCAP     </td><td>PTPRCAP     </td><td> 3.828816   </td><td> 1.225716772</td><td>1.287612e-04</td><td>7.620335e-04</td><td>0.5         </td><td>1e-10       </td><td>1e-10       </td><td> 11         </td><td> 11         </td><td> 12         </td></tr>\n",
       "\t<tr><td>19          </td><td>SIL1        </td><td>SIL1        </td><td> 3.824927   </td><td> 0.424182080</td><td>1.308107e-04</td><td>6.560246e-03</td><td>0.5         </td><td>1e-10       </td><td>1e-10       </td><td> 64         </td><td> 64         </td><td> 66         </td></tr>\n",
       "\t<tr><td>20          </td><td>NAA16       </td><td>NAA16       </td><td>-3.811158   </td><td>-2.021000469</td><td>1.383171e-04</td><td>3.239340e-04</td><td>0.5         </td><td>1e-10       </td><td>1e-10       </td><td> 64         </td><td> 64         </td><td> 66         </td></tr>\n",
       "\t<tr><td>21          </td><td>ACOT11      </td><td>ACOT11      </td><td>       NA   </td><td>          NA</td><td>          NA</td><td>2.040678e-10</td><td>0.5         </td><td>1e-10       </td><td>1e-10       </td><td>  1         </td><td>  1         </td><td>  1         </td></tr>\n",
       "\t<tr><td>22          </td><td>CXCL1       </td><td>CXCL1       </td><td> 3.708603   </td><td> 0.259235070</td><td>2.084057e-04</td><td>1.762892e-02</td><td>0.5         </td><td>1e-10       </td><td>1e-10       </td><td> 30         </td><td> 30         </td><td> 33         </td></tr>\n",
       "\t<tr><td>23          </td><td>SMG9        </td><td>SMG9        </td><td>-3.625412   </td><td>-1.692745815</td><td>2.885009e-04</td><td>3.645720e-04</td><td>0.5         </td><td>1e-10       </td><td>1e-10       </td><td> 46         </td><td> 46         </td><td> 49         </td></tr>\n",
       "\t<tr><td>24          </td><td>OSER1       </td><td>OSER1       </td><td>-3.555083   </td><td>-0.202112703</td><td>3.778604e-04</td><td>4.326020e-02</td><td>0.5         </td><td>1e-10       </td><td>1e-10       </td><td> 64         </td><td> 64         </td><td> 65         </td></tr>\n",
       "\t<tr><td>25          </td><td>FCGR2B      </td><td>FCGR2B      </td><td> 3.503333   </td><td> 0.643015764</td><td>4.594748e-04</td><td>2.737409e-03</td><td>0.5         </td><td>1e-10       </td><td>1e-10       </td><td> 12         </td><td> 12         </td><td> 12         </td></tr>\n",
       "\t<tr><td>26          </td><td>PPCDC       </td><td>PPCDC       </td><td>-3.462878   </td><td>-0.265412835</td><td>5.344302e-04</td><td>1.187523e-02</td><td>0.5         </td><td>1e-10       </td><td>1e-10       </td><td> 78         </td><td> 78         </td><td> 81         </td></tr>\n",
       "\t<tr><td>27          </td><td>ANKRD13D    </td><td>ANKRD13D    </td><td>-3.443766   </td><td>-0.438583856</td><td>5.736713e-04</td><td>4.778529e-03</td><td>0.5         </td><td>1e-10       </td><td>1e-10       </td><td> 40         </td><td> 40         </td><td> 40         </td></tr>\n",
       "\t<tr><td>28          </td><td>PVRL2       </td><td>PVRL2       </td><td> 3.392136   </td><td> 0.019331772</td><td>6.934989e-04</td><td>2.503647e+00</td><td>0.5         </td><td>1e-10       </td><td>1e-10       </td><td>156         </td><td>157         </td><td>158         </td></tr>\n",
       "\t<tr><td>29          </td><td>ANGPTL3     </td><td>ANGPTL3     </td><td> 3.382737   </td><td> 0.003516798</td><td>7.176742e-04</td><td>8.625610e+01</td><td>0.5         </td><td>1e-10       </td><td>1e-10       </td><td> 51         </td><td> 52         </td><td> 52         </td></tr>\n",
       "\t<tr><td>⋮</td><td>⋮</td><td>⋮</td><td>⋮</td><td>⋮</td><td>⋮</td><td>⋮</td><td>⋮</td><td>⋮</td><td>⋮</td><td>⋮</td><td>⋮</td><td>⋮</td></tr>\n",
       "\t<tr><td>10807    </td><td>ZNF184   </td><td>ZNF184   </td><td>NA       </td><td>NA       </td><td>NA       </td><td>NA       </td><td>0.5      </td><td>1e-10    </td><td>1e-10    </td><td>0        </td><td>NA       </td><td>  2      </td></tr>\n",
       "\t<tr><td>10808    </td><td>FKBP1C   </td><td>FKBP1C   </td><td>NA       </td><td>NA       </td><td>NA       </td><td>NA       </td><td>0.5      </td><td>1e-10    </td><td>1e-10    </td><td>0        </td><td>NA       </td><td>  1      </td></tr>\n",
       "\t<tr><td>10809    </td><td>IL4I1    </td><td>IL4I1    </td><td>NA       </td><td>NA       </td><td>NA       </td><td>NA       </td><td>0.5      </td><td>1e-10    </td><td>1e-10    </td><td>0        </td><td>NA       </td><td>  1      </td></tr>\n",
       "\t<tr><td>10810    </td><td>C7       </td><td>C7       </td><td>NA       </td><td>NA       </td><td>NA       </td><td>NA       </td><td>0.5      </td><td>1e-10    </td><td>1e-10    </td><td>0        </td><td>NA       </td><td>  1      </td></tr>\n",
       "\t<tr><td>10811    </td><td>RBP5     </td><td>RBP5     </td><td>NA       </td><td>NA       </td><td>NA       </td><td>NA       </td><td>0.5      </td><td>1e-10    </td><td>1e-10    </td><td>0        </td><td>NA       </td><td>  1      </td></tr>\n",
       "\t<tr><td>10812    </td><td>C3AR1    </td><td>C3AR1    </td><td>NA       </td><td>NA       </td><td>NA       </td><td>NA       </td><td>0.5      </td><td>1e-10    </td><td>1e-10    </td><td>0        </td><td>NA       </td><td> 63      </td></tr>\n",
       "\t<tr><td>10813    </td><td>CDC73    </td><td>CDC73    </td><td>NA       </td><td>NA       </td><td>NA       </td><td>NA       </td><td>0.5      </td><td>1e-10    </td><td>1e-10    </td><td>0        </td><td>NA       </td><td>  1      </td></tr>\n",
       "\t<tr><td>10814    </td><td>SMIM15   </td><td>SMIM15   </td><td>NA       </td><td>NA       </td><td>NA       </td><td>NA       </td><td>0.5      </td><td>1e-10    </td><td>1e-10    </td><td>0        </td><td>NA       </td><td>  1      </td></tr>\n",
       "\t<tr><td>10815    </td><td>ATM      </td><td>ATM      </td><td>NA       </td><td>NA       </td><td>NA       </td><td>NA       </td><td>0.5      </td><td>1e-10    </td><td>1e-10    </td><td>0        </td><td>NA       </td><td>  1      </td></tr>\n",
       "\t<tr><td>10816    </td><td>A2M      </td><td>A2M      </td><td>NA       </td><td>NA       </td><td>NA       </td><td>NA       </td><td>0.5      </td><td>1e-10    </td><td>1e-10    </td><td>0        </td><td>NA       </td><td>  7      </td></tr>\n",
       "\t<tr><td>10817    </td><td>CXCL3    </td><td>CXCL3    </td><td>NA       </td><td>NA       </td><td>NA       </td><td>NA       </td><td>0.5      </td><td>1e-10    </td><td>1e-10    </td><td>0        </td><td>NA       </td><td>  1      </td></tr>\n",
       "\t<tr><td>10818    </td><td>FOXJ2    </td><td>FOXJ2    </td><td>NA       </td><td>NA       </td><td>NA       </td><td>NA       </td><td>0.5      </td><td>1e-10    </td><td>1e-10    </td><td>0        </td><td>NA       </td><td> 45      </td></tr>\n",
       "\t<tr><td>10819    </td><td>PLEKHG6  </td><td>PLEKHG6  </td><td>NA       </td><td>NA       </td><td>NA       </td><td>NA       </td><td>0.5      </td><td>1e-10    </td><td>1e-10    </td><td>0        </td><td>NA       </td><td>  1      </td></tr>\n",
       "\t<tr><td>10820    </td><td>ZNF226   </td><td>ZNF226   </td><td>NA       </td><td>NA       </td><td>NA       </td><td>NA       </td><td>0.5      </td><td>1e-10    </td><td>1e-10    </td><td>0        </td><td>NA       </td><td>  1      </td></tr>\n",
       "\t<tr><td>10821    </td><td>GRPEL2   </td><td>GRPEL2   </td><td>NA       </td><td>NA       </td><td>NA       </td><td>NA       </td><td>0.5      </td><td>1e-10    </td><td>1e-10    </td><td>0        </td><td>NA       </td><td>  1      </td></tr>\n",
       "\t<tr><td>10822    </td><td>FGL2     </td><td>FGL2     </td><td>NA       </td><td>NA       </td><td>NA       </td><td>NA       </td><td>0.5      </td><td>1e-10    </td><td>1e-10    </td><td>0        </td><td>NA       </td><td>  1      </td></tr>\n",
       "\t<tr><td>10823    </td><td>CLEC4A   </td><td>CLEC4A   </td><td>NA       </td><td>NA       </td><td>NA       </td><td>NA       </td><td>0.5      </td><td>1e-10    </td><td>1e-10    </td><td>0        </td><td>NA       </td><td>  3      </td></tr>\n",
       "\t<tr><td>10824    </td><td>KLRB1    </td><td>KLRB1    </td><td>NA       </td><td>NA       </td><td>NA       </td><td>NA       </td><td>0.5      </td><td>1e-10    </td><td>1e-10    </td><td>0        </td><td>NA       </td><td>  3      </td></tr>\n",
       "\t<tr><td>10825    </td><td>CLSTN3   </td><td>CLSTN3   </td><td>NA       </td><td>NA       </td><td>NA       </td><td>NA       </td><td>0.5      </td><td>1e-10    </td><td>1e-10    </td><td>0        </td><td>NA       </td><td> 10      </td></tr>\n",
       "\t<tr><td>10826    </td><td>MFSD10   </td><td>MFSD10   </td><td>NA       </td><td>NA       </td><td>NA       </td><td>NA       </td><td>0.5      </td><td>1e-10    </td><td>1e-10    </td><td>0        </td><td>NA       </td><td>  1      </td></tr>\n",
       "\t<tr><td>10827    </td><td>C18orf32 </td><td>C18orf32 </td><td>NA       </td><td>NA       </td><td>NA       </td><td>NA       </td><td>0.5      </td><td>1e-10    </td><td>1e-10    </td><td>0        </td><td>NA       </td><td>  1      </td></tr>\n",
       "\t<tr><td>10828    </td><td>ORMDL2   </td><td>ORMDL2   </td><td>NA       </td><td>NA       </td><td>NA       </td><td>NA       </td><td>0.5      </td><td>1e-10    </td><td>1e-10    </td><td>0        </td><td>NA       </td><td>  1      </td></tr>\n",
       "\t<tr><td>10829    </td><td>CA2      </td><td>CA2      </td><td>NA       </td><td>NA       </td><td>NA       </td><td>NA       </td><td>0.5      </td><td>1e-10    </td><td>1e-10    </td><td>0        </td><td>NA       </td><td>  1      </td></tr>\n",
       "\t<tr><td>10830    </td><td>GABARAPL1</td><td>GABARAPL1</td><td>NA       </td><td>NA       </td><td>NA       </td><td>NA       </td><td>0.5      </td><td>1e-10    </td><td>1e-10    </td><td>0        </td><td>NA       </td><td>  1      </td></tr>\n",
       "\t<tr><td>10831    </td><td>APLF     </td><td>APLF     </td><td>NA       </td><td>NA       </td><td>NA       </td><td>NA       </td><td>0.5      </td><td>1e-10    </td><td>1e-10    </td><td>0        </td><td>NA       </td><td>  1      </td></tr>\n",
       "\t<tr><td>10832    </td><td>BTNL8    </td><td>BTNL8    </td><td>NA       </td><td>NA       </td><td>NA       </td><td>NA       </td><td>0.5      </td><td>1e-10    </td><td>1e-10    </td><td>0        </td><td>NA       </td><td>  1      </td></tr>\n",
       "\t<tr><td>10833    </td><td>CD163    </td><td>CD163    </td><td>NA       </td><td>NA       </td><td>NA       </td><td>NA       </td><td>0.5      </td><td>1e-10    </td><td>1e-10    </td><td>0        </td><td>NA       </td><td> 30      </td></tr>\n",
       "\t<tr><td>10834    </td><td>KLRG1    </td><td>KLRG1    </td><td>NA       </td><td>NA       </td><td>NA       </td><td>NA       </td><td>0.5      </td><td>1e-10    </td><td>1e-10    </td><td>0        </td><td>NA       </td><td> 31      </td></tr>\n",
       "\t<tr><td>10835    </td><td>CBWD6    </td><td>CBWD6    </td><td>NA       </td><td>NA       </td><td>NA       </td><td>NA       </td><td>0.5      </td><td>1e-10    </td><td>1e-10    </td><td>0        </td><td>NA       </td><td>  3      </td></tr>\n",
       "\t<tr><td>10836    </td><td>SLC2A14  </td><td>SLC2A14  </td><td>NA       </td><td>NA       </td><td>NA       </td><td>NA       </td><td>0.5      </td><td>1e-10    </td><td>1e-10    </td><td>0        </td><td>NA       </td><td>127      </td></tr>\n",
       "</tbody>\n",
       "</table>\n"
      ],
      "text/latex": [
       "\\begin{tabular}{r|lllllllllllll}\n",
       " V1 & gene & gene\\_name & zscore & effect\\_size & pvalue & var\\_g & pred\\_perf\\_r2 & pred\\_perf\\_pval & pred\\_perf\\_qval & n\\_snps\\_used & n\\_snps\\_in\\_cov & n\\_snps\\_in\\_model\\\\\n",
       "\\hline\n",
       "\t  0           & PSRC1        & PSRC1        & -6.697075    & -0.297043657 & 2.126322e-11 & 4.037220e-02 & 0.5          & 1e-10        & 1e-10        &  18          &  18          &  18         \\\\\n",
       "\t  1           & LIPC         & LIPC         & -6.221472    & -0.011994298 & 4.925108e-10 & 2.052324e+01 & 0.5          & 1e-10        & 1e-10        & 390          & 390          & 403         \\\\\n",
       "\t  2           & CELSR2       & CELSR2       & -5.925606    & -1.750608832 & 3.111481e-09 & 9.379818e-04 & 0.5          & 1e-10        & 1e-10        &  30          &  31          &  31         \\\\\n",
       "\t  3           & ATG4D        & ATG4D        &        NA    &           NA &           NA & 3.061570e-04 & 0.5          & 1e-10        & 1e-10        &   4          &   4          &   4         \\\\\n",
       "\t  4           & ZNF441       & ZNF441       &        NA    &           NA &           NA & 3.274120e-06 & 0.5          & 1e-10        & 1e-10        &  11          &  11          &  11         \\\\\n",
       "\t  5           & QTRT1        & QTRT1        &        NA    &           NA &           NA & 4.836572e-05 & 0.5          & 1e-10        & 1e-10        &   2          &   2          &   2         \\\\\n",
       "\t  6           & ZNF491       & ZNF491       &        NA    &           NA &           NA & 1.449045e-07 & 0.5          & 1e-10        & 1e-10        &  34          &  34          &  34         \\\\\n",
       "\t  7           & PUM2         & PUM2         & -4.918214    & -3.475233792 & 8.733733e-07 & 1.596023e-04 & 0.5          & 1e-10        & 1e-10        &  10          &  10          &  10         \\\\\n",
       "\t  8           & NLRC5        & NLRC5        & -4.654694    & -3.016329855 & 3.244629e-06 & 1.780708e-04 & 0.5          & 1e-10        & 1e-10        &  18          &  19          &  19         \\\\\n",
       "\t  9           & CETP         & CETP         & -4.623897    & -0.263001703 & 3.765973e-06 & 2.823351e-02 & 0.5          & 1e-10        & 1e-10        &  59          &  59          &  61         \\\\\n",
       "\t 10           & PLEC         & PLEC         &        NA    &           NA &           NA & 3.061756e-02 & 0.5          & 1e-10        & 1e-10        &  49          &  49          &  49         \\\\\n",
       "\t 11           & PARP10       & PARP10       &        NA    &           NA &           NA & 1.020047e-02 & 0.5          & 1e-10        & 1e-10        &  26          &  26          &  26         \\\\\n",
       "\t 12           & POLK         & POLK         &        NA    &           NA &           NA & 9.558831e-06 & 0.5          & 1e-10        & 1e-10        &  17          &  17          &  17         \\\\\n",
       "\t 13           & ZNF350       & ZNF350       & -4.168875    & -3.799519497 & 3.061073e-05 & 1.001880e-04 & 0.5          & 1e-10        & 1e-10        &  17          &  17          &  17         \\\\\n",
       "\t 14           & MYZAP        & MYZAP        & -4.052417    & -7.468561678 & 5.069118e-05 & 2.297893e-05 & 0.5          & 1e-10        & 1e-10        &   6          &   6          &   6         \\\\\n",
       "\t 15           & GCOM1        & GCOM1        & -4.048539    & -6.081521113 & 5.153843e-05 & 3.458570e-05 & 0.5          & 1e-10        & 1e-10        &   6          &   6          &   6         \\\\\n",
       "\t 16           & DHX37        & DHX37        &        NA    &           NA &           NA & 1.144576e-07 & 0.5          & 1e-10        & 1e-10        &   2          &   2          &   2         \\\\\n",
       "\t 17           & FCRLB        & FCRLB        &  3.982538    &  1.082727192 & 6.818335e-05 & 1.083590e-03 & 0.5          & 1e-10        & 1e-10        &  58          &  58          &  58         \\\\\n",
       "\t 18           & PTPRCAP      & PTPRCAP      &  3.828816    &  1.225716772 & 1.287612e-04 & 7.620335e-04 & 0.5          & 1e-10        & 1e-10        &  11          &  11          &  12         \\\\\n",
       "\t 19           & SIL1         & SIL1         &  3.824927    &  0.424182080 & 1.308107e-04 & 6.560246e-03 & 0.5          & 1e-10        & 1e-10        &  64          &  64          &  66         \\\\\n",
       "\t 20           & NAA16        & NAA16        & -3.811158    & -2.021000469 & 1.383171e-04 & 3.239340e-04 & 0.5          & 1e-10        & 1e-10        &  64          &  64          &  66         \\\\\n",
       "\t 21           & ACOT11       & ACOT11       &        NA    &           NA &           NA & 2.040678e-10 & 0.5          & 1e-10        & 1e-10        &   1          &   1          &   1         \\\\\n",
       "\t 22           & CXCL1        & CXCL1        &  3.708603    &  0.259235070 & 2.084057e-04 & 1.762892e-02 & 0.5          & 1e-10        & 1e-10        &  30          &  30          &  33         \\\\\n",
       "\t 23           & SMG9         & SMG9         & -3.625412    & -1.692745815 & 2.885009e-04 & 3.645720e-04 & 0.5          & 1e-10        & 1e-10        &  46          &  46          &  49         \\\\\n",
       "\t 24           & OSER1        & OSER1        & -3.555083    & -0.202112703 & 3.778604e-04 & 4.326020e-02 & 0.5          & 1e-10        & 1e-10        &  64          &  64          &  65         \\\\\n",
       "\t 25           & FCGR2B       & FCGR2B       &  3.503333    &  0.643015764 & 4.594748e-04 & 2.737409e-03 & 0.5          & 1e-10        & 1e-10        &  12          &  12          &  12         \\\\\n",
       "\t 26           & PPCDC        & PPCDC        & -3.462878    & -0.265412835 & 5.344302e-04 & 1.187523e-02 & 0.5          & 1e-10        & 1e-10        &  78          &  78          &  81         \\\\\n",
       "\t 27           & ANKRD13D     & ANKRD13D     & -3.443766    & -0.438583856 & 5.736713e-04 & 4.778529e-03 & 0.5          & 1e-10        & 1e-10        &  40          &  40          &  40         \\\\\n",
       "\t 28           & PVRL2        & PVRL2        &  3.392136    &  0.019331772 & 6.934989e-04 & 2.503647e+00 & 0.5          & 1e-10        & 1e-10        & 156          & 157          & 158         \\\\\n",
       "\t 29           & ANGPTL3      & ANGPTL3      &  3.382737    &  0.003516798 & 7.176742e-04 & 8.625610e+01 & 0.5          & 1e-10        & 1e-10        &  51          &  52          &  52         \\\\\n",
       "\t ⋮ & ⋮ & ⋮ & ⋮ & ⋮ & ⋮ & ⋮ & ⋮ & ⋮ & ⋮ & ⋮ & ⋮ & ⋮\\\\\n",
       "\t 10807     & ZNF184    & ZNF184    & NA        & NA        & NA        & NA        & 0.5       & 1e-10     & 1e-10     & 0         & NA        &   2      \\\\\n",
       "\t 10808     & FKBP1C    & FKBP1C    & NA        & NA        & NA        & NA        & 0.5       & 1e-10     & 1e-10     & 0         & NA        &   1      \\\\\n",
       "\t 10809     & IL4I1     & IL4I1     & NA        & NA        & NA        & NA        & 0.5       & 1e-10     & 1e-10     & 0         & NA        &   1      \\\\\n",
       "\t 10810     & C7        & C7        & NA        & NA        & NA        & NA        & 0.5       & 1e-10     & 1e-10     & 0         & NA        &   1      \\\\\n",
       "\t 10811     & RBP5      & RBP5      & NA        & NA        & NA        & NA        & 0.5       & 1e-10     & 1e-10     & 0         & NA        &   1      \\\\\n",
       "\t 10812     & C3AR1     & C3AR1     & NA        & NA        & NA        & NA        & 0.5       & 1e-10     & 1e-10     & 0         & NA        &  63      \\\\\n",
       "\t 10813     & CDC73     & CDC73     & NA        & NA        & NA        & NA        & 0.5       & 1e-10     & 1e-10     & 0         & NA        &   1      \\\\\n",
       "\t 10814     & SMIM15    & SMIM15    & NA        & NA        & NA        & NA        & 0.5       & 1e-10     & 1e-10     & 0         & NA        &   1      \\\\\n",
       "\t 10815     & ATM       & ATM       & NA        & NA        & NA        & NA        & 0.5       & 1e-10     & 1e-10     & 0         & NA        &   1      \\\\\n",
       "\t 10816     & A2M       & A2M       & NA        & NA        & NA        & NA        & 0.5       & 1e-10     & 1e-10     & 0         & NA        &   7      \\\\\n",
       "\t 10817     & CXCL3     & CXCL3     & NA        & NA        & NA        & NA        & 0.5       & 1e-10     & 1e-10     & 0         & NA        &   1      \\\\\n",
       "\t 10818     & FOXJ2     & FOXJ2     & NA        & NA        & NA        & NA        & 0.5       & 1e-10     & 1e-10     & 0         & NA        &  45      \\\\\n",
       "\t 10819     & PLEKHG6   & PLEKHG6   & NA        & NA        & NA        & NA        & 0.5       & 1e-10     & 1e-10     & 0         & NA        &   1      \\\\\n",
       "\t 10820     & ZNF226    & ZNF226    & NA        & NA        & NA        & NA        & 0.5       & 1e-10     & 1e-10     & 0         & NA        &   1      \\\\\n",
       "\t 10821     & GRPEL2    & GRPEL2    & NA        & NA        & NA        & NA        & 0.5       & 1e-10     & 1e-10     & 0         & NA        &   1      \\\\\n",
       "\t 10822     & FGL2      & FGL2      & NA        & NA        & NA        & NA        & 0.5       & 1e-10     & 1e-10     & 0         & NA        &   1      \\\\\n",
       "\t 10823     & CLEC4A    & CLEC4A    & NA        & NA        & NA        & NA        & 0.5       & 1e-10     & 1e-10     & 0         & NA        &   3      \\\\\n",
       "\t 10824     & KLRB1     & KLRB1     & NA        & NA        & NA        & NA        & 0.5       & 1e-10     & 1e-10     & 0         & NA        &   3      \\\\\n",
       "\t 10825     & CLSTN3    & CLSTN3    & NA        & NA        & NA        & NA        & 0.5       & 1e-10     & 1e-10     & 0         & NA        &  10      \\\\\n",
       "\t 10826     & MFSD10    & MFSD10    & NA        & NA        & NA        & NA        & 0.5       & 1e-10     & 1e-10     & 0         & NA        &   1      \\\\\n",
       "\t 10827     & C18orf32  & C18orf32  & NA        & NA        & NA        & NA        & 0.5       & 1e-10     & 1e-10     & 0         & NA        &   1      \\\\\n",
       "\t 10828     & ORMDL2    & ORMDL2    & NA        & NA        & NA        & NA        & 0.5       & 1e-10     & 1e-10     & 0         & NA        &   1      \\\\\n",
       "\t 10829     & CA2       & CA2       & NA        & NA        & NA        & NA        & 0.5       & 1e-10     & 1e-10     & 0         & NA        &   1      \\\\\n",
       "\t 10830     & GABARAPL1 & GABARAPL1 & NA        & NA        & NA        & NA        & 0.5       & 1e-10     & 1e-10     & 0         & NA        &   1      \\\\\n",
       "\t 10831     & APLF      & APLF      & NA        & NA        & NA        & NA        & 0.5       & 1e-10     & 1e-10     & 0         & NA        &   1      \\\\\n",
       "\t 10832     & BTNL8     & BTNL8     & NA        & NA        & NA        & NA        & 0.5       & 1e-10     & 1e-10     & 0         & NA        &   1      \\\\\n",
       "\t 10833     & CD163     & CD163     & NA        & NA        & NA        & NA        & 0.5       & 1e-10     & 1e-10     & 0         & NA        &  30      \\\\\n",
       "\t 10834     & KLRG1     & KLRG1     & NA        & NA        & NA        & NA        & 0.5       & 1e-10     & 1e-10     & 0         & NA        &  31      \\\\\n",
       "\t 10835     & CBWD6     & CBWD6     & NA        & NA        & NA        & NA        & 0.5       & 1e-10     & 1e-10     & 0         & NA        &   3      \\\\\n",
       "\t 10836     & SLC2A14   & SLC2A14   & NA        & NA        & NA        & NA        & 0.5       & 1e-10     & 1e-10     & 0         & NA        & 127      \\\\\n",
       "\\end{tabular}\n"
      ],
      "text/markdown": [
       "\n",
       "V1 | gene | gene_name | zscore | effect_size | pvalue | var_g | pred_perf_r2 | pred_perf_pval | pred_perf_qval | n_snps_used | n_snps_in_cov | n_snps_in_model | \n",
       "|---|---|---|---|---|---|---|---|---|---|---|---|---|---|---|---|---|---|---|---|---|---|---|---|---|---|---|---|---|---|---|---|---|---|---|---|---|---|---|---|---|---|---|---|---|---|---|---|---|---|---|---|---|---|---|---|---|---|---|---|---|\n",
       "|  0           | PSRC1        | PSRC1        | -6.697075    | -0.297043657 | 2.126322e-11 | 4.037220e-02 | 0.5          | 1e-10        | 1e-10        |  18          |  18          |  18          | \n",
       "|  1           | LIPC         | LIPC         | -6.221472    | -0.011994298 | 4.925108e-10 | 2.052324e+01 | 0.5          | 1e-10        | 1e-10        | 390          | 390          | 403          | \n",
       "|  2           | CELSR2       | CELSR2       | -5.925606    | -1.750608832 | 3.111481e-09 | 9.379818e-04 | 0.5          | 1e-10        | 1e-10        |  30          |  31          |  31          | \n",
       "|  3           | ATG4D        | ATG4D        |        NA    |           NA |           NA | 3.061570e-04 | 0.5          | 1e-10        | 1e-10        |   4          |   4          |   4          | \n",
       "|  4           | ZNF441       | ZNF441       |        NA    |           NA |           NA | 3.274120e-06 | 0.5          | 1e-10        | 1e-10        |  11          |  11          |  11          | \n",
       "|  5           | QTRT1        | QTRT1        |        NA    |           NA |           NA | 4.836572e-05 | 0.5          | 1e-10        | 1e-10        |   2          |   2          |   2          | \n",
       "|  6           | ZNF491       | ZNF491       |        NA    |           NA |           NA | 1.449045e-07 | 0.5          | 1e-10        | 1e-10        |  34          |  34          |  34          | \n",
       "|  7           | PUM2         | PUM2         | -4.918214    | -3.475233792 | 8.733733e-07 | 1.596023e-04 | 0.5          | 1e-10        | 1e-10        |  10          |  10          |  10          | \n",
       "|  8           | NLRC5        | NLRC5        | -4.654694    | -3.016329855 | 3.244629e-06 | 1.780708e-04 | 0.5          | 1e-10        | 1e-10        |  18          |  19          |  19          | \n",
       "|  9           | CETP         | CETP         | -4.623897    | -0.263001703 | 3.765973e-06 | 2.823351e-02 | 0.5          | 1e-10        | 1e-10        |  59          |  59          |  61          | \n",
       "| 10           | PLEC         | PLEC         |        NA    |           NA |           NA | 3.061756e-02 | 0.5          | 1e-10        | 1e-10        |  49          |  49          |  49          | \n",
       "| 11           | PARP10       | PARP10       |        NA    |           NA |           NA | 1.020047e-02 | 0.5          | 1e-10        | 1e-10        |  26          |  26          |  26          | \n",
       "| 12           | POLK         | POLK         |        NA    |           NA |           NA | 9.558831e-06 | 0.5          | 1e-10        | 1e-10        |  17          |  17          |  17          | \n",
       "| 13           | ZNF350       | ZNF350       | -4.168875    | -3.799519497 | 3.061073e-05 | 1.001880e-04 | 0.5          | 1e-10        | 1e-10        |  17          |  17          |  17          | \n",
       "| 14           | MYZAP        | MYZAP        | -4.052417    | -7.468561678 | 5.069118e-05 | 2.297893e-05 | 0.5          | 1e-10        | 1e-10        |   6          |   6          |   6          | \n",
       "| 15           | GCOM1        | GCOM1        | -4.048539    | -6.081521113 | 5.153843e-05 | 3.458570e-05 | 0.5          | 1e-10        | 1e-10        |   6          |   6          |   6          | \n",
       "| 16           | DHX37        | DHX37        |        NA    |           NA |           NA | 1.144576e-07 | 0.5          | 1e-10        | 1e-10        |   2          |   2          |   2          | \n",
       "| 17           | FCRLB        | FCRLB        |  3.982538    |  1.082727192 | 6.818335e-05 | 1.083590e-03 | 0.5          | 1e-10        | 1e-10        |  58          |  58          |  58          | \n",
       "| 18           | PTPRCAP      | PTPRCAP      |  3.828816    |  1.225716772 | 1.287612e-04 | 7.620335e-04 | 0.5          | 1e-10        | 1e-10        |  11          |  11          |  12          | \n",
       "| 19           | SIL1         | SIL1         |  3.824927    |  0.424182080 | 1.308107e-04 | 6.560246e-03 | 0.5          | 1e-10        | 1e-10        |  64          |  64          |  66          | \n",
       "| 20           | NAA16        | NAA16        | -3.811158    | -2.021000469 | 1.383171e-04 | 3.239340e-04 | 0.5          | 1e-10        | 1e-10        |  64          |  64          |  66          | \n",
       "| 21           | ACOT11       | ACOT11       |        NA    |           NA |           NA | 2.040678e-10 | 0.5          | 1e-10        | 1e-10        |   1          |   1          |   1          | \n",
       "| 22           | CXCL1        | CXCL1        |  3.708603    |  0.259235070 | 2.084057e-04 | 1.762892e-02 | 0.5          | 1e-10        | 1e-10        |  30          |  30          |  33          | \n",
       "| 23           | SMG9         | SMG9         | -3.625412    | -1.692745815 | 2.885009e-04 | 3.645720e-04 | 0.5          | 1e-10        | 1e-10        |  46          |  46          |  49          | \n",
       "| 24           | OSER1        | OSER1        | -3.555083    | -0.202112703 | 3.778604e-04 | 4.326020e-02 | 0.5          | 1e-10        | 1e-10        |  64          |  64          |  65          | \n",
       "| 25           | FCGR2B       | FCGR2B       |  3.503333    |  0.643015764 | 4.594748e-04 | 2.737409e-03 | 0.5          | 1e-10        | 1e-10        |  12          |  12          |  12          | \n",
       "| 26           | PPCDC        | PPCDC        | -3.462878    | -0.265412835 | 5.344302e-04 | 1.187523e-02 | 0.5          | 1e-10        | 1e-10        |  78          |  78          |  81          | \n",
       "| 27           | ANKRD13D     | ANKRD13D     | -3.443766    | -0.438583856 | 5.736713e-04 | 4.778529e-03 | 0.5          | 1e-10        | 1e-10        |  40          |  40          |  40          | \n",
       "| 28           | PVRL2        | PVRL2        |  3.392136    |  0.019331772 | 6.934989e-04 | 2.503647e+00 | 0.5          | 1e-10        | 1e-10        | 156          | 157          | 158          | \n",
       "| 29           | ANGPTL3      | ANGPTL3      |  3.382737    |  0.003516798 | 7.176742e-04 | 8.625610e+01 | 0.5          | 1e-10        | 1e-10        |  51          |  52          |  52          | \n",
       "| ⋮ | ⋮ | ⋮ | ⋮ | ⋮ | ⋮ | ⋮ | ⋮ | ⋮ | ⋮ | ⋮ | ⋮ | ⋮ | \n",
       "| 10807     | ZNF184    | ZNF184    | NA        | NA        | NA        | NA        | 0.5       | 1e-10     | 1e-10     | 0         | NA        |   2       | \n",
       "| 10808     | FKBP1C    | FKBP1C    | NA        | NA        | NA        | NA        | 0.5       | 1e-10     | 1e-10     | 0         | NA        |   1       | \n",
       "| 10809     | IL4I1     | IL4I1     | NA        | NA        | NA        | NA        | 0.5       | 1e-10     | 1e-10     | 0         | NA        |   1       | \n",
       "| 10810     | C7        | C7        | NA        | NA        | NA        | NA        | 0.5       | 1e-10     | 1e-10     | 0         | NA        |   1       | \n",
       "| 10811     | RBP5      | RBP5      | NA        | NA        | NA        | NA        | 0.5       | 1e-10     | 1e-10     | 0         | NA        |   1       | \n",
       "| 10812     | C3AR1     | C3AR1     | NA        | NA        | NA        | NA        | 0.5       | 1e-10     | 1e-10     | 0         | NA        |  63       | \n",
       "| 10813     | CDC73     | CDC73     | NA        | NA        | NA        | NA        | 0.5       | 1e-10     | 1e-10     | 0         | NA        |   1       | \n",
       "| 10814     | SMIM15    | SMIM15    | NA        | NA        | NA        | NA        | 0.5       | 1e-10     | 1e-10     | 0         | NA        |   1       | \n",
       "| 10815     | ATM       | ATM       | NA        | NA        | NA        | NA        | 0.5       | 1e-10     | 1e-10     | 0         | NA        |   1       | \n",
       "| 10816     | A2M       | A2M       | NA        | NA        | NA        | NA        | 0.5       | 1e-10     | 1e-10     | 0         | NA        |   7       | \n",
       "| 10817     | CXCL3     | CXCL3     | NA        | NA        | NA        | NA        | 0.5       | 1e-10     | 1e-10     | 0         | NA        |   1       | \n",
       "| 10818     | FOXJ2     | FOXJ2     | NA        | NA        | NA        | NA        | 0.5       | 1e-10     | 1e-10     | 0         | NA        |  45       | \n",
       "| 10819     | PLEKHG6   | PLEKHG6   | NA        | NA        | NA        | NA        | 0.5       | 1e-10     | 1e-10     | 0         | NA        |   1       | \n",
       "| 10820     | ZNF226    | ZNF226    | NA        | NA        | NA        | NA        | 0.5       | 1e-10     | 1e-10     | 0         | NA        |   1       | \n",
       "| 10821     | GRPEL2    | GRPEL2    | NA        | NA        | NA        | NA        | 0.5       | 1e-10     | 1e-10     | 0         | NA        |   1       | \n",
       "| 10822     | FGL2      | FGL2      | NA        | NA        | NA        | NA        | 0.5       | 1e-10     | 1e-10     | 0         | NA        |   1       | \n",
       "| 10823     | CLEC4A    | CLEC4A    | NA        | NA        | NA        | NA        | 0.5       | 1e-10     | 1e-10     | 0         | NA        |   3       | \n",
       "| 10824     | KLRB1     | KLRB1     | NA        | NA        | NA        | NA        | 0.5       | 1e-10     | 1e-10     | 0         | NA        |   3       | \n",
       "| 10825     | CLSTN3    | CLSTN3    | NA        | NA        | NA        | NA        | 0.5       | 1e-10     | 1e-10     | 0         | NA        |  10       | \n",
       "| 10826     | MFSD10    | MFSD10    | NA        | NA        | NA        | NA        | 0.5       | 1e-10     | 1e-10     | 0         | NA        |   1       | \n",
       "| 10827     | C18orf32  | C18orf32  | NA        | NA        | NA        | NA        | 0.5       | 1e-10     | 1e-10     | 0         | NA        |   1       | \n",
       "| 10828     | ORMDL2    | ORMDL2    | NA        | NA        | NA        | NA        | 0.5       | 1e-10     | 1e-10     | 0         | NA        |   1       | \n",
       "| 10829     | CA2       | CA2       | NA        | NA        | NA        | NA        | 0.5       | 1e-10     | 1e-10     | 0         | NA        |   1       | \n",
       "| 10830     | GABARAPL1 | GABARAPL1 | NA        | NA        | NA        | NA        | 0.5       | 1e-10     | 1e-10     | 0         | NA        |   1       | \n",
       "| 10831     | APLF      | APLF      | NA        | NA        | NA        | NA        | 0.5       | 1e-10     | 1e-10     | 0         | NA        |   1       | \n",
       "| 10832     | BTNL8     | BTNL8     | NA        | NA        | NA        | NA        | 0.5       | 1e-10     | 1e-10     | 0         | NA        |   1       | \n",
       "| 10833     | CD163     | CD163     | NA        | NA        | NA        | NA        | 0.5       | 1e-10     | 1e-10     | 0         | NA        |  30       | \n",
       "| 10834     | KLRG1     | KLRG1     | NA        | NA        | NA        | NA        | 0.5       | 1e-10     | 1e-10     | 0         | NA        |  31       | \n",
       "| 10835     | CBWD6     | CBWD6     | NA        | NA        | NA        | NA        | 0.5       | 1e-10     | 1e-10     | 0         | NA        |   3       | \n",
       "| 10836     | SLC2A14   | SLC2A14   | NA        | NA        | NA        | NA        | 0.5       | 1e-10     | 1e-10     | 0         | NA        | 127       | \n",
       "\n",
       "\n"
      ],
      "text/plain": [
       "      V1    gene      gene_name zscore    effect_size  pvalue      \n",
       "1      0    PSRC1     PSRC1     -6.697075 -0.297043657 2.126322e-11\n",
       "2      1    LIPC      LIPC      -6.221472 -0.011994298 4.925108e-10\n",
       "3      2    CELSR2    CELSR2    -5.925606 -1.750608832 3.111481e-09\n",
       "4      3    ATG4D     ATG4D            NA           NA           NA\n",
       "5      4    ZNF441    ZNF441           NA           NA           NA\n",
       "6      5    QTRT1     QTRT1            NA           NA           NA\n",
       "7      6    ZNF491    ZNF491           NA           NA           NA\n",
       "8      7    PUM2      PUM2      -4.918214 -3.475233792 8.733733e-07\n",
       "9      8    NLRC5     NLRC5     -4.654694 -3.016329855 3.244629e-06\n",
       "10     9    CETP      CETP      -4.623897 -0.263001703 3.765973e-06\n",
       "11    10    PLEC      PLEC             NA           NA           NA\n",
       "12    11    PARP10    PARP10           NA           NA           NA\n",
       "13    12    POLK      POLK             NA           NA           NA\n",
       "14    13    ZNF350    ZNF350    -4.168875 -3.799519497 3.061073e-05\n",
       "15    14    MYZAP     MYZAP     -4.052417 -7.468561678 5.069118e-05\n",
       "16    15    GCOM1     GCOM1     -4.048539 -6.081521113 5.153843e-05\n",
       "17    16    DHX37     DHX37            NA           NA           NA\n",
       "18    17    FCRLB     FCRLB      3.982538  1.082727192 6.818335e-05\n",
       "19    18    PTPRCAP   PTPRCAP    3.828816  1.225716772 1.287612e-04\n",
       "20    19    SIL1      SIL1       3.824927  0.424182080 1.308107e-04\n",
       "21    20    NAA16     NAA16     -3.811158 -2.021000469 1.383171e-04\n",
       "22    21    ACOT11    ACOT11           NA           NA           NA\n",
       "23    22    CXCL1     CXCL1      3.708603  0.259235070 2.084057e-04\n",
       "24    23    SMG9      SMG9      -3.625412 -1.692745815 2.885009e-04\n",
       "25    24    OSER1     OSER1     -3.555083 -0.202112703 3.778604e-04\n",
       "26    25    FCGR2B    FCGR2B     3.503333  0.643015764 4.594748e-04\n",
       "27    26    PPCDC     PPCDC     -3.462878 -0.265412835 5.344302e-04\n",
       "28    27    ANKRD13D  ANKRD13D  -3.443766 -0.438583856 5.736713e-04\n",
       "29    28    PVRL2     PVRL2      3.392136  0.019331772 6.934989e-04\n",
       "30    29    ANGPTL3   ANGPTL3    3.382737  0.003516798 7.176742e-04\n",
       "⋮     ⋮     ⋮         ⋮         ⋮         ⋮            ⋮           \n",
       "10808 10807 ZNF184    ZNF184    NA        NA           NA          \n",
       "10809 10808 FKBP1C    FKBP1C    NA        NA           NA          \n",
       "10810 10809 IL4I1     IL4I1     NA        NA           NA          \n",
       "10811 10810 C7        C7        NA        NA           NA          \n",
       "10812 10811 RBP5      RBP5      NA        NA           NA          \n",
       "10813 10812 C3AR1     C3AR1     NA        NA           NA          \n",
       "10814 10813 CDC73     CDC73     NA        NA           NA          \n",
       "10815 10814 SMIM15    SMIM15    NA        NA           NA          \n",
       "10816 10815 ATM       ATM       NA        NA           NA          \n",
       "10817 10816 A2M       A2M       NA        NA           NA          \n",
       "10818 10817 CXCL3     CXCL3     NA        NA           NA          \n",
       "10819 10818 FOXJ2     FOXJ2     NA        NA           NA          \n",
       "10820 10819 PLEKHG6   PLEKHG6   NA        NA           NA          \n",
       "10821 10820 ZNF226    ZNF226    NA        NA           NA          \n",
       "10822 10821 GRPEL2    GRPEL2    NA        NA           NA          \n",
       "10823 10822 FGL2      FGL2      NA        NA           NA          \n",
       "10824 10823 CLEC4A    CLEC4A    NA        NA           NA          \n",
       "10825 10824 KLRB1     KLRB1     NA        NA           NA          \n",
       "10826 10825 CLSTN3    CLSTN3    NA        NA           NA          \n",
       "10827 10826 MFSD10    MFSD10    NA        NA           NA          \n",
       "10828 10827 C18orf32  C18orf32  NA        NA           NA          \n",
       "10829 10828 ORMDL2    ORMDL2    NA        NA           NA          \n",
       "10830 10829 CA2       CA2       NA        NA           NA          \n",
       "10831 10830 GABARAPL1 GABARAPL1 NA        NA           NA          \n",
       "10832 10831 APLF      APLF      NA        NA           NA          \n",
       "10833 10832 BTNL8     BTNL8     NA        NA           NA          \n",
       "10834 10833 CD163     CD163     NA        NA           NA          \n",
       "10835 10834 KLRG1     KLRG1     NA        NA           NA          \n",
       "10836 10835 CBWD6     CBWD6     NA        NA           NA          \n",
       "10837 10836 SLC2A14   SLC2A14   NA        NA           NA          \n",
       "      var_g        pred_perf_r2 pred_perf_pval pred_perf_qval n_snps_used\n",
       "1     4.037220e-02 0.5          1e-10          1e-10           18        \n",
       "2     2.052324e+01 0.5          1e-10          1e-10          390        \n",
       "3     9.379818e-04 0.5          1e-10          1e-10           30        \n",
       "4     3.061570e-04 0.5          1e-10          1e-10            4        \n",
       "5     3.274120e-06 0.5          1e-10          1e-10           11        \n",
       "6     4.836572e-05 0.5          1e-10          1e-10            2        \n",
       "7     1.449045e-07 0.5          1e-10          1e-10           34        \n",
       "8     1.596023e-04 0.5          1e-10          1e-10           10        \n",
       "9     1.780708e-04 0.5          1e-10          1e-10           18        \n",
       "10    2.823351e-02 0.5          1e-10          1e-10           59        \n",
       "11    3.061756e-02 0.5          1e-10          1e-10           49        \n",
       "12    1.020047e-02 0.5          1e-10          1e-10           26        \n",
       "13    9.558831e-06 0.5          1e-10          1e-10           17        \n",
       "14    1.001880e-04 0.5          1e-10          1e-10           17        \n",
       "15    2.297893e-05 0.5          1e-10          1e-10            6        \n",
       "16    3.458570e-05 0.5          1e-10          1e-10            6        \n",
       "17    1.144576e-07 0.5          1e-10          1e-10            2        \n",
       "18    1.083590e-03 0.5          1e-10          1e-10           58        \n",
       "19    7.620335e-04 0.5          1e-10          1e-10           11        \n",
       "20    6.560246e-03 0.5          1e-10          1e-10           64        \n",
       "21    3.239340e-04 0.5          1e-10          1e-10           64        \n",
       "22    2.040678e-10 0.5          1e-10          1e-10            1        \n",
       "23    1.762892e-02 0.5          1e-10          1e-10           30        \n",
       "24    3.645720e-04 0.5          1e-10          1e-10           46        \n",
       "25    4.326020e-02 0.5          1e-10          1e-10           64        \n",
       "26    2.737409e-03 0.5          1e-10          1e-10           12        \n",
       "27    1.187523e-02 0.5          1e-10          1e-10           78        \n",
       "28    4.778529e-03 0.5          1e-10          1e-10           40        \n",
       "29    2.503647e+00 0.5          1e-10          1e-10          156        \n",
       "30    8.625610e+01 0.5          1e-10          1e-10           51        \n",
       "⋮     ⋮            ⋮            ⋮              ⋮              ⋮          \n",
       "10808 NA           0.5          1e-10          1e-10          0          \n",
       "10809 NA           0.5          1e-10          1e-10          0          \n",
       "10810 NA           0.5          1e-10          1e-10          0          \n",
       "10811 NA           0.5          1e-10          1e-10          0          \n",
       "10812 NA           0.5          1e-10          1e-10          0          \n",
       "10813 NA           0.5          1e-10          1e-10          0          \n",
       "10814 NA           0.5          1e-10          1e-10          0          \n",
       "10815 NA           0.5          1e-10          1e-10          0          \n",
       "10816 NA           0.5          1e-10          1e-10          0          \n",
       "10817 NA           0.5          1e-10          1e-10          0          \n",
       "10818 NA           0.5          1e-10          1e-10          0          \n",
       "10819 NA           0.5          1e-10          1e-10          0          \n",
       "10820 NA           0.5          1e-10          1e-10          0          \n",
       "10821 NA           0.5          1e-10          1e-10          0          \n",
       "10822 NA           0.5          1e-10          1e-10          0          \n",
       "10823 NA           0.5          1e-10          1e-10          0          \n",
       "10824 NA           0.5          1e-10          1e-10          0          \n",
       "10825 NA           0.5          1e-10          1e-10          0          \n",
       "10826 NA           0.5          1e-10          1e-10          0          \n",
       "10827 NA           0.5          1e-10          1e-10          0          \n",
       "10828 NA           0.5          1e-10          1e-10          0          \n",
       "10829 NA           0.5          1e-10          1e-10          0          \n",
       "10830 NA           0.5          1e-10          1e-10          0          \n",
       "10831 NA           0.5          1e-10          1e-10          0          \n",
       "10832 NA           0.5          1e-10          1e-10          0          \n",
       "10833 NA           0.5          1e-10          1e-10          0          \n",
       "10834 NA           0.5          1e-10          1e-10          0          \n",
       "10835 NA           0.5          1e-10          1e-10          0          \n",
       "10836 NA           0.5          1e-10          1e-10          0          \n",
       "10837 NA           0.5          1e-10          1e-10          0          \n",
       "      n_snps_in_cov n_snps_in_model\n",
       "1      18            18            \n",
       "2     390           403            \n",
       "3      31            31            \n",
       "4       4             4            \n",
       "5      11            11            \n",
       "6       2             2            \n",
       "7      34            34            \n",
       "8      10            10            \n",
       "9      19            19            \n",
       "10     59            61            \n",
       "11     49            49            \n",
       "12     26            26            \n",
       "13     17            17            \n",
       "14     17            17            \n",
       "15      6             6            \n",
       "16      6             6            \n",
       "17      2             2            \n",
       "18     58            58            \n",
       "19     11            12            \n",
       "20     64            66            \n",
       "21     64            66            \n",
       "22      1             1            \n",
       "23     30            33            \n",
       "24     46            49            \n",
       "25     64            65            \n",
       "26     12            12            \n",
       "27     78            81            \n",
       "28     40            40            \n",
       "29    157           158            \n",
       "30     52            52            \n",
       "⋮     ⋮             ⋮              \n",
       "10808 NA              2            \n",
       "10809 NA              1            \n",
       "10810 NA              1            \n",
       "10811 NA              1            \n",
       "10812 NA              1            \n",
       "10813 NA             63            \n",
       "10814 NA              1            \n",
       "10815 NA              1            \n",
       "10816 NA              1            \n",
       "10817 NA              7            \n",
       "10818 NA              1            \n",
       "10819 NA             45            \n",
       "10820 NA              1            \n",
       "10821 NA              1            \n",
       "10822 NA              1            \n",
       "10823 NA              1            \n",
       "10824 NA              3            \n",
       "10825 NA              3            \n",
       "10826 NA             10            \n",
       "10827 NA              1            \n",
       "10828 NA              1            \n",
       "10829 NA              1            \n",
       "10830 NA              1            \n",
       "10831 NA              1            \n",
       "10832 NA              1            \n",
       "10833 NA              1            \n",
       "10834 NA             30            \n",
       "10835 NA             31            \n",
       "10836 NA              3            \n",
       "10837 NA            127            "
      ]
     },
     "metadata": {},
     "output_type": "display_data"
    }
   ],
   "source": [
    "cur_df"
   ]
  },
  {
   "cell_type": "code",
   "execution_count": 68,
   "metadata": {},
   "outputs": [],
   "source": [
    "trait_str <- \"FC\"\n",
    "test_type <- \"single\"\n",
    "twas_dir <- paste0(\"/ysm-gpfs/pi/zhao-data/zy92/update_utmost/\", trait_str, \"/\", test_type, \"/\")\n",
    "res_vec <- list.files(twas_res)\n",
    "for (file_nam in res_vec) {\n",
    "    cur_df <- as.data.frame(data.table::fread(paste0(twas_dir, file_nam)))\n",
    "    \n",
    "}"
   ]
  },
  {
   "cell_type": "code",
   "execution_count": 64,
   "metadata": {},
   "outputs": [
    {
     "data": {
      "text/html": [
       "<ol class=list-inline>\n",
       "\t<li>'Liver_STARNET1.csv'</li>\n",
       "\t<li>'Liver.csv'</li>\n",
       "</ol>\n"
      ],
      "text/latex": [
       "\\begin{enumerate*}\n",
       "\\item 'Liver\\_STARNET1.csv'\n",
       "\\item 'Liver.csv'\n",
       "\\end{enumerate*}\n"
      ],
      "text/markdown": [
       "1. 'Liver_STARNET1.csv'\n",
       "2. 'Liver.csv'\n",
       "\n",
       "\n"
      ],
      "text/plain": [
       "[1] \"Liver_STARNET1.csv\" \"Liver.csv\"         "
      ]
     },
     "metadata": {},
     "output_type": "display_data"
    }
   ],
   "source": [
    "res_vec <- list.files(twas_res)\n",
    "for (file_nam in res_vec) {\n",
    "    cur_df <- data.table::fread(paste0(twas_res, res_vec))\n",
    "    \n",
    "}"
   ]
  },
  {
   "cell_type": "code",
   "execution_count": 86,
   "metadata": {},
   "outputs": [],
   "source": [
    "\n",
    "\n",
    "extract_twas_signature <- function(trait_str, test_type) {    \n",
    "\n",
    "    res_vec <- c(\"Liver.csv\", \"Liver_STARNET1.csv\")\n",
    "    twas_dir <- paste0(\"/ysm-gpfs/pi/zhao-data/zy92/update_utmost/\", trait_str, \"/\", test_type, \"/\")\n",
    "    output_df <- data.frame(gene = character(),\n",
    "                            zscore = character(), \n",
    "                            effect_size = character(),\n",
    "                            pvalue = double(),\n",
    "                            pvalue_adj = double(),\n",
    "                            tissue = character(),\n",
    "                            stringsAsFactors = FALSE) \n",
    "    \n",
    "    for (file_nam in res_vec) {\n",
    "        cur_df <- as.data.frame(data.table::fread(paste0(twas_dir, file_nam))) \n",
    "        cur_df <- cur_df[complete.cases(cur_df),]\n",
    "        cur_df <- cur_df %>%\n",
    "            select(gene, zscore, effect_size, pvalue)\n",
    "        cur_df$pvalue_adj <- p.adjust(cur_df$pvalue, method = \"fdr\", n = length(cur_df$pvalue))\n",
    "        cur_df$tissue <- unlist(stringr::str_split(file_nam, \"\\\\.\"))[1]\n",
    "        \n",
    "        output_df <- rbind(output_df, cur_df)\n",
    "            \n",
    "    }\n",
    "    return(output_df)\n",
    "}"
   ]
  },
  {
   "cell_type": "code",
   "execution_count": null,
   "metadata": {},
   "outputs": [],
   "source": [
    "pval"
   ]
  },
  {
   "cell_type": "code",
   "execution_count": 88,
   "metadata": {},
   "outputs": [
    {
     "data": {
      "text/html": [
       "<table>\n",
       "<thead><tr><th scope=col>gene</th><th scope=col>zscore</th><th scope=col>effect_size</th><th scope=col>pvalue</th><th scope=col>pvalue_adj</th><th scope=col>tissue</th></tr></thead>\n",
       "<tbody>\n",
       "\t<tr><td>LIPC          </td><td>-12.760447    </td><td>-0.3921268    </td><td>2.726337e-37  </td><td>1.622988e-33  </td><td>Liver_STARNET1</td></tr>\n",
       "\t<tr><td>PSRC1         </td><td>  6.635514    </td><td> 0.5111294    </td><td>3.233732e-11  </td><td>9.625202e-08  </td><td>Liver_STARNET1</td></tr>\n",
       "\t<tr><td>PSRC1         </td><td> -6.697075    </td><td>-0.2970437    </td><td>2.126322e-11  </td><td>1.654278e-07  </td><td>Liver         </td></tr>\n",
       "\t<tr><td>LIPC          </td><td> -6.221472    </td><td>-0.0119943    </td><td>4.925108e-10  </td><td>1.915867e-06  </td><td>Liver         </td></tr>\n",
       "\t<tr><td>SORT1         </td><td>  6.075447    </td><td> 0.3889294    </td><td>1.236431e-09  </td><td>2.453492e-06  </td><td>Liver_STARNET1</td></tr>\n",
       "\t<tr><td>CELSR2        </td><td> -5.925606    </td><td>-1.7506088    </td><td>3.111481e-09  </td><td>8.069106e-06  </td><td>Liver         </td></tr>\n",
       "</tbody>\n",
       "</table>\n"
      ],
      "text/latex": [
       "\\begin{tabular}{r|llllll}\n",
       " gene & zscore & effect\\_size & pvalue & pvalue\\_adj & tissue\\\\\n",
       "\\hline\n",
       "\t LIPC             & -12.760447       & -0.3921268       & 2.726337e-37     & 1.622988e-33     & Liver\\_STARNET1\\\\\n",
       "\t PSRC1            &   6.635514       &  0.5111294       & 3.233732e-11     & 9.625202e-08     & Liver\\_STARNET1\\\\\n",
       "\t PSRC1          &  -6.697075     & -0.2970437     & 2.126322e-11   & 1.654278e-07   & Liver         \\\\\n",
       "\t LIPC           &  -6.221472     & -0.0119943     & 4.925108e-10   & 1.915867e-06   & Liver         \\\\\n",
       "\t SORT1            &   6.075447       &  0.3889294       & 1.236431e-09     & 2.453492e-06     & Liver\\_STARNET1\\\\\n",
       "\t CELSR2         &  -5.925606     & -1.7506088     & 3.111481e-09   & 8.069106e-06   & Liver         \\\\\n",
       "\\end{tabular}\n"
      ],
      "text/markdown": [
       "\n",
       "gene | zscore | effect_size | pvalue | pvalue_adj | tissue | \n",
       "|---|---|---|---|---|---|\n",
       "| LIPC           | -12.760447     | -0.3921268     | 2.726337e-37   | 1.622988e-33   | Liver_STARNET1 | \n",
       "| PSRC1          |   6.635514     |  0.5111294     | 3.233732e-11   | 9.625202e-08   | Liver_STARNET1 | \n",
       "| PSRC1          |  -6.697075     | -0.2970437     | 2.126322e-11   | 1.654278e-07   | Liver          | \n",
       "| LIPC           |  -6.221472     | -0.0119943     | 4.925108e-10   | 1.915867e-06   | Liver          | \n",
       "| SORT1          |   6.075447     |  0.3889294     | 1.236431e-09   | 2.453492e-06   | Liver_STARNET1 | \n",
       "| CELSR2         |  -5.925606     | -1.7506088     | 3.111481e-09   | 8.069106e-06   | Liver          | \n",
       "\n",
       "\n"
      ],
      "text/plain": [
       "  gene   zscore     effect_size pvalue       pvalue_adj   tissue        \n",
       "1 LIPC   -12.760447 -0.3921268  2.726337e-37 1.622988e-33 Liver_STARNET1\n",
       "2 PSRC1    6.635514  0.5111294  3.233732e-11 9.625202e-08 Liver_STARNET1\n",
       "3 PSRC1   -6.697075 -0.2970437  2.126322e-11 1.654278e-07 Liver         \n",
       "4 LIPC    -6.221472 -0.0119943  4.925108e-10 1.915867e-06 Liver         \n",
       "5 SORT1    6.075447  0.3889294  1.236431e-09 2.453492e-06 Liver_STARNET1\n",
       "6 CELSR2  -5.925606 -1.7506088  3.111481e-09 8.069106e-06 Liver         "
      ]
     },
     "metadata": {},
     "output_type": "display_data"
    }
   ],
   "source": [
    "trait_str <- \"FC\"\n",
    "test_type <- \"single\"\n",
    "test_df <- extract_twas_signature(trait_str, test_type)\n",
    "test_df <- test_df %>%\n",
    "    arrange(pvalue_adj)\n",
    "head(test_df)"
   ]
  },
  {
   "cell_type": "code",
   "execution_count": 89,
   "metadata": {},
   "outputs": [
    {
     "data": {
      "text/html": [
       "<table>\n",
       "<thead><tr><th scope=col>gene</th><th scope=col>zscore</th><th scope=col>effect_size</th><th scope=col>pvalue</th><th scope=col>pvalue_adj</th><th scope=col>tissue</th></tr></thead>\n",
       "<tbody>\n",
       "\t<tr><td>LIPC          </td><td>-12.760447    </td><td>-0.3921268    </td><td>2.726337e-37  </td><td>1.622988e-33  </td><td>Liver_STARNET1</td></tr>\n",
       "\t<tr><td>PSRC1         </td><td>  6.635514    </td><td> 0.5111294    </td><td>3.233732e-11  </td><td>9.625202e-08  </td><td>Liver_STARNET1</td></tr>\n",
       "\t<tr><td>PSRC1         </td><td> -6.697075    </td><td>-0.2970437    </td><td>2.126322e-11  </td><td>1.654278e-07  </td><td>Liver         </td></tr>\n",
       "\t<tr><td>LIPC          </td><td> -6.221472    </td><td>-0.0119943    </td><td>4.925108e-10  </td><td>1.915867e-06  </td><td>Liver         </td></tr>\n",
       "\t<tr><td>SORT1         </td><td>  6.075447    </td><td> 0.3889294    </td><td>1.236431e-09  </td><td>2.453492e-06  </td><td>Liver_STARNET1</td></tr>\n",
       "\t<tr><td>CELSR2        </td><td> -5.925606    </td><td>-1.7506088    </td><td>3.111481e-09  </td><td>8.069106e-06  </td><td>Liver         </td></tr>\n",
       "\t<tr><td>CELSR2        </td><td>  5.802983    </td><td> 0.4866653    </td><td>6.514532e-09  </td><td>9.695252e-06  </td><td>Liver_STARNET1</td></tr>\n",
       "\t<tr><td>RP11-115J16.1 </td><td>  4.904522    </td><td> 0.1886279    </td><td>9.365501e-07  </td><td>1.115057e-03  </td><td>Liver_STARNET1</td></tr>\n",
       "\t<tr><td>PUM2          </td><td> -4.918214    </td><td>-3.4752338    </td><td>8.733733e-07  </td><td>1.698711e-03  </td><td>Liver         </td></tr>\n",
       "\t<tr><td>NLRC5         </td><td> -4.654694    </td><td>-3.0163299    </td><td>3.244629e-06  </td><td>4.883212e-03  </td><td>Liver         </td></tr>\n",
       "\t<tr><td>CETP          </td><td> -4.623897    </td><td>-0.2630017    </td><td>3.765973e-06  </td><td>4.883212e-03  </td><td>Liver         </td></tr>\n",
       "\t<tr><td>DARS          </td><td> -4.339186    </td><td>-0.6944768    </td><td>1.430112e-05  </td><td>1.253211e-02  </td><td>Liver_STARNET1</td></tr>\n",
       "\t<tr><td>CETP          </td><td> -4.332595    </td><td>-0.2830428    </td><td>1.473623e-05  </td><td>1.253211e-02  </td><td>Liver_STARNET1</td></tr>\n",
       "\t<tr><td>FCGR2B        </td><td>  4.251649    </td><td> 0.1527716    </td><td>2.122026e-05  </td><td>1.579053e-02  </td><td>Liver_STARNET1</td></tr>\n",
       "\t<tr><td>APOC1         </td><td>  4.150765    </td><td> 0.3357680    </td><td>3.313655e-05  </td><td>1.977758e-02  </td><td>Liver_STARNET1</td></tr>\n",
       "\t<tr><td>S1PR5         </td><td> -4.150170    </td><td>-0.4437390    </td><td>3.322288e-05  </td><td>1.977758e-02  </td><td>Liver_STARNET1</td></tr>\n",
       "\t<tr><td>FAM63B        </td><td>  4.080762    </td><td> 0.4738574    </td><td>4.488827e-05  </td><td>2.429272e-02  </td><td>Liver_STARNET1</td></tr>\n",
       "\t<tr><td>ZNF350        </td><td> -4.168875    </td><td>-3.7995195    </td><td>3.061073e-05  </td><td>3.402164e-02  </td><td>Liver         </td></tr>\n",
       "\t<tr><td>SLC22A1       </td><td> -3.975089    </td><td>-0.1601378    </td><td>7.035282e-05  </td><td>3.490086e-02  </td><td>Liver_STARNET1</td></tr>\n",
       "\t<tr><td>MYZAP         </td><td> -4.052417    </td><td>-7.4685617    </td><td>5.069118e-05  </td><td>4.455211e-02  </td><td>Liver         </td></tr>\n",
       "\t<tr><td>GCOM1         </td><td> -4.048539    </td><td>-6.0815211    </td><td>5.153843e-05  </td><td>4.455211e-02  </td><td>Liver         </td></tr>\n",
       "\t<tr><td>FCRLB         </td><td>  3.982538    </td><td> 1.0827272    </td><td>6.818335e-05  </td><td>5.304664e-02  </td><td>Liver         </td></tr>\n",
       "\t<tr><td>TMEM50A       </td><td> -3.820535    </td><td>-0.2505946    </td><td>1.331626e-04  </td><td>6.097824e-02  </td><td>Liver_STARNET1</td></tr>\n",
       "\t<tr><td>MIER1         </td><td> -3.737292    </td><td>-0.1442953    </td><td>1.860125e-04  </td><td>7.909518e-02  </td><td>Liver_STARNET1</td></tr>\n",
       "\t<tr><td>PTPRCAP       </td><td>  3.828816    </td><td> 1.2257168    </td><td>1.287612e-04  </td><td>8.277745e-02  </td><td>Liver         </td></tr>\n",
       "\t<tr><td>SIL1          </td><td>  3.824927    </td><td> 0.4241821    </td><td>1.308107e-04  </td><td>8.277745e-02  </td><td>Liver         </td></tr>\n",
       "\t<tr><td>NAA16         </td><td> -3.811158    </td><td>-2.0210005    </td><td>1.383171e-04  </td><td>8.277745e-02  </td><td>Liver         </td></tr>\n",
       "\t<tr><td>RP11-119D9.1  </td><td>  3.676980    </td><td> 0.1966070    </td><td>2.360116e-04  </td><td>9.366512e-02  </td><td>Liver_STARNET1</td></tr>\n",
       "\t<tr><td>EDNRB         </td><td>  3.657364    </td><td> 0.3549305    </td><td>2.548223e-04  </td><td>9.480981e-02  </td><td>Liver_STARNET1</td></tr>\n",
       "\t<tr><td>CXCL1         </td><td>  3.708603    </td><td> 0.2592351    </td><td>2.084057e-04  </td><td>1.158140e-01  </td><td>Liver         </td></tr>\n",
       "\t<tr><td>⋮</td><td>⋮</td><td>⋮</td><td>⋮</td><td>⋮</td><td>⋮</td></tr>\n",
       "\t<tr><td>ZNF732       </td><td> 4.664144e-03</td><td> 1.175355e+00</td><td>0.9962786    </td><td>0.9999056    </td><td>Liver        </td></tr>\n",
       "\t<tr><td>CHRD         </td><td> 4.555547e-03</td><td> 2.368912e-04</td><td>0.9963652    </td><td>0.9999056    </td><td>Liver        </td></tr>\n",
       "\t<tr><td>EIF4ENIF1    </td><td>-4.326879e-03</td><td> 1.735458e-03</td><td>0.9965477    </td><td>0.9999056    </td><td>Liver        </td></tr>\n",
       "\t<tr><td>NAT9         </td><td>-3.943086e-03</td><td>-1.896979e-03</td><td>0.9968539    </td><td>0.9999056    </td><td>Liver        </td></tr>\n",
       "\t<tr><td>RNF126       </td><td>-3.931160e-03</td><td>-1.759196e-03</td><td>0.9968634    </td><td>0.9999056    </td><td>Liver        </td></tr>\n",
       "\t<tr><td>B4GALNT1     </td><td>-3.882810e-03</td><td>-1.188705e-01</td><td>0.9969020    </td><td>0.9999056    </td><td>Liver        </td></tr>\n",
       "\t<tr><td>MXD1         </td><td>-3.627003e-03</td><td>-1.183892e-03</td><td>0.9971061    </td><td>0.9999056    </td><td>Liver        </td></tr>\n",
       "\t<tr><td>TAT          </td><td> 2.953744e-03</td><td> 2.198003e-05</td><td>0.9976433    </td><td>0.9999056    </td><td>Liver        </td></tr>\n",
       "\t<tr><td>STX11        </td><td> 2.949624e-03</td><td> 1.759028e-03</td><td>0.9976465    </td><td>0.9999056    </td><td>Liver        </td></tr>\n",
       "\t<tr><td>SERGEF       </td><td>-2.789546e-03</td><td>-4.516284e-04</td><td>0.9977743    </td><td>0.9999056    </td><td>Liver        </td></tr>\n",
       "\t<tr><td>HIF1AN       </td><td>-2.619759e-03</td><td>-9.225848e-03</td><td>0.9979097    </td><td>0.9999056    </td><td>Liver        </td></tr>\n",
       "\t<tr><td>TMEM200C     </td><td>-2.422681e-03</td><td>-3.207577e-03</td><td>0.9980670    </td><td>0.9999056    </td><td>Liver        </td></tr>\n",
       "\t<tr><td>GATAD1       </td><td>-2.416119e-03</td><td> 3.086907e-04</td><td>0.9980722    </td><td>0.9999056    </td><td>Liver        </td></tr>\n",
       "\t<tr><td>POM121C      </td><td> 2.263649e-03</td><td> 1.382989e-03</td><td>0.9981939    </td><td>0.9999056    </td><td>Liver        </td></tr>\n",
       "\t<tr><td>BBS10        </td><td> 1.848725e-03</td><td> 2.670239e-03</td><td>0.9985249    </td><td>0.9999056    </td><td>Liver        </td></tr>\n",
       "\t<tr><td>PCDH20       </td><td>-1.840899e-03</td><td> 1.016094e-02</td><td>0.9985312    </td><td>0.9999056    </td><td>Liver        </td></tr>\n",
       "\t<tr><td>DEGS1        </td><td>-1.808020e-03</td><td> 8.368317e-04</td><td>0.9985574    </td><td>0.9999056    </td><td>Liver        </td></tr>\n",
       "\t<tr><td>NDUFS5       </td><td>-1.711200e-03</td><td>-1.805808e-05</td><td>0.9986347    </td><td>0.9999056    </td><td>Liver        </td></tr>\n",
       "\t<tr><td>FBXL22       </td><td>-1.451190e-03</td><td>-2.267454e-02</td><td>0.9988421    </td><td>0.9999056    </td><td>Liver        </td></tr>\n",
       "\t<tr><td>C20orf62     </td><td>-1.409800e-03</td><td>-4.784754e-03</td><td>0.9988751    </td><td>0.9999056    </td><td>Liver        </td></tr>\n",
       "\t<tr><td>STK31        </td><td>-1.275172e-03</td><td> 1.330940e-01</td><td>0.9989826    </td><td>0.9999056    </td><td>Liver        </td></tr>\n",
       "\t<tr><td>FAM103A1     </td><td> 1.038962e-03</td><td> 2.391072e-03</td><td>0.9991710    </td><td>0.9999056    </td><td>Liver        </td></tr>\n",
       "\t<tr><td>GRAP2        </td><td> 1.004691e-03</td><td> 2.855114e-02</td><td>0.9991984    </td><td>0.9999056    </td><td>Liver        </td></tr>\n",
       "\t<tr><td>KLRC1        </td><td>-8.747269e-04</td><td> 1.548487e-02</td><td>0.9993021    </td><td>0.9999056    </td><td>Liver        </td></tr>\n",
       "\t<tr><td>WNT6         </td><td> 6.569959e-04</td><td>-8.809835e-03</td><td>0.9994758    </td><td>0.9999056    </td><td>Liver        </td></tr>\n",
       "\t<tr><td>DEPTOR       </td><td> 6.367939e-04</td><td>-1.453012e-04</td><td>0.9994919    </td><td>0.9999056    </td><td>Liver        </td></tr>\n",
       "\t<tr><td>SRPR         </td><td> 5.967592e-04</td><td>-8.981193e-05</td><td>0.9995239    </td><td>0.9999056    </td><td>Liver        </td></tr>\n",
       "\t<tr><td>C11orf86     </td><td> 4.032864e-04</td><td>-4.565726e-03</td><td>0.9996782    </td><td>0.9999056    </td><td>Liver        </td></tr>\n",
       "\t<tr><td>SLBP         </td><td> 2.794166e-04</td><td>-1.958729e-03</td><td>0.9997771    </td><td>0.9999056    </td><td>Liver        </td></tr>\n",
       "\t<tr><td>TSEN15       </td><td>-9.598045e-05</td><td> 8.651452e-03</td><td>0.9999234    </td><td>0.9999234    </td><td>Liver        </td></tr>\n",
       "</tbody>\n",
       "</table>\n"
      ],
      "text/latex": [
       "\\begin{tabular}{r|llllll}\n",
       " gene & zscore & effect\\_size & pvalue & pvalue\\_adj & tissue\\\\\n",
       "\\hline\n",
       "\t LIPC             & -12.760447       & -0.3921268       & 2.726337e-37     & 1.622988e-33     & Liver\\_STARNET1\\\\\n",
       "\t PSRC1            &   6.635514       &  0.5111294       & 3.233732e-11     & 9.625202e-08     & Liver\\_STARNET1\\\\\n",
       "\t PSRC1          &  -6.697075     & -0.2970437     & 2.126322e-11   & 1.654278e-07   & Liver         \\\\\n",
       "\t LIPC           &  -6.221472     & -0.0119943     & 4.925108e-10   & 1.915867e-06   & Liver         \\\\\n",
       "\t SORT1            &   6.075447       &  0.3889294       & 1.236431e-09     & 2.453492e-06     & Liver\\_STARNET1\\\\\n",
       "\t CELSR2         &  -5.925606     & -1.7506088     & 3.111481e-09   & 8.069106e-06   & Liver         \\\\\n",
       "\t CELSR2           &   5.802983       &  0.4866653       & 6.514532e-09     & 9.695252e-06     & Liver\\_STARNET1\\\\\n",
       "\t RP11-115J16.1    &   4.904522       &  0.1886279       & 9.365501e-07     & 1.115057e-03     & Liver\\_STARNET1\\\\\n",
       "\t PUM2           &  -4.918214     & -3.4752338     & 8.733733e-07   & 1.698711e-03   & Liver         \\\\\n",
       "\t NLRC5          &  -4.654694     & -3.0163299     & 3.244629e-06   & 4.883212e-03   & Liver         \\\\\n",
       "\t CETP           &  -4.623897     & -0.2630017     & 3.765973e-06   & 4.883212e-03   & Liver         \\\\\n",
       "\t DARS             &  -4.339186       & -0.6944768       & 1.430112e-05     & 1.253211e-02     & Liver\\_STARNET1\\\\\n",
       "\t CETP             &  -4.332595       & -0.2830428       & 1.473623e-05     & 1.253211e-02     & Liver\\_STARNET1\\\\\n",
       "\t FCGR2B           &   4.251649       &  0.1527716       & 2.122026e-05     & 1.579053e-02     & Liver\\_STARNET1\\\\\n",
       "\t APOC1            &   4.150765       &  0.3357680       & 3.313655e-05     & 1.977758e-02     & Liver\\_STARNET1\\\\\n",
       "\t S1PR5            &  -4.150170       & -0.4437390       & 3.322288e-05     & 1.977758e-02     & Liver\\_STARNET1\\\\\n",
       "\t FAM63B           &   4.080762       &  0.4738574       & 4.488827e-05     & 2.429272e-02     & Liver\\_STARNET1\\\\\n",
       "\t ZNF350         &  -4.168875     & -3.7995195     & 3.061073e-05   & 3.402164e-02   & Liver         \\\\\n",
       "\t SLC22A1          &  -3.975089       & -0.1601378       & 7.035282e-05     & 3.490086e-02     & Liver\\_STARNET1\\\\\n",
       "\t MYZAP          &  -4.052417     & -7.4685617     & 5.069118e-05   & 4.455211e-02   & Liver         \\\\\n",
       "\t GCOM1          &  -4.048539     & -6.0815211     & 5.153843e-05   & 4.455211e-02   & Liver         \\\\\n",
       "\t FCRLB          &   3.982538     &  1.0827272     & 6.818335e-05   & 5.304664e-02   & Liver         \\\\\n",
       "\t TMEM50A          &  -3.820535       & -0.2505946       & 1.331626e-04     & 6.097824e-02     & Liver\\_STARNET1\\\\\n",
       "\t MIER1            &  -3.737292       & -0.1442953       & 1.860125e-04     & 7.909518e-02     & Liver\\_STARNET1\\\\\n",
       "\t PTPRCAP        &   3.828816     &  1.2257168     & 1.287612e-04   & 8.277745e-02   & Liver         \\\\\n",
       "\t SIL1           &   3.824927     &  0.4241821     & 1.308107e-04   & 8.277745e-02   & Liver         \\\\\n",
       "\t NAA16          &  -3.811158     & -2.0210005     & 1.383171e-04   & 8.277745e-02   & Liver         \\\\\n",
       "\t RP11-119D9.1     &   3.676980       &  0.1966070       & 2.360116e-04     & 9.366512e-02     & Liver\\_STARNET1\\\\\n",
       "\t EDNRB            &   3.657364       &  0.3549305       & 2.548223e-04     & 9.480981e-02     & Liver\\_STARNET1\\\\\n",
       "\t CXCL1          &   3.708603     &  0.2592351     & 2.084057e-04   & 1.158140e-01   & Liver         \\\\\n",
       "\t ⋮ & ⋮ & ⋮ & ⋮ & ⋮ & ⋮\\\\\n",
       "\t ZNF732        &  4.664144e-03 &  1.175355e+00 & 0.9962786     & 0.9999056     & Liver        \\\\\n",
       "\t CHRD          &  4.555547e-03 &  2.368912e-04 & 0.9963652     & 0.9999056     & Liver        \\\\\n",
       "\t EIF4ENIF1     & -4.326879e-03 &  1.735458e-03 & 0.9965477     & 0.9999056     & Liver        \\\\\n",
       "\t NAT9          & -3.943086e-03 & -1.896979e-03 & 0.9968539     & 0.9999056     & Liver        \\\\\n",
       "\t RNF126        & -3.931160e-03 & -1.759196e-03 & 0.9968634     & 0.9999056     & Liver        \\\\\n",
       "\t B4GALNT1      & -3.882810e-03 & -1.188705e-01 & 0.9969020     & 0.9999056     & Liver        \\\\\n",
       "\t MXD1          & -3.627003e-03 & -1.183892e-03 & 0.9971061     & 0.9999056     & Liver        \\\\\n",
       "\t TAT           &  2.953744e-03 &  2.198003e-05 & 0.9976433     & 0.9999056     & Liver        \\\\\n",
       "\t STX11         &  2.949624e-03 &  1.759028e-03 & 0.9976465     & 0.9999056     & Liver        \\\\\n",
       "\t SERGEF        & -2.789546e-03 & -4.516284e-04 & 0.9977743     & 0.9999056     & Liver        \\\\\n",
       "\t HIF1AN        & -2.619759e-03 & -9.225848e-03 & 0.9979097     & 0.9999056     & Liver        \\\\\n",
       "\t TMEM200C      & -2.422681e-03 & -3.207577e-03 & 0.9980670     & 0.9999056     & Liver        \\\\\n",
       "\t GATAD1        & -2.416119e-03 &  3.086907e-04 & 0.9980722     & 0.9999056     & Liver        \\\\\n",
       "\t POM121C       &  2.263649e-03 &  1.382989e-03 & 0.9981939     & 0.9999056     & Liver        \\\\\n",
       "\t BBS10         &  1.848725e-03 &  2.670239e-03 & 0.9985249     & 0.9999056     & Liver        \\\\\n",
       "\t PCDH20        & -1.840899e-03 &  1.016094e-02 & 0.9985312     & 0.9999056     & Liver        \\\\\n",
       "\t DEGS1         & -1.808020e-03 &  8.368317e-04 & 0.9985574     & 0.9999056     & Liver        \\\\\n",
       "\t NDUFS5        & -1.711200e-03 & -1.805808e-05 & 0.9986347     & 0.9999056     & Liver        \\\\\n",
       "\t FBXL22        & -1.451190e-03 & -2.267454e-02 & 0.9988421     & 0.9999056     & Liver        \\\\\n",
       "\t C20orf62      & -1.409800e-03 & -4.784754e-03 & 0.9988751     & 0.9999056     & Liver        \\\\\n",
       "\t STK31         & -1.275172e-03 &  1.330940e-01 & 0.9989826     & 0.9999056     & Liver        \\\\\n",
       "\t FAM103A1      &  1.038962e-03 &  2.391072e-03 & 0.9991710     & 0.9999056     & Liver        \\\\\n",
       "\t GRAP2         &  1.004691e-03 &  2.855114e-02 & 0.9991984     & 0.9999056     & Liver        \\\\\n",
       "\t KLRC1         & -8.747269e-04 &  1.548487e-02 & 0.9993021     & 0.9999056     & Liver        \\\\\n",
       "\t WNT6          &  6.569959e-04 & -8.809835e-03 & 0.9994758     & 0.9999056     & Liver        \\\\\n",
       "\t DEPTOR        &  6.367939e-04 & -1.453012e-04 & 0.9994919     & 0.9999056     & Liver        \\\\\n",
       "\t SRPR          &  5.967592e-04 & -8.981193e-05 & 0.9995239     & 0.9999056     & Liver        \\\\\n",
       "\t C11orf86      &  4.032864e-04 & -4.565726e-03 & 0.9996782     & 0.9999056     & Liver        \\\\\n",
       "\t SLBP          &  2.794166e-04 & -1.958729e-03 & 0.9997771     & 0.9999056     & Liver        \\\\\n",
       "\t TSEN15        & -9.598045e-05 &  8.651452e-03 & 0.9999234     & 0.9999234     & Liver        \\\\\n",
       "\\end{tabular}\n"
      ],
      "text/markdown": [
       "\n",
       "gene | zscore | effect_size | pvalue | pvalue_adj | tissue | \n",
       "|---|---|---|---|---|---|---|---|---|---|---|---|---|---|---|---|---|---|---|---|---|---|---|---|---|---|---|---|---|---|---|---|---|---|---|---|---|---|---|---|---|---|---|---|---|---|---|---|---|---|---|---|---|---|---|---|---|---|---|---|---|\n",
       "| LIPC           | -12.760447     | -0.3921268     | 2.726337e-37   | 1.622988e-33   | Liver_STARNET1 | \n",
       "| PSRC1          |   6.635514     |  0.5111294     | 3.233732e-11   | 9.625202e-08   | Liver_STARNET1 | \n",
       "| PSRC1          |  -6.697075     | -0.2970437     | 2.126322e-11   | 1.654278e-07   | Liver          | \n",
       "| LIPC           |  -6.221472     | -0.0119943     | 4.925108e-10   | 1.915867e-06   | Liver          | \n",
       "| SORT1          |   6.075447     |  0.3889294     | 1.236431e-09   | 2.453492e-06   | Liver_STARNET1 | \n",
       "| CELSR2         |  -5.925606     | -1.7506088     | 3.111481e-09   | 8.069106e-06   | Liver          | \n",
       "| CELSR2         |   5.802983     |  0.4866653     | 6.514532e-09   | 9.695252e-06   | Liver_STARNET1 | \n",
       "| RP11-115J16.1  |   4.904522     |  0.1886279     | 9.365501e-07   | 1.115057e-03   | Liver_STARNET1 | \n",
       "| PUM2           |  -4.918214     | -3.4752338     | 8.733733e-07   | 1.698711e-03   | Liver          | \n",
       "| NLRC5          |  -4.654694     | -3.0163299     | 3.244629e-06   | 4.883212e-03   | Liver          | \n",
       "| CETP           |  -4.623897     | -0.2630017     | 3.765973e-06   | 4.883212e-03   | Liver          | \n",
       "| DARS           |  -4.339186     | -0.6944768     | 1.430112e-05   | 1.253211e-02   | Liver_STARNET1 | \n",
       "| CETP           |  -4.332595     | -0.2830428     | 1.473623e-05   | 1.253211e-02   | Liver_STARNET1 | \n",
       "| FCGR2B         |   4.251649     |  0.1527716     | 2.122026e-05   | 1.579053e-02   | Liver_STARNET1 | \n",
       "| APOC1          |   4.150765     |  0.3357680     | 3.313655e-05   | 1.977758e-02   | Liver_STARNET1 | \n",
       "| S1PR5          |  -4.150170     | -0.4437390     | 3.322288e-05   | 1.977758e-02   | Liver_STARNET1 | \n",
       "| FAM63B         |   4.080762     |  0.4738574     | 4.488827e-05   | 2.429272e-02   | Liver_STARNET1 | \n",
       "| ZNF350         |  -4.168875     | -3.7995195     | 3.061073e-05   | 3.402164e-02   | Liver          | \n",
       "| SLC22A1        |  -3.975089     | -0.1601378     | 7.035282e-05   | 3.490086e-02   | Liver_STARNET1 | \n",
       "| MYZAP          |  -4.052417     | -7.4685617     | 5.069118e-05   | 4.455211e-02   | Liver          | \n",
       "| GCOM1          |  -4.048539     | -6.0815211     | 5.153843e-05   | 4.455211e-02   | Liver          | \n",
       "| FCRLB          |   3.982538     |  1.0827272     | 6.818335e-05   | 5.304664e-02   | Liver          | \n",
       "| TMEM50A        |  -3.820535     | -0.2505946     | 1.331626e-04   | 6.097824e-02   | Liver_STARNET1 | \n",
       "| MIER1          |  -3.737292     | -0.1442953     | 1.860125e-04   | 7.909518e-02   | Liver_STARNET1 | \n",
       "| PTPRCAP        |   3.828816     |  1.2257168     | 1.287612e-04   | 8.277745e-02   | Liver          | \n",
       "| SIL1           |   3.824927     |  0.4241821     | 1.308107e-04   | 8.277745e-02   | Liver          | \n",
       "| NAA16          |  -3.811158     | -2.0210005     | 1.383171e-04   | 8.277745e-02   | Liver          | \n",
       "| RP11-119D9.1   |   3.676980     |  0.1966070     | 2.360116e-04   | 9.366512e-02   | Liver_STARNET1 | \n",
       "| EDNRB          |   3.657364     |  0.3549305     | 2.548223e-04   | 9.480981e-02   | Liver_STARNET1 | \n",
       "| CXCL1          |   3.708603     |  0.2592351     | 2.084057e-04   | 1.158140e-01   | Liver          | \n",
       "| ⋮ | ⋮ | ⋮ | ⋮ | ⋮ | ⋮ | \n",
       "| ZNF732        |  4.664144e-03 |  1.175355e+00 | 0.9962786     | 0.9999056     | Liver         | \n",
       "| CHRD          |  4.555547e-03 |  2.368912e-04 | 0.9963652     | 0.9999056     | Liver         | \n",
       "| EIF4ENIF1     | -4.326879e-03 |  1.735458e-03 | 0.9965477     | 0.9999056     | Liver         | \n",
       "| NAT9          | -3.943086e-03 | -1.896979e-03 | 0.9968539     | 0.9999056     | Liver         | \n",
       "| RNF126        | -3.931160e-03 | -1.759196e-03 | 0.9968634     | 0.9999056     | Liver         | \n",
       "| B4GALNT1      | -3.882810e-03 | -1.188705e-01 | 0.9969020     | 0.9999056     | Liver         | \n",
       "| MXD1          | -3.627003e-03 | -1.183892e-03 | 0.9971061     | 0.9999056     | Liver         | \n",
       "| TAT           |  2.953744e-03 |  2.198003e-05 | 0.9976433     | 0.9999056     | Liver         | \n",
       "| STX11         |  2.949624e-03 |  1.759028e-03 | 0.9976465     | 0.9999056     | Liver         | \n",
       "| SERGEF        | -2.789546e-03 | -4.516284e-04 | 0.9977743     | 0.9999056     | Liver         | \n",
       "| HIF1AN        | -2.619759e-03 | -9.225848e-03 | 0.9979097     | 0.9999056     | Liver         | \n",
       "| TMEM200C      | -2.422681e-03 | -3.207577e-03 | 0.9980670     | 0.9999056     | Liver         | \n",
       "| GATAD1        | -2.416119e-03 |  3.086907e-04 | 0.9980722     | 0.9999056     | Liver         | \n",
       "| POM121C       |  2.263649e-03 |  1.382989e-03 | 0.9981939     | 0.9999056     | Liver         | \n",
       "| BBS10         |  1.848725e-03 |  2.670239e-03 | 0.9985249     | 0.9999056     | Liver         | \n",
       "| PCDH20        | -1.840899e-03 |  1.016094e-02 | 0.9985312     | 0.9999056     | Liver         | \n",
       "| DEGS1         | -1.808020e-03 |  8.368317e-04 | 0.9985574     | 0.9999056     | Liver         | \n",
       "| NDUFS5        | -1.711200e-03 | -1.805808e-05 | 0.9986347     | 0.9999056     | Liver         | \n",
       "| FBXL22        | -1.451190e-03 | -2.267454e-02 | 0.9988421     | 0.9999056     | Liver         | \n",
       "| C20orf62      | -1.409800e-03 | -4.784754e-03 | 0.9988751     | 0.9999056     | Liver         | \n",
       "| STK31         | -1.275172e-03 |  1.330940e-01 | 0.9989826     | 0.9999056     | Liver         | \n",
       "| FAM103A1      |  1.038962e-03 |  2.391072e-03 | 0.9991710     | 0.9999056     | Liver         | \n",
       "| GRAP2         |  1.004691e-03 |  2.855114e-02 | 0.9991984     | 0.9999056     | Liver         | \n",
       "| KLRC1         | -8.747269e-04 |  1.548487e-02 | 0.9993021     | 0.9999056     | Liver         | \n",
       "| WNT6          |  6.569959e-04 | -8.809835e-03 | 0.9994758     | 0.9999056     | Liver         | \n",
       "| DEPTOR        |  6.367939e-04 | -1.453012e-04 | 0.9994919     | 0.9999056     | Liver         | \n",
       "| SRPR          |  5.967592e-04 | -8.981193e-05 | 0.9995239     | 0.9999056     | Liver         | \n",
       "| C11orf86      |  4.032864e-04 | -4.565726e-03 | 0.9996782     | 0.9999056     | Liver         | \n",
       "| SLBP          |  2.794166e-04 | -1.958729e-03 | 0.9997771     | 0.9999056     | Liver         | \n",
       "| TSEN15        | -9.598045e-05 |  8.651452e-03 | 0.9999234     | 0.9999234     | Liver         | \n",
       "\n",
       "\n"
      ],
      "text/plain": [
       "      gene          zscore        effect_size   pvalue       pvalue_adj  \n",
       "1     LIPC          -12.760447    -0.3921268    2.726337e-37 1.622988e-33\n",
       "2     PSRC1           6.635514     0.5111294    3.233732e-11 9.625202e-08\n",
       "3     PSRC1          -6.697075    -0.2970437    2.126322e-11 1.654278e-07\n",
       "4     LIPC           -6.221472    -0.0119943    4.925108e-10 1.915867e-06\n",
       "5     SORT1           6.075447     0.3889294    1.236431e-09 2.453492e-06\n",
       "6     CELSR2         -5.925606    -1.7506088    3.111481e-09 8.069106e-06\n",
       "7     CELSR2          5.802983     0.4866653    6.514532e-09 9.695252e-06\n",
       "8     RP11-115J16.1   4.904522     0.1886279    9.365501e-07 1.115057e-03\n",
       "9     PUM2           -4.918214    -3.4752338    8.733733e-07 1.698711e-03\n",
       "10    NLRC5          -4.654694    -3.0163299    3.244629e-06 4.883212e-03\n",
       "11    CETP           -4.623897    -0.2630017    3.765973e-06 4.883212e-03\n",
       "12    DARS           -4.339186    -0.6944768    1.430112e-05 1.253211e-02\n",
       "13    CETP           -4.332595    -0.2830428    1.473623e-05 1.253211e-02\n",
       "14    FCGR2B          4.251649     0.1527716    2.122026e-05 1.579053e-02\n",
       "15    APOC1           4.150765     0.3357680    3.313655e-05 1.977758e-02\n",
       "16    S1PR5          -4.150170    -0.4437390    3.322288e-05 1.977758e-02\n",
       "17    FAM63B          4.080762     0.4738574    4.488827e-05 2.429272e-02\n",
       "18    ZNF350         -4.168875    -3.7995195    3.061073e-05 3.402164e-02\n",
       "19    SLC22A1        -3.975089    -0.1601378    7.035282e-05 3.490086e-02\n",
       "20    MYZAP          -4.052417    -7.4685617    5.069118e-05 4.455211e-02\n",
       "21    GCOM1          -4.048539    -6.0815211    5.153843e-05 4.455211e-02\n",
       "22    FCRLB           3.982538     1.0827272    6.818335e-05 5.304664e-02\n",
       "23    TMEM50A        -3.820535    -0.2505946    1.331626e-04 6.097824e-02\n",
       "24    MIER1          -3.737292    -0.1442953    1.860125e-04 7.909518e-02\n",
       "25    PTPRCAP         3.828816     1.2257168    1.287612e-04 8.277745e-02\n",
       "26    SIL1            3.824927     0.4241821    1.308107e-04 8.277745e-02\n",
       "27    NAA16          -3.811158    -2.0210005    1.383171e-04 8.277745e-02\n",
       "28    RP11-119D9.1    3.676980     0.1966070    2.360116e-04 9.366512e-02\n",
       "29    EDNRB           3.657364     0.3549305    2.548223e-04 9.480981e-02\n",
       "30    CXCL1           3.708603     0.2592351    2.084057e-04 1.158140e-01\n",
       "⋮     ⋮             ⋮             ⋮             ⋮            ⋮           \n",
       "13704 ZNF732         4.664144e-03  1.175355e+00 0.9962786    0.9999056   \n",
       "13705 CHRD           4.555547e-03  2.368912e-04 0.9963652    0.9999056   \n",
       "13706 EIF4ENIF1     -4.326879e-03  1.735458e-03 0.9965477    0.9999056   \n",
       "13707 NAT9          -3.943086e-03 -1.896979e-03 0.9968539    0.9999056   \n",
       "13708 RNF126        -3.931160e-03 -1.759196e-03 0.9968634    0.9999056   \n",
       "13709 B4GALNT1      -3.882810e-03 -1.188705e-01 0.9969020    0.9999056   \n",
       "13710 MXD1          -3.627003e-03 -1.183892e-03 0.9971061    0.9999056   \n",
       "13711 TAT            2.953744e-03  2.198003e-05 0.9976433    0.9999056   \n",
       "13712 STX11          2.949624e-03  1.759028e-03 0.9976465    0.9999056   \n",
       "13713 SERGEF        -2.789546e-03 -4.516284e-04 0.9977743    0.9999056   \n",
       "13714 HIF1AN        -2.619759e-03 -9.225848e-03 0.9979097    0.9999056   \n",
       "13715 TMEM200C      -2.422681e-03 -3.207577e-03 0.9980670    0.9999056   \n",
       "13716 GATAD1        -2.416119e-03  3.086907e-04 0.9980722    0.9999056   \n",
       "13717 POM121C        2.263649e-03  1.382989e-03 0.9981939    0.9999056   \n",
       "13718 BBS10          1.848725e-03  2.670239e-03 0.9985249    0.9999056   \n",
       "13719 PCDH20        -1.840899e-03  1.016094e-02 0.9985312    0.9999056   \n",
       "13720 DEGS1         -1.808020e-03  8.368317e-04 0.9985574    0.9999056   \n",
       "13721 NDUFS5        -1.711200e-03 -1.805808e-05 0.9986347    0.9999056   \n",
       "13722 FBXL22        -1.451190e-03 -2.267454e-02 0.9988421    0.9999056   \n",
       "13723 C20orf62      -1.409800e-03 -4.784754e-03 0.9988751    0.9999056   \n",
       "13724 STK31         -1.275172e-03  1.330940e-01 0.9989826    0.9999056   \n",
       "13725 FAM103A1       1.038962e-03  2.391072e-03 0.9991710    0.9999056   \n",
       "13726 GRAP2          1.004691e-03  2.855114e-02 0.9991984    0.9999056   \n",
       "13727 KLRC1         -8.747269e-04  1.548487e-02 0.9993021    0.9999056   \n",
       "13728 WNT6           6.569959e-04 -8.809835e-03 0.9994758    0.9999056   \n",
       "13729 DEPTOR         6.367939e-04 -1.453012e-04 0.9994919    0.9999056   \n",
       "13730 SRPR           5.967592e-04 -8.981193e-05 0.9995239    0.9999056   \n",
       "13731 C11orf86       4.032864e-04 -4.565726e-03 0.9996782    0.9999056   \n",
       "13732 SLBP           2.794166e-04 -1.958729e-03 0.9997771    0.9999056   \n",
       "13733 TSEN15        -9.598045e-05  8.651452e-03 0.9999234    0.9999234   \n",
       "      tissue        \n",
       "1     Liver_STARNET1\n",
       "2     Liver_STARNET1\n",
       "3     Liver         \n",
       "4     Liver         \n",
       "5     Liver_STARNET1\n",
       "6     Liver         \n",
       "7     Liver_STARNET1\n",
       "8     Liver_STARNET1\n",
       "9     Liver         \n",
       "10    Liver         \n",
       "11    Liver         \n",
       "12    Liver_STARNET1\n",
       "13    Liver_STARNET1\n",
       "14    Liver_STARNET1\n",
       "15    Liver_STARNET1\n",
       "16    Liver_STARNET1\n",
       "17    Liver_STARNET1\n",
       "18    Liver         \n",
       "19    Liver_STARNET1\n",
       "20    Liver         \n",
       "21    Liver         \n",
       "22    Liver         \n",
       "23    Liver_STARNET1\n",
       "24    Liver_STARNET1\n",
       "25    Liver         \n",
       "26    Liver         \n",
       "27    Liver         \n",
       "28    Liver_STARNET1\n",
       "29    Liver_STARNET1\n",
       "30    Liver         \n",
       "⋮     ⋮             \n",
       "13704 Liver         \n",
       "13705 Liver         \n",
       "13706 Liver         \n",
       "13707 Liver         \n",
       "13708 Liver         \n",
       "13709 Liver         \n",
       "13710 Liver         \n",
       "13711 Liver         \n",
       "13712 Liver         \n",
       "13713 Liver         \n",
       "13714 Liver         \n",
       "13715 Liver         \n",
       "13716 Liver         \n",
       "13717 Liver         \n",
       "13718 Liver         \n",
       "13719 Liver         \n",
       "13720 Liver         \n",
       "13721 Liver         \n",
       "13722 Liver         \n",
       "13723 Liver         \n",
       "13724 Liver         \n",
       "13725 Liver         \n",
       "13726 Liver         \n",
       "13727 Liver         \n",
       "13728 Liver         \n",
       "13729 Liver         \n",
       "13730 Liver         \n",
       "13731 Liver         \n",
       "13732 Liver         \n",
       "13733 Liver         "
      ]
     },
     "metadata": {},
     "output_type": "display_data"
    }
   ],
   "source": [
    "test_df"
   ]
  },
  {
   "cell_type": "code",
   "execution_count": null,
   "metadata": {},
   "outputs": [],
   "source": []
  },
  {
   "cell_type": "code",
   "execution_count": null,
   "metadata": {},
   "outputs": [],
   "source": []
  },
  {
   "cell_type": "code",
   "execution_count": 1,
   "metadata": {},
   "outputs": [],
   "source": [
    "library(\"biomaRt\")"
   ]
  },
  {
   "cell_type": "code",
   "execution_count": 32,
   "metadata": {},
   "outputs": [],
   "source": [
    "missingdf <- as.data.frame(data.table::fread(\"../../twas_missing.TSS.info.txt\"))\n",
    "target_vec <- missingdf$gene"
   ]
  },
  {
   "cell_type": "code",
   "execution_count": 6,
   "metadata": {},
   "outputs": [],
   "source": []
  },
  {
   "cell_type": "code",
   "execution_count": null,
   "metadata": {},
   "outputs": [],
   "source": [
    "grch37 = useMart(biomart=\"ENSEMBL_MART_ENSEMBL\", host=\"grch37.ensembl.org\", path=\"/biomart/martservice\", dataset=\"hsapiens_gene_ensembl\")\n",
    "\n"
   ]
  },
  {
   "cell_type": "code",
   "execution_count": 13,
   "metadata": {},
   "outputs": [],
   "source": [
    "human = useMart(\"ensembl\", dataset = \"hsapiens_gene_ensembl\")\n",
    "res = getBM(attributes = c(\"hgnc_symbol\",\"chromosome_name\", \"start_position\"), \n",
    "       filters = \"hgnc_symbol\", \n",
    "       values = target_vec, \n",
    "       mart = human)"
   ]
  },
  {
   "cell_type": "code",
   "execution_count": 30,
   "metadata": {},
   "outputs": [],
   "source": [
    "res_external = getBM(attributes = c(\"external_gene_name\",\"chromosome_name\", \"start_position\"), \n",
    "       filters = \"external_gene_name\", \n",
    "       values = target_vec, \n",
    "       mart = human)\n"
   ]
  },
  {
   "cell_type": "code",
   "execution_count": null,
   "metadata": {},
   "outputs": [],
   "source": []
  },
  {
   "cell_type": "code",
   "execution_count": 31,
   "metadata": {},
   "outputs": [
    {
     "data": {
      "text/html": [
       "<ol class=list-inline>\n",
       "\t<li>43</li>\n",
       "\t<li>3</li>\n",
       "</ol>\n"
      ],
      "text/latex": [
       "\\begin{enumerate*}\n",
       "\\item 43\n",
       "\\item 3\n",
       "\\end{enumerate*}\n"
      ],
      "text/markdown": [
       "1. 43\n",
       "2. 3\n",
       "\n",
       "\n"
      ],
      "text/plain": [
       "[1] 43  3"
      ]
     },
     "metadata": {},
     "output_type": "display_data"
    },
    {
     "data": {
      "text/html": [
       "<ol class=list-inline>\n",
       "\t<li>43</li>\n",
       "\t<li>3</li>\n",
       "</ol>\n"
      ],
      "text/latex": [
       "\\begin{enumerate*}\n",
       "\\item 43\n",
       "\\item 3\n",
       "\\end{enumerate*}\n"
      ],
      "text/markdown": [
       "1. 43\n",
       "2. 3\n",
       "\n",
       "\n"
      ],
      "text/plain": [
       "[1] 43  3"
      ]
     },
     "metadata": {},
     "output_type": "display_data"
    }
   ],
   "source": [
    "dim(res)\n",
    "dim(res_external)"
   ]
  },
  {
   "cell_type": "code",
   "execution_count": 26,
   "metadata": {},
   "outputs": [],
   "source": [
    "write.table(res[complete.cases(res),], file = \"../../match_table_biomart.txt\", quote = F, row.names = F)"
   ]
  },
  {
   "cell_type": "code",
   "execution_count": 16,
   "metadata": {},
   "outputs": [
    {
     "data": {
      "text/html": [
       "<table>\n",
       "<thead><tr><th scope=col>hgnc_symbol</th><th scope=col>chromosome_name</th><th scope=col>start_position</th></tr></thead>\n",
       "<tbody>\n",
       "\t<tr><td>C19orf84      </td><td>19            </td><td> 51388289     </td></tr>\n",
       "\t<tr><td>C5orf66       </td><td>5             </td><td>135033280     </td></tr>\n",
       "\t<tr><td>C8orf88       </td><td>8             </td><td> 90958471     </td></tr>\n",
       "\t<tr><td>CCDC183       </td><td>9             </td><td>136796338     </td></tr>\n",
       "\t<tr><td>CCER2         </td><td>19            </td><td> 38908980     </td></tr>\n",
       "\t<tr><td>CCER2         </td><td>CHR_HG26_PATCH</td><td> 38909016     </td></tr>\n",
       "</tbody>\n",
       "</table>\n"
      ],
      "text/latex": [
       "\\begin{tabular}{r|lll}\n",
       " hgnc\\_symbol & chromosome\\_name & start\\_position\\\\\n",
       "\\hline\n",
       "\t C19orf84       & 19             &  51388289     \\\\\n",
       "\t C5orf66        & 5              & 135033280     \\\\\n",
       "\t C8orf88        & 8              &  90958471     \\\\\n",
       "\t CCDC183        & 9              & 136796338     \\\\\n",
       "\t CCER2          & 19             &  38908980     \\\\\n",
       "\t CCER2              & CHR\\_HG26\\_PATCH &  38909016         \\\\\n",
       "\\end{tabular}\n"
      ],
      "text/markdown": [
       "\n",
       "hgnc_symbol | chromosome_name | start_position | \n",
       "|---|---|---|---|---|---|\n",
       "| C19orf84       | 19             |  51388289      | \n",
       "| C5orf66        | 5              | 135033280      | \n",
       "| C8orf88        | 8              |  90958471      | \n",
       "| CCDC183        | 9              | 136796338      | \n",
       "| CCER2          | 19             |  38908980      | \n",
       "| CCER2          | CHR_HG26_PATCH |  38909016      | \n",
       "\n",
       "\n"
      ],
      "text/plain": [
       "  hgnc_symbol chromosome_name start_position\n",
       "1 C19orf84    19               51388289     \n",
       "2 C5orf66     5               135033280     \n",
       "3 C8orf88     8                90958471     \n",
       "4 CCDC183     9               136796338     \n",
       "5 CCER2       19               38908980     \n",
       "6 CCER2       CHR_HG26_PATCH   38909016     "
      ]
     },
     "metadata": {},
     "output_type": "display_data"
    }
   ],
   "source": [
    "(res)"
   ]
  },
  {
   "cell_type": "code",
   "execution_count": 31,
   "metadata": {},
   "outputs": [
    {
     "ename": "ERROR",
     "evalue": "Error in head(target_vec): object 'target_vec' not found\n",
     "output_type": "error",
     "traceback": [
      "Error in head(target_vec): object 'target_vec' not found\nTraceback:\n",
      "1. head(target_vec)"
     ]
    }
   ],
   "source": [
    "head(target_vec)"
   ]
  },
  {
   "cell_type": "code",
   "execution_count": 17,
   "metadata": {},
   "outputs": [
    {
     "data": {
      "text/html": [
       "<ol class=list-inline>\n",
       "\t<li>43</li>\n",
       "\t<li>3</li>\n",
       "</ol>\n"
      ],
      "text/latex": [
       "\\begin{enumerate*}\n",
       "\\item 43\n",
       "\\item 3\n",
       "\\end{enumerate*}\n"
      ],
      "text/markdown": [
       "1. 43\n",
       "2. 3\n",
       "\n",
       "\n"
      ],
      "text/plain": [
       "[1] 43  3"
      ]
     },
     "metadata": {},
     "output_type": "display_data"
    }
   ],
   "source": [
    "dim(res)"
   ]
  },
  {
   "cell_type": "code",
   "execution_count": 10,
   "metadata": {},
   "outputs": [
    {
     "data": {
      "text/html": [
       "262"
      ],
      "text/latex": [
       "262"
      ],
      "text/markdown": [
       "262"
      ],
      "text/plain": [
       "[1] 262"
      ]
     },
     "metadata": {},
     "output_type": "display_data"
    }
   ],
   "source": [
    "length(target_vec)"
   ]
  },
  {
   "cell_type": "code",
   "execution_count": 22,
   "metadata": {},
   "outputs": [
    {
     "name": "stderr",
     "output_type": "stream",
     "text": [
      "Warning message in eval(expr, envir, enclos):\n",
      "“NAs introduced by coercion”"
     ]
    }
   ],
   "source": [
    "res$chromosome_name <- as.numeric(res$chromosome_name)"
   ]
  },
  {
   "cell_type": "code",
   "execution_count": 25,
   "metadata": {},
   "outputs": [
    {
     "data": {
      "text/html": [
       "<ol class=list-inline>\n",
       "\t<li>34</li>\n",
       "\t<li>3</li>\n",
       "</ol>\n"
      ],
      "text/latex": [
       "\\begin{enumerate*}\n",
       "\\item 34\n",
       "\\item 3\n",
       "\\end{enumerate*}\n"
      ],
      "text/markdown": [
       "1. 34\n",
       "2. 3\n",
       "\n",
       "\n"
      ],
      "text/plain": [
       "[1] 34  3"
      ]
     },
     "metadata": {},
     "output_type": "display_data"
    }
   ],
   "source": [
    "dim(res[complete.cases(res),])"
   ]
  },
  {
   "cell_type": "code",
   "execution_count": 21,
   "metadata": {},
   "outputs": [
    {
     "data": {
      "text/html": [
       "<dl class=dl-horizontal>\n",
       "\t<dt>19</dt>\n",
       "\t\t<dd>1</dd>\n",
       "\t<dt>5</dt>\n",
       "\t\t<dd>1</dd>\n",
       "\t<dt>8</dt>\n",
       "\t\t<dd>1</dd>\n",
       "\t<dt>9</dt>\n",
       "\t\t<dd>1</dd>\n",
       "\t<dt>19</dt>\n",
       "\t\t<dd>1</dd>\n",
       "\t<dt>CHR_HG26_PATCH</dt>\n",
       "\t\t<dd>1</dd>\n",
       "\t<dt>4</dt>\n",
       "\t\t<dd>1</dd>\n",
       "\t<dt>14</dt>\n",
       "\t\t<dd>1</dd>\n",
       "\t<dt>1</dt>\n",
       "\t\t<dd>1</dd>\n",
       "\t<dt>7</dt>\n",
       "\t\t<dd>1</dd>\n",
       "\t<dt>10</dt>\n",
       "\t\t<dd>1</dd>\n",
       "\t<dt>17</dt>\n",
       "\t\t<dd>1</dd>\n",
       "\t<dt>19</dt>\n",
       "\t\t<dd>1</dd>\n",
       "\t<dt>19</dt>\n",
       "\t\t<dd>1</dd>\n",
       "\t<dt>4</dt>\n",
       "\t\t<dd>1</dd>\n",
       "\t<dt>5</dt>\n",
       "\t\t<dd>1</dd>\n",
       "\t<dt>7</dt>\n",
       "\t\t<dd>1</dd>\n",
       "\t<dt>2</dt>\n",
       "\t\t<dd>1</dd>\n",
       "\t<dt>2</dt>\n",
       "\t\t<dd>1</dd>\n",
       "\t<dt>2</dt>\n",
       "\t\t<dd>1</dd>\n",
       "\t<dt>10</dt>\n",
       "\t\t<dd>1</dd>\n",
       "\t<dt>11</dt>\n",
       "\t\t<dd>1</dd>\n",
       "\t<dt>7</dt>\n",
       "\t\t<dd>1</dd>\n",
       "\t<dt>10</dt>\n",
       "\t\t<dd>1</dd>\n",
       "\t<dt>2</dt>\n",
       "\t\t<dd>1</dd>\n",
       "\t<dt>17</dt>\n",
       "\t\t<dd>1</dd>\n",
       "\t<dt>3</dt>\n",
       "\t\t<dd>1</dd>\n",
       "\t<dt>10</dt>\n",
       "\t\t<dd>1</dd>\n",
       "\t<dt>11</dt>\n",
       "\t\t<dd>1</dd>\n",
       "\t<dt>12</dt>\n",
       "\t\t<dd>1</dd>\n",
       "\t<dt>10</dt>\n",
       "\t\t<dd>1</dd>\n",
       "\t<dt>22</dt>\n",
       "\t\t<dd>1</dd>\n",
       "\t<dt>CHR_HG1311_PATCH</dt>\n",
       "\t\t<dd>1</dd>\n",
       "\t<dt>CHR_HSCHR3_5_CTG3</dt>\n",
       "\t\t<dd>1</dd>\n",
       "\t<dt>CHR_HSCHR3_1_CTG3</dt>\n",
       "\t\t<dd>1</dd>\n",
       "\t<dt>CHR_HSCHR3_3_CTG3</dt>\n",
       "\t\t<dd>1</dd>\n",
       "\t<dt>CHR_HSCHR3_6_CTG3</dt>\n",
       "\t\t<dd>1</dd>\n",
       "\t<dt>CHR_HSCHR3_8_CTG3</dt>\n",
       "\t\t<dd>1</dd>\n",
       "\t<dt>CHR_HSCHR3_4_CTG3</dt>\n",
       "\t\t<dd>1</dd>\n",
       "\t<dt>3</dt>\n",
       "\t\t<dd>1</dd>\n",
       "\t<dt>CHR_HSCHR3_7_CTG3</dt>\n",
       "\t\t<dd>1</dd>\n",
       "\t<dt>15</dt>\n",
       "\t\t<dd>1</dd>\n",
       "\t<dt>7</dt>\n",
       "\t\t<dd>1</dd>\n",
       "</dl>\n"
      ],
      "text/latex": [
       "\\begin{description*}\n",
       "\\item[19] 1\n",
       "\\item[5] 1\n",
       "\\item[8] 1\n",
       "\\item[9] 1\n",
       "\\item[19] 1\n",
       "\\item[CHR\\textbackslash{}\\_HG26\\textbackslash{}\\_PATCH] 1\n",
       "\\item[4] 1\n",
       "\\item[14] 1\n",
       "\\item[1] 1\n",
       "\\item[7] 1\n",
       "\\item[10] 1\n",
       "\\item[17] 1\n",
       "\\item[19] 1\n",
       "\\item[19] 1\n",
       "\\item[4] 1\n",
       "\\item[5] 1\n",
       "\\item[7] 1\n",
       "\\item[2] 1\n",
       "\\item[2] 1\n",
       "\\item[2] 1\n",
       "\\item[10] 1\n",
       "\\item[11] 1\n",
       "\\item[7] 1\n",
       "\\item[10] 1\n",
       "\\item[2] 1\n",
       "\\item[17] 1\n",
       "\\item[3] 1\n",
       "\\item[10] 1\n",
       "\\item[11] 1\n",
       "\\item[12] 1\n",
       "\\item[10] 1\n",
       "\\item[22] 1\n",
       "\\item[CHR\\textbackslash{}\\_HG1311\\textbackslash{}\\_PATCH] 1\n",
       "\\item[CHR\\textbackslash{}\\_HSCHR3\\textbackslash{}\\_5\\textbackslash{}\\_CTG3] 1\n",
       "\\item[CHR\\textbackslash{}\\_HSCHR3\\textbackslash{}\\_1\\textbackslash{}\\_CTG3] 1\n",
       "\\item[CHR\\textbackslash{}\\_HSCHR3\\textbackslash{}\\_3\\textbackslash{}\\_CTG3] 1\n",
       "\\item[CHR\\textbackslash{}\\_HSCHR3\\textbackslash{}\\_6\\textbackslash{}\\_CTG3] 1\n",
       "\\item[CHR\\textbackslash{}\\_HSCHR3\\textbackslash{}\\_8\\textbackslash{}\\_CTG3] 1\n",
       "\\item[CHR\\textbackslash{}\\_HSCHR3\\textbackslash{}\\_4\\textbackslash{}\\_CTG3] 1\n",
       "\\item[3] 1\n",
       "\\item[CHR\\textbackslash{}\\_HSCHR3\\textbackslash{}\\_7\\textbackslash{}\\_CTG3] 1\n",
       "\\item[15] 1\n",
       "\\item[7] 1\n",
       "\\end{description*}\n"
      ],
      "text/markdown": [
       "19\n",
       ":   15\n",
       ":   18\n",
       ":   19\n",
       ":   119\n",
       ":   1CHR_HG26_PATCH\n",
       ":   14\n",
       ":   114\n",
       ":   11\n",
       ":   17\n",
       ":   110\n",
       ":   117\n",
       ":   119\n",
       ":   119\n",
       ":   14\n",
       ":   15\n",
       ":   17\n",
       ":   12\n",
       ":   12\n",
       ":   12\n",
       ":   110\n",
       ":   111\n",
       ":   17\n",
       ":   110\n",
       ":   12\n",
       ":   117\n",
       ":   13\n",
       ":   110\n",
       ":   111\n",
       ":   112\n",
       ":   110\n",
       ":   122\n",
       ":   1CHR_HG1311_PATCH\n",
       ":   1CHR_HSCHR3_5_CTG3\n",
       ":   1CHR_HSCHR3_1_CTG3\n",
       ":   1CHR_HSCHR3_3_CTG3\n",
       ":   1CHR_HSCHR3_6_CTG3\n",
       ":   1CHR_HSCHR3_8_CTG3\n",
       ":   1CHR_HSCHR3_4_CTG3\n",
       ":   13\n",
       ":   1CHR_HSCHR3_7_CTG3\n",
       ":   115\n",
       ":   17\n",
       ":   1\n",
       "\n"
      ],
      "text/plain": [
       "               19                 5                 8                 9 \n",
       "                1                 1                 1                 1 \n",
       "               19    CHR_HG26_PATCH                 4                14 \n",
       "                1                 1                 1                 1 \n",
       "                1                 7                10                17 \n",
       "                1                 1                 1                 1 \n",
       "               19                19                 4                 5 \n",
       "                1                 1                 1                 1 \n",
       "                7                 2                 2                 2 \n",
       "                1                 1                 1                 1 \n",
       "               10                11                 7                10 \n",
       "                1                 1                 1                 1 \n",
       "                2                17                 3                10 \n",
       "                1                 1                 1                 1 \n",
       "               11                12                10                22 \n",
       "                1                 1                 1                 1 \n",
       " CHR_HG1311_PATCH CHR_HSCHR3_5_CTG3 CHR_HSCHR3_1_CTG3 CHR_HSCHR3_3_CTG3 \n",
       "                1                 1                 1                 1 \n",
       "CHR_HSCHR3_6_CTG3 CHR_HSCHR3_8_CTG3 CHR_HSCHR3_4_CTG3                 3 \n",
       "                1                 1                 1                 1 \n",
       "CHR_HSCHR3_7_CTG3                15                 7 \n",
       "                1                 1                 1 "
      ]
     },
     "metadata": {},
     "output_type": "display_data"
    }
   ],
   "source": [
    "sapply(res$chromosome_name, length)\n"
   ]
  },
  {
   "cell_type": "markdown",
   "metadata": {},
   "source": [
    "### GTEx v6 genes"
   ]
  },
  {
   "cell_type": "code",
   "execution_count": 35,
   "metadata": {},
   "outputs": [],
   "source": [
    "library(data.table)\n",
    "gtex_gene <- fread(\"/ysm-gpfs/pi/zhao/from_louise/yh367/GTEX/gtexGene.txt\")"
   ]
  },
  {
   "cell_type": "code",
   "execution_count": 36,
   "metadata": {},
   "outputs": [
    {
     "data": {
      "text/html": [
       "<ol class=list-inline>\n",
       "\t<li>'#chrom'</li>\n",
       "\t<li>'chromStart'</li>\n",
       "\t<li>'chromEnd'</li>\n",
       "\t<li>'name'</li>\n",
       "\t<li>'score'</li>\n",
       "\t<li>'strand'</li>\n",
       "\t<li>'geneId'</li>\n",
       "\t<li>'geneType'</li>\n",
       "\t<li>'expCount'</li>\n",
       "\t<li>'expScores'</li>\n",
       "</ol>\n"
      ],
      "text/latex": [
       "\\begin{enumerate*}\n",
       "\\item '\\#chrom'\n",
       "\\item 'chromStart'\n",
       "\\item 'chromEnd'\n",
       "\\item 'name'\n",
       "\\item 'score'\n",
       "\\item 'strand'\n",
       "\\item 'geneId'\n",
       "\\item 'geneType'\n",
       "\\item 'expCount'\n",
       "\\item 'expScores'\n",
       "\\end{enumerate*}\n"
      ],
      "text/markdown": [
       "1. '#chrom'\n",
       "2. 'chromStart'\n",
       "3. 'chromEnd'\n",
       "4. 'name'\n",
       "5. 'score'\n",
       "6. 'strand'\n",
       "7. 'geneId'\n",
       "8. 'geneType'\n",
       "9. 'expCount'\n",
       "10. 'expScores'\n",
       "\n",
       "\n"
      ],
      "text/plain": [
       " [1] \"#chrom\"     \"chromStart\" \"chromEnd\"   \"name\"       \"score\"     \n",
       " [6] \"strand\"     \"geneId\"     \"geneType\"   \"expCount\"   \"expScores\" "
      ]
     },
     "metadata": {},
     "output_type": "display_data"
    },
    {
     "data": {
      "text/html": [
       "<table>\n",
       "<thead><tr><th scope=col>#chrom</th><th scope=col>chromStart</th><th scope=col>chromEnd</th><th scope=col>name</th><th scope=col>score</th><th scope=col>strand</th><th scope=col>geneId</th><th scope=col>geneType</th><th scope=col>expCount</th><th scope=col>expScores</th></tr></thead>\n",
       "<tbody>\n",
       "\t<tr><td>chr1                                                                                                                                                                                                                                                                                                                            </td><td>11868                                                                                                                                                                                                                                                                                                                           </td><td>13052                                                                                                                                                                                                                                                                                                                           </td><td>DDX11L1                                                                                                                                                                                                                                                                                                                         </td><td> 15                                                                                                                                                                                                                                                                                                                             </td><td>+                                                                                                                                                                                                                                                                                                                               </td><td>ENSG00000223972.4                                                                                                                                                                                                                                                                                                               </td><td>transcribed_unprocessed_pseudogene                                                                                                                                                                                                                                                                                              </td><td>53                                                                                                                                                                                                                                                                                                                              </td><td>0,0,0,0,0,0,0,0,0,0,0,0,0,0,0,0,0,0,0,0,0,0,0,0,0,0,0,0,0,0,0,0,0,0,0,0,0,0,0,0,0,0,0,0,0,0,0,0,0.239,0,0,0,0,                                                                                                                                                                                                                  </td></tr>\n",
       "\t<tr><td>chr1                                                                                                                                                                                                                                                                                                                            </td><td>14969                                                                                                                                                                                                                                                                                                                           </td><td>29806                                                                                                                                                                                                                                                                                                                           </td><td>WASH7P                                                                                                                                                                                                                                                                                                                          </td><td>427                                                                                                                                                                                                                                                                                                                             </td><td>-                                                                                                                                                                                                                                                                                                                               </td><td>ENSG00000227232.4                                                                                                                                                                                                                                                                                                               </td><td>unprocessed_pseudogene                                                                                                                                                                                                                                                                                                          </td><td>53                                                                                                                                                                                                                                                                                                                              </td><td>6.886,6.083,4.729,5.91,6.371,6.007,8.768,4.202,4.455,4.64,10.097,10.619,6.108,5.037,5.018,4.808,4.543,4.495,5.576,4.57,8.275,4.707,2.55,9.091,9.885,8.17,7.392,7.735,5.353,7.124,8.617,3.426,2.375,7.669,3.826,7.094,6.365,3.263,10.723,10.507,4.843,9.193,13.25,11.635,11.771,8.641,10.448,6.522,9.313,10.304,9.987,9.067,6.12,</td></tr>\n",
       "\t<tr><td>chr1                                                                                                                                                                                                                                                                                                                            </td><td>29553                                                                                                                                                                                                                                                                                                                           </td><td>31109                                                                                                                                                                                                                                                                                                                           </td><td>RP11-34P13.3                                                                                                                                                                                                                                                                                                                    </td><td> 63                                                                                                                                                                                                                                                                                                                             </td><td>+                                                                                                                                                                                                                                                                                                                               </td><td>ENSG00000243485.2                                                                                                                                                                                                                                                                                                               </td><td>lincRNA                                                                                                                                                                                                                                                                                                                         </td><td>53                                                                                                                                                                                                                                                                                                                              </td><td>0,0,0,0,0,0,0,0.041,0.056,0.094,0.054,0.051,0.078,0.097,0.05,0.058,0.1,0.062,0.017,0.038,0,0,0,0,0,0,0,0,0,0,0.023,0,0,0.043,0,0,0.022,0,0,0,0,0.024,0,0.039,0.055,0,0,0,0.366,0.017,0,0,0,                                                                                                                                     </td></tr>\n",
       "\t<tr><td>chr1                                                                                                                                                                                                                                                                                                                            </td><td>34553                                                                                                                                                                                                                                                                                                                           </td><td>36081                                                                                                                                                                                                                                                                                                                           </td><td>FAM138A                                                                                                                                                                                                                                                                                                                         </td><td>  0                                                                                                                                                                                                                                                                                                                             </td><td>-                                                                                                                                                                                                                                                                                                                               </td><td>ENSG00000237613.2                                                                                                                                                                                                                                                                                                               </td><td>lincRNA                                                                                                                                                                                                                                                                                                                         </td><td>53                                                                                                                                                                                                                                                                                                                              </td><td>0,0,0,0,0,0,0,0,0,0,0,0,0,0,0,0,0,0,0,0,0,0,0,0,0,0,0,0,0,0,0,0,0,0,0,0,0,0,0,0,0,0,0,0,0,0,0,0,0,0,0,0,0,                                                                                                                                                                                                                      </td></tr>\n",
       "\t<tr><td>chr1                                                                                                                                                                                                                                                                                                                            </td><td>52472                                                                                                                                                                                                                                                                                                                           </td><td>54936                                                                                                                                                                                                                                                                                                                           </td><td>OR4G4P                                                                                                                                                                                                                                                                                                                          </td><td>  0                                                                                                                                                                                                                                                                                                                             </td><td>+                                                                                                                                                                                                                                                                                                                               </td><td>ENSG00000268020.2                                                                                                                                                                                                                                                                                                               </td><td>unprocessed_pseudogene                                                                                                                                                                                                                                                                                                          </td><td>53                                                                                                                                                                                                                                                                                                                              </td><td>0,0,0,0,0,0,0,0,0,0,0,0,0,0,0,0,0,0,0,0,0,0,0,0,0,0,0,0,0,0,0,0,0,0,0,0,0,0,0,0,0,0,0,0,0,0,0,0,0,0,0,0,0,                                                                                                                                                                                                                      </td></tr>\n",
       "\t<tr><td>chr1                                                                                                                                                                                                                                                                                                                            </td><td>62947                                                                                                                                                                                                                                                                                                                           </td><td>63887                                                                                                                                                                                                                                                                                                                           </td><td>OR4G11P                                                                                                                                                                                                                                                                                                                         </td><td>  0                                                                                                                                                                                                                                                                                                                             </td><td>+                                                                                                                                                                                                                                                                                                                               </td><td>ENSG00000240361.1                                                                                                                                                                                                                                                                                                               </td><td>unprocessed_pseudogene                                                                                                                                                                                                                                                                                                          </td><td>53                                                                                                                                                                                                                                                                                                                              </td><td>0,0,0,0,0,0,0,0,0,0,0,0,0,0,0,0,0,0,0,0,0,0,0,0,0,0,0,0,0,0,0,0,0,0,0,0,0,0,0,0,0,0,0,0,0,0,0,0,0,0,0,0,0,                                                                                                                                                                                                                      </td></tr>\n",
       "</tbody>\n",
       "</table>\n"
      ],
      "text/latex": [
       "\\begin{tabular}{r|llllllllll}\n",
       " \\#chrom & chromStart & chromEnd & name & score & strand & geneId & geneType & expCount & expScores\\\\\n",
       "\\hline\n",
       "\t chr1                                                                                                                                                                                                                                                                                                                             & 11868                                                                                                                                                                                                                                                                                                                            & 13052                                                                                                                                                                                                                                                                                                                            & DDX11L1                                                                                                                                                                                                                                                                                                                          &  15                                                                                                                                                                                                                                                                                                                              & +                                                                                                                                                                                                                                                                                                                                & ENSG00000223972.4                                                                                                                                                                                                                                                                                                                & transcribed\\_unprocessed\\_pseudogene                                                                                                                                                                                                                                                                                           & 53                                                                                                                                                                                                                                                                                                                               & 0,0,0,0,0,0,0,0,0,0,0,0,0,0,0,0,0,0,0,0,0,0,0,0,0,0,0,0,0,0,0,0,0,0,0,0,0,0,0,0,0,0,0,0,0,0,0,0,0.239,0,0,0,0,                                                                                                                                                                                                                  \\\\\n",
       "\t chr1                                                                                                                                                                                                                                                                                                                             & 14969                                                                                                                                                                                                                                                                                                                            & 29806                                                                                                                                                                                                                                                                                                                            & WASH7P                                                                                                                                                                                                                                                                                                                           & 427                                                                                                                                                                                                                                                                                                                              & -                                                                                                                                                                                                                                                                                                                                & ENSG00000227232.4                                                                                                                                                                                                                                                                                                                & unprocessed\\_pseudogene                                                                                                                                                                                                                                                                                                         & 53                                                                                                                                                                                                                                                                                                                               & 6.886,6.083,4.729,5.91,6.371,6.007,8.768,4.202,4.455,4.64,10.097,10.619,6.108,5.037,5.018,4.808,4.543,4.495,5.576,4.57,8.275,4.707,2.55,9.091,9.885,8.17,7.392,7.735,5.353,7.124,8.617,3.426,2.375,7.669,3.826,7.094,6.365,3.263,10.723,10.507,4.843,9.193,13.25,11.635,11.771,8.641,10.448,6.522,9.313,10.304,9.987,9.067,6.12,\\\\\n",
       "\t chr1                                                                                                                                                                                                                                                                                                                             & 29553                                                                                                                                                                                                                                                                                                                            & 31109                                                                                                                                                                                                                                                                                                                            & RP11-34P13.3                                                                                                                                                                                                                                                                                                                     &  63                                                                                                                                                                                                                                                                                                                              & +                                                                                                                                                                                                                                                                                                                                & ENSG00000243485.2                                                                                                                                                                                                                                                                                                                & lincRNA                                                                                                                                                                                                                                                                                                                          & 53                                                                                                                                                                                                                                                                                                                               & 0,0,0,0,0,0,0,0.041,0.056,0.094,0.054,0.051,0.078,0.097,0.05,0.058,0.1,0.062,0.017,0.038,0,0,0,0,0,0,0,0,0,0,0.023,0,0,0.043,0,0,0.022,0,0,0,0,0.024,0,0.039,0.055,0,0,0,0.366,0.017,0,0,0,                                                                                                                                     \\\\\n",
       "\t chr1                                                                                                                                                                                                                                                                                                                             & 34553                                                                                                                                                                                                                                                                                                                            & 36081                                                                                                                                                                                                                                                                                                                            & FAM138A                                                                                                                                                                                                                                                                                                                          &   0                                                                                                                                                                                                                                                                                                                              & -                                                                                                                                                                                                                                                                                                                                & ENSG00000237613.2                                                                                                                                                                                                                                                                                                                & lincRNA                                                                                                                                                                                                                                                                                                                          & 53                                                                                                                                                                                                                                                                                                                               & 0,0,0,0,0,0,0,0,0,0,0,0,0,0,0,0,0,0,0,0,0,0,0,0,0,0,0,0,0,0,0,0,0,0,0,0,0,0,0,0,0,0,0,0,0,0,0,0,0,0,0,0,0,                                                                                                                                                                                                                      \\\\\n",
       "\t chr1                                                                                                                                                                                                                                                                                                                             & 52472                                                                                                                                                                                                                                                                                                                            & 54936                                                                                                                                                                                                                                                                                                                            & OR4G4P                                                                                                                                                                                                                                                                                                                           &   0                                                                                                                                                                                                                                                                                                                              & +                                                                                                                                                                                                                                                                                                                                & ENSG00000268020.2                                                                                                                                                                                                                                                                                                                & unprocessed\\_pseudogene                                                                                                                                                                                                                                                                                                         & 53                                                                                                                                                                                                                                                                                                                               & 0,0,0,0,0,0,0,0,0,0,0,0,0,0,0,0,0,0,0,0,0,0,0,0,0,0,0,0,0,0,0,0,0,0,0,0,0,0,0,0,0,0,0,0,0,0,0,0,0,0,0,0,0,                                                                                                                                                                                                                      \\\\\n",
       "\t chr1                                                                                                                                                                                                                                                                                                                             & 62947                                                                                                                                                                                                                                                                                                                            & 63887                                                                                                                                                                                                                                                                                                                            & OR4G11P                                                                                                                                                                                                                                                                                                                          &   0                                                                                                                                                                                                                                                                                                                              & +                                                                                                                                                                                                                                                                                                                                & ENSG00000240361.1                                                                                                                                                                                                                                                                                                                & unprocessed\\_pseudogene                                                                                                                                                                                                                                                                                                         & 53                                                                                                                                                                                                                                                                                                                               & 0,0,0,0,0,0,0,0,0,0,0,0,0,0,0,0,0,0,0,0,0,0,0,0,0,0,0,0,0,0,0,0,0,0,0,0,0,0,0,0,0,0,0,0,0,0,0,0,0,0,0,0,0,                                                                                                                                                                                                                      \\\\\n",
       "\\end{tabular}\n"
      ],
      "text/markdown": [
       "\n",
       "#chrom | chromStart | chromEnd | name | score | strand | geneId | geneType | expCount | expScores | \n",
       "|---|---|---|---|---|---|\n",
       "| chr1                                                                                                                                                                                                                                                                                                                             | 11868                                                                                                                                                                                                                                                                                                                            | 13052                                                                                                                                                                                                                                                                                                                            | DDX11L1                                                                                                                                                                                                                                                                                                                          |  15                                                                                                                                                                                                                                                                                                                              | +                                                                                                                                                                                                                                                                                                                                | ENSG00000223972.4                                                                                                                                                                                                                                                                                                                | transcribed_unprocessed_pseudogene                                                                                                                                                                                                                                                                                               | 53                                                                                                                                                                                                                                                                                                                               | 0,0,0,0,0,0,0,0,0,0,0,0,0,0,0,0,0,0,0,0,0,0,0,0,0,0,0,0,0,0,0,0,0,0,0,0,0,0,0,0,0,0,0,0,0,0,0,0,0.239,0,0,0,0,                                                                                                                                                                                                                   | \n",
       "| chr1                                                                                                                                                                                                                                                                                                                             | 14969                                                                                                                                                                                                                                                                                                                            | 29806                                                                                                                                                                                                                                                                                                                            | WASH7P                                                                                                                                                                                                                                                                                                                           | 427                                                                                                                                                                                                                                                                                                                              | -                                                                                                                                                                                                                                                                                                                                | ENSG00000227232.4                                                                                                                                                                                                                                                                                                                | unprocessed_pseudogene                                                                                                                                                                                                                                                                                                           | 53                                                                                                                                                                                                                                                                                                                               | 6.886,6.083,4.729,5.91,6.371,6.007,8.768,4.202,4.455,4.64,10.097,10.619,6.108,5.037,5.018,4.808,4.543,4.495,5.576,4.57,8.275,4.707,2.55,9.091,9.885,8.17,7.392,7.735,5.353,7.124,8.617,3.426,2.375,7.669,3.826,7.094,6.365,3.263,10.723,10.507,4.843,9.193,13.25,11.635,11.771,8.641,10.448,6.522,9.313,10.304,9.987,9.067,6.12, | \n",
       "| chr1                                                                                                                                                                                                                                                                                                                             | 29553                                                                                                                                                                                                                                                                                                                            | 31109                                                                                                                                                                                                                                                                                                                            | RP11-34P13.3                                                                                                                                                                                                                                                                                                                     |  63                                                                                                                                                                                                                                                                                                                              | +                                                                                                                                                                                                                                                                                                                                | ENSG00000243485.2                                                                                                                                                                                                                                                                                                                | lincRNA                                                                                                                                                                                                                                                                                                                          | 53                                                                                                                                                                                                                                                                                                                               | 0,0,0,0,0,0,0,0.041,0.056,0.094,0.054,0.051,0.078,0.097,0.05,0.058,0.1,0.062,0.017,0.038,0,0,0,0,0,0,0,0,0,0,0.023,0,0,0.043,0,0,0.022,0,0,0,0,0.024,0,0.039,0.055,0,0,0,0.366,0.017,0,0,0,                                                                                                                                      | \n",
       "| chr1                                                                                                                                                                                                                                                                                                                             | 34553                                                                                                                                                                                                                                                                                                                            | 36081                                                                                                                                                                                                                                                                                                                            | FAM138A                                                                                                                                                                                                                                                                                                                          |   0                                                                                                                                                                                                                                                                                                                              | -                                                                                                                                                                                                                                                                                                                                | ENSG00000237613.2                                                                                                                                                                                                                                                                                                                | lincRNA                                                                                                                                                                                                                                                                                                                          | 53                                                                                                                                                                                                                                                                                                                               | 0,0,0,0,0,0,0,0,0,0,0,0,0,0,0,0,0,0,0,0,0,0,0,0,0,0,0,0,0,0,0,0,0,0,0,0,0,0,0,0,0,0,0,0,0,0,0,0,0,0,0,0,0,                                                                                                                                                                                                                       | \n",
       "| chr1                                                                                                                                                                                                                                                                                                                             | 52472                                                                                                                                                                                                                                                                                                                            | 54936                                                                                                                                                                                                                                                                                                                            | OR4G4P                                                                                                                                                                                                                                                                                                                           |   0                                                                                                                                                                                                                                                                                                                              | +                                                                                                                                                                                                                                                                                                                                | ENSG00000268020.2                                                                                                                                                                                                                                                                                                                | unprocessed_pseudogene                                                                                                                                                                                                                                                                                                           | 53                                                                                                                                                                                                                                                                                                                               | 0,0,0,0,0,0,0,0,0,0,0,0,0,0,0,0,0,0,0,0,0,0,0,0,0,0,0,0,0,0,0,0,0,0,0,0,0,0,0,0,0,0,0,0,0,0,0,0,0,0,0,0,0,                                                                                                                                                                                                                       | \n",
       "| chr1                                                                                                                                                                                                                                                                                                                             | 62947                                                                                                                                                                                                                                                                                                                            | 63887                                                                                                                                                                                                                                                                                                                            | OR4G11P                                                                                                                                                                                                                                                                                                                          |   0                                                                                                                                                                                                                                                                                                                              | +                                                                                                                                                                                                                                                                                                                                | ENSG00000240361.1                                                                                                                                                                                                                                                                                                                | unprocessed_pseudogene                                                                                                                                                                                                                                                                                                           | 53                                                                                                                                                                                                                                                                                                                               | 0,0,0,0,0,0,0,0,0,0,0,0,0,0,0,0,0,0,0,0,0,0,0,0,0,0,0,0,0,0,0,0,0,0,0,0,0,0,0,0,0,0,0,0,0,0,0,0,0,0,0,0,0,                                                                                                                                                                                                                       | \n",
       "\n",
       "\n"
      ],
      "text/plain": [
       "  #chrom chromStart chromEnd name         score strand geneId           \n",
       "1 chr1   11868      13052    DDX11L1       15   +      ENSG00000223972.4\n",
       "2 chr1   14969      29806    WASH7P       427   -      ENSG00000227232.4\n",
       "3 chr1   29553      31109    RP11-34P13.3  63   +      ENSG00000243485.2\n",
       "4 chr1   34553      36081    FAM138A        0   -      ENSG00000237613.2\n",
       "5 chr1   52472      54936    OR4G4P         0   +      ENSG00000268020.2\n",
       "6 chr1   62947      63887    OR4G11P        0   +      ENSG00000240361.1\n",
       "  geneType                           expCount\n",
       "1 transcribed_unprocessed_pseudogene 53      \n",
       "2 unprocessed_pseudogene             53      \n",
       "3 lincRNA                            53      \n",
       "4 lincRNA                            53      \n",
       "5 unprocessed_pseudogene             53      \n",
       "6 unprocessed_pseudogene             53      \n",
       "  expScores                                                                                                                                                                                                                                                                                                                       \n",
       "1 0,0,0,0,0,0,0,0,0,0,0,0,0,0,0,0,0,0,0,0,0,0,0,0,0,0,0,0,0,0,0,0,0,0,0,0,0,0,0,0,0,0,0,0,0,0,0,0,0.239,0,0,0,0,                                                                                                                                                                                                                  \n",
       "2 6.886,6.083,4.729,5.91,6.371,6.007,8.768,4.202,4.455,4.64,10.097,10.619,6.108,5.037,5.018,4.808,4.543,4.495,5.576,4.57,8.275,4.707,2.55,9.091,9.885,8.17,7.392,7.735,5.353,7.124,8.617,3.426,2.375,7.669,3.826,7.094,6.365,3.263,10.723,10.507,4.843,9.193,13.25,11.635,11.771,8.641,10.448,6.522,9.313,10.304,9.987,9.067,6.12,\n",
       "3 0,0,0,0,0,0,0,0.041,0.056,0.094,0.054,0.051,0.078,0.097,0.05,0.058,0.1,0.062,0.017,0.038,0,0,0,0,0,0,0,0,0,0,0.023,0,0,0.043,0,0,0.022,0,0,0,0,0.024,0,0.039,0.055,0,0,0,0.366,0.017,0,0,0,                                                                                                                                     \n",
       "4 0,0,0,0,0,0,0,0,0,0,0,0,0,0,0,0,0,0,0,0,0,0,0,0,0,0,0,0,0,0,0,0,0,0,0,0,0,0,0,0,0,0,0,0,0,0,0,0,0,0,0,0,0,                                                                                                                                                                                                                      \n",
       "5 0,0,0,0,0,0,0,0,0,0,0,0,0,0,0,0,0,0,0,0,0,0,0,0,0,0,0,0,0,0,0,0,0,0,0,0,0,0,0,0,0,0,0,0,0,0,0,0,0,0,0,0,0,                                                                                                                                                                                                                      \n",
       "6 0,0,0,0,0,0,0,0,0,0,0,0,0,0,0,0,0,0,0,0,0,0,0,0,0,0,0,0,0,0,0,0,0,0,0,0,0,0,0,0,0,0,0,0,0,0,0,0,0,0,0,0,0,                                                                                                                                                                                                                      "
      ]
     },
     "metadata": {},
     "output_type": "display_data"
    }
   ],
   "source": [
    "colnames(gtex_gene)\n",
    "head(gtex_gene)"
   ]
  },
  {
   "cell_type": "code",
   "execution_count": 37,
   "metadata": {},
   "outputs": [],
   "source": [
    "res_startswith <- sapply(gtex_gene$name, function(x) startsWith(x,\"LOC\"))"
   ]
  },
  {
   "cell_type": "code",
   "execution_count": 40,
   "metadata": {},
   "outputs": [],
   "source": [
    "gene_loc <- res_startswith[which(res_startswith)]"
   ]
  },
  {
   "cell_type": "code",
   "execution_count": 43,
   "metadata": {},
   "outputs": [
    {
     "data": {
      "text/html": [
       "3"
      ],
      "text/latex": [
       "3"
      ],
      "text/markdown": [
       "3"
      ],
      "text/plain": [
       "[1] 3"
      ]
     },
     "metadata": {},
     "output_type": "display_data"
    }
   ],
   "source": [
    "sum(res_startswith)"
   ]
  },
  {
   "cell_type": "code",
   "execution_count": 41,
   "metadata": {},
   "outputs": [
    {
     "data": {
      "text/html": [
       "<dl class=dl-horizontal>\n",
       "\t<dt>LOC440461</dt>\n",
       "\t\t<dd>TRUE</dd>\n",
       "\t<dt>LOC100421166</dt>\n",
       "\t\t<dd>TRUE</dd>\n",
       "\t<dt>LOC401913</dt>\n",
       "\t\t<dd>TRUE</dd>\n",
       "</dl>\n"
      ],
      "text/latex": [
       "\\begin{description*}\n",
       "\\item[LOC440461] TRUE\n",
       "\\item[LOC100421166] TRUE\n",
       "\\item[LOC401913] TRUE\n",
       "\\end{description*}\n"
      ],
      "text/markdown": [
       "LOC440461\n",
       ":   TRUELOC100421166\n",
       ":   TRUELOC401913\n",
       ":   TRUE\n",
       "\n"
      ],
      "text/plain": [
       "   LOC440461 LOC100421166    LOC401913 \n",
       "        TRUE         TRUE         TRUE "
      ]
     },
     "metadata": {},
     "output_type": "display_data"
    }
   ],
   "source": [
    "head(gene_loc)"
   ]
  },
  {
   "cell_type": "code",
   "execution_count": 29,
   "metadata": {},
   "outputs": [],
   "source": [
    "grch37 = useMart(biomart=\"ENSEMBL_MART_ENSEMBL\", host=\"grch37.ensembl.org\", path=\"/biomart/martservice\", dataset=\"hsapiens_gene_ensembl\")"
   ]
  },
  {
   "cell_type": "code",
   "execution_count": 33,
   "metadata": {},
   "outputs": [],
   "source": [
    "res = getBM(attributes = c(\"hgnc_symbol\",\"chromosome_name\", \"start_position\"), \n",
    "       filters = \"hgnc_symbol\", \n",
    "       values = target_vec, \n",
    "       mart = grch37)"
   ]
  },
  {
   "cell_type": "code",
   "execution_count": 36,
   "metadata": {},
   "outputs": [
    {
     "name": "stderr",
     "output_type": "stream",
     "text": [
      "Warning message in eval(expr, envir, enclos):\n",
      "“NAs introduced by coercion”"
     ]
    }
   ],
   "source": [
    "res$chromosome_name <- as.numeric(res$chromosome_name)"
   ]
  },
  {
   "cell_type": "code",
   "execution_count": 38,
   "metadata": {},
   "outputs": [],
   "source": [
    "write.table(res[complete.cases(res),], file = \"../../match_table_biomart_grch37.txt\", quote = F, row.names = F)"
   ]
  },
  {
   "cell_type": "code",
   "execution_count": 39,
   "metadata": {},
   "outputs": [
    {
     "data": {
      "text/html": [
       "'/gpfs/ysm/project/zhao/zy92/NASH/dr_multiomics/utilities'"
      ],
      "text/latex": [
       "'/gpfs/ysm/project/zhao/zy92/NASH/dr\\_multiomics/utilities'"
      ],
      "text/markdown": [
       "'/gpfs/ysm/project/zhao/zy92/NASH/dr_multiomics/utilities'"
      ],
      "text/plain": [
       "[1] \"/gpfs/ysm/project/zhao/zy92/NASH/dr_multiomics/utilities\""
      ]
     },
     "metadata": {},
     "output_type": "display_data"
    }
   ],
   "source": [
    "getwd()"
   ]
  },
  {
   "cell_type": "markdown",
   "metadata": {},
   "source": [
    "### Database Gene List"
   ]
  },
  {
   "cell_type": "code",
   "execution_count": null,
   "metadata": {},
   "outputs": [],
   "source": []
  },
  {
   "cell_type": "code",
   "execution_count": null,
   "metadata": {},
   "outputs": [],
   "source": []
  },
  {
   "cell_type": "code",
   "execution_count": 13,
   "metadata": {},
   "outputs": [],
   "source": [
    "library(\"RSQLite\")\n",
    "sqlite <- dbDriver(\"SQLite\")\n",
    "query <- function(...) dbGetQuery(db, ...)\n",
    "\n",
    "weight_db_path <- \"/ysm-gpfs/pi/zhao-data/zy92/UTMOST/sample_data/weight_db_GTEx_external/\""
   ]
  },
  {
   "cell_type": "code",
   "execution_count": 15,
   "metadata": {},
   "outputs": [
    {
     "data": {
      "text/html": [
       "INFO: tissue 1"
      ]
     },
     "metadata": {},
     "output_type": "display_data"
    },
    {
     "data": {
      "text/html": [
       "INFO: tissue 2"
      ]
     },
     "metadata": {},
     "output_type": "display_data"
    },
    {
     "data": {
      "text/html": [
       "INFO: tissue 3"
      ]
     },
     "metadata": {},
     "output_type": "display_data"
    },
    {
     "data": {
      "text/html": [
       "INFO: tissue 4"
      ]
     },
     "metadata": {},
     "output_type": "display_data"
    },
    {
     "data": {
      "text/html": [
       "INFO: tissue 5"
      ]
     },
     "metadata": {},
     "output_type": "display_data"
    },
    {
     "data": {
      "text/html": [
       "INFO: tissue 6"
      ]
     },
     "metadata": {},
     "output_type": "display_data"
    },
    {
     "data": {
      "text/html": [
       "INFO: tissue 7"
      ]
     },
     "metadata": {},
     "output_type": "display_data"
    },
    {
     "data": {
      "text/html": [
       "INFO: tissue 8"
      ]
     },
     "metadata": {},
     "output_type": "display_data"
    },
    {
     "data": {
      "text/html": [
       "INFO: tissue 9"
      ]
     },
     "metadata": {},
     "output_type": "display_data"
    },
    {
     "data": {
      "text/html": [
       "INFO: tissue 10"
      ]
     },
     "metadata": {},
     "output_type": "display_data"
    },
    {
     "data": {
      "text/html": [
       "INFO: tissue 11"
      ]
     },
     "metadata": {},
     "output_type": "display_data"
    },
    {
     "data": {
      "text/html": [
       "INFO: tissue 12"
      ]
     },
     "metadata": {},
     "output_type": "display_data"
    },
    {
     "data": {
      "text/html": [
       "INFO: tissue 13"
      ]
     },
     "metadata": {},
     "output_type": "display_data"
    },
    {
     "data": {
      "text/html": [
       "INFO: tissue 14"
      ]
     },
     "metadata": {},
     "output_type": "display_data"
    },
    {
     "data": {
      "text/html": [
       "INFO: tissue 15"
      ]
     },
     "metadata": {},
     "output_type": "display_data"
    },
    {
     "data": {
      "text/html": [
       "INFO: tissue 16"
      ]
     },
     "metadata": {},
     "output_type": "display_data"
    },
    {
     "data": {
      "text/html": [
       "INFO: tissue 17"
      ]
     },
     "metadata": {},
     "output_type": "display_data"
    },
    {
     "data": {
      "text/html": [
       "INFO: tissue 18"
      ]
     },
     "metadata": {},
     "output_type": "display_data"
    },
    {
     "data": {
      "text/html": [
       "INFO: tissue 19"
      ]
     },
     "metadata": {},
     "output_type": "display_data"
    },
    {
     "data": {
      "text/html": [
       "INFO: tissue 20"
      ]
     },
     "metadata": {},
     "output_type": "display_data"
    },
    {
     "data": {
      "text/html": [
       "INFO: tissue 21"
      ]
     },
     "metadata": {},
     "output_type": "display_data"
    },
    {
     "data": {
      "text/html": [
       "INFO: tissue 22"
      ]
     },
     "metadata": {},
     "output_type": "display_data"
    },
    {
     "data": {
      "text/html": [
       "INFO: tissue 23"
      ]
     },
     "metadata": {},
     "output_type": "display_data"
    },
    {
     "data": {
      "text/html": [
       "INFO: tissue 24"
      ]
     },
     "metadata": {},
     "output_type": "display_data"
    },
    {
     "data": {
      "text/html": [
       "INFO: tissue 25"
      ]
     },
     "metadata": {},
     "output_type": "display_data"
    },
    {
     "data": {
      "text/html": [
       "INFO: tissue 26"
      ]
     },
     "metadata": {},
     "output_type": "display_data"
    },
    {
     "data": {
      "text/html": [
       "INFO: tissue 27"
      ]
     },
     "metadata": {},
     "output_type": "display_data"
    },
    {
     "data": {
      "text/html": [
       "INFO: tissue 28"
      ]
     },
     "metadata": {},
     "output_type": "display_data"
    },
    {
     "data": {
      "text/html": [
       "INFO: tissue 29"
      ]
     },
     "metadata": {},
     "output_type": "display_data"
    },
    {
     "data": {
      "text/html": [
       "INFO: tissue 30"
      ]
     },
     "metadata": {},
     "output_type": "display_data"
    },
    {
     "data": {
      "text/html": [
       "INFO: tissue 31"
      ]
     },
     "metadata": {},
     "output_type": "display_data"
    },
    {
     "data": {
      "text/html": [
       "INFO: tissue 32"
      ]
     },
     "metadata": {},
     "output_type": "display_data"
    },
    {
     "data": {
      "text/html": [
       "INFO: tissue 33"
      ]
     },
     "metadata": {},
     "output_type": "display_data"
    },
    {
     "data": {
      "text/html": [
       "INFO: tissue 34"
      ]
     },
     "metadata": {},
     "output_type": "display_data"
    },
    {
     "data": {
      "text/html": [
       "INFO: tissue 35"
      ]
     },
     "metadata": {},
     "output_type": "display_data"
    },
    {
     "data": {
      "text/html": [
       "INFO: tissue 36"
      ]
     },
     "metadata": {},
     "output_type": "display_data"
    },
    {
     "data": {
      "text/html": [
       "INFO: tissue 37"
      ]
     },
     "metadata": {},
     "output_type": "display_data"
    },
    {
     "data": {
      "text/html": [
       "INFO: tissue 38"
      ]
     },
     "metadata": {},
     "output_type": "display_data"
    },
    {
     "data": {
      "text/html": [
       "INFO: tissue 39"
      ]
     },
     "metadata": {},
     "output_type": "display_data"
    },
    {
     "data": {
      "text/html": [
       "INFO: tissue 40"
      ]
     },
     "metadata": {},
     "output_type": "display_data"
    },
    {
     "data": {
      "text/html": [
       "INFO: tissue 41"
      ]
     },
     "metadata": {},
     "output_type": "display_data"
    },
    {
     "data": {
      "text/html": [
       "INFO: tissue 42"
      ]
     },
     "metadata": {},
     "output_type": "display_data"
    },
    {
     "data": {
      "text/html": [
       "INFO: tissue 43"
      ]
     },
     "metadata": {},
     "output_type": "display_data"
    },
    {
     "data": {
      "text/html": [
       "INFO: tissue 44"
      ]
     },
     "metadata": {},
     "output_type": "display_data"
    },
    {
     "data": {
      "text/html": [
       "INFO: tissue 45"
      ]
     },
     "metadata": {},
     "output_type": "display_data"
    },
    {
     "data": {
      "text/html": [
       "INFO: tissue 46"
      ]
     },
     "metadata": {},
     "output_type": "display_data"
    },
    {
     "data": {
      "text/html": [
       "INFO: tissue 47"
      ]
     },
     "metadata": {},
     "output_type": "display_data"
    },
    {
     "data": {
      "text/html": [
       "INFO: tissue 48"
      ]
     },
     "metadata": {},
     "output_type": "display_data"
    },
    {
     "data": {
      "text/html": [
       "INFO: tissue 49"
      ]
     },
     "metadata": {},
     "output_type": "display_data"
    },
    {
     "data": {
      "text/html": [
       "INFO: tissue 50"
      ]
     },
     "metadata": {},
     "output_type": "display_data"
    },
    {
     "data": {
      "text/html": [
       "INFO: tissue 51"
      ]
     },
     "metadata": {},
     "output_type": "display_data"
    }
   ],
   "source": [
    "gene_list <- list()\n",
    "fi <- list.files(weight_db_path, pattern = \"*.db\")\n",
    "for (j in 1:length(fi))\n",
    "{\n",
    "    IRdisplay::display_html(paste0(\"INFO: \", \"tissue \", j))\n",
    "    dbname <- fi[j]\n",
    "    fname <- unlist(strsplit(fi[j], split='.db', fixed=TRUE))[1]\n",
    "    #dbname <- \"TW_Brain_Cerebellum_0.5.db\"\n",
    "    if (length(gene_list[[fname]]) != 0) { next } \n",
    "    db <- dbConnect(sqlite, paste0(weight_db_path, dbname))\n",
    "    #dbListTables(db)\n",
    "    gene_list[[fname]] <- unique( query('select distinct(gene) from weights'))\n",
    "} "
   ]
  },
  {
   "cell_type": "code",
   "execution_count": 16,
   "metadata": {},
   "outputs": [
    {
     "data": {
      "text/html": [
       "22074"
      ],
      "text/latex": [
       "22074"
      ],
      "text/markdown": [
       "22074"
      ],
      "text/plain": [
       "[1] 22074"
      ]
     },
     "metadata": {},
     "output_type": "display_data"
    }
   ],
   "source": [
    "gene_unique_vec <- unique(unlist(gene_list))\n",
    "length(gene_unique_vec)"
   ]
  },
  {
   "cell_type": "code",
   "execution_count": 21,
   "metadata": {},
   "outputs": [
    {
     "data": {
      "text/html": [
       "'/gpfs/ysm/project/zhao/zy92/NASH/dr_multiomics/utilities'"
      ],
      "text/latex": [
       "'/gpfs/ysm/project/zhao/zy92/NASH/dr\\_multiomics/utilities'"
      ],
      "text/markdown": [
       "'/gpfs/ysm/project/zhao/zy92/NASH/dr_multiomics/utilities'"
      ],
      "text/plain": [
       "[1] \"/gpfs/ysm/project/zhao/zy92/NASH/dr_multiomics/utilities\""
      ]
     },
     "metadata": {},
     "output_type": "display_data"
    }
   ],
   "source": [
    "getwd()"
   ]
  },
  {
   "cell_type": "code",
   "execution_count": 18,
   "metadata": {},
   "outputs": [],
   "source": [
    "loc_idx <- ifelse(startsWith(gene_unique_vec, \"LOC\"), 1, 0)"
   ]
  },
  {
   "cell_type": "code",
   "execution_count": 22,
   "metadata": {},
   "outputs": [],
   "source": [
    "write.table(sort(gene_unique_vec), file = \"../../utmost_geneset.txt\", row.names = F, quote = F)"
   ]
  },
  {
   "cell_type": "code",
   "execution_count": null,
   "metadata": {},
   "outputs": [],
   "source": [
    "gene_list[[A]]"
   ]
  },
  {
   "cell_type": "code",
   "execution_count": 28,
   "metadata": {},
   "outputs": [
    {
     "ename": "ERROR",
     "evalue": "Error in searchDatasets(mart = ensembl, pattern = \"hsapiens\"): could not find function \"searchDatasets\"\n",
     "output_type": "error",
     "traceback": [
      "Error in searchDatasets(mart = ensembl, pattern = \"hsapiens\"): could not find function \"searchDatasets\"\nTraceback:\n"
     ]
    }
   ],
   "source": [
    "searchDatasets(mart = ensembl, pattern = \"hsapiens\")"
   ]
  },
  {
   "cell_type": "code",
   "execution_count": 8,
   "metadata": {},
   "outputs": [
    {
     "data": {
      "text/html": [
       "'glasso2_sig'"
      ],
      "text/latex": [
       "'glasso2\\_sig'"
      ],
      "text/markdown": [
       "'glasso2_sig'"
      ],
      "text/plain": [
       "[1] \"glasso2_sig\""
      ]
     },
     "metadata": {},
     "output_type": "display_data"
    }
   ],
   "source": [
    "dbname"
   ]
  }
 ],
 "metadata": {
  "kernelspec": {
   "display_name": "R",
   "language": "R",
   "name": "ir"
  },
  "language_info": {
   "codemirror_mode": "r",
   "file_extension": ".r",
   "mimetype": "text/x-r-source",
   "name": "R",
   "pygments_lexer": "r",
   "version": "3.5.0"
  }
 },
 "nbformat": 4,
 "nbformat_minor": 4
}
