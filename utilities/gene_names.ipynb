{
 "cells": [
  {
   "cell_type": "code",
   "execution_count": 2,
   "metadata": {},
   "outputs": [],
   "source": [
    "library(biomaRt)"
   ]
  },
  {
   "cell_type": "code",
   "execution_count": null,
   "metadata": {},
   "outputs": [],
   "source": [
    "#get all protein coding genes\n",
    "library(biomaRt)\n",
    "grch37 = useMart(biomart=\"ENSEMBL_MART_ENSEMBL\", host=\"grch37.ensembl.org\", path=\"/biomart/martservice\", dataset=\"hsapiens_gene_ensembl\")\n",
    "\n",
    "## get ensembl ID\n",
    "helper <- function(str){\n",
    "\tunlist(strsplit(str, '\\\\.'))[1]\n",
    "}\n",
    "\n",
    "get_gene_index <- function(chr){\n",
    "\tglist = dir(paste0(\"/ysm-gpfs/pi/zhao/from_louise/yh367/GTEX/adjusted_expr1/chr\", chr));\n",
    "\ttmp = sapply(glist, helper)\n",
    "\tunname(tmp)\n",
    "}\n",
    "\n",
    "pc_gene = list()\n",
    "pc_num = c()\n",
    "org_num = c()\n",
    "\n",
    "for(chr in 1:22){\n",
    "\tesd = get_gene_index(chr)\n",
    "\tgene_info = getBM(filters= c(\"ensembl_gene_id\",\"biotype\"), attributes= c(\"ensembl_gene_id\",'hgnc_symbol','chromosome_name'), values= list(esd,\"protein_coding\"), mart= grch37)\n",
    "\tpc_gene[[chr]] = gene_info\n",
    "\tpc_num = c(pc_num, nrow(gene_info))\n",
    "\torg_num = c(org_num, length(esd))\n",
    "}\n",
    "save(pc_gene, pc_num, org_num, file=\"/ysm-gpfs/pi/zhao/from_louise/yh367/GTEX/protein_coding.RData\")"
   ]
  },
  {
   "cell_type": "code",
   "execution_count": 4,
   "metadata": {},
   "outputs": [
    {
     "name": "stderr",
     "output_type": "stream",
     "text": [
      "Downloading GitHub repo stephenturner/annotables@master\n",
      "from URL https://api.github.com/repos/stephenturner/annotables/zipball/master\n",
      "Installing annotables\n",
      "Installing tibble\n",
      "Installing cli\n",
      "Installing assertthat\n",
      "'/ysm-gpfs/pi/zhao/Softwares/packages/R/lib64/R/bin/R' --no-site-file  \\\n",
      "  --no-environ --no-save --no-restore --quiet CMD INSTALL  \\\n",
      "  '/tmp/Rtmp811ZCs/devtools6db04ce83272/assertthat'  \\\n",
      "  --library='/gpfs/ysm/home/zy92/R/x86_64-pc-linux-gnu-library/3.5'  \\\n",
      "  --install-tests \n",
      "\n",
      "'/ysm-gpfs/pi/zhao/Softwares/packages/R/lib64/R/bin/R' --no-site-file  \\\n",
      "  --no-environ --no-save --no-restore --quiet CMD INSTALL  \\\n",
      "  '/tmp/Rtmp811ZCs/devtools6db04a5b572f/cli'  \\\n",
      "  --library='/gpfs/ysm/home/zy92/R/x86_64-pc-linux-gnu-library/3.5'  \\\n",
      "  --install-tests \n",
      "\n",
      "Installing fansi\n",
      "'/ysm-gpfs/pi/zhao/Softwares/packages/R/lib64/R/bin/R' --no-site-file  \\\n",
      "  --no-environ --no-save --no-restore --quiet CMD INSTALL  \\\n",
      "  '/tmp/Rtmp811ZCs/devtools6db018457d9b/fansi'  \\\n",
      "  --library='/gpfs/ysm/home/zy92/R/x86_64-pc-linux-gnu-library/3.5'  \\\n",
      "  --install-tests \n",
      "\n",
      "Installing pillar\n",
      "Installing rlang\n",
      "'/ysm-gpfs/pi/zhao/Softwares/packages/R/lib64/R/bin/R' --no-site-file  \\\n",
      "  --no-environ --no-save --no-restore --quiet CMD INSTALL  \\\n",
      "  '/tmp/Rtmp811ZCs/devtools6db07b21453c/rlang'  \\\n",
      "  --library='/gpfs/ysm/home/zy92/R/x86_64-pc-linux-gnu-library/3.5'  \\\n",
      "  --install-tests \n",
      "\n",
      "Installing utf8\n",
      "'/ysm-gpfs/pi/zhao/Softwares/packages/R/lib64/R/bin/R' --no-site-file  \\\n",
      "  --no-environ --no-save --no-restore --quiet CMD INSTALL  \\\n",
      "  '/tmp/Rtmp811ZCs/devtools6db04c5d0723/utf8'  \\\n",
      "  --library='/gpfs/ysm/home/zy92/R/x86_64-pc-linux-gnu-library/3.5'  \\\n",
      "  --install-tests \n",
      "\n",
      "Installing vctrs\n",
      "Installing backports\n",
      "'/ysm-gpfs/pi/zhao/Softwares/packages/R/lib64/R/bin/R' --no-site-file  \\\n",
      "  --no-environ --no-save --no-restore --quiet CMD INSTALL  \\\n",
      "  '/tmp/Rtmp811ZCs/devtools6db01f0fa4eb/backports'  \\\n",
      "  --library='/gpfs/ysm/home/zy92/R/x86_64-pc-linux-gnu-library/3.5'  \\\n",
      "  --install-tests \n",
      "\n",
      "Installing digest\n",
      "'/ysm-gpfs/pi/zhao/Softwares/packages/R/lib64/R/bin/R' --no-site-file  \\\n",
      "  --no-environ --no-save --no-restore --quiet CMD INSTALL  \\\n",
      "  '/tmp/Rtmp811ZCs/devtools6db07f454ca7/digest'  \\\n",
      "  --library='/gpfs/ysm/home/zy92/R/x86_64-pc-linux-gnu-library/3.5'  \\\n",
      "  --install-tests \n",
      "\n",
      "Installing ellipsis\n",
      "'/ysm-gpfs/pi/zhao/Softwares/packages/R/lib64/R/bin/R' --no-site-file  \\\n",
      "  --no-environ --no-save --no-restore --quiet CMD INSTALL  \\\n",
      "  '/tmp/Rtmp811ZCs/devtools6db013ccc060/ellipsis'  \\\n",
      "  --library='/gpfs/ysm/home/zy92/R/x86_64-pc-linux-gnu-library/3.5'  \\\n",
      "  --install-tests \n",
      "\n",
      "Installing glue\n",
      "'/ysm-gpfs/pi/zhao/Softwares/packages/R/lib64/R/bin/R' --no-site-file  \\\n",
      "  --no-environ --no-save --no-restore --quiet CMD INSTALL  \\\n",
      "  '/tmp/Rtmp811ZCs/devtools6db032068e6/glue'  \\\n",
      "  --library='/gpfs/ysm/home/zy92/R/x86_64-pc-linux-gnu-library/3.5'  \\\n",
      "  --install-tests \n",
      "\n",
      "Installing zeallot\n",
      "'/ysm-gpfs/pi/zhao/Softwares/packages/R/lib64/R/bin/R' --no-site-file  \\\n",
      "  --no-environ --no-save --no-restore --quiet CMD INSTALL  \\\n",
      "  '/tmp/Rtmp811ZCs/devtools6db0711c50e6/zeallot'  \\\n",
      "  --library='/gpfs/ysm/home/zy92/R/x86_64-pc-linux-gnu-library/3.5'  \\\n",
      "  --install-tests \n",
      "\n",
      "'/ysm-gpfs/pi/zhao/Softwares/packages/R/lib64/R/bin/R' --no-site-file  \\\n",
      "  --no-environ --no-save --no-restore --quiet CMD INSTALL  \\\n",
      "  '/tmp/Rtmp811ZCs/devtools6db026f6f78d/vctrs'  \\\n",
      "  --library='/gpfs/ysm/home/zy92/R/x86_64-pc-linux-gnu-library/3.5'  \\\n",
      "  --install-tests \n",
      "\n",
      "'/ysm-gpfs/pi/zhao/Softwares/packages/R/lib64/R/bin/R' --no-site-file  \\\n",
      "  --no-environ --no-save --no-restore --quiet CMD INSTALL  \\\n",
      "  '/tmp/Rtmp811ZCs/devtools6db05d3b72d0/pillar'  \\\n",
      "  --library='/gpfs/ysm/home/zy92/R/x86_64-pc-linux-gnu-library/3.5'  \\\n",
      "  --install-tests \n",
      "\n",
      "Installing pkgconfig\n",
      "'/ysm-gpfs/pi/zhao/Softwares/packages/R/lib64/R/bin/R' --no-site-file  \\\n",
      "  --no-environ --no-save --no-restore --quiet CMD INSTALL  \\\n",
      "  '/tmp/Rtmp811ZCs/devtools6db032a82ed/pkgconfig'  \\\n",
      "  --library='/gpfs/ysm/home/zy92/R/x86_64-pc-linux-gnu-library/3.5'  \\\n",
      "  --install-tests \n",
      "\n",
      "Skipping install of 'rlang' from a cran remote, the SHA1 (0.4.0) has not changed since last install.\n",
      "  Use `force = TRUE` to force installation\n",
      "'/ysm-gpfs/pi/zhao/Softwares/packages/R/lib64/R/bin/R' --no-site-file  \\\n",
      "  --no-environ --no-save --no-restore --quiet CMD INSTALL  \\\n",
      "  '/tmp/Rtmp811ZCs/devtools6db021914823/tibble'  \\\n",
      "  --library='/gpfs/ysm/home/zy92/R/x86_64-pc-linux-gnu-library/3.5'  \\\n",
      "  --install-tests \n",
      "\n",
      "'/ysm-gpfs/pi/zhao/Softwares/packages/R/lib64/R/bin/R' --no-site-file  \\\n",
      "  --no-environ --no-save --no-restore --quiet CMD INSTALL  \\\n",
      "  '/tmp/Rtmp811ZCs/devtools6db03084c1ef/stephenturner-annotables-805a247'  \\\n",
      "  --library='/gpfs/ysm/home/zy92/R/x86_64-pc-linux-gnu-library/3.5'  \\\n",
      "  --install-tests \n",
      "\n"
     ]
    }
   ],
   "source": [
    "devtools::install_github(\"stephenturner/annotables\")"
   ]
  },
  {
   "cell_type": "code",
   "execution_count": 7,
   "metadata": {},
   "outputs": [],
   "source": [
    "library(annotables)\n",
    "library(dplyr)"
   ]
  },
  {
   "cell_type": "code",
   "execution_count": 8,
   "metadata": {},
   "outputs": [
    {
     "data": {
      "text/html": [
       "<ol class=list-inline>\n",
       "\t<li>64428</li>\n",
       "\t<li>9</li>\n",
       "</ol>\n"
      ],
      "text/latex": [
       "\\begin{enumerate*}\n",
       "\\item 64428\n",
       "\\item 9\n",
       "\\end{enumerate*}\n"
      ],
      "text/markdown": [
       "1. 64428\n",
       "2. 9\n",
       "\n",
       "\n"
      ],
      "text/plain": [
       "[1] 64428     9"
      ]
     },
     "metadata": {},
     "output_type": "display_data"
    }
   ],
   "source": [
    "dim(grch38)"
   ]
  },
  {
   "cell_type": "code",
   "execution_count": 9,
   "metadata": {},
   "outputs": [
    {
     "data": {
      "text/html": [
       "<table>\n",
       "<thead><tr><th scope=col>ensgene</th><th scope=col>entrez</th><th scope=col>symbol</th><th scope=col>chr</th><th scope=col>start</th><th scope=col>end</th><th scope=col>strand</th><th scope=col>biotype</th><th scope=col>description</th></tr></thead>\n",
       "<tbody>\n",
       "\t<tr><td>ENSG00000000003                                                                               </td><td> 7105                                                                                         </td><td>TSPAN6                                                                                        </td><td>X                                                                                             </td><td>100627109                                                                                     </td><td>100639991                                                                                     </td><td>-1                                                                                            </td><td>protein_coding                                                                                </td><td>tetraspanin 6 [Source:HGNC Symbol;Acc:HGNC:11858]                                             </td></tr>\n",
       "\t<tr><td>ENSG00000000005                                                                               </td><td>64102                                                                                         </td><td>TNMD                                                                                          </td><td>X                                                                                             </td><td>100584802                                                                                     </td><td>100599885                                                                                     </td><td> 1                                                                                            </td><td>protein_coding                                                                                </td><td>tenomodulin [Source:HGNC Symbol;Acc:HGNC:17757]                                               </td></tr>\n",
       "\t<tr><td>ENSG00000000419                                                                               </td><td> 8813                                                                                         </td><td>DPM1                                                                                          </td><td>20                                                                                            </td><td> 50934867                                                                                     </td><td> 50958555                                                                                     </td><td>-1                                                                                            </td><td>protein_coding                                                                                </td><td>dolichyl-phosphate mannosyltransferase subunit 1, catalytic [Source:HGNC Symbol;Acc:HGNC:3005]</td></tr>\n",
       "\t<tr><td>ENSG00000000457                                                                               </td><td>57147                                                                                         </td><td>SCYL3                                                                                         </td><td>1                                                                                             </td><td>169849631                                                                                     </td><td>169894267                                                                                     </td><td>-1                                                                                            </td><td>protein_coding                                                                                </td><td>SCY1 like pseudokinase 3 [Source:HGNC Symbol;Acc:HGNC:19285]                                  </td></tr>\n",
       "\t<tr><td>ENSG00000000460                                                                               </td><td>55732                                                                                         </td><td>C1orf112                                                                                      </td><td>1                                                                                             </td><td>169662007                                                                                     </td><td>169854080                                                                                     </td><td> 1                                                                                            </td><td>protein_coding                                                                                </td><td>chromosome 1 open reading frame 112 [Source:HGNC Symbol;Acc:HGNC:25565]                       </td></tr>\n",
       "\t<tr><td>ENSG00000000938                                                                               </td><td> 2268                                                                                         </td><td>FGR                                                                                           </td><td>1                                                                                             </td><td> 27612064                                                                                     </td><td> 27635277                                                                                     </td><td>-1                                                                                            </td><td>protein_coding                                                                                </td><td>FGR proto-oncogene, Src family tyrosine kinase [Source:HGNC Symbol;Acc:HGNC:3697]             </td></tr>\n",
       "</tbody>\n",
       "</table>\n"
      ],
      "text/latex": [
       "\\begin{tabular}{r|lllllllll}\n",
       " ensgene & entrez & symbol & chr & start & end & strand & biotype & description\\\\\n",
       "\\hline\n",
       "\t ENSG00000000003                                                                                    &  7105                                                                                              & TSPAN6                                                                                             & X                                                                                                  & 100627109                                                                                          & 100639991                                                                                          & -1                                                                                                 & protein\\_coding                                                                                   & tetraspanin 6 {[}Source:HGNC Symbol;Acc:HGNC:11858{]}                                             \\\\\n",
       "\t ENSG00000000005                                                                                    & 64102                                                                                              & TNMD                                                                                               & X                                                                                                  & 100584802                                                                                          & 100599885                                                                                          &  1                                                                                                 & protein\\_coding                                                                                   & tenomodulin {[}Source:HGNC Symbol;Acc:HGNC:17757{]}                                               \\\\\n",
       "\t ENSG00000000419                                                                                    &  8813                                                                                              & DPM1                                                                                               & 20                                                                                                 &  50934867                                                                                          &  50958555                                                                                          & -1                                                                                                 & protein\\_coding                                                                                   & dolichyl-phosphate mannosyltransferase subunit 1, catalytic {[}Source:HGNC Symbol;Acc:HGNC:3005{]}\\\\\n",
       "\t ENSG00000000457                                                                                    & 57147                                                                                              & SCYL3                                                                                              & 1                                                                                                  & 169849631                                                                                          & 169894267                                                                                          & -1                                                                                                 & protein\\_coding                                                                                   & SCY1 like pseudokinase 3 {[}Source:HGNC Symbol;Acc:HGNC:19285{]}                                  \\\\\n",
       "\t ENSG00000000460                                                                                    & 55732                                                                                              & C1orf112                                                                                           & 1                                                                                                  & 169662007                                                                                          & 169854080                                                                                          &  1                                                                                                 & protein\\_coding                                                                                   & chromosome 1 open reading frame 112 {[}Source:HGNC Symbol;Acc:HGNC:25565{]}                       \\\\\n",
       "\t ENSG00000000938                                                                                    &  2268                                                                                              & FGR                                                                                                & 1                                                                                                  &  27612064                                                                                          &  27635277                                                                                          & -1                                                                                                 & protein\\_coding                                                                                   & FGR proto-oncogene, Src family tyrosine kinase {[}Source:HGNC Symbol;Acc:HGNC:3697{]}             \\\\\n",
       "\\end{tabular}\n"
      ],
      "text/markdown": [
       "\n",
       "ensgene | entrez | symbol | chr | start | end | strand | biotype | description | \n",
       "|---|---|---|---|---|---|\n",
       "| ENSG00000000003                                                                                |  7105                                                                                          | TSPAN6                                                                                         | X                                                                                              | 100627109                                                                                      | 100639991                                                                                      | -1                                                                                             | protein_coding                                                                                 | tetraspanin 6 [Source:HGNC Symbol;Acc:HGNC:11858]                                              | \n",
       "| ENSG00000000005                                                                                | 64102                                                                                          | TNMD                                                                                           | X                                                                                              | 100584802                                                                                      | 100599885                                                                                      |  1                                                                                             | protein_coding                                                                                 | tenomodulin [Source:HGNC Symbol;Acc:HGNC:17757]                                                | \n",
       "| ENSG00000000419                                                                                |  8813                                                                                          | DPM1                                                                                           | 20                                                                                             |  50934867                                                                                      |  50958555                                                                                      | -1                                                                                             | protein_coding                                                                                 | dolichyl-phosphate mannosyltransferase subunit 1, catalytic [Source:HGNC Symbol;Acc:HGNC:3005] | \n",
       "| ENSG00000000457                                                                                | 57147                                                                                          | SCYL3                                                                                          | 1                                                                                              | 169849631                                                                                      | 169894267                                                                                      | -1                                                                                             | protein_coding                                                                                 | SCY1 like pseudokinase 3 [Source:HGNC Symbol;Acc:HGNC:19285]                                   | \n",
       "| ENSG00000000460                                                                                | 55732                                                                                          | C1orf112                                                                                       | 1                                                                                              | 169662007                                                                                      | 169854080                                                                                      |  1                                                                                             | protein_coding                                                                                 | chromosome 1 open reading frame 112 [Source:HGNC Symbol;Acc:HGNC:25565]                        | \n",
       "| ENSG00000000938                                                                                |  2268                                                                                          | FGR                                                                                            | 1                                                                                              |  27612064                                                                                      |  27635277                                                                                      | -1                                                                                             | protein_coding                                                                                 | FGR proto-oncogene, Src family tyrosine kinase [Source:HGNC Symbol;Acc:HGNC:3697]              | \n",
       "\n",
       "\n"
      ],
      "text/plain": [
       "  ensgene         entrez symbol   chr start     end       strand biotype       \n",
       "1 ENSG00000000003  7105  TSPAN6   X   100627109 100639991 -1     protein_coding\n",
       "2 ENSG00000000005 64102  TNMD     X   100584802 100599885  1     protein_coding\n",
       "3 ENSG00000000419  8813  DPM1     20   50934867  50958555 -1     protein_coding\n",
       "4 ENSG00000000457 57147  SCYL3    1   169849631 169894267 -1     protein_coding\n",
       "5 ENSG00000000460 55732  C1orf112 1   169662007 169854080  1     protein_coding\n",
       "6 ENSG00000000938  2268  FGR      1    27612064  27635277 -1     protein_coding\n",
       "  description                                                                                   \n",
       "1 tetraspanin 6 [Source:HGNC Symbol;Acc:HGNC:11858]                                             \n",
       "2 tenomodulin [Source:HGNC Symbol;Acc:HGNC:17757]                                               \n",
       "3 dolichyl-phosphate mannosyltransferase subunit 1, catalytic [Source:HGNC Symbol;Acc:HGNC:3005]\n",
       "4 SCY1 like pseudokinase 3 [Source:HGNC Symbol;Acc:HGNC:19285]                                  \n",
       "5 chromosome 1 open reading frame 112 [Source:HGNC Symbol;Acc:HGNC:25565]                       \n",
       "6 FGR proto-oncogene, Src family tyrosine kinase [Source:HGNC Symbol;Acc:HGNC:3697]             "
      ]
     },
     "metadata": {},
     "output_type": "display_data"
    }
   ],
   "source": [
    "head(grch38)"
   ]
  },
  {
   "cell_type": "code",
   "execution_count": 12,
   "metadata": {},
   "outputs": [
    {
     "data": {
      "text/html": [
       "<table>\n",
       "<thead><tr><th scope=col>ensgene</th><th scope=col>entrez</th><th scope=col>symbol</th><th scope=col>chr</th><th scope=col>start</th><th scope=col>end</th><th scope=col>description</th></tr></thead>\n",
       "<tbody>\n",
       "\t<tr><td>ENSG00000000003                                                                               </td><td> 7105                                                                                         </td><td>TSPAN6                                                                                        </td><td>X                                                                                             </td><td>100627109                                                                                     </td><td>100639991                                                                                     </td><td>tetraspanin 6 [Source:HGNC Symbol;Acc:HGNC:11858]                                             </td></tr>\n",
       "\t<tr><td>ENSG00000000005                                                                               </td><td>64102                                                                                         </td><td>TNMD                                                                                          </td><td>X                                                                                             </td><td>100584802                                                                                     </td><td>100599885                                                                                     </td><td>tenomodulin [Source:HGNC Symbol;Acc:HGNC:17757]                                               </td></tr>\n",
       "\t<tr><td>ENSG00000000419                                                                               </td><td> 8813                                                                                         </td><td>DPM1                                                                                          </td><td>20                                                                                            </td><td> 50934867                                                                                     </td><td> 50958555                                                                                     </td><td>dolichyl-phosphate mannosyltransferase subunit 1, catalytic [Source:HGNC Symbol;Acc:HGNC:3005]</td></tr>\n",
       "\t<tr><td>ENSG00000000457                                                                               </td><td>57147                                                                                         </td><td>SCYL3                                                                                         </td><td>1                                                                                             </td><td>169849631                                                                                     </td><td>169894267                                                                                     </td><td>SCY1 like pseudokinase 3 [Source:HGNC Symbol;Acc:HGNC:19285]                                  </td></tr>\n",
       "\t<tr><td>ENSG00000000460                                                                               </td><td>55732                                                                                         </td><td>C1orf112                                                                                      </td><td>1                                                                                             </td><td>169662007                                                                                     </td><td>169854080                                                                                     </td><td>chromosome 1 open reading frame 112 [Source:HGNC Symbol;Acc:HGNC:25565]                       </td></tr>\n",
       "\t<tr><td>ENSG00000000938                                                                               </td><td> 2268                                                                                         </td><td>FGR                                                                                           </td><td>1                                                                                             </td><td> 27612064                                                                                     </td><td> 27635277                                                                                     </td><td>FGR proto-oncogene, Src family tyrosine kinase [Source:HGNC Symbol;Acc:HGNC:3697]             </td></tr>\n",
       "</tbody>\n",
       "</table>\n"
      ],
      "text/latex": [
       "\\begin{tabular}{r|lllllll}\n",
       " ensgene & entrez & symbol & chr & start & end & description\\\\\n",
       "\\hline\n",
       "\t ENSG00000000003                                                                                    &  7105                                                                                              & TSPAN6                                                                                             & X                                                                                                  & 100627109                                                                                          & 100639991                                                                                          & tetraspanin 6 {[}Source:HGNC Symbol;Acc:HGNC:11858{]}                                             \\\\\n",
       "\t ENSG00000000005                                                                                    & 64102                                                                                              & TNMD                                                                                               & X                                                                                                  & 100584802                                                                                          & 100599885                                                                                          & tenomodulin {[}Source:HGNC Symbol;Acc:HGNC:17757{]}                                               \\\\\n",
       "\t ENSG00000000419                                                                                    &  8813                                                                                              & DPM1                                                                                               & 20                                                                                                 &  50934867                                                                                          &  50958555                                                                                          & dolichyl-phosphate mannosyltransferase subunit 1, catalytic {[}Source:HGNC Symbol;Acc:HGNC:3005{]}\\\\\n",
       "\t ENSG00000000457                                                                                    & 57147                                                                                              & SCYL3                                                                                              & 1                                                                                                  & 169849631                                                                                          & 169894267                                                                                          & SCY1 like pseudokinase 3 {[}Source:HGNC Symbol;Acc:HGNC:19285{]}                                  \\\\\n",
       "\t ENSG00000000460                                                                                    & 55732                                                                                              & C1orf112                                                                                           & 1                                                                                                  & 169662007                                                                                          & 169854080                                                                                          & chromosome 1 open reading frame 112 {[}Source:HGNC Symbol;Acc:HGNC:25565{]}                       \\\\\n",
       "\t ENSG00000000938                                                                                    &  2268                                                                                              & FGR                                                                                                & 1                                                                                                  &  27612064                                                                                          &  27635277                                                                                          & FGR proto-oncogene, Src family tyrosine kinase {[}Source:HGNC Symbol;Acc:HGNC:3697{]}             \\\\\n",
       "\\end{tabular}\n"
      ],
      "text/markdown": [
       "\n",
       "ensgene | entrez | symbol | chr | start | end | description | \n",
       "|---|---|---|---|---|---|\n",
       "| ENSG00000000003                                                                                |  7105                                                                                          | TSPAN6                                                                                         | X                                                                                              | 100627109                                                                                      | 100639991                                                                                      | tetraspanin 6 [Source:HGNC Symbol;Acc:HGNC:11858]                                              | \n",
       "| ENSG00000000005                                                                                | 64102                                                                                          | TNMD                                                                                           | X                                                                                              | 100584802                                                                                      | 100599885                                                                                      | tenomodulin [Source:HGNC Symbol;Acc:HGNC:17757]                                                | \n",
       "| ENSG00000000419                                                                                |  8813                                                                                          | DPM1                                                                                           | 20                                                                                             |  50934867                                                                                      |  50958555                                                                                      | dolichyl-phosphate mannosyltransferase subunit 1, catalytic [Source:HGNC Symbol;Acc:HGNC:3005] | \n",
       "| ENSG00000000457                                                                                | 57147                                                                                          | SCYL3                                                                                          | 1                                                                                              | 169849631                                                                                      | 169894267                                                                                      | SCY1 like pseudokinase 3 [Source:HGNC Symbol;Acc:HGNC:19285]                                   | \n",
       "| ENSG00000000460                                                                                | 55732                                                                                          | C1orf112                                                                                       | 1                                                                                              | 169662007                                                                                      | 169854080                                                                                      | chromosome 1 open reading frame 112 [Source:HGNC Symbol;Acc:HGNC:25565]                        | \n",
       "| ENSG00000000938                                                                                |  2268                                                                                          | FGR                                                                                            | 1                                                                                              |  27612064                                                                                      |  27635277                                                                                      | FGR proto-oncogene, Src family tyrosine kinase [Source:HGNC Symbol;Acc:HGNC:3697]              | \n",
       "\n",
       "\n"
      ],
      "text/plain": [
       "  ensgene         entrez symbol   chr start     end      \n",
       "1 ENSG00000000003  7105  TSPAN6   X   100627109 100639991\n",
       "2 ENSG00000000005 64102  TNMD     X   100584802 100599885\n",
       "3 ENSG00000000419  8813  DPM1     20   50934867  50958555\n",
       "4 ENSG00000000457 57147  SCYL3    1   169849631 169894267\n",
       "5 ENSG00000000460 55732  C1orf112 1   169662007 169854080\n",
       "6 ENSG00000000938  2268  FGR      1    27612064  27635277\n",
       "  description                                                                                   \n",
       "1 tetraspanin 6 [Source:HGNC Symbol;Acc:HGNC:11858]                                             \n",
       "2 tenomodulin [Source:HGNC Symbol;Acc:HGNC:17757]                                               \n",
       "3 dolichyl-phosphate mannosyltransferase subunit 1, catalytic [Source:HGNC Symbol;Acc:HGNC:3005]\n",
       "4 SCY1 like pseudokinase 3 [Source:HGNC Symbol;Acc:HGNC:19285]                                  \n",
       "5 chromosome 1 open reading frame 112 [Source:HGNC Symbol;Acc:HGNC:25565]                       \n",
       "6 FGR proto-oncogene, Src family tyrosine kinase [Source:HGNC Symbol;Acc:HGNC:3697]             "
      ]
     },
     "metadata": {},
     "output_type": "display_data"
    }
   ],
   "source": [
    "grch38 %>% \n",
    "  #filter(biotype==\"protein_coding\") %>% \n",
    "  select(ensgene, entrez, symbol, chr, start, end, description) %>% \n",
    "  head\n"
   ]
  },
  {
   "cell_type": "code",
   "execution_count": null,
   "metadata": {},
   "outputs": [],
   "source": [
    "grch38 %>% \n",
    "  filter(biotype==\"protein_coding\" & chr==\"1\") %>% \n",
    "  select(ensgene, symbol, chr, start, end, description) %>% \n",
    "  head %>% \n",
    "  pander::pandoc.table(split.table=100, justify=\"llllll\", style=\"rmarkdown\")"
   ]
  },
  {
   "cell_type": "code",
   "execution_count": 13,
   "metadata": {},
   "outputs": [],
   "source": [
    "save(grch38, file = \"./data_grch38.RData\")"
   ]
  },
  {
   "cell_type": "code",
   "execution_count": 15,
   "metadata": {},
   "outputs": [],
   "source": [
    "from_ref <- \"symbol\"\n",
    "to_ref <- \"ensgene\"\n",
    "id_df <- data.frame(raw_id = grch38$symbol[1:5])\n",
    "colnames(id_df) <- from_ref"
   ]
  },
  {
   "cell_type": "code",
   "execution_count": 17,
   "metadata": {},
   "outputs": [
    {
     "ename": "ERROR",
     "evalue": "Error in left_join_(., grch38, by = (from_ref = to_ref)): could not find function \"left_join_\"\n",
     "output_type": "error",
     "traceback": [
      "Error in left_join_(., grch38, by = (from_ref = to_ref)): could not find function \"left_join_\"\nTraceback:\n",
      "1. id_df %>% left_join_(grch38, by = (from_ref = to_ref))",
      "2. withVisible(eval(quote(`_fseq`(`_lhs`)), env, env))",
      "3. eval(quote(`_fseq`(`_lhs`)), env, env)",
      "4. eval(quote(`_fseq`(`_lhs`)), env, env)",
      "5. `_fseq`(`_lhs`)",
      "6. freduce(value, `_function_list`)",
      "7. withVisible(function_list[[k]](value))",
      "8. function_list[[k]](value)"
     ]
    }
   ],
   "source": [
    "output_df <- id_df %>%\n",
    "    left_join_(grch38, by = (from_ref = to_ref))"
   ]
  },
  {
   "cell_type": "code",
   "execution_count": 24,
   "metadata": {},
   "outputs": [
    {
     "data": {
      "text/html": [
       "<strong>ensgene:</strong> 'symbol'"
      ],
      "text/latex": [
       "\\textbf{ensgene:} 'symbol'"
      ],
      "text/markdown": [
       "**ensgene:** 'symbol'"
      ],
      "text/plain": [
       " ensgene \n",
       "\"symbol\" "
      ]
     },
     "metadata": {},
     "output_type": "display_data"
    }
   ],
   "source": [
    "by_str"
   ]
  },
  {
   "cell_type": "code",
   "execution_count": 32,
   "metadata": {},
   "outputs": [
    {
     "name": "stderr",
     "output_type": "stream",
     "text": [
      "Warning message:\n",
      "“Column `symbol` joining factor and character vector, coercing into character vector”"
     ]
    }
   ],
   "source": [
    "by_str <- rlang::set_names(quo_name(from_ref), quo_name(from_ref))\n",
    "#by_str <- rlang::set_names(quo_name(to_ref), quo_name(from_ref))\n",
    "output_df <- id_df %>%\n",
    "    left_join(grch38, by = by_str) #%>%\n",
    "    #select_(to_ref)\n"
   ]
  },
  {
   "cell_type": "code",
   "execution_count": 33,
   "metadata": {},
   "outputs": [
    {
     "data": {
      "text/html": [
       "<table>\n",
       "<thead><tr><th scope=col>symbol</th><th scope=col>ensgene</th><th scope=col>entrez</th><th scope=col>chr</th><th scope=col>start</th><th scope=col>end</th><th scope=col>strand</th><th scope=col>biotype</th><th scope=col>description</th></tr></thead>\n",
       "<tbody>\n",
       "\t<tr><td>TSPAN6                                                                                        </td><td>ENSG00000000003                                                                               </td><td> 7105                                                                                         </td><td>X                                                                                             </td><td>100627109                                                                                     </td><td>100639991                                                                                     </td><td>-1                                                                                            </td><td>protein_coding                                                                                </td><td>tetraspanin 6 [Source:HGNC Symbol;Acc:HGNC:11858]                                             </td></tr>\n",
       "\t<tr><td>TNMD                                                                                          </td><td>ENSG00000000005                                                                               </td><td>64102                                                                                         </td><td>X                                                                                             </td><td>100584802                                                                                     </td><td>100599885                                                                                     </td><td> 1                                                                                            </td><td>protein_coding                                                                                </td><td>tenomodulin [Source:HGNC Symbol;Acc:HGNC:17757]                                               </td></tr>\n",
       "\t<tr><td>DPM1                                                                                          </td><td>ENSG00000000419                                                                               </td><td> 8813                                                                                         </td><td>20                                                                                            </td><td> 50934867                                                                                     </td><td> 50958555                                                                                     </td><td>-1                                                                                            </td><td>protein_coding                                                                                </td><td>dolichyl-phosphate mannosyltransferase subunit 1, catalytic [Source:HGNC Symbol;Acc:HGNC:3005]</td></tr>\n",
       "\t<tr><td>SCYL3                                                                                         </td><td>ENSG00000000457                                                                               </td><td>57147                                                                                         </td><td>1                                                                                             </td><td>169849631                                                                                     </td><td>169894267                                                                                     </td><td>-1                                                                                            </td><td>protein_coding                                                                                </td><td>SCY1 like pseudokinase 3 [Source:HGNC Symbol;Acc:HGNC:19285]                                  </td></tr>\n",
       "\t<tr><td>C1orf112                                                                                      </td><td>ENSG00000000460                                                                               </td><td>55732                                                                                         </td><td>1                                                                                             </td><td>169662007                                                                                     </td><td>169854080                                                                                     </td><td> 1                                                                                            </td><td>protein_coding                                                                                </td><td>chromosome 1 open reading frame 112 [Source:HGNC Symbol;Acc:HGNC:25565]                       </td></tr>\n",
       "</tbody>\n",
       "</table>\n"
      ],
      "text/latex": [
       "\\begin{tabular}{r|lllllllll}\n",
       " symbol & ensgene & entrez & chr & start & end & strand & biotype & description\\\\\n",
       "\\hline\n",
       "\t TSPAN6                                                                                             & ENSG00000000003                                                                                    &  7105                                                                                              & X                                                                                                  & 100627109                                                                                          & 100639991                                                                                          & -1                                                                                                 & protein\\_coding                                                                                   & tetraspanin 6 {[}Source:HGNC Symbol;Acc:HGNC:11858{]}                                             \\\\\n",
       "\t TNMD                                                                                               & ENSG00000000005                                                                                    & 64102                                                                                              & X                                                                                                  & 100584802                                                                                          & 100599885                                                                                          &  1                                                                                                 & protein\\_coding                                                                                   & tenomodulin {[}Source:HGNC Symbol;Acc:HGNC:17757{]}                                               \\\\\n",
       "\t DPM1                                                                                               & ENSG00000000419                                                                                    &  8813                                                                                              & 20                                                                                                 &  50934867                                                                                          &  50958555                                                                                          & -1                                                                                                 & protein\\_coding                                                                                   & dolichyl-phosphate mannosyltransferase subunit 1, catalytic {[}Source:HGNC Symbol;Acc:HGNC:3005{]}\\\\\n",
       "\t SCYL3                                                                                              & ENSG00000000457                                                                                    & 57147                                                                                              & 1                                                                                                  & 169849631                                                                                          & 169894267                                                                                          & -1                                                                                                 & protein\\_coding                                                                                   & SCY1 like pseudokinase 3 {[}Source:HGNC Symbol;Acc:HGNC:19285{]}                                  \\\\\n",
       "\t C1orf112                                                                                           & ENSG00000000460                                                                                    & 55732                                                                                              & 1                                                                                                  & 169662007                                                                                          & 169854080                                                                                          &  1                                                                                                 & protein\\_coding                                                                                   & chromosome 1 open reading frame 112 {[}Source:HGNC Symbol;Acc:HGNC:25565{]}                       \\\\\n",
       "\\end{tabular}\n"
      ],
      "text/markdown": [
       "\n",
       "symbol | ensgene | entrez | chr | start | end | strand | biotype | description | \n",
       "|---|---|---|---|---|\n",
       "| TSPAN6                                                                                         | ENSG00000000003                                                                                |  7105                                                                                          | X                                                                                              | 100627109                                                                                      | 100639991                                                                                      | -1                                                                                             | protein_coding                                                                                 | tetraspanin 6 [Source:HGNC Symbol;Acc:HGNC:11858]                                              | \n",
       "| TNMD                                                                                           | ENSG00000000005                                                                                | 64102                                                                                          | X                                                                                              | 100584802                                                                                      | 100599885                                                                                      |  1                                                                                             | protein_coding                                                                                 | tenomodulin [Source:HGNC Symbol;Acc:HGNC:17757]                                                | \n",
       "| DPM1                                                                                           | ENSG00000000419                                                                                |  8813                                                                                          | 20                                                                                             |  50934867                                                                                      |  50958555                                                                                      | -1                                                                                             | protein_coding                                                                                 | dolichyl-phosphate mannosyltransferase subunit 1, catalytic [Source:HGNC Symbol;Acc:HGNC:3005] | \n",
       "| SCYL3                                                                                          | ENSG00000000457                                                                                | 57147                                                                                          | 1                                                                                              | 169849631                                                                                      | 169894267                                                                                      | -1                                                                                             | protein_coding                                                                                 | SCY1 like pseudokinase 3 [Source:HGNC Symbol;Acc:HGNC:19285]                                   | \n",
       "| C1orf112                                                                                       | ENSG00000000460                                                                                | 55732                                                                                          | 1                                                                                              | 169662007                                                                                      | 169854080                                                                                      |  1                                                                                             | protein_coding                                                                                 | chromosome 1 open reading frame 112 [Source:HGNC Symbol;Acc:HGNC:25565]                        | \n",
       "\n",
       "\n"
      ],
      "text/plain": [
       "  symbol   ensgene         entrez chr start     end       strand biotype       \n",
       "1 TSPAN6   ENSG00000000003  7105  X   100627109 100639991 -1     protein_coding\n",
       "2 TNMD     ENSG00000000005 64102  X   100584802 100599885  1     protein_coding\n",
       "3 DPM1     ENSG00000000419  8813  20   50934867  50958555 -1     protein_coding\n",
       "4 SCYL3    ENSG00000000457 57147  1   169849631 169894267 -1     protein_coding\n",
       "5 C1orf112 ENSG00000000460 55732  1   169662007 169854080  1     protein_coding\n",
       "  description                                                                                   \n",
       "1 tetraspanin 6 [Source:HGNC Symbol;Acc:HGNC:11858]                                             \n",
       "2 tenomodulin [Source:HGNC Symbol;Acc:HGNC:17757]                                               \n",
       "3 dolichyl-phosphate mannosyltransferase subunit 1, catalytic [Source:HGNC Symbol;Acc:HGNC:3005]\n",
       "4 SCY1 like pseudokinase 3 [Source:HGNC Symbol;Acc:HGNC:19285]                                  \n",
       "5 chromosome 1 open reading frame 112 [Source:HGNC Symbol;Acc:HGNC:25565]                       "
      ]
     },
     "metadata": {},
     "output_type": "display_data"
    }
   ],
   "source": [
    "output_df"
   ]
  },
  {
   "cell_type": "code",
   "execution_count": 35,
   "metadata": {},
   "outputs": [
    {
     "data": {
      "text/html": [
       "28457"
      ],
      "text/latex": [
       "28457"
      ],
      "text/markdown": [
       "28457"
      ],
      "text/plain": [
       "[1] 28457"
      ]
     },
     "metadata": {},
     "output_type": "display_data"
    }
   ],
   "source": [
    "sum(complete.cases(grch38[,1:3]))"
   ]
  },
  {
   "cell_type": "code",
   "execution_count": null,
   "metadata": {},
   "outputs": [],
   "source": [
    "id_df <- data.frame(raw_id = grch38$symbol[1:5])\n",
    "colnames(id_df) <- from_ref\n",
    "by_str <- rlang::set_names(quo_name(from_ref), quo_name(from_ref))\n",
    "output_df <- id_df %>%\n",
    "    left_join(annotable, by = by_str) #%>%\n",
    "    #select_(to_ref)\n",
    "\n"
   ]
  },
  {
   "cell_type": "code",
   "execution_count": 44,
   "metadata": {},
   "outputs": [
    {
     "data": {
      "text/html": [
       "'character'"
      ],
      "text/latex": [
       "'character'"
      ],
      "text/markdown": [
       "'character'"
      ],
      "text/plain": [
       "[1] \"character\""
      ]
     },
     "metadata": {},
     "output_type": "display_data"
    }
   ],
   "source": [
    "class(grch38$ensgene)"
   ]
  },
  {
   "cell_type": "code",
   "execution_count": 51,
   "metadata": {},
   "outputs": [],
   "source": [
    "id_map <- function(id_vec, from_ref, to_ref, annotable = grch38) {\n",
    "    id_df <- data.frame(raw_id = id_vec)\n",
    "    colnames(id_df) <- from_ref\n",
    "    id_df[, from_ref] <- as.character(id_df[, from_ref])\n",
    "    by_str <- rlang::set_names(quo_name(from_ref), quo_name(from_ref))\n",
    "    output_df <- id_df %>%\n",
    "        left_join(annotable, by = by_str) %>%\n",
    "        select_(to_ref)\n",
    "    return(output_df[,1])                              \n",
    "    \n",
    "} "
   ]
  },
  {
   "cell_type": "code",
   "execution_count": 41,
   "metadata": {},
   "outputs": [
    {
     "name": "stderr",
     "output_type": "stream",
     "text": [
      "Warning message:\n",
      "“Column `symbol` joining factor and character vector, coercing into character vector”"
     ]
    },
    {
     "data": {
      "text/html": [
       "'character'"
      ],
      "text/latex": [
       "'character'"
      ],
      "text/markdown": [
       "'character'"
      ],
      "text/plain": [
       "[1] \"character\""
      ]
     },
     "metadata": {},
     "output_type": "display_data"
    }
   ],
   "source": [
    "class(id_map(grch38$symbol[4:9], from_ref = \"symbol\", to_ref = \"ensgene\"))"
   ]
  },
  {
   "cell_type": "code",
   "execution_count": 52,
   "metadata": {},
   "outputs": [
    {
     "data": {
      "text/html": [
       "<ol class=list-inline>\n",
       "\t<li>'ENSG00000000457'</li>\n",
       "\t<li>'ENSG00000000460'</li>\n",
       "\t<li>'ENSG00000000938'</li>\n",
       "\t<li>'ENSG00000000971'</li>\n",
       "\t<li>'ENSG00000001036'</li>\n",
       "\t<li>'ENSG00000001084'</li>\n",
       "</ol>\n"
      ],
      "text/latex": [
       "\\begin{enumerate*}\n",
       "\\item 'ENSG00000000457'\n",
       "\\item 'ENSG00000000460'\n",
       "\\item 'ENSG00000000938'\n",
       "\\item 'ENSG00000000971'\n",
       "\\item 'ENSG00000001036'\n",
       "\\item 'ENSG00000001084'\n",
       "\\end{enumerate*}\n"
      ],
      "text/markdown": [
       "1. 'ENSG00000000457'\n",
       "2. 'ENSG00000000460'\n",
       "3. 'ENSG00000000938'\n",
       "4. 'ENSG00000000971'\n",
       "5. 'ENSG00000001036'\n",
       "6. 'ENSG00000001084'\n",
       "\n",
       "\n"
      ],
      "text/plain": [
       "[1] \"ENSG00000000457\" \"ENSG00000000460\" \"ENSG00000000938\" \"ENSG00000000971\"\n",
       "[5] \"ENSG00000001036\" \"ENSG00000001084\""
      ]
     },
     "metadata": {},
     "output_type": "display_data"
    }
   ],
   "source": [
    "id_map(grch38$symbol[4:9], from_ref = \"symbol\", to_ref = \"ensgene\")"
   ]
  },
  {
   "cell_type": "code",
   "execution_count": 53,
   "metadata": {},
   "outputs": [
    {
     "data": {
      "text/html": [
       "<ol class=list-inline>\n",
       "\t<li>57147</li>\n",
       "\t<li>55732</li>\n",
       "\t<li>2268</li>\n",
       "\t<li>3075</li>\n",
       "\t<li>2519</li>\n",
       "\t<li>2729</li>\n",
       "</ol>\n"
      ],
      "text/latex": [
       "\\begin{enumerate*}\n",
       "\\item 57147\n",
       "\\item 55732\n",
       "\\item 2268\n",
       "\\item 3075\n",
       "\\item 2519\n",
       "\\item 2729\n",
       "\\end{enumerate*}\n"
      ],
      "text/markdown": [
       "1. 57147\n",
       "2. 55732\n",
       "3. 2268\n",
       "4. 3075\n",
       "5. 2519\n",
       "6. 2729\n",
       "\n",
       "\n"
      ],
      "text/plain": [
       "[1] 57147 55732  2268  3075  2519  2729"
      ]
     },
     "metadata": {},
     "output_type": "display_data"
    }
   ],
   "source": [
    "id_map(grch38$symbol[4:9], from_ref = \"symbol\", to_ref = \"entrez\")"
   ]
  },
  {
   "cell_type": "code",
   "execution_count": 49,
   "metadata": {},
   "outputs": [],
   "source": [
    "test_df <- head(grch38)"
   ]
  },
  {
   "cell_type": "code",
   "execution_count": 54,
   "metadata": {},
   "outputs": [],
   "source": [
    "source(\"gene_id.R\")"
   ]
  },
  {
   "cell_type": "code",
   "execution_count": 55,
   "metadata": {},
   "outputs": [
    {
     "data": {
      "text/html": [
       "<ol class=list-inline>\n",
       "\t<li>'ENSG00000000457'</li>\n",
       "\t<li>'ENSG00000000460'</li>\n",
       "\t<li>'ENSG00000000938'</li>\n",
       "\t<li>'ENSG00000000971'</li>\n",
       "\t<li>'ENSG00000001036'</li>\n",
       "\t<li>'ENSG00000001084'</li>\n",
       "</ol>\n"
      ],
      "text/latex": [
       "\\begin{enumerate*}\n",
       "\\item 'ENSG00000000457'\n",
       "\\item 'ENSG00000000460'\n",
       "\\item 'ENSG00000000938'\n",
       "\\item 'ENSG00000000971'\n",
       "\\item 'ENSG00000001036'\n",
       "\\item 'ENSG00000001084'\n",
       "\\end{enumerate*}\n"
      ],
      "text/markdown": [
       "1. 'ENSG00000000457'\n",
       "2. 'ENSG00000000460'\n",
       "3. 'ENSG00000000938'\n",
       "4. 'ENSG00000000971'\n",
       "5. 'ENSG00000001036'\n",
       "6. 'ENSG00000001084'\n",
       "\n",
       "\n"
      ],
      "text/plain": [
       "[1] \"ENSG00000000457\" \"ENSG00000000460\" \"ENSG00000000938\" \"ENSG00000000971\"\n",
       "[5] \"ENSG00000001036\" \"ENSG00000001084\""
      ]
     },
     "metadata": {},
     "output_type": "display_data"
    }
   ],
   "source": [
    "id_map(grch38$symbol[4:9], from_ref = \"symbol\", to_ref = \"ensgene\")"
   ]
  },
  {
   "cell_type": "code",
   "execution_count": null,
   "metadata": {},
   "outputs": [],
   "source": [
    "id_map(grch38$ensgene[4:9], from_ref =, to_ref =  \"symbol\"\"ensgene\")"
   ]
  }
 ],
 "metadata": {
  "kernelspec": {
   "display_name": "R",
   "language": "R",
   "name": "ir"
  },
  "language_info": {
   "codemirror_mode": "r",
   "file_extension": ".r",
   "mimetype": "text/x-r-source",
   "name": "R",
   "pygments_lexer": "r",
   "version": "3.5.0"
  }
 },
 "nbformat": 4,
 "nbformat_minor": 2
}
